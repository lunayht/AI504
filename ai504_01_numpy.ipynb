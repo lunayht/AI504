{
 "cells": [
  {
   "cell_type": "code",
   "execution_count": 1,
   "metadata": {},
   "outputs": [],
   "source": [
    "import numpy as np"
   ]
  },
  {
   "cell_type": "code",
   "execution_count": 2,
   "metadata": {},
   "outputs": [],
   "source": [
    "def print_obj(obj, name):\n",
    "    print(\"%s:\\n%s\\n\" % (name, obj))\n",
    "    \n",
    "def check_each(a, b):\n",
    "    return (a == b).astype('bool')\n",
    "\n",
    "def check_mean(a, b):\n",
    "    return np.mean(a == b).astype('bool')"
   ]
  },
  {
   "cell_type": "markdown",
   "metadata": {},
   "source": [
    "### Scalars, Vectors, Matrices"
   ]
  },
  {
   "cell_type": "code",
   "execution_count": 3,
   "metadata": {},
   "outputs": [],
   "source": [
    "a = np.array(1.)\n",
    "b = np.array([1., 2., 3.])\n",
    "c = np.array([[1., 2., 3.], [4., 5., 6.]])"
   ]
  },
  {
   "cell_type": "code",
   "execution_count": null,
   "metadata": {},
   "outputs": [],
   "source": [
    "print_obj(a, \"a\")\n",
    "print_obj(b, \"b\")\n",
    "print_obj(c, \"c\")"
   ]
  },
  {
   "cell_type": "code",
   "execution_count": null,
   "metadata": {},
   "outputs": [],
   "source": [
    "print_obj(a.ndim, \"a.ndim\")\n",
    "print_obj(b.ndim, \"b.ndim\")\n",
    "print_obj(c.ndim, \"c.ndim\")"
   ]
  },
  {
   "cell_type": "code",
   "execution_count": null,
   "metadata": {},
   "outputs": [],
   "source": [
    "print_obj(a.shape, \"a.shape\")\n",
    "print_obj(b.shape, \"b.shape\")\n",
    "print_obj(c.shape, \"c.shape\")"
   ]
  },
  {
   "cell_type": "markdown",
   "metadata": {},
   "source": [
    "### Tensors (N-dimensional array)"
   ]
  },
  {
   "cell_type": "code",
   "execution_count": null,
   "metadata": {},
   "outputs": [],
   "source": [
    "d = np.array([[[1., 2., 3.], [4., 5., 6.]], [[7., 8., 9.], [10., 11., 12.]]])\n",
    "e = np.array([[[[1., 2., 3.], [1., 2., 3.]], [[4., 5., 6.], [4., 5., 6.]]],\n",
    "              [[[7., 8., 9.], [7., 8., 9.]], [[10., 11., 12.], [10., 11., 12.]]]])"
   ]
  },
  {
   "cell_type": "code",
   "execution_count": null,
   "metadata": {},
   "outputs": [],
   "source": [
    "print_obj(d, \"d\")\n",
    "print_obj(d.ndim, \"d.ndim\")\n",
    "print_obj(d.shape, \"d.shape\")\n",
    "\n",
    "print_obj(e, \"e\")\n",
    "print_obj(e.ndim, \"e.ndim\")\n",
    "print_obj(e.shape, \"e.shape\")"
   ]
  },
  {
   "cell_type": "code",
   "execution_count": 4,
   "metadata": {},
   "outputs": [
    {
     "data": {
      "text/plain": [
       "(2, 3, 1)"
      ]
     },
     "execution_count": 4,
     "metadata": {},
     "output_type": "execute_result"
    }
   ],
   "source": [
    "# Quiz: What is the shape of [[[1], [2], [3]], [[4], [5], [6]]]?\n",
    "a = np.array([[[1], [2], [3]], [[4], [5], [6]]])\n",
    "a.shape"
   ]
  },
  {
   "cell_type": "markdown",
   "metadata": {},
   "source": [
    "### Defining Numpy arrays"
   ]
  },
  {
   "cell_type": "code",
   "execution_count": null,
   "metadata": {},
   "outputs": [],
   "source": [
    "a = np.ones(10)\n",
    "a"
   ]
  },
  {
   "cell_type": "code",
   "execution_count": null,
   "metadata": {},
   "outputs": [],
   "source": [
    "a = np.zeros((2, 5))\n",
    "a"
   ]
  },
  {
   "cell_type": "code",
   "execution_count": null,
   "metadata": {},
   "outputs": [],
   "source": [
    "a = np.full((2,5), 5)\n",
    "a"
   ]
  },
  {
   "cell_type": "code",
   "execution_count": null,
   "metadata": {},
   "outputs": [],
   "source": [
    "a = np.random.random((2, 3, 4))\n",
    "a"
   ]
  },
  {
   "cell_type": "code",
   "execution_count": null,
   "metadata": {},
   "outputs": [],
   "source": [
    "a = np.arange(10)\n",
    "a"
   ]
  },
  {
   "cell_type": "code",
   "execution_count": null,
   "metadata": {},
   "outputs": [],
   "source": [
    "a = np.arange(10).astype(float)\n",
    "a"
   ]
  },
  {
   "cell_type": "code",
   "execution_count": null,
   "metadata": {},
   "outputs": [],
   "source": [
    "a = np.arange(10).reshape((5,2))\n",
    "a"
   ]
  },
  {
   "cell_type": "code",
   "execution_count": 9,
   "metadata": {},
   "outputs": [
    {
     "data": {
      "text/plain": [
       "array([[[ 0.,  1.],\n",
       "        [ 2.,  3.],\n",
       "        [ 4.,  5.]],\n",
       "\n",
       "       [[ 6.,  7.],\n",
       "        [ 8.,  9.],\n",
       "        [10., 11.]],\n",
       "\n",
       "       [[12., 13.],\n",
       "        [14., 15.],\n",
       "        [16., 17.]],\n",
       "\n",
       "       [[18., 19.],\n",
       "        [20., 21.],\n",
       "        [22., 23.]]])"
      ]
     },
     "execution_count": 9,
     "metadata": {},
     "output_type": "execute_result"
    }
   ],
   "source": [
    "# Quiz: Create a 4-by-3-by-2 tensor filled with 0.0 to 23.0\n",
    "a = np.arange(24).reshape((4,3,2)).astype(float)\n",
    "a"
   ]
  },
  {
   "cell_type": "markdown",
   "metadata": {},
   "source": [
    "### Indexing & Slicing"
   ]
  },
  {
   "cell_type": "code",
   "execution_count": 75,
   "metadata": {},
   "outputs": [
    {
     "name": "stdout",
     "output_type": "stream",
     "text": [
      "a:\n",
      "[0 1 2 3 4 5 6 7 8 9]\n",
      "\n",
      "[6 7 8 9]\n",
      "[0 1]\n",
      "[9 6 3]\n"
     ]
    }
   ],
   "source": [
    "# Indexing and slicing a vector\n",
    "a = np.arange(10)\n",
    "print_obj(a, \"a\")\n",
    "\n",
    "# print_obj(a[0], \"a[0]\")\n",
    "# print_obj(a[1], \"a[1]\")\n",
    "# print_obj(a[-1], \"a[-1]\")\n",
    "# print_obj(a[-3], \"a[-3]\")\n",
    "\n",
    "# print_obj(a[0:10], \"a[0:10]\")\n",
    "# print_obj(a[0:], \"a[0:]\")\n",
    "# print_obj(a[:10], \"a[:10]\")\n",
    "# print_obj(a[:], \"a[:]\")\n",
    "\n",
    "# print_obj(a[7:], \"a[7:]\")\n",
    "# print_obj(a[:5], \"a[:5]\")\n",
    "# print_obj(a[2:5], \"a[2:5]\")\n",
    "\n",
    "# Quiz: What is a[-4:]?\n",
    "print(a[-4:]) # last 4 elements\n",
    "# Quiz: What is a[:-8]?\n",
    "print(a[:-8]) # reverse counting until the last 8th \n",
    "\n",
    "# print_obj(a[0:10:2], \"a[0:10:2]\")\n",
    "# print_obj(a[0:10:3], \"a[0:10:3]\")\n",
    "# print_obj(a[2:6:3], \"a[2:6:3]\")\n",
    "\n",
    "# print_obj(a[::-1], \"a[::-1]\")\n",
    "# print_obj(a[8:5:-1], \"a[8:5:-1]\")\n",
    "# print_obj(a[8:5], \"a[8:5]\")\n",
    "\n",
    "# Quiz: Create [9, 6, 3] using a.\n",
    "print(a[9:2:-3])"
   ]
  },
  {
   "cell_type": "code",
   "execution_count": 78,
   "metadata": {},
   "outputs": [
    {
     "name": "stdout",
     "output_type": "stream",
     "text": [
      "a:\n",
      "[[0 1 2]\n",
      " [3 4 5]\n",
      " [6 7 8]]\n",
      "\n",
      "[8 5]\n"
     ]
    }
   ],
   "source": [
    "# Indexing a matrix\n",
    "a = np.arange(9).reshape((3,3))\n",
    "print_obj(a, \"a\")\n",
    "# print_obj(a[0][0], \"a[0][0]\")\n",
    "# print_obj(a[0,0], \"a[0,0]\")\n",
    "# print_obj(a[1,1], \"a[1,1]\")\n",
    "\n",
    "# Quiz: How to access the last row?\n",
    "# print(a[-1])\n",
    "# Quiz: How to access the second column?\n",
    "# print(a[:,1])\n",
    "# Quiz: How to create [8, 5] using a?\n",
    "print(a[2:0:-1,2])"
   ]
  },
  {
   "cell_type": "code",
   "execution_count": 80,
   "metadata": {},
   "outputs": [
    {
     "name": "stdout",
     "output_type": "stream",
     "text": [
      "a:\n",
      "[[[ 0  1]\n",
      "  [ 2  3]\n",
      "  [ 4  5]]\n",
      "\n",
      " [[ 6  7]\n",
      "  [ 8  9]\n",
      "  [10 11]]\n",
      "\n",
      " [[12 13]\n",
      "  [14 15]\n",
      "  [16 17]]\n",
      "\n",
      " [[18 19]\n",
      "  [20 21]\n",
      "  [22 23]]]\n",
      "\n",
      "[[ 0  2  4]\n",
      " [ 6  8 10]]\n"
     ]
    }
   ],
   "source": [
    "# Indexing and slicing a 3D tensor\n",
    "a = np.arange(4*3*2).reshape((4, 3, 2))\n",
    "print_obj(a, \"a\")\n",
    "# print_obj(a[2, 1, 0], \"a[2, 1, 0]\")\n",
    "\n",
    "# Quiz: What would be a[0]?\n",
    "# print(a[0])\n",
    "# Quiz: What would be a[0, 1]?\n",
    "# print(a[0,1])\n",
    "# Quiz: Create [[0, 2, 4], [6, 8, 10]]\n",
    "print(a[:2,:,0])"
   ]
  },
  {
   "cell_type": "code",
   "execution_count": 83,
   "metadata": {},
   "outputs": [
    {
     "name": "stdout",
     "output_type": "stream",
     "text": [
      "a:\n",
      "[[0 1]\n",
      " [2 3]\n",
      " [4 5]]\n",
      "\n",
      "idx:\n",
      "[[ True False]\n",
      " [ True False]\n",
      " [ True False]]\n",
      "\n",
      "[0 2 4]\n",
      "[3 4 5]\n"
     ]
    }
   ],
   "source": [
    "# Conditional indexing\n",
    "a = np.arange(3*2).reshape((3,2))\n",
    "print_obj(a, \"a\")\n",
    "\n",
    "idx = a % 2 == 0\n",
    "print_obj(idx, \"idx\")\n",
    "print(a[idx])\n",
    "\n",
    "# Quiz: How would you create [3, 4, 5] using a?\n",
    "k = a >= 3\n",
    "print(a[k])"
   ]
  },
  {
   "cell_type": "code",
   "execution_count": null,
   "metadata": {},
   "outputs": [],
   "source": [
    "# Taking specific elements from a vector\n",
    "a = np.arange(10)\n",
    "idx = [0, 2, 3]\n",
    "print_obj(a[idx], \"a[idx]\")"
   ]
  },
  {
   "cell_type": "code",
   "execution_count": null,
   "metadata": {},
   "outputs": [],
   "source": [
    "# Taking specific elements from a tensor\n",
    "a = np.arange(24).reshape((6,4))\n",
    "print_obj(a, \"a\")\n",
    "\n",
    "print_obj(a[:,[0, 2, 3]], \"a[idx]\")\n",
    "print_obj(a[[0, 2, 3], :], \"a[idx]\")\n",
    "#idx = ((0,0,1,5),(1,2,0,3))\n",
    "#print_obj(a[idx], \"tuple indexing\")\n",
    "#idx = np.array([[0,0,1,5],[1,2,0,3]])\n",
    "#print_obj(a[idx], \"ndarray indexing\")"
   ]
  },
  {
   "cell_type": "markdown",
   "metadata": {},
   "source": [
    "### Math Operations"
   ]
  },
  {
   "cell_type": "code",
   "execution_count": null,
   "metadata": {},
   "outputs": [],
   "source": [
    "# Basic operations\n",
    "a = np.arange(6).reshape((3, 2))\n",
    "b = np.ones((3, 2))\n",
    "print_obj(a, \"a\")\n",
    "print_obj(b, \"b\")\n",
    "\n",
    "# +, -, *, /\n",
    "print_obj(a+b, \"a+b\")\n",
    "print_obj(a-b, \"a-b\")\n",
    "print_obj(a*b, \"a*b\")\n",
    "print_obj(a/b, \"a/b\")"
   ]
  },
  {
   "cell_type": "code",
   "execution_count": 88,
   "metadata": {},
   "outputs": [
    {
     "name": "stdout",
     "output_type": "stream",
     "text": [
      "[[[ 0  1  2  3]\n",
      "  [ 4  5  6  7]\n",
      "  [ 8  9 10 11]]\n",
      "\n",
      " [[12 13 14 15]\n",
      "  [16 17 18 19]\n",
      "  [20 21 22 23]]]\n",
      "[[ 6 22 38]\n",
      " [54 70 86]]\n",
      "46.0\n"
     ]
    }
   ],
   "source": [
    "# Unary operations\n",
    "a = np.arange(6).reshape((3,2))\n",
    "# print_obj(a, \"a\")\n",
    "\n",
    "# print_obj(a.sum(), \"a.sum()\")\n",
    "# print_obj(a.sum(axis=0), \"a.sum(axis=0)\")\n",
    "# print_obj(a.sum(axis=1), \"a.sum(axis=1)\")\n",
    "\n",
    "# print_obj(a.mean(), \"a.mean()\")\n",
    "# print_obj(a.max(), \"a.max()\")\n",
    "# print_obj(a.min(), \"a.min()\")\n",
    "\n",
    "# Quiz: Given a = np.arange(24).reshape((2,3,4)), what is the mean of the sum w.r.t to the last dimension?\n",
    "a = np.arange(24).reshape((2,3,4))\n",
    "print(a)\n",
    "print(a.sum(axis=-1))\n",
    "print(a.sum(axis=-1).mean())"
   ]
  },
  {
   "cell_type": "code",
   "execution_count": null,
   "metadata": {},
   "outputs": [],
   "source": [
    "# Vector dot product\n",
    "a = np.arange(3).astype('float')\n",
    "b = np.ones(3)\n",
    "print_obj(a, \"a\")\n",
    "print_obj(b, \"b\")\n",
    "\n",
    "print_obj(np.dot(a, b), \"a dot b\")"
   ]
  },
  {
   "cell_type": "code",
   "execution_count": null,
   "metadata": {},
   "outputs": [],
   "source": [
    "# Matrix dot product, matrix multiplication\n",
    "a = np.arange(6).reshape((3, 2))\n",
    "b = np.ones((2, 3))\n",
    "print_obj(a, \"a\")\n",
    "print_obj(b, \"b\")\n",
    "\n",
    "print_obj(np.dot(a,b), \"a dot b\")\n",
    "print_obj(a@b, \"a @ b\")"
   ]
  },
  {
   "cell_type": "code",
   "execution_count": 99,
   "metadata": {},
   "outputs": [
    {
     "name": "stdout",
     "output_type": "stream",
     "text": [
      "a:\n",
      "[[[ 0  1]\n",
      "  [ 2  3]\n",
      "  [ 4  5]]\n",
      "\n",
      " [[ 6  7]\n",
      "  [ 8  9]\n",
      "  [10 11]]\n",
      "\n",
      " [[12 13]\n",
      "  [14 15]\n",
      "  [16 17]]\n",
      "\n",
      " [[18 19]\n",
      "  [20 21]\n",
      "  [22 23]]]\n",
      "\n",
      "b:\n",
      "[[[1. 1. 1.]\n",
      "  [1. 1. 1.]]\n",
      "\n",
      " [[1. 1. 1.]\n",
      "  [1. 1. 1.]]\n",
      "\n",
      " [[1. 1. 1.]\n",
      "  [1. 1. 1.]]\n",
      "\n",
      " [[1. 1. 1.]\n",
      "  [1. 1. 1.]]]\n",
      "\n",
      "a dot b:\n",
      "(4, 3, 4, 3)\n",
      "\n",
      "a @ b:\n",
      "(4, 3, 3)\n",
      "\n",
      "[[[1. 1. 1. 1.]\n",
      "  [1. 1. 1. 1.]\n",
      "  [1. 1. 1. 1.]]\n",
      "\n",
      " [[1. 1. 1. 1.]\n",
      "  [1. 1. 1. 1.]\n",
      "  [1. 1. 1. 1.]]]\n",
      "b:\n",
      "[[[1. 1. 1.]\n",
      "  [1. 1. 1.]]\n",
      "\n",
      " [[1. 1. 1.]\n",
      "  [1. 1. 1.]]\n",
      "\n",
      " [[1. 1. 1.]\n",
      "  [1. 1. 1.]]\n",
      "\n",
      " [[1. 1. 1.]\n",
      "  [1. 1. 1.]]]\n",
      "\n",
      "(4, 3, 3)\n"
     ]
    }
   ],
   "source": [
    "# Tensor dot product, tensor multiplication\n",
    "a = np.arange(24).reshape((4, 3, 2))\n",
    "b = np.ones((4, 2, 3))\n",
    "print_obj(a, \"a\")\n",
    "print_obj(b, \"b\")\n",
    "\n",
    "print_obj(np.dot(a,b).shape, \"a dot b\")\n",
    "print_obj((a@b).shape, \"a @ b\")\n",
    "\n",
    "# Quiz: what would happen if a.shape==(4,3,2) and b.shape==(2,3,4)?\n",
    "print(b.reshape((2,3,4)))\n",
    "print_obj(b, \"b\")\n",
    "print((a@b).shape)"
   ]
  },
  {
   "cell_type": "markdown",
   "metadata": {},
   "source": [
    "### Shape Manipulation"
   ]
  },
  {
   "cell_type": "code",
   "execution_count": 100,
   "metadata": {},
   "outputs": [
    {
     "name": "stdout",
     "output_type": "stream",
     "text": [
      "a:\n",
      "[[[ 0  1  2  3]\n",
      "  [ 4  5  6  7]\n",
      "  [ 8  9 10 11]]\n",
      "\n",
      " [[12 13 14 15]\n",
      "  [16 17 18 19]\n",
      "  [20 21 22 23]]]\n",
      "\n",
      "b:\n",
      "[[ 0  1  2  3]\n",
      " [ 4  5  6  7]\n",
      " [ 8  9 10 11]\n",
      " [12 13 14 15]\n",
      " [16 17 18 19]\n",
      " [20 21 22 23]]\n",
      "\n",
      "c:\n",
      "[[ 0  1  2  3]\n",
      " [ 4  5  6  7]\n",
      " [ 8  9 10 11]\n",
      " [12 13 14 15]\n",
      " [16 17 18 19]\n",
      " [20 21 22 23]]\n",
      "\n",
      "(6, 4, 1)\n"
     ]
    }
   ],
   "source": [
    "# Reshapes\n",
    "a = np.arange(24).reshape((2, 3, 4))\n",
    "print_obj(a, \"a\")\n",
    "\n",
    "b = a.reshape((6, 4))\n",
    "print_obj(b, \"b\")\n",
    "\n",
    "c = a.reshape((6, -1))\n",
    "print_obj(c, \"c\")\n",
    "\n",
    "# Quiz: What would d=a.reshape((6, 4, -1)) look like?\n",
    "d = a.reshape((6,4,-1))\n",
    "print(d.shape)"
   ]
  },
  {
   "cell_type": "code",
   "execution_count": 107,
   "metadata": {},
   "outputs": [
    {
     "name": "stdout",
     "output_type": "stream",
     "text": [
      "a:\n",
      "[0 1 2]\n",
      "\n",
      "a[:, None]:\n",
      "[[0]\n",
      " [1]\n",
      " [2]]\n",
      "\n",
      "(3, 1, 1, 4)\n"
     ]
    }
   ],
   "source": [
    "# Adding an extra dimension\n",
    "a = np.arange(3)\n",
    "print_obj(a, \"a\")\n",
    "\n",
    "print_obj(a[:, None], \"a[:, None]\")\n",
    "\n",
    "# Quiz: How to make a = np.ones((3,4)) into shape (3, 1, 1, 4) using reshape and None?\n",
    "a = np.ones((3,4))\n",
    "print(a[:,None,None,:].shape)"
   ]
  },
  {
   "cell_type": "code",
   "execution_count": 110,
   "metadata": {},
   "outputs": [
    {
     "name": "stdout",
     "output_type": "stream",
     "text": [
      "a:\n",
      "[[1. 1.]\n",
      " [1. 1.]\n",
      " [1. 1.]]\n",
      "\n",
      "b:\n",
      "[[0. 0.]\n",
      " [0. 0.]\n",
      " [0. 0.]]\n",
      "\n",
      "a,b vstack:\n",
      "[[1. 1.]\n",
      " [1. 1.]\n",
      " [1. 1.]\n",
      " [0. 0.]\n",
      " [0. 0.]\n",
      " [0. 0.]]\n",
      "\n",
      "a,b hstack:\n",
      "[[1. 1. 0. 0.]\n",
      " [1. 1. 0. 0.]\n",
      " [1. 1. 0. 0.]]\n",
      "\n",
      "a,b hstack:\n",
      "[[1. 1. 0. 0. 1. 1.]\n",
      " [1. 1. 0. 0. 1. 1.]\n",
      " [1. 1. 0. 0. 1. 1.]]\n",
      "\n",
      "a,b concat axis=0:\n",
      "[[1. 1.]\n",
      " [1. 1.]\n",
      " [1. 1.]\n",
      " [0. 0.]\n",
      " [0. 0.]\n",
      " [0. 0.]]\n",
      "\n",
      "a,b concat axis=1:\n",
      "[[1. 1. 0. 0.]\n",
      " [1. 1. 0. 0.]\n",
      " [1. 1. 0. 0.]]\n",
      "\n"
     ]
    },
    {
     "data": {
      "text/plain": [
       "(5, 3, 9)"
      ]
     },
     "execution_count": 110,
     "metadata": {},
     "output_type": "execute_result"
    }
   ],
   "source": [
    "# Stack, concatenation\n",
    "a = np.ones((3,2))\n",
    "b = np.zeros((3,2))\n",
    "print_obj(a, \"a\")\n",
    "print_obj(b, \"b\")\n",
    "\n",
    "print_obj(np.vstack([a, b]), \"a,b vstack\")\n",
    "print_obj(np.hstack([a, b]), \"a,b hstack\")\n",
    "print_obj(np.hstack([a, b, a]), \"a,b hstack\")\n",
    "\n",
    "print_obj(np.concatenate([a, b], axis=0), \"a,b concat axis=0\")\n",
    "print_obj(np.concatenate([a, b], axis=1), \"a,b concat axis=1\")\n",
    "\n",
    "# Quiz: Would concatenating two tensors whose shapes are (4, 3, 2) and (5, 4, 2) on axis=2 work?\n",
    "# No, all the input dimension along axis must be the same\n",
    "# expect the concatenate one\n",
    "a = np.ones((5,3,2))\n",
    "b = np.zeros((5,3,7))\n",
    "np.concatenate([a,b], axis=2).shape"
   ]
  },
  {
   "cell_type": "code",
   "execution_count": null,
   "metadata": {},
   "outputs": [],
   "source": [
    "# Matrix transpose\n",
    "a = np.arange(6).reshape((3, 2))\n",
    "print_obj(a, \"a\")\n",
    "\n",
    "print_obj(a.T, \"a.T\")"
   ]
  },
  {
   "cell_type": "code",
   "execution_count": null,
   "metadata": {},
   "outputs": [],
   "source": [
    "# Tensor transpose\n",
    "a = np.arange(24).reshape((4, 3, 2))\n",
    "print_obj(a, \"a\")\n",
    "\n",
    "b = np.transpose(a, [0, 2, 1])\n",
    "print_obj(b, \"Swap axis 1 and 2\")\n",
    "print_obj(b.shape, \"b's shape\")\n",
    "\n",
    "c = np.transpose(a, [1, 0, 2])\n",
    "print_obj(c, \"Swap axis 0 and 1\")\n",
    "print_obj(c.shape, \"c's shape\")"
   ]
  },
  {
   "cell_type": "markdown",
   "metadata": {},
   "source": [
    "### Broadcasting"
   ]
  },
  {
   "cell_type": "code",
   "execution_count": null,
   "metadata": {},
   "outputs": [],
   "source": [
    "# Vector and scalar\n",
    "a = np.arange(3)\n",
    "b = 2.\n",
    "print_obj(a, \"a\")\n",
    "\n",
    "print_obj(a+b, \"a+b\")\n",
    "print_obj(a-b, \"a-b\")\n",
    "print_obj(a*b, \"a*b\")\n",
    "print_obj(a/b, \"a/b\")"
   ]
  },
  {
   "cell_type": "code",
   "execution_count": 119,
   "metadata": {},
   "outputs": [
    {
     "name": "stdout",
     "output_type": "stream",
     "text": [
      "a:\n",
      "[[0 1]\n",
      " [2 3]\n",
      " [4 5]]\n",
      "\n",
      "[[0 1]]\n",
      "[[0 2]\n",
      " [2 4]\n",
      " [4 6]]\n"
     ]
    }
   ],
   "source": [
    "# Matrix and vector\n",
    "a = np.arange(6).reshape((3,2))\n",
    "# b = np.arange(2).reshape(2) + 1\n",
    "print_obj(a, \"a\")\n",
    "# print_obj(b, \"b\")\n",
    "\n",
    "# print_obj(a+b, \"a+b\")\n",
    "\n",
    "# Quiz: What would happen if b were np.arange(2).reshape((2, 1))? \n",
    "# cannot broadcast since a = (3,2) and b = (2,1)\n",
    "# after comparison between (3,2) and (2,2), the no. of row not the same\n",
    "# How about np.arange(2).reshape((1, 2))?\n",
    "b = np.arange(2).reshape((1, 2)) # broadcast from (1,2) to (3,2)\n",
    "print(b)\n",
    "print(a+b)"
   ]
  },
  {
   "cell_type": "code",
   "execution_count": 121,
   "metadata": {},
   "outputs": [
    {
     "name": "stdout",
     "output_type": "stream",
     "text": [
      "a:\n",
      "[[[ 0  1]\n",
      "  [ 2  3]\n",
      "  [ 4  5]]\n",
      "\n",
      " [[ 6  7]\n",
      "  [ 8  9]\n",
      "  [10 11]]]\n",
      "\n",
      "b:\n",
      "[[0 1]\n",
      " [2 3]\n",
      " [4 5]]\n",
      "\n",
      "a+b:\n",
      "[[[ 0  2]\n",
      "  [ 4  6]\n",
      "  [ 8 10]]\n",
      "\n",
      " [[ 6  8]\n",
      "  [10 12]\n",
      "  [14 16]]]\n",
      "\n",
      "[[[ 0  2]\n",
      "  [ 4  6]\n",
      "  [ 8 10]]\n",
      "\n",
      " [[ 6  8]\n",
      "  [10 12]\n",
      "  [14 16]]]\n"
     ]
    }
   ],
   "source": [
    "# Tensor and matrix\n",
    "a = np.arange(12).reshape((2,3,2))\n",
    "b = np.arange(6).reshape((3,2))\n",
    "print_obj(a, \"a\")\n",
    "print_obj(b, \"b\")\n",
    "\n",
    "print_obj(a+b, \"a+b\")\n",
    "\n",
    "#Quiz: How can we use None to do a+b?\n",
    "print(a + b[None,:])"
   ]
  },
  {
   "cell_type": "markdown",
   "metadata": {},
   "source": [
    "### Final Quiz\n",
    "\n",
    "Test case: <br>\n",
    "```W = np.arange(16).reshape(8,2).astype('float') / 10.```<br>\n",
    "```M = (np.arange(20).reshape((10,2)).astype('float') - 10.) / 10.```<br>"
   ]
  },
  {
   "cell_type": "code",
   "execution_count": 33,
   "metadata": {},
   "outputs": [
    {
     "data": {
      "text/plain": [
       "1.0114933115231504"
      ]
     },
     "execution_count": 33,
     "metadata": {},
     "output_type": "execute_result"
    }
   ],
   "source": [
    "import numpy as np\n",
    "\n",
    "def sigmoid(x):\n",
    "    return 1./(1. + np.exp(-x))\n",
    "\n",
    "# Define a function that, given M of shape (m,n) and W of shape (4n, n), executes the following:\n",
    "# - Take the first half rows of M\n",
    "# - Take the second half rows of M\n",
    "# - Take the odd-numbered rows of M\n",
    "# - Take the even-numbered rows of M\n",
    "# - Append them horizontally in the listed order so that you obtain a matrix X of shape (?, 4n)\n",
    "# - Linearly transform X with W so that you obtain a matrix Y of shape (?, ?)\n",
    "# - Put Y through the sigmoid function\n",
    "# - Obtain the sum of the row-wise mean\n",
    "def foo(M, W):\n",
    "    (m, n) = M.shape\n",
    "    first_half_row = M[:m//2]\n",
    "    second_half_row = M[m//2:]\n",
    "    odd_num_row = M[1:m:2]\n",
    "    even_num_row = M[0:m:2]\n",
    "    X = np.concatenate([first_half_row, second_half_row, odd_num_row, even_num_row], axis=1)\n",
    "    Y = np.dot(X,W)\n",
    "    row_wise_mean = sigmoid(Y).mean(axis=0)\n",
    "    return np.sum(row_wise_mean)\n",
    "\n",
    "W = np.arange(16).reshape(8,2).astype('float') / 10.\n",
    "M = (np.arange(20).reshape((10,2)).astype('float') - 10.) / 10.\n",
    "foo(M, W)"
   ]
  }
 ],
 "metadata": {
  "kernelspec": {
   "display_name": "Python 3",
   "language": "python",
   "name": "python3"
  },
  "language_info": {
   "codemirror_mode": {
    "name": "ipython",
    "version": 3
   },
   "file_extension": ".py",
   "mimetype": "text/x-python",
   "name": "python",
   "nbconvert_exporter": "python",
   "pygments_lexer": "ipython3",
   "version": "3.8.2"
  }
 },
 "nbformat": 4,
 "nbformat_minor": 4
}
