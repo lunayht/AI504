{
 "cells": [
  {
   "cell_type": "markdown",
   "metadata": {},
   "source": [
    "# Week 7: Convolutional Neural Networks"
   ]
  },
  {
   "cell_type": "markdown",
   "metadata": {},
   "source": [
    "In this practice session, we will cover implementation of Convolutional Neural Networks (CNNs) using PyTorch library. Particulary, in part 1, we will see how to define and use convolutional, batch normalization, and dropout layer to build a simple CNNs to classify MNIST. In part 2, we will implement ResNet for CIFAR-10 classification task and see the effectiveness of residual connection. "
   ]
  },
  {
   "cell_type": "markdown",
   "metadata": {},
   "source": [
    "## 0. Preliminary"
   ]
  },
  {
   "cell_type": "markdown",
   "metadata": {},
   "source": [
    "Let's import required libraries and datasets. We will use MNIST and CIFAR-10 to train a simple CNNs and ResNet, respectively. "
   ]
  },
  {
   "cell_type": "code",
   "execution_count": 1,
   "metadata": {},
   "outputs": [],
   "source": [
    "import torch\n",
    "import torch.nn as nn\n",
    "import torch.nn.functional as F\n",
    "from torch.utils.data import DataLoader\n",
    "\n",
    "import torchvision\n",
    "import torchvision.transforms as transforms\n",
    "from torchvision.datasets import MNIST, CIFAR10\n",
    "from IPython.display import Image"
   ]
  },
  {
   "cell_type": "code",
   "execution_count": 2,
   "metadata": {},
   "outputs": [],
   "source": [
    "# MNIST\n",
    "mnist_train = MNIST(\"./\", train=True, transform=transforms.ToTensor(), target_transform=None, download=True)\n",
    "mnist_test = MNIST(\"./\", train=False, transform=transforms.ToTensor(), target_transform=None, download=True)\n",
    "mnist_train, mnist_val = torch.utils.data.random_split(mnist_train, [50000, 10000])\n",
    "\n",
    "dataloaders = {}\n",
    "dataloaders['train'] = DataLoader(mnist_train, batch_size=128, shuffle=True)\n",
    "dataloaders['val'] = DataLoader(mnist_val, batch_size=128, shuffle=False)\n",
    "dataloaders['test'] = DataLoader(mnist_test, batch_size=128, shuffle=False)"
   ]
  },
  {
   "cell_type": "markdown",
   "metadata": {},
   "source": [
    "In case of CIFAR-10, we use conventional transforms and normalization."
   ]
  },
  {
   "cell_type": "code",
   "execution_count": 3,
   "metadata": {},
   "outputs": [
    {
     "name": "stdout",
     "output_type": "stream",
     "text": [
      "Files already downloaded and verified\n",
      "Files already downloaded and verified\n"
     ]
    }
   ],
   "source": [
    "transforms_train = transforms.Compose([\n",
    "  transforms.RandomCrop(32, padding=4),\n",
    "  transforms.RandomHorizontalFlip(),\n",
    "  transforms.ToTensor(),\n",
    "  transforms.Normalize((0.4914, 0.4822, 0.4465), (0.2023, 0.1994, 0.2010)),\n",
    "])\n",
    "transforms_test = transforms.Compose([\n",
    "  transforms.ToTensor(),\n",
    "  transforms.Normalize((0.4914, 0.4822, 0.4465), (0.2023, 0.1994, 0.2010)),\n",
    "])\n",
    "\n",
    "cifar_train = CIFAR10(root='./', train=True, \n",
    "            download=True, transform=transforms_train)\n",
    "cifar_test = CIFAR10(root='./', train=False, \n",
    "             download=True, transform=transforms_test)\n",
    "cifar_loader = {}\n",
    "cifar_loader['train'] = DataLoader(cifar_train, batch_size=128, \n",
    "                        shuffle=True, num_workers=4)\n",
    "cifar_loader['test'] = DataLoader(cifar_test, batch_size=128, \n",
    "                       shuffle=False, num_workers=4)"
   ]
  },
  {
   "cell_type": "markdown",
   "metadata": {},
   "source": [
    "## 1. Convolutional, Batch Norm and Dropout Layer Practice"
   ]
  },
  {
   "cell_type": "markdown",
   "metadata": {},
   "source": [
    "### 1.1. Convolutional Layer"
   ]
  },
  {
   "cell_type": "markdown",
   "metadata": {},
   "source": [
    "In PyTorch, 2-dimensional convolutional layer is given with the pytorch `torch.nn.Conv2d` package. In this section, we will learn basic usage of pytorch convolutional layer with some example codes and practices."
   ]
  },
  {
   "cell_type": "markdown",
   "metadata": {},
   "source": [
    "As in our lecture session, we should specify convolution with the number of channels of input and output, kernel size, the size of stride and padding. In Pytorch `torch.nn.Conv2d` class, those traits can be specified as class parameters. The detailed explanation and default values are available on below and the official sites (https://pytorch.org/docs/stable/generated/torch.nn.Conv2d.html)\n"
   ]
  },
  {
   "cell_type": "markdown",
   "metadata": {},
   "source": [
    "* in_channels (int) – Number of channels in the input image\n",
    "\n",
    "* out_channels (int) – Number of channels produced by the convolution\n",
    "\n",
    "* kernel_size (int or tuple) – Size of the convolving kernel\n",
    "\n",
    "* stride (int or tuple, optional) – Stride of the convolution. Default: 1\n",
    "\n",
    "* padding (int or tuple, optional) – Zero-padding added to both sides of the input. Default: 0"
   ]
  },
  {
   "cell_type": "markdown",
   "metadata": {},
   "source": [
    "Now, let's define our convolutional layer and practice. As in our lecture note, let's suppose we have 32x32-sized image with 3 channels. "
   ]
  },
  {
   "cell_type": "code",
   "execution_count": 4,
   "metadata": {},
   "outputs": [],
   "source": [
    "\"\"\"\n",
    "Note: Since PyTorch Conv2d receives 4-dimensional input (i.e. a batch of image(s)), \n",
    "we define input x with the first argument 1.\n",
    "\"\"\"\n",
    "x = torch.randn(1, 3, 32, 32)"
   ]
  },
  {
   "cell_type": "markdown",
   "metadata": {},
   "source": [
    "Then, the number of input channel is 3, which is the same value with the input images' channel (the second argument of above `randn` method). \n",
    "\n",
    "How about the number of output channel, kernel and stride size? Following the figure in our lecture note, we can easily see that the number of output channel should be 1. You can naively regard the kernel size as the spatial size of filter in the lecture note. Thus, the kernel size should be (5,5), and the stride size should be 1. In practice, since the spatial size of filter in in square form (i.e., width = height), we usually specifiy kernel size with only single integer (in our case 5)."
   ]
  },
  {
   "cell_type": "code",
   "execution_count": 5,
   "metadata": {},
   "outputs": [
    {
     "ename": "FileNotFoundError",
     "evalue": "No such file or directory: 'assets/fig1.png'",
     "output_type": "error",
     "traceback": [
      "\u001b[0;31m---------------------------------------------------------------------------\u001b[0m",
      "\u001b[0;31mTypeError\u001b[0m                                 Traceback (most recent call last)",
      "\u001b[0;32m~/.local/lib/python3.8/site-packages/IPython/core/display.py\u001b[0m in \u001b[0;36m_data_and_metadata\u001b[0;34m(self, always_both)\u001b[0m\n\u001b[1;32m   1292\u001b[0m         \u001b[0;32mtry\u001b[0m\u001b[0;34m:\u001b[0m\u001b[0;34m\u001b[0m\u001b[0;34m\u001b[0m\u001b[0m\n\u001b[0;32m-> 1293\u001b[0;31m             \u001b[0mb64_data\u001b[0m \u001b[0;34m=\u001b[0m \u001b[0mb2a_base64\u001b[0m\u001b[0;34m(\u001b[0m\u001b[0mself\u001b[0m\u001b[0;34m.\u001b[0m\u001b[0mdata\u001b[0m\u001b[0;34m)\u001b[0m\u001b[0;34m.\u001b[0m\u001b[0mdecode\u001b[0m\u001b[0;34m(\u001b[0m\u001b[0;34m'ascii'\u001b[0m\u001b[0;34m)\u001b[0m\u001b[0;34m\u001b[0m\u001b[0;34m\u001b[0m\u001b[0m\n\u001b[0m\u001b[1;32m   1294\u001b[0m         \u001b[0;32mexcept\u001b[0m \u001b[0mTypeError\u001b[0m\u001b[0;34m:\u001b[0m\u001b[0;34m\u001b[0m\u001b[0;34m\u001b[0m\u001b[0m\n",
      "\u001b[0;31mTypeError\u001b[0m: a bytes-like object is required, not 'str'",
      "\nDuring handling of the above exception, another exception occurred:\n",
      "\u001b[0;31mFileNotFoundError\u001b[0m                         Traceback (most recent call last)",
      "\u001b[0;32m~/.local/lib/python3.8/site-packages/IPython/core/formatters.py\u001b[0m in \u001b[0;36m__call__\u001b[0;34m(self, obj, include, exclude)\u001b[0m\n\u001b[1;32m    968\u001b[0m \u001b[0;34m\u001b[0m\u001b[0m\n\u001b[1;32m    969\u001b[0m             \u001b[0;32mif\u001b[0m \u001b[0mmethod\u001b[0m \u001b[0;32mis\u001b[0m \u001b[0;32mnot\u001b[0m \u001b[0;32mNone\u001b[0m\u001b[0;34m:\u001b[0m\u001b[0;34m\u001b[0m\u001b[0;34m\u001b[0m\u001b[0m\n\u001b[0;32m--> 970\u001b[0;31m                 \u001b[0;32mreturn\u001b[0m \u001b[0mmethod\u001b[0m\u001b[0;34m(\u001b[0m\u001b[0minclude\u001b[0m\u001b[0;34m=\u001b[0m\u001b[0minclude\u001b[0m\u001b[0;34m,\u001b[0m \u001b[0mexclude\u001b[0m\u001b[0;34m=\u001b[0m\u001b[0mexclude\u001b[0m\u001b[0;34m)\u001b[0m\u001b[0;34m\u001b[0m\u001b[0;34m\u001b[0m\u001b[0m\n\u001b[0m\u001b[1;32m    971\u001b[0m             \u001b[0;32mreturn\u001b[0m \u001b[0;32mNone\u001b[0m\u001b[0;34m\u001b[0m\u001b[0;34m\u001b[0m\u001b[0m\n\u001b[1;32m    972\u001b[0m         \u001b[0;32melse\u001b[0m\u001b[0;34m:\u001b[0m\u001b[0;34m\u001b[0m\u001b[0;34m\u001b[0m\u001b[0m\n",
      "\u001b[0;32m~/.local/lib/python3.8/site-packages/IPython/core/display.py\u001b[0m in \u001b[0;36m_repr_mimebundle_\u001b[0;34m(self, include, exclude)\u001b[0m\n\u001b[1;32m   1281\u001b[0m         \u001b[0;32mif\u001b[0m \u001b[0mself\u001b[0m\u001b[0;34m.\u001b[0m\u001b[0membed\u001b[0m\u001b[0;34m:\u001b[0m\u001b[0;34m\u001b[0m\u001b[0;34m\u001b[0m\u001b[0m\n\u001b[1;32m   1282\u001b[0m             \u001b[0mmimetype\u001b[0m \u001b[0;34m=\u001b[0m \u001b[0mself\u001b[0m\u001b[0;34m.\u001b[0m\u001b[0m_mimetype\u001b[0m\u001b[0;34m\u001b[0m\u001b[0;34m\u001b[0m\u001b[0m\n\u001b[0;32m-> 1283\u001b[0;31m             \u001b[0mdata\u001b[0m\u001b[0;34m,\u001b[0m \u001b[0mmetadata\u001b[0m \u001b[0;34m=\u001b[0m \u001b[0mself\u001b[0m\u001b[0;34m.\u001b[0m\u001b[0m_data_and_metadata\u001b[0m\u001b[0;34m(\u001b[0m\u001b[0malways_both\u001b[0m\u001b[0;34m=\u001b[0m\u001b[0;32mTrue\u001b[0m\u001b[0;34m)\u001b[0m\u001b[0;34m\u001b[0m\u001b[0;34m\u001b[0m\u001b[0m\n\u001b[0m\u001b[1;32m   1284\u001b[0m             \u001b[0;32mif\u001b[0m \u001b[0mmetadata\u001b[0m\u001b[0;34m:\u001b[0m\u001b[0;34m\u001b[0m\u001b[0;34m\u001b[0m\u001b[0m\n\u001b[1;32m   1285\u001b[0m                 \u001b[0mmetadata\u001b[0m \u001b[0;34m=\u001b[0m \u001b[0;34m{\u001b[0m\u001b[0mmimetype\u001b[0m\u001b[0;34m:\u001b[0m \u001b[0mmetadata\u001b[0m\u001b[0;34m}\u001b[0m\u001b[0;34m\u001b[0m\u001b[0;34m\u001b[0m\u001b[0m\n",
      "\u001b[0;32m~/.local/lib/python3.8/site-packages/IPython/core/display.py\u001b[0m in \u001b[0;36m_data_and_metadata\u001b[0;34m(self, always_both)\u001b[0m\n\u001b[1;32m   1293\u001b[0m             \u001b[0mb64_data\u001b[0m \u001b[0;34m=\u001b[0m \u001b[0mb2a_base64\u001b[0m\u001b[0;34m(\u001b[0m\u001b[0mself\u001b[0m\u001b[0;34m.\u001b[0m\u001b[0mdata\u001b[0m\u001b[0;34m)\u001b[0m\u001b[0;34m.\u001b[0m\u001b[0mdecode\u001b[0m\u001b[0;34m(\u001b[0m\u001b[0;34m'ascii'\u001b[0m\u001b[0;34m)\u001b[0m\u001b[0;34m\u001b[0m\u001b[0;34m\u001b[0m\u001b[0m\n\u001b[1;32m   1294\u001b[0m         \u001b[0;32mexcept\u001b[0m \u001b[0mTypeError\u001b[0m\u001b[0;34m:\u001b[0m\u001b[0;34m\u001b[0m\u001b[0;34m\u001b[0m\u001b[0m\n\u001b[0;32m-> 1295\u001b[0;31m             raise FileNotFoundError(\n\u001b[0m\u001b[1;32m   1296\u001b[0m                 \"No such file or directory: '%s'\" % (self.data))\n\u001b[1;32m   1297\u001b[0m         \u001b[0mmd\u001b[0m \u001b[0;34m=\u001b[0m \u001b[0;34m{\u001b[0m\u001b[0;34m}\u001b[0m\u001b[0;34m\u001b[0m\u001b[0;34m\u001b[0m\u001b[0m\n",
      "\u001b[0;31mFileNotFoundError\u001b[0m: No such file or directory: 'assets/fig1.png'"
     ]
    },
    {
     "ename": "FileNotFoundError",
     "evalue": "No such file or directory: 'assets/fig1.png'",
     "output_type": "error",
     "traceback": [
      "\u001b[0;31m---------------------------------------------------------------------------\u001b[0m",
      "\u001b[0;31mTypeError\u001b[0m                                 Traceback (most recent call last)",
      "\u001b[0;32m~/.local/lib/python3.8/site-packages/IPython/core/display.py\u001b[0m in \u001b[0;36m_data_and_metadata\u001b[0;34m(self, always_both)\u001b[0m\n\u001b[1;32m   1292\u001b[0m         \u001b[0;32mtry\u001b[0m\u001b[0;34m:\u001b[0m\u001b[0;34m\u001b[0m\u001b[0;34m\u001b[0m\u001b[0m\n\u001b[0;32m-> 1293\u001b[0;31m             \u001b[0mb64_data\u001b[0m \u001b[0;34m=\u001b[0m \u001b[0mb2a_base64\u001b[0m\u001b[0;34m(\u001b[0m\u001b[0mself\u001b[0m\u001b[0;34m.\u001b[0m\u001b[0mdata\u001b[0m\u001b[0;34m)\u001b[0m\u001b[0;34m.\u001b[0m\u001b[0mdecode\u001b[0m\u001b[0;34m(\u001b[0m\u001b[0;34m'ascii'\u001b[0m\u001b[0;34m)\u001b[0m\u001b[0;34m\u001b[0m\u001b[0;34m\u001b[0m\u001b[0m\n\u001b[0m\u001b[1;32m   1294\u001b[0m         \u001b[0;32mexcept\u001b[0m \u001b[0mTypeError\u001b[0m\u001b[0;34m:\u001b[0m\u001b[0;34m\u001b[0m\u001b[0;34m\u001b[0m\u001b[0m\n",
      "\u001b[0;31mTypeError\u001b[0m: a bytes-like object is required, not 'str'",
      "\nDuring handling of the above exception, another exception occurred:\n",
      "\u001b[0;31mFileNotFoundError\u001b[0m                         Traceback (most recent call last)",
      "\u001b[0;32m~/.local/lib/python3.8/site-packages/IPython/core/formatters.py\u001b[0m in \u001b[0;36m__call__\u001b[0;34m(self, obj)\u001b[0m\n\u001b[1;32m    343\u001b[0m             \u001b[0mmethod\u001b[0m \u001b[0;34m=\u001b[0m \u001b[0mget_real_method\u001b[0m\u001b[0;34m(\u001b[0m\u001b[0mobj\u001b[0m\u001b[0;34m,\u001b[0m \u001b[0mself\u001b[0m\u001b[0;34m.\u001b[0m\u001b[0mprint_method\u001b[0m\u001b[0;34m)\u001b[0m\u001b[0;34m\u001b[0m\u001b[0;34m\u001b[0m\u001b[0m\n\u001b[1;32m    344\u001b[0m             \u001b[0;32mif\u001b[0m \u001b[0mmethod\u001b[0m \u001b[0;32mis\u001b[0m \u001b[0;32mnot\u001b[0m \u001b[0;32mNone\u001b[0m\u001b[0;34m:\u001b[0m\u001b[0;34m\u001b[0m\u001b[0;34m\u001b[0m\u001b[0m\n\u001b[0;32m--> 345\u001b[0;31m                 \u001b[0;32mreturn\u001b[0m \u001b[0mmethod\u001b[0m\u001b[0;34m(\u001b[0m\u001b[0;34m)\u001b[0m\u001b[0;34m\u001b[0m\u001b[0;34m\u001b[0m\u001b[0m\n\u001b[0m\u001b[1;32m    346\u001b[0m             \u001b[0;32mreturn\u001b[0m \u001b[0;32mNone\u001b[0m\u001b[0;34m\u001b[0m\u001b[0;34m\u001b[0m\u001b[0m\n\u001b[1;32m    347\u001b[0m         \u001b[0;32melse\u001b[0m\u001b[0;34m:\u001b[0m\u001b[0;34m\u001b[0m\u001b[0;34m\u001b[0m\u001b[0m\n",
      "\u001b[0;32m~/.local/lib/python3.8/site-packages/IPython/core/display.py\u001b[0m in \u001b[0;36m_repr_png_\u001b[0;34m(self)\u001b[0m\n\u001b[1;32m   1311\u001b[0m     \u001b[0;32mdef\u001b[0m \u001b[0m_repr_png_\u001b[0m\u001b[0;34m(\u001b[0m\u001b[0mself\u001b[0m\u001b[0;34m)\u001b[0m\u001b[0;34m:\u001b[0m\u001b[0;34m\u001b[0m\u001b[0;34m\u001b[0m\u001b[0m\n\u001b[1;32m   1312\u001b[0m         \u001b[0;32mif\u001b[0m \u001b[0mself\u001b[0m\u001b[0;34m.\u001b[0m\u001b[0membed\u001b[0m \u001b[0;32mand\u001b[0m \u001b[0mself\u001b[0m\u001b[0;34m.\u001b[0m\u001b[0mformat\u001b[0m \u001b[0;34m==\u001b[0m \u001b[0mself\u001b[0m\u001b[0;34m.\u001b[0m\u001b[0m_FMT_PNG\u001b[0m\u001b[0;34m:\u001b[0m\u001b[0;34m\u001b[0m\u001b[0;34m\u001b[0m\u001b[0m\n\u001b[0;32m-> 1313\u001b[0;31m             \u001b[0;32mreturn\u001b[0m \u001b[0mself\u001b[0m\u001b[0;34m.\u001b[0m\u001b[0m_data_and_metadata\u001b[0m\u001b[0;34m(\u001b[0m\u001b[0;34m)\u001b[0m\u001b[0;34m\u001b[0m\u001b[0;34m\u001b[0m\u001b[0m\n\u001b[0m\u001b[1;32m   1314\u001b[0m \u001b[0;34m\u001b[0m\u001b[0m\n\u001b[1;32m   1315\u001b[0m     \u001b[0;32mdef\u001b[0m \u001b[0m_repr_jpeg_\u001b[0m\u001b[0;34m(\u001b[0m\u001b[0mself\u001b[0m\u001b[0;34m)\u001b[0m\u001b[0;34m:\u001b[0m\u001b[0;34m\u001b[0m\u001b[0;34m\u001b[0m\u001b[0m\n",
      "\u001b[0;32m~/.local/lib/python3.8/site-packages/IPython/core/display.py\u001b[0m in \u001b[0;36m_data_and_metadata\u001b[0;34m(self, always_both)\u001b[0m\n\u001b[1;32m   1293\u001b[0m             \u001b[0mb64_data\u001b[0m \u001b[0;34m=\u001b[0m \u001b[0mb2a_base64\u001b[0m\u001b[0;34m(\u001b[0m\u001b[0mself\u001b[0m\u001b[0;34m.\u001b[0m\u001b[0mdata\u001b[0m\u001b[0;34m)\u001b[0m\u001b[0;34m.\u001b[0m\u001b[0mdecode\u001b[0m\u001b[0;34m(\u001b[0m\u001b[0;34m'ascii'\u001b[0m\u001b[0;34m)\u001b[0m\u001b[0;34m\u001b[0m\u001b[0;34m\u001b[0m\u001b[0m\n\u001b[1;32m   1294\u001b[0m         \u001b[0;32mexcept\u001b[0m \u001b[0mTypeError\u001b[0m\u001b[0;34m:\u001b[0m\u001b[0;34m\u001b[0m\u001b[0;34m\u001b[0m\u001b[0m\n\u001b[0;32m-> 1295\u001b[0;31m             raise FileNotFoundError(\n\u001b[0m\u001b[1;32m   1296\u001b[0m                 \"No such file or directory: '%s'\" % (self.data))\n\u001b[1;32m   1297\u001b[0m         \u001b[0mmd\u001b[0m \u001b[0;34m=\u001b[0m \u001b[0;34m{\u001b[0m\u001b[0;34m}\u001b[0m\u001b[0;34m\u001b[0m\u001b[0;34m\u001b[0m\u001b[0m\n",
      "\u001b[0;31mFileNotFoundError\u001b[0m: No such file or directory: 'assets/fig1.png'"
     ]
    },
    {
     "data": {
      "text/plain": [
       "<IPython.core.display.Image object>"
      ]
     },
     "execution_count": 5,
     "metadata": {},
     "output_type": "execute_result"
    }
   ],
   "source": [
    "Image(\"assets/fig1.png\")"
   ]
  },
  {
   "cell_type": "code",
   "execution_count": 6,
   "metadata": {},
   "outputs": [],
   "source": [
    "# Fill out the ?? of below\n",
    "conv_layer = torch.nn.Conv2d(in_channels=3, out_channels=1, kernel_size=5, stride=1)"
   ]
  },
  {
   "cell_type": "code",
   "execution_count": 7,
   "metadata": {},
   "outputs": [
    {
     "data": {
      "text/plain": [
       "torch.Size([1, 1, 28, 28])"
      ]
     },
     "execution_count": 7,
     "metadata": {},
     "output_type": "execute_result"
    }
   ],
   "source": [
    "# You should check the output size of covolution layer is [1, 1, 28, 28].\n",
    "conv_layer(x).size()"
   ]
  },
  {
   "cell_type": "markdown",
   "metadata": {},
   "source": [
    "Also check the other example in the lecture note as below. \n",
    "* Input volume: 3x32x32\n",
    "* 10 5x5 filters with stride 1, pad 2"
   ]
  },
  {
   "cell_type": "code",
   "execution_count": 8,
   "metadata": {},
   "outputs": [
    {
     "name": "stdout",
     "output_type": "stream",
     "text": [
      "torch.Size([1, 10, 32, 32])\n"
     ]
    }
   ],
   "source": [
    "# Fill out the ?? of below\n",
    "x = torch.randn(1, 3, 32, 32)\n",
    "conv_layer = torch.nn.Conv2d(in_channels=3, out_channels=10, kernel_size=5, stride=1, padding=2)\n",
    "print(conv_layer(x).size())"
   ]
  },
  {
   "cell_type": "markdown",
   "metadata": {},
   "source": [
    "### 1.2. BatchNorm and Dropout layer"
   ]
  },
  {
   "cell_type": "markdown",
   "metadata": {},
   "source": [
    "In a similar manner, batch normalization and dropout layer also can be used from `torch.nn.BatchNorm2d` and `torch.nn.`."
   ]
  },
  {
   "cell_type": "code",
   "execution_count": 9,
   "metadata": {},
   "outputs": [
    {
     "name": "stdout",
     "output_type": "stream",
     "text": [
      "torch.Size([1, 3, 32, 32])\n",
      "torch.Size([1, 3, 32, 32])\n"
     ]
    }
   ],
   "source": [
    "x = torch.randn(1, 3, 32, 32)\n",
    "\n",
    "bn = torch.nn.BatchNorm2d(num_features=3)\n",
    "print(bn(x).size()) # check batch norm does not change the size of input\n",
    "\n",
    "dropout = torch.nn.Dropout2d(p=0.5) # dropout can specify probability of an element to be zeroed.\n",
    "print(dropout(bn(x)).size()) # check dropout does not change the size of input"
   ]
  },
  {
   "cell_type": "markdown",
   "metadata": {},
   "source": [
    "### 1.3. Build a Simple Convolutional Neural Network"
   ]
  },
  {
   "cell_type": "markdown",
   "metadata": {},
   "source": [
    "We can combine convolution layer, batch norm layer and activation function (e.g., ReLU) to construct a functional unit. In this case, we can use `torch.nn.Sequential` to define a block of sequential layers. "
   ]
  },
  {
   "cell_type": "code",
   "execution_count": 10,
   "metadata": {},
   "outputs": [],
   "source": [
    "class Net(nn.Module):\n",
    "\n",
    "    def __init__(self):\n",
    "        super(Net, self).__init__()\n",
    "        # 1 input image channel, 32 output channels, 7x7 square convolution, 1 stride\n",
    "        self.layer1 = nn.Sequential(\n",
    "            nn.Conv2d(in_channels=1, out_channels=32, kernel_size=7, stride=1), \n",
    "            nn.BatchNorm2d(num_features=32),\n",
    "            nn.ReLU(),\n",
    "        )\n",
    "        # 32 input image channel, 64 output channels, 7x7 square convolution, 1 stride\n",
    "        self.layer2 = nn.Sequential(\n",
    "            nn.Conv2d(in_channels=32, out_channels=64, kernel_size=7, stride=1),\n",
    "            nn.BatchNorm2d(num_features=64),\n",
    "            nn.ReLU(),\n",
    "        )\n",
    "\n",
    "        self.fc = nn.Linear(64 * 16 * 16, 10) # 64 features * (16x16) ,10 object classes\n",
    "\n",
    "    def forward(self, x):\n",
    "        out = self.layer1(x) # 22 * 22 * 32\n",
    "        out = self.layer2(out) # 16 * 16 * 64\n",
    "        out = torch.flatten(out, 1)\n",
    "        out = self.fc(out)\n",
    "        return out\n"
   ]
  },
  {
   "cell_type": "code",
   "execution_count": 11,
   "metadata": {},
   "outputs": [
    {
     "name": "stdout",
     "output_type": "stream",
     "text": [
      "cuda:0\n"
     ]
    }
   ],
   "source": [
    "device = torch.device(\"cuda:0\" if torch.cuda.is_available() else \"cpu\")\n",
    "print(device)\n",
    "\n",
    "net = Net().to(device)\n",
    "optimizer = torch.optim.SGD(net.parameters(), lr=0.01)"
   ]
  },
  {
   "cell_type": "code",
   "execution_count": 12,
   "metadata": {},
   "outputs": [],
   "source": [
    "criterion = torch.nn.CrossEntropyLoss()"
   ]
  },
  {
   "cell_type": "code",
   "execution_count": null,
   "metadata": {},
   "outputs": [],
   "source": [
    "for _ in range(20):\n",
    "    for x, y in dataloaders['train']:\n",
    "        x, y = x.to(device), y.to(device)\n",
    "        out = net(x)\n",
    "        loss = criterion(out, y)\n",
    "        optimizer.zero_grad()\n",
    "        loss.backward()\n",
    "        optimizer.step()"
   ]
  },
  {
   "cell_type": "code",
   "execution_count": null,
   "metadata": {},
   "outputs": [],
   "source": [
    "net.eval()\n",
    "correct = 0.0\n",
    "for x, y in dataloaders['test']:\n",
    "    x, y = x.to(device), y.to(device)\n",
    "    out = net(x)\n",
    "    correct += (out.argmax(1) == y).float().sum().item()\n",
    "print(100. * correct / len(dataloaders['test'].dataset))"
   ]
  },
  {
   "cell_type": "markdown",
   "metadata": {},
   "source": [
    "## 2. CNN Architecture: ResNet"
   ]
  },
  {
   "cell_type": "markdown",
   "metadata": {},
   "source": [
    "In this section, we will implement ResNet and see the effectiveness of residual connection in terms of test performance."
   ]
  },
  {
   "cell_type": "markdown",
   "metadata": {},
   "source": [
    "The overall structure of ResNet is like below.\n",
    "\n",
    "* input(channel:3) -> (conv 3x3) -> (bn) -> (relu) -> output(channel:16)\n",
    "* n Residual blocks: (16 channels -> 16 channels)\n",
    "* n Residual blocks: (16 channels -> 32 channels)\n",
    "* n Residual blocks: (32 channels -> 64 channels)\n",
    "* global average pooling + fully connected layer\n",
    "\n",
    "n can be chosen from {3,5,7,9,18} which of each corresponds to ResNet-20, 32, 44, 56, and 110, respectively."
   ]
  },
  {
   "cell_type": "markdown",
   "metadata": {},
   "source": [
    "### 2.1. Residual Block"
   ]
  },
  {
   "cell_type": "markdown",
   "metadata": {},
   "source": [
    "Residual Block consists of 2 convolution layers with 3x3 size kernel and ReLU activation function (See below figure). Let's implement `ResidualBlock` class below with 2 convolutional layers and residual connection."
   ]
  },
  {
   "cell_type": "code",
   "execution_count": 6,
   "metadata": {},
   "outputs": [
    {
     "data": {
      "image/png": "[encoded data removed]",
      "text/plain": [
       "<IPython.core.display.Image object>"
      ]
     },
     "execution_count": 6,
     "metadata": {
      "image/png": {
       "width": 300
      }
     },
     "output_type": "execute_result"
    }
   ],
   "source": [
    "Image(\"assets/fig2.png\", width=300)"
   ]
  },
  {
   "cell_type": "code",
   "execution_count": 64,
   "metadata": {},
   "outputs": [],
   "source": [
    "class ResidualBlock(nn.Module):\n",
    "    def __init__(self, in_channels, out_channels, stride=1, down_sample=False):\n",
    "        super(ResidualBlock, self).__init__()\n",
    "        self.conv1 = nn.Conv2d(in_channels, out_channels, kernel_size=3, \n",
    "                     stride=stride, padding=1, bias=False) \n",
    "        self.bn1 = nn.BatchNorm2d(out_channels)\n",
    "        self.relu = nn.ReLU(inplace=True)\n",
    "\n",
    "        self.conv2 = nn.Conv2d(out_channels, out_channels, kernel_size=3, \n",
    "                             stride=1, padding=1, bias=False) \n",
    "        self.bn2 = nn.BatchNorm2d(out_channels)\n",
    "\n",
    "        self.down_sample = down_sample\n",
    "        self.stride = stride\n",
    "        self.in_channels = in_channels\n",
    "        self.out_channels = out_channels\n",
    "        \n",
    "    def down_sampling(self, x):\n",
    "        out = F.pad(x, (0, 0, 0, 0, 0, self.out_channels - self.in_channels))\n",
    "        out = nn.MaxPool2d(1, stride=self.stride)(out)\n",
    "        return out\n",
    "        \n",
    "\n",
    "    def forward(self, x):\n",
    "        shortcut = x # this will be used to build residual connection.\n",
    "\n",
    "        out = self.conv1(x)\n",
    "        out = self.bn1(out)\n",
    "        out = self.relu(out)\n",
    "\n",
    "        out = self.conv2(out)\n",
    "        out = self.bn2(out)\n",
    "        \n",
    "        if self.down_sample:\n",
    "            shortcut = self.down_sampling(x)\n",
    "\n",
    "        out += shortcut # residual connection\n",
    "        out = self.relu(out)\n",
    "        return out"
   ]
  },
  {
   "cell_type": "markdown",
   "metadata": {},
   "source": [
    "`ResidualBlock` class which extends `torch.nn.Module`. `ResidualBlock` class receives `in_channels`, `out_channels`, `stride` and `down_sample`. \n",
    "\n",
    "In ResNet, there are residual blocks that twice the output channel(16 to 32, 32 to 64). The `stride` argument for `ResidualBlock` is set to 2 in such residual blocks to down sample (reduce spatial dimension) while increasing channels.\n",
    "\n",
    "However, the residual connection in the residual block can occur dimension mismatch since the output of other path (through convolutional layers) change the dimension of input with `stride=2`. Thus, residual block should support downsample through the residual connection in demand. \n",
    "\n",
    "We support this feature in `down_sampling` method in `ResidualBlock` class. It conducts zero-padding to exapnd the channels and max-pooling to shrink spatial dimension through residual block. Using `down_sampling` in the middle of the `forward` method to handle `down_sample` condition to residual connection."
   ]
  },
  {
   "cell_type": "markdown",
   "metadata": {},
   "source": [
    "### 2.2. ResNet"
   ]
  },
  {
   "cell_type": "markdown",
   "metadata": {},
   "source": [
    "Now implement `ResNet` class. Assume the `block` argument will be `ResidualBlock` we implemented above. Here are required implementation details.\n",
    "\n",
    "* In `init` method, specifiy all details of convolution, batch norm layers. \n",
    "* In `get_layers` method, set down_sample boolean variable according to the stride information. Then, define a list of residual blocks (`layer_list`). Make sure the down-sample only occurs at the first block in demand."
   ]
  },
  {
   "cell_type": "code",
   "execution_count": 65,
   "metadata": {},
   "outputs": [],
   "source": [
    "class ResNet(nn.Module):\n",
    "    def __init__(self, num_layers, block, num_classes=10):\n",
    "        super(ResNet, self).__init__()\n",
    "        self.num_layers = num_layers\n",
    "        \n",
    "        #input(channel:3) -> (conv 3x3) -> (bn) -> (relu) -> output(channel:16)\n",
    "        self.conv1 = nn.Conv2d(\n",
    "            in_channels=3, \n",
    "            out_channels=16, \n",
    "            kernel_size=3, \n",
    "            stride=1, \n",
    "            padding=1, \n",
    "            bias=False)\n",
    "        self.bn1 = nn.BatchNorm2d(16)\n",
    "        self.relu = nn.ReLU(inplace=True)\n",
    "        \n",
    "        # feature map size = 16x32x32\n",
    "        self.layers_2n = self.get_layers(block, 16, 16, stride=1)\n",
    "        # feature map size = 32x16x16\n",
    "        self.layers_4n = self.get_layers(block, 16, 32, stride=2)\n",
    "        # feature map size = 64x8x8\n",
    "        self.layers_6n = self.get_layers(block, 32, 64, stride=2)\n",
    "        \n",
    "        # output layers\n",
    "        self.avg_pool = nn.AvgPool2d(8, stride=1)\n",
    "        self.fc_out = nn.Linear(64, num_classes)\n",
    "        \n",
    "        for m in self.modules():\n",
    "            if isinstance(m, nn.Conv2d):\n",
    "                nn.init.kaiming_normal_(m.weight, mode='fan_out', nonlinearity='relu')\n",
    "            elif isinstance(m, nn.BatchNorm2d):\n",
    "                nn.init.constant_(m.weight, 1)\n",
    "                nn.init.constant_(m.bias, 0)\n",
    "        \n",
    "        \n",
    "    def get_layers(self, block, in_channels, out_channels, stride):\n",
    "        if stride == 2:\n",
    "            down_sample = True\n",
    "        else:\n",
    "            down_sample = False\n",
    "            \n",
    "        layer_list = nn.ModuleList([block(in_channels, out_channels, stride, down_sample)])\n",
    "        \n",
    "        for _ in range(self.num_layers - 1):\n",
    "            layer_list.append(block(out_channels, out_channels))\n",
    "            \n",
    "        return nn.Sequential(*layer_list)\n",
    "        \n",
    "    \n",
    "    def forward(self, x):\n",
    "        x = self.conv1(x)\n",
    "        x = self.bn1(x)\n",
    "        x = self.relu(x)\n",
    "\n",
    "        x = self.layers_2n(x)\n",
    "        x = self.layers_4n(x)\n",
    "        x = self.layers_6n(x)\n",
    "\n",
    "        x = self.avg_pool(x)\n",
    "        x = x.view(x.size(0), -1)\n",
    "        x = self.fc_out(x)\n",
    "        \n",
    "        return x"
   ]
  },
  {
   "cell_type": "markdown",
   "metadata": {},
   "source": [
    "In this practice we use resnet32 to train CIFAR-10. "
   ]
  },
  {
   "cell_type": "code",
   "execution_count": 66,
   "metadata": {},
   "outputs": [],
   "source": [
    "def resnet18():\n",
    "    block = ResidualBlock\n",
    "    model = ResNet(3, block)\n",
    "    return model\n",
    "def resnet32():\n",
    "    block = ResidualBlock\n",
    "    model = ResNet(5, block)\n",
    "    return model"
   ]
  },
  {
   "cell_type": "markdown",
   "metadata": {},
   "source": [
    "By replacing `ResidualBlock` with plain `Block` (without residual connection), we can compare the effectiveness of residual connection."
   ]
  },
  {
   "cell_type": "code",
   "execution_count": 67,
   "metadata": {},
   "outputs": [],
   "source": [
    "class Block(nn.Module):\n",
    "    def __init__(self, in_channels, out_channels, stride=1, down_sample=False):\n",
    "        super(Block, self).__init__()\n",
    "        self.conv1 = nn.Conv2d(in_channels, out_channels, kernel_size=3, \n",
    "                     stride=stride, padding=1, bias=False) \n",
    "        self.bn1 = nn.BatchNorm2d(out_channels)\n",
    "        self.relu = nn.ReLU(inplace=True)\n",
    "\n",
    "        self.conv2 = nn.Conv2d(out_channels, out_channels, kernel_size=3, \n",
    "                             stride=1, padding=1, bias=False) \n",
    "        self.bn2 = nn.BatchNorm2d(out_channels)\n",
    "\n",
    "        self.stride = stride\n",
    "        self.in_channels = in_channels\n",
    "        self.out_channels = out_channels\n",
    "        \n",
    "\n",
    "    def forward(self, x):\n",
    "        out = self.conv1(x)\n",
    "        out = self.bn1(out)\n",
    "        out = self.relu(out)\n",
    "\n",
    "        out = self.conv2(out)\n",
    "        out = self.bn2(out)\n",
    "        out = self.relu(out)\n",
    "\n",
    "        return out"
   ]
  },
  {
   "cell_type": "code",
   "execution_count": 68,
   "metadata": {},
   "outputs": [],
   "source": [
    "def cnn18():\n",
    "    block = Block\n",
    "    model = ResNet(3, block)\n",
    "    return model\n",
    "\n",
    "def cnn32():\n",
    "    block = Block\n",
    "    model = ResNet(5, block)\n",
    "    return model"
   ]
  },
  {
   "cell_type": "markdown",
   "metadata": {},
   "source": [
    "### 2.3. Train"
   ]
  },
  {
   "cell_type": "markdown",
   "metadata": {},
   "source": [
    "Training resnet is not different with other training schemes. We train 64000 batch steps with 128 batch size. The learning rate starts from 0.1 and is decayed at 32,000 and 48,000 step with 0.1 factor. "
   ]
  },
  {
   "cell_type": "code",
   "execution_count": 69,
   "metadata": {},
   "outputs": [],
   "source": [
    "net = resnet18().to(device)\n",
    "optimizer = torch.optim.SGD(net.parameters(), lr=0.1, momentum=0.9, weight_decay=1e-4)\n",
    "decay_epoch = [32000, 48000]\n",
    "step_lr_scheduler = torch.optim.lr_scheduler.MultiStepLR(optimizer, milestones=decay_epoch, gamma=0.1)"
   ]
  },
  {
   "cell_type": "code",
   "execution_count": 70,
   "metadata": {},
   "outputs": [
    {
     "name": "stdout",
     "output_type": "stream",
     "text": [
      "Epoch[1 (391/64000) (21.5617sec)] loss: 619.38 acc: 40.80\n",
      "Epoch[2 (782/64000) (43.4106sec)] loss: 429.44 acc: 60.83\n",
      "Epoch[3 (1173/64000) (65.4048sec)] loss: 346.36 acc: 68.76\n",
      "Epoch[4 (1564/64000) (87.1512sec)] loss: 290.53 acc: 74.12\n",
      "Epoch[5 (1955/64000) (108.4085sec)] loss: 258.52 acc: 77.10\n",
      "Epoch[6 (2346/64000) (129.6994sec)] loss: 235.62 acc: 79.07\n",
      "Epoch[7 (2737/64000) (151.0093sec)] loss: 219.68 acc: 80.71\n",
      "Epoch[8 (3128/64000) (172.3220sec)] loss: 208.81 acc: 81.58\n",
      "Epoch[9 (3519/64000) (193.7147sec)] loss: 197.66 acc: 82.52\n",
      "Epoch[10 (3910/64000) (215.1182sec)] loss: 186.67 acc: 83.49\n",
      "Epoch[11 (4301/64000) (236.4807sec)] loss: 179.05 acc: 84.30\n",
      "Epoch[12 (4692/64000) (257.8723sec)] loss: 171.25 acc: 84.85\n",
      "Epoch[13 (5083/64000) (279.2903sec)] loss: 166.79 acc: 85.17\n",
      "Epoch[14 (5474/64000) (300.8308sec)] loss: 162.86 acc: 85.49\n",
      "Epoch[15 (5865/64000) (322.2480sec)] loss: 157.06 acc: 86.05\n",
      "Epoch[16 (6256/64000) (343.6325sec)] loss: 151.96 acc: 86.48\n",
      "Epoch[17 (6647/64000) (365.2736sec)] loss: 150.54 acc: 86.64\n",
      "Epoch[18 (7038/64000) (386.7107sec)] loss: 146.94 acc: 86.97\n",
      "Epoch[19 (7429/64000) (408.1153sec)] loss: 141.92 acc: 87.32\n",
      "Epoch[20 (7820/64000) (429.5321sec)] loss: 140.14 acc: 87.60\n",
      "Epoch[21 (8211/64000) (450.9323sec)] loss: 138.94 acc: 87.66\n",
      "Epoch[22 (8602/64000) (472.3308sec)] loss: 134.22 acc: 87.84\n",
      "Epoch[23 (8993/64000) (493.7409sec)] loss: 132.99 acc: 88.12\n",
      "Epoch[24 (9384/64000) (515.1722sec)] loss: 129.75 acc: 88.44\n",
      "Epoch[25 (9775/64000) (536.5684sec)] loss: 128.66 acc: 88.50\n",
      "Epoch[26 (10166/64000) (557.9476sec)] loss: 126.37 acc: 88.78\n",
      "Epoch[27 (10557/64000) (579.3616sec)] loss: 123.87 acc: 88.99\n",
      "Epoch[28 (10948/64000) (600.9616sec)] loss: 122.14 acc: 89.20\n",
      "Epoch[29 (11339/64000) (622.4284sec)] loss: 124.13 acc: 89.03\n",
      "Epoch[30 (11730/64000) (643.8292sec)] loss: 120.76 acc: 89.30\n",
      "Epoch[31 (12121/64000) (665.2149sec)] loss: 118.88 acc: 89.34\n",
      "Epoch[32 (12512/64000) (686.5800sec)] loss: 118.04 acc: 89.49\n",
      "Epoch[33 (12903/64000) (708.0761sec)] loss: 115.12 acc: 89.74\n",
      "Epoch[34 (13294/64000) (729.4784sec)] loss: 114.83 acc: 89.73\n",
      "Epoch[35 (13685/64000) (750.8956sec)] loss: 114.76 acc: 89.79\n",
      "Epoch[36 (14076/64000) (772.7590sec)] loss: 113.69 acc: 89.82\n",
      "Epoch[37 (14467/64000) (794.5615sec)] loss: 112.34 acc: 89.92\n",
      "Epoch[38 (14858/64000) (816.5179sec)] loss: 110.42 acc: 90.15\n",
      "Epoch[39 (15249/64000) (838.6361sec)] loss: 108.30 acc: 90.38\n",
      "Epoch[40 (15640/64000) (860.9272sec)] loss: 108.10 acc: 90.31\n",
      "Epoch[41 (16031/64000) (882.5019sec)] loss: 109.56 acc: 90.29\n",
      "Epoch[42 (16422/64000) (904.1112sec)] loss: 107.67 acc: 90.22\n",
      "Epoch[43 (16813/64000) (925.6752sec)] loss: 105.87 acc: 90.45\n",
      "Epoch[44 (17204/64000) (947.3773sec)] loss: 105.52 acc: 90.57\n",
      "Epoch[45 (17595/64000) (969.2496sec)] loss: 102.95 acc: 90.79\n",
      "Epoch[46 (17986/64000) (990.8297sec)] loss: 106.35 acc: 90.46\n",
      "Epoch[47 (18377/64000) (1012.5202sec)] loss: 101.17 acc: 90.97\n",
      "Epoch[48 (18768/64000) (1034.6951sec)] loss: 103.60 acc: 90.74\n",
      "Epoch[49 (19159/64000) (1056.6786sec)] loss: 102.16 acc: 91.01\n",
      "Epoch[50 (19550/64000) (1078.4547sec)] loss: 102.59 acc: 90.76\n",
      "Epoch[51 (19941/64000) (1100.0387sec)] loss: 98.15 acc: 91.20\n",
      "Epoch[52 (20332/64000) (1121.6518sec)] loss: 100.30 acc: 90.99\n",
      "Epoch[53 (20723/64000) (1143.4844sec)] loss: 100.40 acc: 90.95\n",
      "Epoch[54 (21114/64000) (1165.3840sec)] loss: 99.86 acc: 91.16\n",
      "Epoch[55 (21505/64000) (1187.0491sec)] loss: 99.72 acc: 91.12\n",
      "Epoch[56 (21896/64000) (1209.0241sec)] loss: 98.72 acc: 91.15\n",
      "Epoch[57 (22287/64000) (1230.7257sec)] loss: 96.19 acc: 91.22\n",
      "Epoch[58 (22678/64000) (1252.4040sec)] loss: 97.73 acc: 91.18\n",
      "Epoch[59 (23069/64000) (1274.2457sec)] loss: 97.08 acc: 91.32\n",
      "Epoch[60 (23460/64000) (1295.9710sec)] loss: 95.90 acc: 91.33\n",
      "Epoch[61 (23851/64000) (1317.6451sec)] loss: 96.05 acc: 91.55\n",
      "Epoch[62 (24242/64000) (1339.3065sec)] loss: 96.16 acc: 91.50\n",
      "Epoch[63 (24633/64000) (1360.9326sec)] loss: 95.09 acc: 91.52\n",
      "Epoch[64 (25024/64000) (1382.6722sec)] loss: 94.10 acc: 91.47\n",
      "Epoch[65 (25415/64000) (1405.9692sec)] loss: 93.41 acc: 91.71\n",
      "Epoch[66 (25806/64000) (1428.7267sec)] loss: 94.33 acc: 91.53\n",
      "Epoch[67 (26197/64000) (1450.2557sec)] loss: 92.71 acc: 91.71\n",
      "Epoch[68 (26588/64000) (1471.9650sec)] loss: 93.85 acc: 91.52\n",
      "Epoch[69 (26979/64000) (1493.5880sec)] loss: 94.46 acc: 91.57\n",
      "Epoch[70 (27370/64000) (1515.3284sec)] loss: 91.03 acc: 91.77\n",
      "Epoch[71 (27761/64000) (1536.8148sec)] loss: 94.92 acc: 91.43\n",
      "Epoch[72 (28152/64000) (1558.2887sec)] loss: 92.27 acc: 91.75\n",
      "Epoch[73 (28543/64000) (1579.7334sec)] loss: 91.51 acc: 91.90\n",
      "Epoch[74 (28934/64000) (1601.1180sec)] loss: 90.60 acc: 91.94\n",
      "Epoch[75 (29325/64000) (1622.4649sec)] loss: 90.56 acc: 91.86\n",
      "Epoch[76 (29716/64000) (1643.8261sec)] loss: 88.18 acc: 92.14\n",
      "Epoch[77 (30107/64000) (1665.2624sec)] loss: 92.42 acc: 91.61\n",
      "Epoch[78 (30498/64000) (1686.6331sec)] loss: 92.39 acc: 91.64\n",
      "Epoch[79 (30889/64000) (1708.6850sec)] loss: 89.29 acc: 91.93\n",
      "Epoch[80 (31280/64000) (1730.0395sec)] loss: 88.15 acc: 92.05\n",
      "Epoch[81 (31671/64000) (1751.3948sec)] loss: 91.71 acc: 91.87\n",
      "Epoch[82 (32062/64000) (1772.7585sec)] loss: 86.91 acc: 92.19\n",
      "Epoch[83 (32453/64000) (1794.0895sec)] loss: 52.83 acc: 95.46\n",
      "Epoch[84 (32844/64000) (1815.4404sec)] loss: 45.89 acc: 96.01\n",
      "Epoch[85 (33235/64000) (1836.8695sec)] loss: 40.70 acc: 96.49\n",
      "Epoch[86 (33626/64000) (1858.2278sec)] loss: 38.24 acc: 96.63\n",
      "Epoch[87 (34017/64000) (1879.5818sec)] loss: 36.28 acc: 96.80\n",
      "Epoch[88 (34408/64000) (1901.0578sec)] loss: 33.50 acc: 97.17\n",
      "Epoch[89 (34799/64000) (1922.4264sec)] loss: 32.63 acc: 97.19\n",
      "Epoch[90 (35190/64000) (1943.7767sec)] loss: 30.94 acc: 97.33\n",
      "Epoch[91 (35581/64000) (1965.1488sec)] loss: 30.09 acc: 97.47\n",
      "Epoch[92 (35972/64000) (1986.5041sec)] loss: 29.49 acc: 97.45\n",
      "Epoch[93 (36363/64000) (2007.8594sec)] loss: 28.49 acc: 97.58\n",
      "Epoch[94 (36754/64000) (2029.2302sec)] loss: 27.85 acc: 97.64\n",
      "Epoch[95 (37145/64000) (2050.7136sec)] loss: 26.54 acc: 97.71\n",
      "Epoch[96 (37536/64000) (2072.0742sec)] loss: 25.80 acc: 97.79\n",
      "Epoch[97 (37927/64000) (2093.4299sec)] loss: 25.36 acc: 97.88\n",
      "Epoch[98 (38318/64000) (2114.7923sec)] loss: 24.05 acc: 97.95\n",
      "Epoch[99 (38709/64000) (2136.1499sec)] loss: 23.81 acc: 98.00\n",
      "Epoch[100 (39100/64000) (2157.5147sec)] loss: 23.35 acc: 98.01\n",
      "Epoch[101 (39491/64000) (2178.8804sec)] loss: 22.94 acc: 98.04\n",
      "Epoch[102 (39882/64000) (2200.2545sec)] loss: 22.11 acc: 98.19\n",
      "Epoch[103 (40273/64000) (2221.6138sec)] loss: 22.29 acc: 98.05\n",
      "Epoch[104 (40664/64000) (2242.9791sec)] loss: 21.52 acc: 98.16\n",
      "Epoch[105 (41055/64000) (2264.3360sec)] loss: 20.89 acc: 98.19\n",
      "Epoch[106 (41446/64000) (2285.6898sec)] loss: 20.16 acc: 98.24\n",
      "Epoch[107 (41837/64000) (2307.0559sec)] loss: 18.93 acc: 98.40\n",
      "Epoch[108 (42228/64000) (2328.4242sec)] loss: 19.04 acc: 98.34\n",
      "Epoch[109 (42619/64000) (2349.8699sec)] loss: 19.23 acc: 98.38\n",
      "Epoch[110 (43010/64000) (2371.8658sec)] loss: 17.83 acc: 98.51\n",
      "Epoch[111 (43401/64000) (2393.3273sec)] loss: 18.15 acc: 98.43\n",
      "Epoch[112 (43792/64000) (2414.6830sec)] loss: 17.82 acc: 98.50\n",
      "Epoch[113 (44183/64000) (2436.0691sec)] loss: 18.41 acc: 98.38\n",
      "Epoch[114 (44574/64000) (2457.4291sec)] loss: 17.24 acc: 98.53\n",
      "Epoch[115 (44965/64000) (2478.7856sec)] loss: 17.14 acc: 98.52\n",
      "Epoch[116 (45356/64000) (2500.1449sec)] loss: 16.77 acc: 98.59\n",
      "Epoch[117 (45747/64000) (2521.4961sec)] loss: 16.87 acc: 98.54\n",
      "Epoch[118 (46138/64000) (2542.8424sec)] loss: 15.99 acc: 98.65\n",
      "Epoch[119 (46529/64000) (2564.2004sec)] loss: 16.28 acc: 98.65\n",
      "Epoch[120 (46920/64000) (2585.5676sec)] loss: 16.16 acc: 98.58\n",
      "Epoch[121 (47311/64000) (2606.9191sec)] loss: 15.50 acc: 98.72\n",
      "Epoch[122 (47702/64000) (2628.2719sec)] loss: 14.83 acc: 98.74\n",
      "Epoch[123 (48093/64000) (2649.6253sec)] loss: 14.62 acc: 98.75\n",
      "Epoch[124 (48484/64000) (2671.0046sec)] loss: 12.81 acc: 98.96\n",
      "Epoch[125 (48875/64000) (2692.3771sec)] loss: 11.70 acc: 99.12\n",
      "Epoch[126 (49266/64000) (2713.7361sec)] loss: 11.67 acc: 99.08\n",
      "Epoch[127 (49657/64000) (2735.1168sec)] loss: 11.35 acc: 99.11\n",
      "Epoch[128 (50048/64000) (2756.4729sec)] loss: 11.04 acc: 99.20\n",
      "Epoch[129 (50439/64000) (2777.8333sec)] loss: 10.83 acc: 99.20\n",
      "Epoch[130 (50830/64000) (2799.9877sec)] loss: 11.32 acc: 99.15\n",
      "Epoch[131 (51221/64000) (2821.6453sec)] loss: 10.98 acc: 99.17\n",
      "Epoch[132 (51612/64000) (2843.5605sec)] loss: 11.00 acc: 99.11\n",
      "Epoch[133 (52003/64000) (2865.5673sec)] loss: 11.11 acc: 99.15\n"
     ]
    },
    {
     "name": "stdout",
     "output_type": "stream",
     "text": [
      "Epoch[134 (52394/64000) (2887.2770sec)] loss: 10.18 acc: 99.25\n",
      "Epoch[135 (52785/64000) (2909.1230sec)] loss: 10.50 acc: 99.20\n",
      "Epoch[136 (53176/64000) (2930.4968sec)] loss: 10.83 acc: 99.20\n",
      "Epoch[137 (53567/64000) (2951.9031sec)] loss: 10.83 acc: 99.19\n",
      "Epoch[138 (53958/64000) (2973.2867sec)] loss: 10.47 acc: 99.25\n",
      "Epoch[139 (54349/64000) (2994.6486sec)] loss: 10.52 acc: 99.19\n",
      "Epoch[140 (54740/64000) (3015.9925sec)] loss: 10.24 acc: 99.22\n",
      "Epoch[141 (55131/64000) (3037.4359sec)] loss: 10.37 acc: 99.21\n",
      "Epoch[142 (55522/64000) (3059.5251sec)] loss: 10.47 acc: 99.18\n",
      "Epoch[143 (55913/64000) (3081.5341sec)] loss: 10.49 acc: 99.18\n",
      "Epoch[144 (56304/64000) (3103.5313sec)] loss: 10.29 acc: 99.24\n",
      "Epoch[145 (56695/64000) (3124.8996sec)] loss: 9.93 acc: 99.24\n",
      "Epoch[146 (57086/64000) (3146.2858sec)] loss: 10.05 acc: 99.31\n",
      "Epoch[147 (57477/64000) (3167.6311sec)] loss: 9.84 acc: 99.27\n",
      "Epoch[148 (57868/64000) (3188.9538sec)] loss: 9.80 acc: 99.26\n",
      "Epoch[149 (58259/64000) (3210.3461sec)] loss: 9.75 acc: 99.27\n",
      "Epoch[150 (58650/64000) (3231.6929sec)] loss: 9.90 acc: 99.19\n",
      "Epoch[151 (59041/64000) (3253.0593sec)] loss: 9.57 acc: 99.27\n",
      "Epoch[152 (59432/64000) (3274.4333sec)] loss: 9.33 acc: 99.35\n",
      "Epoch[153 (59823/64000) (3295.8274sec)] loss: 9.71 acc: 99.30\n",
      "Epoch[154 (60214/64000) (3317.2127sec)] loss: 9.66 acc: 99.28\n",
      "Epoch[155 (60605/64000) (3338.5597sec)] loss: 9.38 acc: 99.31\n",
      "Epoch[156 (60996/64000) (3359.9060sec)] loss: 9.58 acc: 99.32\n",
      "Epoch[157 (61387/64000) (3381.2709sec)] loss: 9.57 acc: 99.31\n",
      "Epoch[158 (61778/64000) (3402.6578sec)] loss: 9.63 acc: 99.29\n",
      "Epoch[159 (62169/64000) (3423.9936sec)] loss: 9.59 acc: 99.31\n",
      "Epoch[160 (62560/64000) (3445.3551sec)] loss: 9.24 acc: 99.35\n",
      "Epoch[161 (62951/64000) (3466.7122sec)] loss: 10.01 acc: 99.25\n",
      "Epoch[162 (63342/64000) (3488.1617sec)] loss: 9.32 acc: 99.32\n",
      "Epoch[163 (63733/64000) (3509.5439sec)] loss: 9.65 acc: 99.30\n",
      "Epoch[164 (64124/64000) (3530.9758sec)] loss: 8.81 acc: 99.39\n"
     ]
    }
   ],
   "source": [
    "import time\n",
    "start_time = time.time()\n",
    "\n",
    "net.train()\n",
    "\n",
    "step = 0\n",
    "epochs = 0\n",
    "losses = []\n",
    "\n",
    "while step < 64000:\n",
    "\n",
    "    train_loss = 0.0\n",
    "    correct = 0.0\n",
    "    total = 0.0\n",
    "\n",
    "    for batch_idx, (x, y) in enumerate(cifar_loader['train']):\n",
    "        step += 1\n",
    "        step_lr_scheduler.step()\n",
    "        x, y = x.to(device), y.to(device)\n",
    "        out = net(x)\n",
    "        loss = criterion(out, y)\n",
    "        optimizer.zero_grad()\n",
    "        loss.backward()\n",
    "        optimizer.step()\n",
    "\n",
    "        correct += (out.argmax(1) == y).float().sum().item()\n",
    "        total += x.size(0)\n",
    "        train_loss += loss.item()\n",
    "\n",
    "    losses.append(train_loss)\n",
    "    epochs += 1\n",
    "    \n",
    "    print(\"Epoch[{:d} ({:d}/64000) ({:.4f}sec)] loss: {:.2f} acc: {:.2f}\".format(epochs, step, time.time()-start_time, train_loss, 100.*correct/total))\n",
    "    "
   ]
  },
  {
   "cell_type": "markdown",
   "metadata": {},
   "source": [
    "Plot train loss and calculate test performance."
   ]
  },
  {
   "cell_type": "code",
   "execution_count": 71,
   "metadata": {},
   "outputs": [],
   "source": [
    "import matplotlib\n",
    "import matplotlib.pyplot as plt"
   ]
  },
  {
   "cell_type": "code",
   "execution_count": 72,
   "metadata": {},
   "outputs": [
    {
     "data": {
      "text/plain": [
       "[<matplotlib.lines.Line2D at 0x7fe920e8f2b0>]"
      ]
     },
     "execution_count": 72,
     "metadata": {},
     "output_type": "execute_result"
    },
    {
     "data": {
      "image/png": "[encoded data removed]",
      "text/plain": [
       "<Figure size 432x288 with 1 Axes>"
      ]
     },
     "metadata": {
      "needs_background": "light"
     },
     "output_type": "display_data"
    }
   ],
   "source": [
    "plt.plot(losses)"
   ]
  },
  {
   "cell_type": "code",
   "execution_count": 73,
   "metadata": {},
   "outputs": [
    {
     "name": "stdout",
     "output_type": "stream",
     "text": [
      "91.4\n"
     ]
    }
   ],
   "source": [
    "net.eval()\n",
    "test_correct = 0.0\n",
    "test_total = 0.0\n",
    "for batch_idx, (x, y) in enumerate(cifar_loader['test']):\n",
    "    x, y = x.to(device), y.to(device)\n",
    "    out = net(x)\n",
    "    test_correct += (out.argmax(1) == y).float().sum().item()\n",
    "    test_total += x.size(0)\n",
    "    \n",
    "print(test_correct/test_total * 100.)\n"
   ]
  },
  {
   "cell_type": "markdown",
   "metadata": {},
   "source": [
    "Train CNNs wihtout residual connection. "
   ]
  },
  {
   "cell_type": "code",
   "execution_count": 74,
   "metadata": {},
   "outputs": [
    {
     "name": "stderr",
     "output_type": "stream",
     "text": [
      "/home/luna/.local/lib/python3.8/site-packages/torch/optim/lr_scheduler.py:118: UserWarning: Detected call of `lr_scheduler.step()` before `optimizer.step()`. In PyTorch 1.1.0 and later, you should call them in the opposite order: `optimizer.step()` before `lr_scheduler.step()`.  Failure to do this will result in PyTorch skipping the first value of the learning rate schedule. See more details at https://pytorch.org/docs/stable/optim.html#how-to-adjust-learning-rate\n",
      "  warnings.warn(\"Detected call of `lr_scheduler.step()` before `optimizer.step()`. \"\n"
     ]
    },
    {
     "name": "stdout",
     "output_type": "stream",
     "text": [
      "Epoch[1 (391/64000) (18.9087sec)] loss: 677.31 acc: 33.94\n",
      "Epoch[2 (782/64000) (37.7153sec)] loss: 514.97 acc: 52.28\n",
      "Epoch[3 (1173/64000) (56.5068sec)] loss: 416.01 acc: 61.85\n",
      "Epoch[4 (1564/64000) (75.3321sec)] loss: 354.66 acc: 68.03\n",
      "Epoch[5 (1955/64000) (94.0653sec)] loss: 309.52 acc: 72.27\n",
      "Epoch[6 (2346/64000) (112.7995sec)] loss: 286.31 acc: 74.57\n",
      "Epoch[7 (2737/64000) (131.5172sec)] loss: 263.72 acc: 76.64\n",
      "Epoch[8 (3128/64000) (150.2466sec)] loss: 249.71 acc: 77.93\n",
      "Epoch[9 (3519/64000) (168.9686sec)] loss: 237.46 acc: 79.06\n",
      "Epoch[10 (3910/64000) (187.6983sec)] loss: 226.74 acc: 79.97\n",
      "Epoch[11 (4301/64000) (206.4400sec)] loss: 218.64 acc: 80.49\n",
      "Epoch[12 (4692/64000) (225.1594sec)] loss: 209.22 acc: 81.41\n",
      "Epoch[13 (5083/64000) (243.8926sec)] loss: 203.35 acc: 82.14\n",
      "Epoch[14 (5474/64000) (262.6210sec)] loss: 199.03 acc: 82.31\n",
      "Epoch[15 (5865/64000) (281.3162sec)] loss: 193.01 acc: 83.01\n",
      "Epoch[16 (6256/64000) (300.0465sec)] loss: 187.22 acc: 83.36\n",
      "Epoch[17 (6647/64000) (318.8019sec)] loss: 184.30 acc: 83.69\n",
      "Epoch[18 (7038/64000) (337.7691sec)] loss: 179.18 acc: 84.02\n",
      "Epoch[19 (7429/64000) (356.4751sec)] loss: 175.78 acc: 84.54\n",
      "Epoch[20 (7820/64000) (375.1690sec)] loss: 171.84 acc: 84.84\n",
      "Epoch[21 (8211/64000) (393.8810sec)] loss: 169.40 acc: 84.99\n",
      "Epoch[22 (8602/64000) (412.5806sec)] loss: 167.39 acc: 85.00\n",
      "Epoch[23 (8993/64000) (431.2919sec)] loss: 164.62 acc: 85.32\n",
      "Epoch[24 (9384/64000) (450.0169sec)] loss: 162.50 acc: 85.59\n",
      "Epoch[25 (9775/64000) (468.7233sec)] loss: 159.48 acc: 85.95\n",
      "Epoch[26 (10166/64000) (487.4477sec)] loss: 157.07 acc: 86.02\n",
      "Epoch[27 (10557/64000) (506.1490sec)] loss: 151.49 acc: 86.62\n",
      "Epoch[28 (10948/64000) (524.8811sec)] loss: 153.38 acc: 86.52\n",
      "Epoch[29 (11339/64000) (543.5934sec)] loss: 149.39 acc: 86.89\n",
      "Epoch[30 (11730/64000) (562.3074sec)] loss: 148.87 acc: 86.76\n",
      "Epoch[31 (12121/64000) (581.3400sec)] loss: 149.43 acc: 86.73\n",
      "Epoch[32 (12512/64000) (600.1368sec)] loss: 145.25 acc: 87.15\n",
      "Epoch[33 (12903/64000) (618.9341sec)] loss: 144.79 acc: 87.21\n",
      "Epoch[34 (13294/64000) (638.0671sec)] loss: 144.94 acc: 87.21\n",
      "Epoch[35 (13685/64000) (656.7902sec)] loss: 139.54 acc: 87.68\n",
      "Epoch[36 (14076/64000) (675.6766sec)] loss: 140.84 acc: 87.45\n",
      "Epoch[37 (14467/64000) (694.4297sec)] loss: 136.44 acc: 87.88\n",
      "Epoch[38 (14858/64000) (713.1585sec)] loss: 138.80 acc: 87.74\n",
      "Epoch[39 (15249/64000) (731.9064sec)] loss: 136.04 acc: 87.96\n",
      "Epoch[40 (15640/64000) (750.6355sec)] loss: 138.37 acc: 87.79\n",
      "Epoch[41 (16031/64000) (769.3727sec)] loss: 134.53 acc: 88.06\n",
      "Epoch[42 (16422/64000) (788.0774sec)] loss: 132.02 acc: 88.19\n",
      "Epoch[43 (16813/64000) (806.8213sec)] loss: 133.40 acc: 88.22\n",
      "Epoch[44 (17204/64000) (825.5361sec)] loss: 131.32 acc: 88.33\n",
      "Epoch[45 (17595/64000) (844.2855sec)] loss: 131.24 acc: 88.23\n",
      "Epoch[46 (17986/64000) (863.0028sec)] loss: 131.01 acc: 88.43\n",
      "Epoch[47 (18377/64000) (881.7267sec)] loss: 130.02 acc: 88.35\n",
      "Epoch[48 (18768/64000) (900.4555sec)] loss: 129.27 acc: 88.66\n",
      "Epoch[49 (19159/64000) (919.1971sec)] loss: 126.20 acc: 88.84\n",
      "Epoch[50 (19550/64000) (937.9392sec)] loss: 126.15 acc: 88.64\n",
      "Epoch[51 (19941/64000) (956.6553sec)] loss: 125.18 acc: 88.80\n",
      "Epoch[52 (20332/64000) (975.5595sec)] loss: 126.34 acc: 88.68\n",
      "Epoch[53 (20723/64000) (994.3413sec)] loss: 123.04 acc: 89.05\n",
      "Epoch[54 (21114/64000) (1013.0485sec)] loss: 123.84 acc: 89.07\n",
      "Epoch[55 (21505/64000) (1031.7465sec)] loss: 123.29 acc: 89.06\n",
      "Epoch[56 (21896/64000) (1050.4780sec)] loss: 122.56 acc: 89.12\n",
      "Epoch[57 (22287/64000) (1069.1887sec)] loss: 122.46 acc: 89.05\n",
      "Epoch[58 (22678/64000) (1087.8865sec)] loss: 121.58 acc: 89.30\n",
      "Epoch[59 (23069/64000) (1106.5998sec)] loss: 120.42 acc: 89.23\n",
      "Epoch[60 (23460/64000) (1125.3252sec)] loss: 121.45 acc: 89.10\n",
      "Epoch[61 (23851/64000) (1144.0265sec)] loss: 120.77 acc: 89.28\n",
      "Epoch[62 (24242/64000) (1162.7430sec)] loss: 119.88 acc: 89.25\n",
      "Epoch[63 (24633/64000) (1181.4573sec)] loss: 117.59 acc: 89.44\n",
      "Epoch[64 (25024/64000) (1200.1627sec)] loss: 118.54 acc: 89.38\n",
      "Epoch[65 (25415/64000) (1218.8878sec)] loss: 116.58 acc: 89.48\n",
      "Epoch[66 (25806/64000) (1237.5838sec)] loss: 118.56 acc: 89.47\n",
      "Epoch[67 (26197/64000) (1256.5372sec)] loss: 117.63 acc: 89.54\n",
      "Epoch[68 (26588/64000) (1275.2186sec)] loss: 118.50 acc: 89.40\n",
      "Epoch[69 (26979/64000) (1293.9330sec)] loss: 114.94 acc: 89.61\n",
      "Epoch[70 (27370/64000) (1312.6637sec)] loss: 115.29 acc: 89.77\n",
      "Epoch[71 (27761/64000) (1331.3677sec)] loss: 115.16 acc: 89.83\n",
      "Epoch[72 (28152/64000) (1350.0792sec)] loss: 115.68 acc: 89.61\n",
      "Epoch[73 (28543/64000) (1368.7907sec)] loss: 112.39 acc: 89.90\n",
      "Epoch[74 (28934/64000) (1387.5132sec)] loss: 117.43 acc: 89.55\n",
      "Epoch[75 (29325/64000) (1406.2103sec)] loss: 112.47 acc: 90.03\n",
      "Epoch[76 (29716/64000) (1424.9299sec)] loss: 113.54 acc: 89.85\n",
      "Epoch[77 (30107/64000) (1443.6445sec)] loss: 113.47 acc: 89.86\n",
      "Epoch[78 (30498/64000) (1462.3547sec)] loss: 112.87 acc: 89.99\n",
      "Epoch[79 (30889/64000) (1481.0655sec)] loss: 112.06 acc: 90.07\n",
      "Epoch[80 (31280/64000) (1499.7737sec)] loss: 112.65 acc: 90.02\n",
      "Epoch[81 (31671/64000) (1518.4948sec)] loss: 109.96 acc: 90.26\n",
      "Epoch[82 (32062/64000) (1537.1954sec)] loss: 109.14 acc: 90.14\n",
      "Epoch[83 (32453/64000) (1555.9157sec)] loss: 67.30 acc: 94.20\n",
      "Epoch[84 (32844/64000) (1574.6000sec)] loss: 58.90 acc: 94.79\n",
      "Epoch[85 (33235/64000) (1593.3032sec)] loss: 54.87 acc: 95.14\n",
      "Epoch[86 (33626/64000) (1612.0176sec)] loss: 52.03 acc: 95.39\n",
      "Epoch[87 (34017/64000) (1630.7275sec)] loss: 48.26 acc: 95.75\n",
      "Epoch[88 (34408/64000) (1649.4471sec)] loss: 47.27 acc: 95.84\n",
      "Epoch[89 (34799/64000) (1668.5059sec)] loss: 46.13 acc: 95.94\n",
      "Epoch[90 (35190/64000) (1687.2252sec)] loss: 45.15 acc: 96.10\n",
      "Epoch[91 (35581/64000) (1705.9405sec)] loss: 42.78 acc: 96.26\n",
      "Epoch[92 (35972/64000) (1724.6309sec)] loss: 41.95 acc: 96.29\n",
      "Epoch[93 (36363/64000) (1743.3501sec)] loss: 40.98 acc: 96.29\n",
      "Epoch[94 (36754/64000) (1762.0643sec)] loss: 39.49 acc: 96.52\n",
      "Epoch[95 (37145/64000) (1780.7704sec)] loss: 38.67 acc: 96.54\n",
      "Epoch[96 (37536/64000) (1799.4969sec)] loss: 37.74 acc: 96.56\n",
      "Epoch[97 (37927/64000) (1818.1929sec)] loss: 36.63 acc: 96.73\n",
      "Epoch[98 (38318/64000) (1836.8879sec)] loss: 36.38 acc: 96.75\n",
      "Epoch[99 (38709/64000) (1855.6057sec)] loss: 35.62 acc: 96.80\n",
      "Epoch[100 (39100/64000) (1874.3480sec)] loss: 34.20 acc: 96.97\n",
      "Epoch[101 (39491/64000) (1893.0811sec)] loss: 33.67 acc: 96.95\n",
      "Epoch[102 (39882/64000) (1911.7962sec)] loss: 32.65 acc: 97.04\n",
      "Epoch[103 (40273/64000) (1930.5023sec)] loss: 31.84 acc: 97.13\n",
      "Epoch[104 (40664/64000) (1949.2218sec)] loss: 32.11 acc: 97.17\n",
      "Epoch[105 (41055/64000) (1967.9306sec)] loss: 31.72 acc: 97.15\n",
      "Epoch[106 (41446/64000) (1986.6391sec)] loss: 30.70 acc: 97.31\n",
      "Epoch[107 (41837/64000) (2005.3787sec)] loss: 30.72 acc: 97.25\n",
      "Epoch[108 (42228/64000) (2024.0928sec)] loss: 29.52 acc: 97.37\n",
      "Epoch[109 (42619/64000) (2042.8003sec)] loss: 29.32 acc: 97.39\n",
      "Epoch[110 (43010/64000) (2061.5102sec)] loss: 28.86 acc: 97.47\n",
      "Epoch[111 (43401/64000) (2080.2247sec)] loss: 27.77 acc: 97.53\n",
      "Epoch[112 (43792/64000) (2098.9440sec)] loss: 27.03 acc: 97.58\n",
      "Epoch[113 (44183/64000) (2117.6774sec)] loss: 27.32 acc: 97.59\n",
      "Epoch[114 (44574/64000) (2136.3870sec)] loss: 27.09 acc: 97.61\n",
      "Epoch[115 (44965/64000) (2155.0811sec)] loss: 26.00 acc: 97.63\n",
      "Epoch[116 (45356/64000) (2173.7998sec)] loss: 26.04 acc: 97.71\n",
      "Epoch[117 (45747/64000) (2192.5201sec)] loss: 27.16 acc: 97.63\n",
      "Epoch[118 (46138/64000) (2211.2515sec)] loss: 26.64 acc: 97.60\n",
      "Epoch[119 (46529/64000) (2229.9523sec)] loss: 24.77 acc: 97.76\n",
      "Epoch[120 (46920/64000) (2248.6551sec)] loss: 24.47 acc: 97.84\n",
      "Epoch[121 (47311/64000) (2267.3541sec)] loss: 25.22 acc: 97.71\n",
      "Epoch[122 (47702/64000) (2286.0674sec)] loss: 24.02 acc: 97.85\n",
      "Epoch[123 (48093/64000) (2304.7469sec)] loss: 24.01 acc: 97.90\n",
      "Epoch[124 (48484/64000) (2323.4654sec)] loss: 19.65 acc: 98.35\n",
      "Epoch[125 (48875/64000) (2342.1684sec)] loss: 18.68 acc: 98.46\n",
      "Epoch[126 (49266/64000) (2360.9099sec)] loss: 18.58 acc: 98.42\n",
      "Epoch[127 (49657/64000) (2379.7451sec)] loss: 17.02 acc: 98.64\n",
      "Epoch[128 (50048/64000) (2398.4529sec)] loss: 17.30 acc: 98.57\n",
      "Epoch[129 (50439/64000) (2417.1657sec)] loss: 17.28 acc: 98.57\n",
      "Epoch[130 (50830/64000) (2435.8702sec)] loss: 16.88 acc: 98.60\n",
      "Epoch[131 (51221/64000) (2454.5961sec)] loss: 16.59 acc: 98.63\n",
      "Epoch[132 (51612/64000) (2473.3119sec)] loss: 16.44 acc: 98.66\n"
     ]
    },
    {
     "name": "stdout",
     "output_type": "stream",
     "text": [
      "Epoch[133 (52003/64000) (2492.0128sec)] loss: 16.67 acc: 98.59\n",
      "Epoch[134 (52394/64000) (2510.7198sec)] loss: 16.23 acc: 98.62\n",
      "Epoch[135 (52785/64000) (2529.4009sec)] loss: 15.83 acc: 98.69\n",
      "Epoch[136 (53176/64000) (2548.1194sec)] loss: 15.94 acc: 98.68\n",
      "Epoch[137 (53567/64000) (2566.8397sec)] loss: 16.09 acc: 98.64\n",
      "Epoch[138 (53958/64000) (2585.5540sec)] loss: 15.97 acc: 98.75\n",
      "Epoch[139 (54349/64000) (2604.2448sec)] loss: 15.75 acc: 98.72\n",
      "Epoch[140 (54740/64000) (2622.9510sec)] loss: 15.19 acc: 98.75\n",
      "Epoch[141 (55131/64000) (2641.6559sec)] loss: 14.71 acc: 98.83\n",
      "Epoch[142 (55522/64000) (2660.3636sec)] loss: 15.79 acc: 98.70\n",
      "Epoch[143 (55913/64000) (2679.0775sec)] loss: 15.82 acc: 98.69\n",
      "Epoch[144 (56304/64000) (2697.7850sec)] loss: 14.79 acc: 98.84\n",
      "Epoch[145 (56695/64000) (2716.5006sec)] loss: 15.44 acc: 98.77\n",
      "Epoch[146 (57086/64000) (2735.2116sec)] loss: 14.98 acc: 98.75\n",
      "Epoch[147 (57477/64000) (2753.9902sec)] loss: 14.97 acc: 98.79\n",
      "Epoch[148 (57868/64000) (2772.9772sec)] loss: 14.83 acc: 98.82\n",
      "Epoch[149 (58259/64000) (2791.7276sec)] loss: 15.12 acc: 98.75\n",
      "Epoch[150 (58650/64000) (2810.4693sec)] loss: 14.69 acc: 98.81\n",
      "Epoch[151 (59041/64000) (2829.1572sec)] loss: 14.28 acc: 98.84\n",
      "Epoch[152 (59432/64000) (2848.1002sec)] loss: 14.99 acc: 98.79\n",
      "Epoch[153 (59823/64000) (2866.8712sec)] loss: 14.64 acc: 98.82\n",
      "Epoch[154 (60214/64000) (2886.2700sec)] loss: 14.64 acc: 98.81\n",
      "Epoch[155 (60605/64000) (2905.5410sec)] loss: 14.40 acc: 98.87\n",
      "Epoch[156 (60996/64000) (2924.4423sec)] loss: 13.74 acc: 98.88\n",
      "Epoch[157 (61387/64000) (2943.5531sec)] loss: 14.41 acc: 98.84\n",
      "Epoch[158 (61778/64000) (2962.5589sec)] loss: 14.61 acc: 98.81\n",
      "Epoch[159 (62169/64000) (2981.4144sec)] loss: 14.16 acc: 98.80\n",
      "Epoch[160 (62560/64000) (3000.8945sec)] loss: 14.58 acc: 98.79\n",
      "Epoch[161 (62951/64000) (3020.0697sec)] loss: 14.29 acc: 98.83\n",
      "Epoch[162 (63342/64000) (3039.5058sec)] loss: 14.66 acc: 98.81\n",
      "Epoch[163 (63733/64000) (3058.7474sec)] loss: 14.14 acc: 98.83\n",
      "Epoch[164 (64124/64000) (3077.8804sec)] loss: 14.08 acc: 98.83\n"
     ]
    }
   ],
   "source": [
    "start_time = time.time()\n",
    "\n",
    "net_plain = cnn18().to(device)\n",
    "optimizer = torch.optim.SGD(net_plain.parameters(), lr=0.1, momentum=0.9, weight_decay=1e-4)\n",
    "decay_epoch = [32000, 48000]\n",
    "step_lr_scheduler = torch.optim.lr_scheduler.MultiStepLR(optimizer, milestones=decay_epoch, gamma=0.1)\n",
    "\n",
    "net_plain.train()\n",
    "\n",
    "step = 0\n",
    "epochs = 0\n",
    "losses_plain = []\n",
    "\n",
    "while step < 64000:\n",
    "\n",
    "    train_loss = 0.0\n",
    "    correct = 0.0\n",
    "    total = 0.0\n",
    "\n",
    "    for batch_idx, (x, y) in enumerate(cifar_loader['train']):\n",
    "        step += 1\n",
    "        step_lr_scheduler.step()\n",
    "        x, y = x.to(device), y.to(device)\n",
    "        out = net_plain(x)\n",
    "        loss = criterion(out, y)\n",
    "        optimizer.zero_grad()\n",
    "        loss.backward()\n",
    "        optimizer.step()\n",
    "\n",
    "        correct += (out.argmax(1) == y).float().sum().item()\n",
    "        total += x.size(0)\n",
    "        train_loss += loss.item()\n",
    "\n",
    "    losses_plain.append(train_loss)\n",
    "    epochs += 1\n",
    "    \n",
    "    print(\"Epoch[{:d} ({:d}/64000) ({:.4f}sec)] loss: {:.2f} acc: {:.2f}\".format(epochs, step, time.time()-start_time, train_loss, 100.*correct/total))\n",
    "    "
   ]
  },
  {
   "cell_type": "markdown",
   "metadata": {},
   "source": [
    "Plot train loss and calculate test performance."
   ]
  },
  {
   "cell_type": "code",
   "execution_count": 75,
   "metadata": {},
   "outputs": [
    {
     "data": {
      "text/plain": [
       "[<matplotlib.lines.Line2D at 0x7fe920d9bb80>]"
      ]
     },
     "execution_count": 75,
     "metadata": {},
     "output_type": "execute_result"
    },
    {
     "data": {
      "image/png": "[encoded data removed]",
      "text/plain": [
       "<Figure size 432x288 with 1 Axes>"
      ]
     },
     "metadata": {
      "needs_background": "light"
     },
     "output_type": "display_data"
    }
   ],
   "source": [
    "plt.plot(losses, label='resnet')\n",
    "plt.plot(losses_plain, label='cnn')"
   ]
  },
  {
   "cell_type": "code",
   "execution_count": 76,
   "metadata": {},
   "outputs": [
    {
     "name": "stdout",
     "output_type": "stream",
     "text": [
      "90.42\n"
     ]
    }
   ],
   "source": [
    "net_plain.eval()\n",
    "test_correct = 0.0\n",
    "test_total = 0.0\n",
    "for batch_idx, (x, y) in enumerate(cifar_loader['test']):\n",
    "    x, y = x.to(device), y.to(device)\n",
    "    out = net_plain(x)\n",
    "    test_correct += (out.argmax(1) == y).float().sum().item()\n",
    "    test_total += x.size(0)\n",
    "    \n",
    "print(test_correct/test_total * 100.)\n"
   ]
  },
  {
   "cell_type": "markdown",
   "metadata": {},
   "source": [
    "### Reference\n",
    "* https://tutorials.pytorch.kr/beginner/blitz/neural_networks_tutorial.html\n",
    "* https://github.com/dnddnjs/pytorch-cifar10/blob/enas/resnet/model.py\n",
    "* https://icml.cc/2016/tutorials/icml2016_tutorial_deep_residual_networks_kaiminghe.pdf"
   ]
  },
  {
   "cell_type": "code",
   "execution_count": null,
   "metadata": {},
   "outputs": [],
   "source": []
  }
 ],
 "metadata": {
  "kernelspec": {
   "display_name": "Python 3",
   "language": "python",
   "name": "python3"
  },
  "language_info": {
   "codemirror_mode": {
    "name": "ipython",
    "version": 3
   },
   "file_extension": ".py",
   "mimetype": "text/x-python",
   "name": "python",
   "nbconvert_exporter": "python",
   "pygments_lexer": "ipython3",
   "version": "3.8.5"
  }
 },
 "nbformat": 4,
 "nbformat_minor": 4
}
