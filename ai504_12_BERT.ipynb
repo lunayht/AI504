{
  "nbformat": 4,
  "nbformat_minor": 0,
  "metadata": {
    "accelerator": "GPU",
    "colab": {
      "name": "ai504_12_BERT.ipynb",
      "provenance": [],
      "collapsed_sections": []
    },
    "kernelspec": {
      "name": "python3",
      "display_name": "Python 3"
    },
    "widgets": {
      "application/vnd.jupyter.widget-state+json": {
        "ff269e8a5bfd49bf9b77071d81c3abdc": {
          "model_module": "@jupyter-widgets/controls",
          "model_name": "HBoxModel",
          "state": {
            "_view_name": "HBoxView",
            "_dom_classes": [],
            "_model_name": "HBoxModel",
            "_view_module": "@jupyter-widgets/controls",
            "_model_module_version": "1.5.0",
            "_view_count": null,
            "_view_module_version": "1.5.0",
            "box_style": "",
            "layout": "IPY_MODEL_7ba086e359df48d8bcd318c5fa6c63c9",
            "_model_module": "@jupyter-widgets/controls",
            "children": [
              "IPY_MODEL_5bb0b4852e0d4310ae5e64c266cb68c5",
              "IPY_MODEL_5e12a4c85d544ff4945c16d57e4b599c"
            ]
          }
        },
        "7ba086e359df48d8bcd318c5fa6c63c9": {
          "model_module": "@jupyter-widgets/base",
          "model_name": "LayoutModel",
          "state": {
            "_view_name": "LayoutView",
            "grid_template_rows": null,
            "right": null,
            "justify_content": null,
            "_view_module": "@jupyter-widgets/base",
            "overflow": null,
            "_model_module_version": "1.2.0",
            "_view_count": null,
            "flex_flow": null,
            "width": null,
            "min_width": null,
            "border": null,
            "align_items": null,
            "bottom": null,
            "_model_module": "@jupyter-widgets/base",
            "top": null,
            "grid_column": null,
            "overflow_y": null,
            "overflow_x": null,
            "grid_auto_flow": null,
            "grid_area": null,
            "grid_template_columns": null,
            "flex": null,
            "_model_name": "LayoutModel",
            "justify_items": null,
            "grid_row": null,
            "max_height": null,
            "align_content": null,
            "visibility": null,
            "align_self": null,
            "height": null,
            "min_height": null,
            "padding": null,
            "grid_auto_rows": null,
            "grid_gap": null,
            "max_width": null,
            "order": null,
            "_view_module_version": "1.2.0",
            "grid_template_areas": null,
            "object_position": null,
            "object_fit": null,
            "grid_auto_columns": null,
            "margin": null,
            "display": null,
            "left": null
          }
        },
        "5bb0b4852e0d4310ae5e64c266cb68c5": {
          "model_module": "@jupyter-widgets/controls",
          "model_name": "FloatProgressModel",
          "state": {
            "_view_name": "ProgressView",
            "style": "IPY_MODEL_e26ab44aa9d643c496f6290b7b868dd3",
            "_dom_classes": [],
            "description": "Downloading: 100%",
            "_model_name": "FloatProgressModel",
            "bar_style": "success",
            "max": 213450,
            "_view_module": "@jupyter-widgets/controls",
            "_model_module_version": "1.5.0",
            "value": 213450,
            "_view_count": null,
            "_view_module_version": "1.5.0",
            "orientation": "horizontal",
            "min": 0,
            "description_tooltip": null,
            "_model_module": "@jupyter-widgets/controls",
            "layout": "IPY_MODEL_1f4cfffe38e8485ca810b92e1ad6d146"
          }
        },
        "5e12a4c85d544ff4945c16d57e4b599c": {
          "model_module": "@jupyter-widgets/controls",
          "model_name": "HTMLModel",
          "state": {
            "_view_name": "HTMLView",
            "style": "IPY_MODEL_f3148f8de8eb4dacad14198d7db6e12f",
            "_dom_classes": [],
            "description": "",
            "_model_name": "HTMLModel",
            "placeholder": "​",
            "_view_module": "@jupyter-widgets/controls",
            "_model_module_version": "1.5.0",
            "value": " 213k/213k [00:00&lt;00:00, 878kB/s]",
            "_view_count": null,
            "_view_module_version": "1.5.0",
            "description_tooltip": null,
            "_model_module": "@jupyter-widgets/controls",
            "layout": "IPY_MODEL_dd96ac32c9224dc6b6edf42eed9f50fb"
          }
        },
        "e26ab44aa9d643c496f6290b7b868dd3": {
          "model_module": "@jupyter-widgets/controls",
          "model_name": "ProgressStyleModel",
          "state": {
            "_view_name": "StyleView",
            "_model_name": "ProgressStyleModel",
            "description_width": "initial",
            "_view_module": "@jupyter-widgets/base",
            "_model_module_version": "1.5.0",
            "_view_count": null,
            "_view_module_version": "1.2.0",
            "bar_color": null,
            "_model_module": "@jupyter-widgets/controls"
          }
        },
        "1f4cfffe38e8485ca810b92e1ad6d146": {
          "model_module": "@jupyter-widgets/base",
          "model_name": "LayoutModel",
          "state": {
            "_view_name": "LayoutView",
            "grid_template_rows": null,
            "right": null,
            "justify_content": null,
            "_view_module": "@jupyter-widgets/base",
            "overflow": null,
            "_model_module_version": "1.2.0",
            "_view_count": null,
            "flex_flow": null,
            "width": null,
            "min_width": null,
            "border": null,
            "align_items": null,
            "bottom": null,
            "_model_module": "@jupyter-widgets/base",
            "top": null,
            "grid_column": null,
            "overflow_y": null,
            "overflow_x": null,
            "grid_auto_flow": null,
            "grid_area": null,
            "grid_template_columns": null,
            "flex": null,
            "_model_name": "LayoutModel",
            "justify_items": null,
            "grid_row": null,
            "max_height": null,
            "align_content": null,
            "visibility": null,
            "align_self": null,
            "height": null,
            "min_height": null,
            "padding": null,
            "grid_auto_rows": null,
            "grid_gap": null,
            "max_width": null,
            "order": null,
            "_view_module_version": "1.2.0",
            "grid_template_areas": null,
            "object_position": null,
            "object_fit": null,
            "grid_auto_columns": null,
            "margin": null,
            "display": null,
            "left": null
          }
        },
        "f3148f8de8eb4dacad14198d7db6e12f": {
          "model_module": "@jupyter-widgets/controls",
          "model_name": "DescriptionStyleModel",
          "state": {
            "_view_name": "StyleView",
            "_model_name": "DescriptionStyleModel",
            "description_width": "",
            "_view_module": "@jupyter-widgets/base",
            "_model_module_version": "1.5.0",
            "_view_count": null,
            "_view_module_version": "1.2.0",
            "_model_module": "@jupyter-widgets/controls"
          }
        },
        "dd96ac32c9224dc6b6edf42eed9f50fb": {
          "model_module": "@jupyter-widgets/base",
          "model_name": "LayoutModel",
          "state": {
            "_view_name": "LayoutView",
            "grid_template_rows": null,
            "right": null,
            "justify_content": null,
            "_view_module": "@jupyter-widgets/base",
            "overflow": null,
            "_model_module_version": "1.2.0",
            "_view_count": null,
            "flex_flow": null,
            "width": null,
            "min_width": null,
            "border": null,
            "align_items": null,
            "bottom": null,
            "_model_module": "@jupyter-widgets/base",
            "top": null,
            "grid_column": null,
            "overflow_y": null,
            "overflow_x": null,
            "grid_auto_flow": null,
            "grid_area": null,
            "grid_template_columns": null,
            "flex": null,
            "_model_name": "LayoutModel",
            "justify_items": null,
            "grid_row": null,
            "max_height": null,
            "align_content": null,
            "visibility": null,
            "align_self": null,
            "height": null,
            "min_height": null,
            "padding": null,
            "grid_auto_rows": null,
            "grid_gap": null,
            "max_width": null,
            "order": null,
            "_view_module_version": "1.2.0",
            "grid_template_areas": null,
            "object_position": null,
            "object_fit": null,
            "grid_auto_columns": null,
            "margin": null,
            "display": null,
            "left": null
          }
        },
        "e2ebe4d78b4d4b6c839f47f00c61aad5": {
          "model_module": "@jupyter-widgets/controls",
          "model_name": "HBoxModel",
          "state": {
            "_view_name": "HBoxView",
            "_dom_classes": [],
            "_model_name": "HBoxModel",
            "_view_module": "@jupyter-widgets/controls",
            "_model_module_version": "1.5.0",
            "_view_count": null,
            "_view_module_version": "1.5.0",
            "box_style": "",
            "layout": "IPY_MODEL_fbe6072cc069428888865978c5590930",
            "_model_module": "@jupyter-widgets/controls",
            "children": [
              "IPY_MODEL_cbc3275727e046029d553e973ae42e74",
              "IPY_MODEL_775b0607951a4777a28b61294d0dd6b6"
            ]
          }
        },
        "fbe6072cc069428888865978c5590930": {
          "model_module": "@jupyter-widgets/base",
          "model_name": "LayoutModel",
          "state": {
            "_view_name": "LayoutView",
            "grid_template_rows": null,
            "right": null,
            "justify_content": null,
            "_view_module": "@jupyter-widgets/base",
            "overflow": null,
            "_model_module_version": "1.2.0",
            "_view_count": null,
            "flex_flow": null,
            "width": null,
            "min_width": null,
            "border": null,
            "align_items": null,
            "bottom": null,
            "_model_module": "@jupyter-widgets/base",
            "top": null,
            "grid_column": null,
            "overflow_y": null,
            "overflow_x": null,
            "grid_auto_flow": null,
            "grid_area": null,
            "grid_template_columns": null,
            "flex": null,
            "_model_name": "LayoutModel",
            "justify_items": null,
            "grid_row": null,
            "max_height": null,
            "align_content": null,
            "visibility": null,
            "align_self": null,
            "height": null,
            "min_height": null,
            "padding": null,
            "grid_auto_rows": null,
            "grid_gap": null,
            "max_width": null,
            "order": null,
            "_view_module_version": "1.2.0",
            "grid_template_areas": null,
            "object_position": null,
            "object_fit": null,
            "grid_auto_columns": null,
            "margin": null,
            "display": null,
            "left": null
          }
        },
        "cbc3275727e046029d553e973ae42e74": {
          "model_module": "@jupyter-widgets/controls",
          "model_name": "FloatProgressModel",
          "state": {
            "_view_name": "ProgressView",
            "style": "IPY_MODEL_722b264a755e4d3299ada08334df7b40",
            "_dom_classes": [],
            "description": "Downloading: 100%",
            "_model_name": "FloatProgressModel",
            "bar_style": "success",
            "max": 433,
            "_view_module": "@jupyter-widgets/controls",
            "_model_module_version": "1.5.0",
            "value": 433,
            "_view_count": null,
            "_view_module_version": "1.5.0",
            "orientation": "horizontal",
            "min": 0,
            "description_tooltip": null,
            "_model_module": "@jupyter-widgets/controls",
            "layout": "IPY_MODEL_6227c4ce98fc43f3b85d6a8e8c0dfdb9"
          }
        },
        "775b0607951a4777a28b61294d0dd6b6": {
          "model_module": "@jupyter-widgets/controls",
          "model_name": "HTMLModel",
          "state": {
            "_view_name": "HTMLView",
            "style": "IPY_MODEL_6a2f876f7c564cd299bf3c645a43667f",
            "_dom_classes": [],
            "description": "",
            "_model_name": "HTMLModel",
            "placeholder": "​",
            "_view_module": "@jupyter-widgets/controls",
            "_model_module_version": "1.5.0",
            "value": " 433/433 [01:22&lt;00:00, 5.27B/s]",
            "_view_count": null,
            "_view_module_version": "1.5.0",
            "description_tooltip": null,
            "_model_module": "@jupyter-widgets/controls",
            "layout": "IPY_MODEL_c2d81793d1654de5886b1bd705267ac1"
          }
        },
        "722b264a755e4d3299ada08334df7b40": {
          "model_module": "@jupyter-widgets/controls",
          "model_name": "ProgressStyleModel",
          "state": {
            "_view_name": "StyleView",
            "_model_name": "ProgressStyleModel",
            "description_width": "initial",
            "_view_module": "@jupyter-widgets/base",
            "_model_module_version": "1.5.0",
            "_view_count": null,
            "_view_module_version": "1.2.0",
            "bar_color": null,
            "_model_module": "@jupyter-widgets/controls"
          }
        },
        "6227c4ce98fc43f3b85d6a8e8c0dfdb9": {
          "model_module": "@jupyter-widgets/base",
          "model_name": "LayoutModel",
          "state": {
            "_view_name": "LayoutView",
            "grid_template_rows": null,
            "right": null,
            "justify_content": null,
            "_view_module": "@jupyter-widgets/base",
            "overflow": null,
            "_model_module_version": "1.2.0",
            "_view_count": null,
            "flex_flow": null,
            "width": null,
            "min_width": null,
            "border": null,
            "align_items": null,
            "bottom": null,
            "_model_module": "@jupyter-widgets/base",
            "top": null,
            "grid_column": null,
            "overflow_y": null,
            "overflow_x": null,
            "grid_auto_flow": null,
            "grid_area": null,
            "grid_template_columns": null,
            "flex": null,
            "_model_name": "LayoutModel",
            "justify_items": null,
            "grid_row": null,
            "max_height": null,
            "align_content": null,
            "visibility": null,
            "align_self": null,
            "height": null,
            "min_height": null,
            "padding": null,
            "grid_auto_rows": null,
            "grid_gap": null,
            "max_width": null,
            "order": null,
            "_view_module_version": "1.2.0",
            "grid_template_areas": null,
            "object_position": null,
            "object_fit": null,
            "grid_auto_columns": null,
            "margin": null,
            "display": null,
            "left": null
          }
        },
        "6a2f876f7c564cd299bf3c645a43667f": {
          "model_module": "@jupyter-widgets/controls",
          "model_name": "DescriptionStyleModel",
          "state": {
            "_view_name": "StyleView",
            "_model_name": "DescriptionStyleModel",
            "description_width": "",
            "_view_module": "@jupyter-widgets/base",
            "_model_module_version": "1.5.0",
            "_view_count": null,
            "_view_module_version": "1.2.0",
            "_model_module": "@jupyter-widgets/controls"
          }
        },
        "c2d81793d1654de5886b1bd705267ac1": {
          "model_module": "@jupyter-widgets/base",
          "model_name": "LayoutModel",
          "state": {
            "_view_name": "LayoutView",
            "grid_template_rows": null,
            "right": null,
            "justify_content": null,
            "_view_module": "@jupyter-widgets/base",
            "overflow": null,
            "_model_module_version": "1.2.0",
            "_view_count": null,
            "flex_flow": null,
            "width": null,
            "min_width": null,
            "border": null,
            "align_items": null,
            "bottom": null,
            "_model_module": "@jupyter-widgets/base",
            "top": null,
            "grid_column": null,
            "overflow_y": null,
            "overflow_x": null,
            "grid_auto_flow": null,
            "grid_area": null,
            "grid_template_columns": null,
            "flex": null,
            "_model_name": "LayoutModel",
            "justify_items": null,
            "grid_row": null,
            "max_height": null,
            "align_content": null,
            "visibility": null,
            "align_self": null,
            "height": null,
            "min_height": null,
            "padding": null,
            "grid_auto_rows": null,
            "grid_gap": null,
            "max_width": null,
            "order": null,
            "_view_module_version": "1.2.0",
            "grid_template_areas": null,
            "object_position": null,
            "object_fit": null,
            "grid_auto_columns": null,
            "margin": null,
            "display": null,
            "left": null
          }
        },
        "447882d423ec48708cd5fe8b32fe6aa7": {
          "model_module": "@jupyter-widgets/controls",
          "model_name": "HBoxModel",
          "state": {
            "_view_name": "HBoxView",
            "_dom_classes": [],
            "_model_name": "HBoxModel",
            "_view_module": "@jupyter-widgets/controls",
            "_model_module_version": "1.5.0",
            "_view_count": null,
            "_view_module_version": "1.5.0",
            "box_style": "",
            "layout": "IPY_MODEL_c5cff695774d420291b038be44e9def8",
            "_model_module": "@jupyter-widgets/controls",
            "children": [
              "IPY_MODEL_3148bf76c48a48ee9bbac81f813d1939",
              "IPY_MODEL_17923945bde048e8b960872abcf58324"
            ]
          }
        },
        "c5cff695774d420291b038be44e9def8": {
          "model_module": "@jupyter-widgets/base",
          "model_name": "LayoutModel",
          "state": {
            "_view_name": "LayoutView",
            "grid_template_rows": null,
            "right": null,
            "justify_content": null,
            "_view_module": "@jupyter-widgets/base",
            "overflow": null,
            "_model_module_version": "1.2.0",
            "_view_count": null,
            "flex_flow": null,
            "width": null,
            "min_width": null,
            "border": null,
            "align_items": null,
            "bottom": null,
            "_model_module": "@jupyter-widgets/base",
            "top": null,
            "grid_column": null,
            "overflow_y": null,
            "overflow_x": null,
            "grid_auto_flow": null,
            "grid_area": null,
            "grid_template_columns": null,
            "flex": null,
            "_model_name": "LayoutModel",
            "justify_items": null,
            "grid_row": null,
            "max_height": null,
            "align_content": null,
            "visibility": null,
            "align_self": null,
            "height": null,
            "min_height": null,
            "padding": null,
            "grid_auto_rows": null,
            "grid_gap": null,
            "max_width": null,
            "order": null,
            "_view_module_version": "1.2.0",
            "grid_template_areas": null,
            "object_position": null,
            "object_fit": null,
            "grid_auto_columns": null,
            "margin": null,
            "display": null,
            "left": null
          }
        },
        "3148bf76c48a48ee9bbac81f813d1939": {
          "model_module": "@jupyter-widgets/controls",
          "model_name": "FloatProgressModel",
          "state": {
            "_view_name": "ProgressView",
            "style": "IPY_MODEL_781ffaef7b794b439141d6e17fe1850a",
            "_dom_classes": [],
            "description": "Downloading: 100%",
            "_model_name": "FloatProgressModel",
            "bar_style": "success",
            "max": 435779157,
            "_view_module": "@jupyter-widgets/controls",
            "_model_module_version": "1.5.0",
            "value": 435779157,
            "_view_count": null,
            "_view_module_version": "1.5.0",
            "orientation": "horizontal",
            "min": 0,
            "description_tooltip": null,
            "_model_module": "@jupyter-widgets/controls",
            "layout": "IPY_MODEL_ecbfa1138fb547cf9ac3d1869a3dd7dc"
          }
        },
        "17923945bde048e8b960872abcf58324": {
          "model_module": "@jupyter-widgets/controls",
          "model_name": "HTMLModel",
          "state": {
            "_view_name": "HTMLView",
            "style": "IPY_MODEL_995f113c781546a6869a424114ae8524",
            "_dom_classes": [],
            "description": "",
            "_model_name": "HTMLModel",
            "placeholder": "​",
            "_view_module": "@jupyter-widgets/controls",
            "_model_module_version": "1.5.0",
            "value": " 436M/436M [00:42&lt;00:00, 10.4MB/s]",
            "_view_count": null,
            "_view_module_version": "1.5.0",
            "description_tooltip": null,
            "_model_module": "@jupyter-widgets/controls",
            "layout": "IPY_MODEL_206f36a3840f4bf6af8f19dc4c55093f"
          }
        },
        "781ffaef7b794b439141d6e17fe1850a": {
          "model_module": "@jupyter-widgets/controls",
          "model_name": "ProgressStyleModel",
          "state": {
            "_view_name": "StyleView",
            "_model_name": "ProgressStyleModel",
            "description_width": "initial",
            "_view_module": "@jupyter-widgets/base",
            "_model_module_version": "1.5.0",
            "_view_count": null,
            "_view_module_version": "1.2.0",
            "bar_color": null,
            "_model_module": "@jupyter-widgets/controls"
          }
        },
        "ecbfa1138fb547cf9ac3d1869a3dd7dc": {
          "model_module": "@jupyter-widgets/base",
          "model_name": "LayoutModel",
          "state": {
            "_view_name": "LayoutView",
            "grid_template_rows": null,
            "right": null,
            "justify_content": null,
            "_view_module": "@jupyter-widgets/base",
            "overflow": null,
            "_model_module_version": "1.2.0",
            "_view_count": null,
            "flex_flow": null,
            "width": null,
            "min_width": null,
            "border": null,
            "align_items": null,
            "bottom": null,
            "_model_module": "@jupyter-widgets/base",
            "top": null,
            "grid_column": null,
            "overflow_y": null,
            "overflow_x": null,
            "grid_auto_flow": null,
            "grid_area": null,
            "grid_template_columns": null,
            "flex": null,
            "_model_name": "LayoutModel",
            "justify_items": null,
            "grid_row": null,
            "max_height": null,
            "align_content": null,
            "visibility": null,
            "align_self": null,
            "height": null,
            "min_height": null,
            "padding": null,
            "grid_auto_rows": null,
            "grid_gap": null,
            "max_width": null,
            "order": null,
            "_view_module_version": "1.2.0",
            "grid_template_areas": null,
            "object_position": null,
            "object_fit": null,
            "grid_auto_columns": null,
            "margin": null,
            "display": null,
            "left": null
          }
        },
        "995f113c781546a6869a424114ae8524": {
          "model_module": "@jupyter-widgets/controls",
          "model_name": "DescriptionStyleModel",
          "state": {
            "_view_name": "StyleView",
            "_model_name": "DescriptionStyleModel",
            "description_width": "",
            "_view_module": "@jupyter-widgets/base",
            "_model_module_version": "1.5.0",
            "_view_count": null,
            "_view_module_version": "1.2.0",
            "_model_module": "@jupyter-widgets/controls"
          }
        },
        "206f36a3840f4bf6af8f19dc4c55093f": {
          "model_module": "@jupyter-widgets/base",
          "model_name": "LayoutModel",
          "state": {
            "_view_name": "LayoutView",
            "grid_template_rows": null,
            "right": null,
            "justify_content": null,
            "_view_module": "@jupyter-widgets/base",
            "overflow": null,
            "_model_module_version": "1.2.0",
            "_view_count": null,
            "flex_flow": null,
            "width": null,
            "min_width": null,
            "border": null,
            "align_items": null,
            "bottom": null,
            "_model_module": "@jupyter-widgets/base",
            "top": null,
            "grid_column": null,
            "overflow_y": null,
            "overflow_x": null,
            "grid_auto_flow": null,
            "grid_area": null,
            "grid_template_columns": null,
            "flex": null,
            "_model_name": "LayoutModel",
            "justify_items": null,
            "grid_row": null,
            "max_height": null,
            "align_content": null,
            "visibility": null,
            "align_self": null,
            "height": null,
            "min_height": null,
            "padding": null,
            "grid_auto_rows": null,
            "grid_gap": null,
            "max_width": null,
            "order": null,
            "_view_module_version": "1.2.0",
            "grid_template_areas": null,
            "object_position": null,
            "object_fit": null,
            "grid_auto_columns": null,
            "margin": null,
            "display": null,
            "left": null
          }
        }
      }
    }
  },
  "cells": [
    {
      "cell_type": "markdown",
      "metadata": {
        "id": "0MHWWuLRcvP-"
      },
      "source": [
        "## What is BERT?\n",
        "\n",
        "BERT (introduced in [this paper](https://arxiv.org/abs/1810.04805)) stands for Bidirectional Encoder Representations from Transformers.\n",
        "\n",
        "- Bidirectional - to understand the text  you're looking you'll have to look back (at the previous words) and forward (at the next words)\n",
        "- Transformers - The [Attention Is All You Need](https://arxiv.org/abs/1706.03762) paper presented the Transformer model. The Transformer reads entire sequences of tokens at once. The attention mechanism allows for learning contextual relations between words (e.g. `his` in a sentence refers to Jim).\n",
        "- (Pre-trained) contextualized word embeddings - [The ELMO paper](https://arxiv.org/abs/1802.05365v2) introduced a way to encode words based on their context. Nails has multiple meanings - fingernails and metal nails.\n",
        "\n",
        "BERT was trained by masking 15% of the tokens with the goal to guess them. An additional objective was to predict the next sentence. Let's look at examples of these tasks:\n",
        "\n",
        "### Masked Language Modeling (Masked LM)\n",
        "\n",
        "The objective of this task is to guess the masked tokens. Let's look at an example, and try to not make it harder than it has to be:\n",
        "\n",
        "That's `[mask]` she `[mask]` -> That's what she said\n",
        "\n",
        "### Next Sentence Prediction (NSP)\n",
        "\n",
        "Given a pair of two sentences, the task is to say whether or not the second follows the first (binary classification). Let's continue with the example:\n",
        "\n",
        "*Input* = `[CLS]` That's `[MASK]` she `[MASK]`. [SEP] Hahaha, nice! [SEP]\n",
        "\n",
        "*Label* = *IsNext*\n",
        "\n",
        "*Input* = `[CLS]` That's `[MASK]` she `[MASK]`. [SEP] Dwight, you ignorant `[MASK]`! [SEP]\n",
        "\n",
        "*Label* = *NotNext*\n",
        "\n",
        "The training corpus was comprised of two entries: [Toronto Book Corpus](https://arxiv.org/abs/1506.06724) (800M words) and English Wikipedia (2,500M words). While the original Transformer has an encoder (for reading the input) and a decoder (that makes the prediction), BERT uses only the encoder.\n",
        "\n",
        "BERT is simply a pre-trained stack of Transformer Encoders. How many Encoders? We have two versions - with 12 (BERT base) and 24 (BERT Large).\n",
        "\n",
        "### Is This Thing Useful in Practice?\n",
        "\n",
        "The BERT paper was released along with [the source code](https://github.com/google-research/bert) and pre-trained models.\n",
        "\n",
        "The best part is that you can do Transfer Learning (thanks to the ideas from OpenAI Transformer) with BERT for many NLP tasks - Classification, Question Answering, Entity Recognition, etc. You can train with small amounts of data and achieve great performance!\n",
        "\n",
        "## Contents\n",
        "1. BERT from scratch: I'll show you the whole pretraining process from scratch.\n",
        "\n",
        "2. Sentiment Analysis with BERT: I'll show you the fine-tuning process using the Huggingface package."
      ]
    },
    {
      "cell_type": "markdown",
      "metadata": {
        "id": "oMzwJYVWeSxD"
      },
      "source": [
        "# 1. BERT from scratch"
      ]
    },
    {
      "cell_type": "code",
      "metadata": {
        "id": "igesORsjJ3wf"
      },
      "source": [
        "import numpy as np\n",
        "\n",
        "import torch\n",
        "import torch.nn as nn\n",
        "from torch.nn import LayerNorm\n",
        "import torch.nn.functional as F\n",
        "from torch.utils.data import DataLoader\n",
        "from torch.utils.data import Dataset\n",
        "from torch.optim import Adam\n",
        "\n",
        "import math\n",
        "import tqdm\n",
        "import random\n",
        "import pickle\n",
        "from collections import Counter\n",
        "\n",
        "import warnings\n",
        "warnings.filterwarnings(action='ignore')"
      ],
      "execution_count": 1,
      "outputs": []
    },
    {
      "cell_type": "markdown",
      "metadata": {
        "id": "730rFyYVawry"
      },
      "source": [
        "## Sample corpus"
      ]
    },
    {
      "cell_type": "markdown",
      "metadata": {
        "id": "hidgmu7-goWd"
      },
      "source": [
        "Your corpus should be prepared with two tokenized sentences in one line with (' < : : : : > ') separator.\n",
        "\n",
        "Eg. Wel ##come to the jungle < : : : : > I can stay here all night\\n\n",
        "\n",
        "I brought the dataset from here https://github.com/google-research-datasets/wiki-split. The original dataset have already been tokenized on punctuation, but I  do the tokenization one more using PreTrainedTokenizer from Huggingface. I will try to use this as a dataset for pretraining: the purpose of this section is to understand BERT, not pretrain BERT well!"
      ]
    },
    {
      "cell_type": "code",
      "metadata": {
        "id": "emghgmvSCnLE",
        "colab": {
          "base_uri": "https://localhost:8080/"
        },
        "outputId": "90c6d751-985f-44e1-c85f-acfbbe4740b2"
      },
      "source": [
        "!wget https://www.dropbox.com/s/eetjpxuhno2lvle/sample_tokenized.txt"
      ],
      "execution_count": 2,
      "outputs": [
        {
          "output_type": "stream",
          "text": [
            "--2020-11-26 01:37:10--  https://www.dropbox.com/s/eetjpxuhno2lvle/sample_tokenized.txt\n",
            "Resolving www.dropbox.com (www.dropbox.com)... 162.125.1.1, 2620:100:6016:1::a27d:101\n",
            "Connecting to www.dropbox.com (www.dropbox.com)|162.125.1.1|:443... connected.\n",
            "HTTP request sent, awaiting response... 301 Moved Permanently\n",
            "Location: /s/raw/eetjpxuhno2lvle/sample_tokenized.txt [following]\n",
            "--2020-11-26 01:37:11--  https://www.dropbox.com/s/raw/eetjpxuhno2lvle/sample_tokenized.txt\n",
            "Reusing existing connection to www.dropbox.com:443.\n",
            "HTTP request sent, awaiting response... 302 Found\n",
            "Location: https://uc5997cea6de2e8c7e73ac0da469.dl.dropboxusercontent.com/cd/0/inline/BD6RVwb3_-SduNq-eEZQD2RXWR52XAJFDJeG8_zdmvTHdTd7SelPp3d5J3_JxBlT5Qto6U3A9zp19BZbNurleSrKhpINv69bDmfRcDHdn_1jLlgkLLWGg4MlU3N3BlvjF3Y/file# [following]\n",
            "--2020-11-26 01:37:11--  https://uc5997cea6de2e8c7e73ac0da469.dl.dropboxusercontent.com/cd/0/inline/BD6RVwb3_-SduNq-eEZQD2RXWR52XAJFDJeG8_zdmvTHdTd7SelPp3d5J3_JxBlT5Qto6U3A9zp19BZbNurleSrKhpINv69bDmfRcDHdn_1jLlgkLLWGg4MlU3N3BlvjF3Y/file\n",
            "Resolving uc5997cea6de2e8c7e73ac0da469.dl.dropboxusercontent.com (uc5997cea6de2e8c7e73ac0da469.dl.dropboxusercontent.com)... 162.125.1.15, 2620:100:6016:15::a27d:10f\n",
            "Connecting to uc5997cea6de2e8c7e73ac0da469.dl.dropboxusercontent.com (uc5997cea6de2e8c7e73ac0da469.dl.dropboxusercontent.com)|162.125.1.15|:443... connected.\n",
            "HTTP request sent, awaiting response... 200 OK\n",
            "Length: 218685522 (209M) [text/plain]\n",
            "Saving to: ‘sample_tokenized.txt’\n",
            "\n",
            "sample_tokenized.tx 100%[===================>] 208.55M  84.1MB/s    in 2.5s    \n",
            "\n",
            "2020-11-26 01:37:14 (84.1 MB/s) - ‘sample_tokenized.txt’ saved [218685522/218685522]\n",
            "\n"
          ],
          "name": "stdout"
        }
      ]
    },
    {
      "cell_type": "markdown",
      "metadata": {
        "id": "PukcRPNjywTf"
      },
      "source": [
        "## Making dataset for pretraining"
      ]
    },
    {
      "cell_type": "code",
      "metadata": {
        "id": "SqBIVJI9By2a"
      },
      "source": [
        "class Vocab():                                                       \n",
        "    def __init__(self, counter, max_size=None, min_freq=1, specials=[\"<PAD>\", \"<UNK>\", \"<SEP>\", \"<CLS>\", \"<MASK>\"]):                 \n",
        "        self.freqs = counter        \n",
        "        counter = counter.copy()    \n",
        "        min_freq = max(min_freq, 1)  \n",
        "\n",
        "        self.itos = list(specials)\n",
        "        # frequencies of special tokens are not counted when building vocabulary\n",
        "        # in frequency order\n",
        "        for tok in specials:\n",
        "            del counter[tok]      \n",
        "\n",
        "\n",
        "        max_size = None if max_size is None else max_size + len(self.itos)\n",
        "\n",
        "        # sort by frequency, then alphabetically\n",
        "        words_and_frequencies = sorted(counter.items(), key=lambda tup: tup[0])     \n",
        "        words_and_frequencies.sort(key=lambda tup: tup[1], reverse=True)            \n",
        "\n",
        "        for word, freq in words_and_frequencies:\n",
        "            if freq < min_freq or len(self.itos) == max_size:          \n",
        "                break\n",
        "            self.itos.append(word)            \n",
        "\n",
        "        # stoi is simply a reverse dict for itos\n",
        "        # \"i to s\", \"s to i\"\n",
        "        # index to vocab, vocab to index \n",
        "        self.stoi = {tok: i for i, tok in enumerate(self.itos)}\n",
        "\n",
        "    def __len__(self):\n",
        "        return len(self.itos)\n",
        "\n",
        "# Building Vocab with text files\n",
        "class WordVocab(Vocab):\n",
        "    def __init__(self, texts, max_size=None, min_freq=1):     \n",
        "        print(\"Building Vocab\")\n",
        "        self.pad_index = 0\n",
        "        self.unk_index = 1\n",
        "        self.sep_index = 2\n",
        "        self.cls_index = 3\n",
        "        self.mask_index = 4\n",
        "        counter = Counter()\n",
        "        for line in tqdm.tqdm(texts):      \n",
        "            if isinstance(line, list):    \n",
        "                words = line\n",
        "            else:\n",
        "                words = line.replace(\"\\n\", \"\").replace(\" < : : : : > \", \" \").split()\n",
        "\n",
        "            for word in words:\n",
        "                counter[word] += 1\n",
        "        super().__init__(counter, max_size=max_size, min_freq=min_freq, specials=[\"<PAD>\", \"<UNK>\", \"<SEP>\", \"<CLS>\", \"<MASK>\"])         \n",
        "   \n",
        "\n",
        "    @staticmethod\n",
        "    def load_vocab(vocab_path: str) -> 'WordVocab':\n",
        "        with open(vocab_path, \"rb\") as f:\n",
        "            return pickle.load(f)\n",
        "\n",
        "\n",
        "    def save_vocab(self, vocab_path):\n",
        "        with open(vocab_path, \"wb\") as f:\n",
        "            pickle.dump(self, f)\n"
      ],
      "execution_count": 3,
      "outputs": []
    },
    {
      "cell_type": "code",
      "metadata": {
        "colab": {
          "base_uri": "https://localhost:8080/"
        },
        "id": "aJDNpgFuK4Ky",
        "outputId": "e649ade7-1c47-45ba-8d73-b359d89accc4"
      },
      "source": [
        "with open('sample_tokenized.txt', \"r\", encoding=\"utf-8\") as f:\n",
        "    vocab = WordVocab(f, max_size=None, min_freq=10)\n",
        "\n",
        "print(\"VOCAB SIZE:\", len(vocab))\n",
        "vocab.save_vocab('sample_vocab.pkl')"
      ],
      "execution_count": 4,
      "outputs": [
        {
          "output_type": "stream",
          "text": [
            "10394it [00:00, 51453.19it/s]"
          ],
          "name": "stderr"
        },
        {
          "output_type": "stream",
          "text": [
            "Building Vocab\n"
          ],
          "name": "stdout"
        },
        {
          "output_type": "stream",
          "text": [
            "989944it [00:18, 52164.58it/s]\n"
          ],
          "name": "stderr"
        },
        {
          "output_type": "stream",
          "text": [
            "VOCAB SIZE: 27865\n"
          ],
          "name": "stdout"
        }
      ]
    },
    {
      "cell_type": "code",
      "metadata": {
        "id": "WV0IIeu-CbLl"
      },
      "source": [
        "vocab = WordVocab.load_vocab('sample_vocab.pkl')   "
      ],
      "execution_count": 5,
      "outputs": []
    },
    {
      "cell_type": "code",
      "metadata": {
        "colab": {
          "base_uri": "https://localhost:8080/"
        },
        "id": "KqlUXrAgTJUX",
        "outputId": "cf1c01c3-c39e-41b7-8b32-6e8377fb0e8e"
      },
      "source": [
        "print(vocab.pad_index)\n",
        "print(vocab.unk_index)\n",
        "print(vocab.sep_index)\n",
        "print(vocab.cls_index)\n",
        "print(vocab.mask_index)"
      ],
      "execution_count": 6,
      "outputs": [
        {
          "output_type": "stream",
          "text": [
            "0\n",
            "1\n",
            "2\n",
            "3\n",
            "4\n"
          ],
          "name": "stdout"
        }
      ]
    },
    {
      "cell_type": "code",
      "metadata": {
        "colab": {
          "base_uri": "https://localhost:8080/"
        },
        "id": "pymW1cGgTWUW",
        "outputId": "c5c4f996-a586-4aa0-8958-ecaa31a7dea5"
      },
      "source": [
        "vocab.itos[:10]"
      ],
      "execution_count": 7,
      "outputs": [
        {
          "output_type": "execute_result",
          "data": {
            "text/plain": [
              "['<PAD>', '<UNK>', '<SEP>', '<CLS>', '<MASK>', 'the', '.', ',', \"'\", 'of']"
            ]
          },
          "metadata": {
            "tags": []
          },
          "execution_count": 7
        }
      ]
    },
    {
      "cell_type": "code",
      "metadata": {
        "id": "I_Q6wRw5af9P",
        "colab": {
          "base_uri": "https://localhost:8080/"
        },
        "outputId": "d4a7ca5b-2f84-45a3-f005-be97b8a22b1e"
      },
      "source": [
        "vocab.stoi['the']"
      ],
      "execution_count": 11,
      "outputs": [
        {
          "output_type": "execute_result",
          "data": {
            "text/plain": [
              "5"
            ]
          },
          "metadata": {
            "tags": []
          },
          "execution_count": 11
        }
      ]
    },
    {
      "cell_type": "code",
      "metadata": {
        "id": "xeCfL_CWBtfO"
      },
      "source": [
        "class BERTDataset(Dataset):\n",
        "    def __init__(self, corpus_path, vocab, seq_len, encoding=\"utf-8\",):         # seq_len: The seq length you set \n",
        "        self.vocab = vocab\n",
        "        self.seq_len = seq_len\n",
        "        self.corpus_path = corpus_path\n",
        "        self.encoding = encoding\n",
        "\n",
        "        with open(corpus_path, \"r\", encoding=self.encoding) as f:\n",
        "            self.lines = [line[:-1].split(\" < : : : : > \")                                 \n",
        "            # self.lines: [[sent1A, sent1B], [sent2A, sent2B], ...[sent15A, sent15B]]\n",
        "                          for line in tqdm.tqdm(f, desc=\"Loading Dataset\")]          \n",
        "            self.corpus_lines = len(self.lines)\n",
        "\n",
        "\n",
        "    def __len__(self):\n",
        "        return self.corpus_lines\n",
        "\n",
        "    def __getitem__(self, item):      \n",
        "        t1, t2, is_next_label = self.random_sent(item)       # 'item'th row sentences in the corpus, but the second sentence is randomly replaced. t1 and t2: str, is_next_label: 0(isNotNext) or 1(isNext)\n",
        "        t1_random, t1_label = self.random_word(t1)           # t1_random does not contain <CLS>, <SEP> index yet.\n",
        "        t2_random, t2_label = self.random_word(t2)           # t2_random does not contain <CLS>, <SEP> index yet.\n",
        "\n",
        "        t1 = [self.vocab.cls_index] + t1_random + [self.vocab.sep_index]        # [3, ..., 2]\n",
        "        t2 = t2_random + [self.vocab.sep_index]                                 # [..., 2]\n",
        "\n",
        "        t1_label = [self.vocab.pad_index] + t1_label + [self.vocab.pad_index]   # [0, ..., 0]\n",
        "        t2_label = t2_label + [self.vocab.pad_index]                            # [..., 0]\n",
        "\n",
        "        segment_label = ([1 for _ in range(len(t1))] + [2 for _ in range(len(t2))])[:self.seq_len]   # [1, 1, 1 ,1 ,1, 2, 2, 2, 2, 2] \n",
        "        bert_input = (t1 + t2)[:self.seq_len]\n",
        "        bert_label = (t1_label + t2_label)[:self.seq_len]                       \n",
        "\n",
        "        padding = [self.vocab.pad_index for _ in range(self.seq_len - len(bert_input))]\n",
        "        bert_input.extend(padding), bert_label.extend(padding), segment_label.extend(padding)     # making 'self.seq_len'-length list with padding\n",
        "\n",
        "        output = {\"bert_input\": bert_input,             \n",
        "                  \"bert_label\": bert_label,\n",
        "                  \"segment_label\": segment_label,\n",
        "                  \"is_next\": is_next_label}\n",
        "\n",
        "        return {key: torch.tensor(value) for key, value in output.items()}      # Return after conversion to torch.tensor    final output: dict\n",
        "\n",
        "    def random_word(self, sentence): # sentence: str\n",
        "        # make token index list for input 'sentence' \n",
        "        # some tokens has to be masked\n",
        "        tokens = sentence.split()    \n",
        "        output_label = []\n",
        "\n",
        "        for i, token in enumerate(tokens):\n",
        "            prob = random.random()\n",
        "            if prob < 0.15:\n",
        "                prob /= 0.15\n",
        "\n",
        "                # 80% randomly change token to mask token\n",
        "                if prob < 0.8:\n",
        "                    tokens[i] = self.vocab.mask_index              \n",
        "\n",
        "                # 10% randomly change token to random token\n",
        "                elif prob < 0.9:                                  \n",
        "                    tokens[i] = random.randrange(len(self.vocab))  \n",
        "\n",
        "                # 10% randomly change token to current token. Randomly 10% of tokens, will be remain as same. But need to be predicted.\n",
        "                else:\n",
        "                    tokens[i] = self.vocab.stoi.get(token, self.vocab.unk_index)     \n",
        "\n",
        "                output_label.append(self.vocab.stoi.get(token, self.vocab.unk_index))   # masked token's output label: original token index(answer)\n",
        "\n",
        "            else:\n",
        "                tokens[i] = self.vocab.stoi.get(token, self.vocab.unk_index)    # contain the index corresponding to word(token) in 'tokens' list. If not, contain unk_index(1).\n",
        "                output_label.append(0)                                          # not-masked token's output label: 0\n",
        "\n",
        "        return tokens, output_label    \n",
        "\n",
        "    def random_sent(self, index):       # index means 'index'th row in corpus\n",
        "        t1, t2 = self.get_corpus_line(index)\n",
        "\n",
        "        # output_text, label(isNotNext:0, isNext:1)\n",
        "        if random.random() > 0.5:  \n",
        "            return t1, t2, 1            # correct pair. label: 1\n",
        "        else:                       \n",
        "            return t1, self.get_random_line(), 0    # random pair. label: 0\n",
        "\n",
        "    def get_corpus_line(self, item):   # item means 'item'th row in corpus\n",
        "        return self.lines[item][0], self.lines[item][1]    # output t1, t2: str\n",
        "          \n",
        "\n",
        "    def get_random_line(self):       # Select any line in the corpus and get the sencond sentence\n",
        "        return self.lines[random.randrange(len(self.lines))][1]    # output t2: str"
      ],
      "execution_count": 12,
      "outputs": []
    },
    {
      "cell_type": "code",
      "metadata": {
        "colab": {
          "base_uri": "https://localhost:8080/"
        },
        "id": "qnd5zV3tkx7O",
        "outputId": "994c5e48-08ee-40b3-81db-962a544754e1"
      },
      "source": [
        "### For your understanding\n",
        "train_dataset = BERTDataset(corpus_path='sample_tokenized.txt', vocab=vocab, seq_len=128)"
      ],
      "execution_count": 13,
      "outputs": [
        {
          "output_type": "stream",
          "text": [
            "Loading Dataset: 989944it [00:02, 394444.10it/s]\n"
          ],
          "name": "stderr"
        }
      ]
    },
    {
      "cell_type": "code",
      "metadata": {
        "colab": {
          "base_uri": "https://localhost:8080/"
        },
        "id": "q3iGOVvQsHus",
        "outputId": "39e49832-3770-44db-f98d-f953abc291ee"
      },
      "source": [
        "train_dataset.__len__()"
      ],
      "execution_count": 14,
      "outputs": [
        {
          "output_type": "execute_result",
          "data": {
            "text/plain": [
              "989944"
            ]
          },
          "metadata": {
            "tags": []
          },
          "execution_count": 14
        }
      ]
    },
    {
      "cell_type": "code",
      "metadata": {
        "colab": {
          "base_uri": "https://localhost:8080/"
        },
        "id": "5-JmQ1I-tG-J",
        "outputId": "1b26d95c-162a-4ed5-e064-bcdc3e51a6e0"
      },
      "source": [
        "train_dataset.__getitem__(0)"
      ],
      "execution_count": 15,
      "outputs": [
        {
          "output_type": "execute_result",
          "data": {
            "text/plain": [
              "{'bert_input': tensor([    3,     4,   241,     8,    19,     4, 14862,    29,    45,   561,\n",
              "            13,   308,     7,     4,  2188,    13,   858,     5,  7195,  1233,\n",
              "           116,    11,  4878,    10,   226,    31,     4, 17821,    13,     5,\n",
              "           162,    10,   829,     6,     2,  1461,  1054,     4,    39,  6231,\n",
              "            11,  1796,   304,    13,    55, 17078, 16189,    10,    50,  7988,\n",
              "          1732,     4,     2,     0,     0,     0,     0,     0,     0,     0,\n",
              "             0,     0,     0,     0,     0,     0,     0,     0,     0,     0,\n",
              "             0,     0,     0,     0,     0,     0,     0,     0,     0,     0,\n",
              "             0,     0,     0,     0,     0,     0,     0,     0,     0,     0,\n",
              "             0,     0,     0,     0,     0,     0,     0,     0,     0,     0,\n",
              "             0,     0,     0,     0,     0,     0,     0,     0,     0,     0,\n",
              "             0,     0,     0,     0,     0,     0,     0,     0,     0,     0,\n",
              "             0,     0,     0,     0,     0,     0,     0,     0]),\n",
              " 'bert_label': tensor([   0,    8,    8,    0,    0,   33,    0,    0,    0,    0,    0,    0,\n",
              "            0,   33,    0,    0,    0,    0,    0,    0,    0,    0,    0,    0,\n",
              "            0,    0,  115,    0,    0,    0,    0,    0,    0,    0,    0,    0,\n",
              "            0,    7,    0,    0,    0, 1796,    0,    0,    0,    0,    0,    0,\n",
              "            0,    0,    0,    6,    0,    0,    0,    0,    0,    0,    0,    0,\n",
              "            0,    0,    0,    0,    0,    0,    0,    0,    0,    0,    0,    0,\n",
              "            0,    0,    0,    0,    0,    0,    0,    0,    0,    0,    0,    0,\n",
              "            0,    0,    0,    0,    0,    0,    0,    0,    0,    0,    0,    0,\n",
              "            0,    0,    0,    0,    0,    0,    0,    0,    0,    0,    0,    0,\n",
              "            0,    0,    0,    0,    0,    0,    0,    0,    0,    0,    0,    0,\n",
              "            0,    0,    0,    0,    0,    0,    0,    0]),\n",
              " 'is_next': tensor(1),\n",
              " 'segment_label': tensor([1, 1, 1, 1, 1, 1, 1, 1, 1, 1, 1, 1, 1, 1, 1, 1, 1, 1, 1, 1, 1, 1, 1, 1,\n",
              "         1, 1, 1, 1, 1, 1, 1, 1, 1, 1, 1, 2, 2, 2, 2, 2, 2, 2, 2, 2, 2, 2, 2, 2,\n",
              "         2, 2, 2, 2, 2, 0, 0, 0, 0, 0, 0, 0, 0, 0, 0, 0, 0, 0, 0, 0, 0, 0, 0, 0,\n",
              "         0, 0, 0, 0, 0, 0, 0, 0, 0, 0, 0, 0, 0, 0, 0, 0, 0, 0, 0, 0, 0, 0, 0, 0,\n",
              "         0, 0, 0, 0, 0, 0, 0, 0, 0, 0, 0, 0, 0, 0, 0, 0, 0, 0, 0, 0, 0, 0, 0, 0,\n",
              "         0, 0, 0, 0, 0, 0, 0, 0])}"
            ]
          },
          "metadata": {
            "tags": []
          },
          "execution_count": 15
        }
      ]
    },
    {
      "cell_type": "markdown",
      "metadata": {
        "id": "RPD6nPCx3A26"
      },
      "source": [
        "## Buliding the BERT Model class"
      ]
    },
    {
      "cell_type": "code",
      "metadata": {
        "id": "6XO4P1Ye4VF8"
      },
      "source": [
        "class Attention(nn.Module):\n",
        "    \"\"\"\n",
        "    Compute 'Scaled Dot Product Attention\n",
        "    \"\"\"\n",
        "\n",
        "    def forward(self, query, key, value, mask=None, dropout=None):                         # query, key, value: (B, h, seq_len, d_k) eg.(B, 12, seq_len, 64)\n",
        "        scores = torch.matmul(query, key.transpose(-2, -1)) / math.sqrt(query.size(-1))    # torch.transpose(input, dim0, dim1): The given dimensions dim0 and dim1 are swapped.\n",
        "                                                                                           # scores: (B, h, seq_len, seq_len) \n",
        "        if mask is not None:\n",
        "            scores = scores.masked_fill(mask == 0, -1e9)                        # masked_fill(mask, value): Fills elements of self tensor with value where mask is True. \n",
        "                                                                               \n",
        "        p_attn = F.softmax(scores, dim=-1)                                      # p_attn: (B, h, seq_len, seq_len) \n",
        "\n",
        "        if dropout is not None:\n",
        "            p_attn = dropout(p_attn)\n",
        "\n",
        "        return torch.matmul(p_attn, value), p_attn                              # torch.matmul(p_attn, value): (B, h, seq_len, d_k), p_attn: (B, h, seq_len, seq_len)\n",
        "                                                                                \n",
        "\n",
        "class MultiHeadedAttention(nn.Module):\n",
        "    \"\"\"\n",
        "    Take in model size and number of heads.(d_model, h)\n",
        "    \"\"\"\n",
        "\n",
        "    def __init__(self, h, d_model, dropout=0.1):\n",
        "        super().__init__()\n",
        "        assert d_model % h == 0                                                 \n",
        "\n",
        "        # We assume d_v always equals d_k\n",
        "        self.d_k = d_model // h                                                 # eg. d_model = 768, h = 12, d_k = 64\n",
        "        self.h = h\n",
        "\n",
        "        self.linear_layers = nn.ModuleList([nn.Linear(d_model, d_model) for _ in range(3)])  # 3 linear layer. WQ, WK, WV   eg.(768, 768(64 x 12))\n",
        "        self.output_linear = nn.Linear(d_model, d_model)                        # 768->768\n",
        "        self.attention = Attention()\n",
        "\n",
        "        self.dropout = nn.Dropout(p=dropout)\n",
        "\n",
        "    def forward(self, query, key, value, mask=None):                            # input query, key, value will be x with (B, seq_len, d_model). \n",
        "        batch_size = query.size(0)\n",
        "\n",
        "        # 1) Do all the linear projections in batch from d_model -> h x d_k     eg. 768 -> (12, 64)\n",
        "        query, key, value = [l(x).view(batch_size, -1, self.h, self.d_k).transpose(1, 2)  # l(x): (B, seq_len, d_model) -> (B, seq_len, h, d_k) -> (B, h, seq_len, d_k) \n",
        "                             for l, x in zip(self.linear_layers, (query, key, value))]    # output: (B, h, seq_len, d_k)  eg.(B, 12, seq_len, 64)\n",
        "\n",
        "        # 2) Apply attention on all the projected vectors in batch.\n",
        "        x, attn = self.attention(query, key, value, mask=mask, dropout=self.dropout)     # x:(B, h, N, d_k) eg.(B, 12, seq_len, 64), attn:(B, h, seq_len, seq_len) eg.(B, 12, seq_len, seq_len)\n",
        "\n",
        "        # 3) \"Concat\" using a view and apply a final linear.\n",
        "        x = x.transpose(1, 2).contiguous().view(batch_size, -1, self.h * self.d_k)    # x:(B, h, seq_len, d_k) -> (B, seq_len, h, d_k)  -> (B, seq_len, h * d_k)  eg.(B, seq_len, 768)\n",
        "                                                                                      # When you call contiguous(), it actually makes a copy of tensor so the order of elements would be same as if tensor of same shape created from scratch. Normally you don't need to worry about this. \n",
        "                                                                                      # https://stackoverflow.com/questions/48915810/pytorch-contiguous\n",
        "        return self.output_linear(x)                                                  # final output: (B ,seq_len, d_model) eg.(B, seq_len, 768) "
      ],
      "execution_count": 16,
      "outputs": []
    },
    {
      "cell_type": "code",
      "metadata": {
        "id": "HqDk0Jnh9IAL"
      },
      "source": [
        "class SublayerConnection(nn.Module):\n",
        "    \"\"\"\n",
        "    A residual connection followed by a layer norm.\n",
        "    Note for code simplicity the norm is first as opposed to last.\n",
        "    \"\"\"\n",
        "    def __init__(self, size, dropout):                                          #  size :  eg. 768\n",
        "        super(SublayerConnection, self).__init__()\n",
        "        self.norm = LayerNorm(size)\n",
        "        self.dropout = nn.Dropout(dropout)\n",
        "\n",
        "    def forward(self, x, sublayer):                                             # the input 'sublayer' will be Multihead attention or FF\n",
        "        \"Apply residual connection to any sublayer with the same size.\"\n",
        "        return x + self.dropout(sublayer(self.norm(x)))                         "
      ],
      "execution_count": 17,
      "outputs": []
    },
    {
      "cell_type": "code",
      "metadata": {
        "id": "4krr9efo9IJA"
      },
      "source": [
        "class PositionwiseFeedForward(nn.Module):\n",
        "    \"Implements FFN equation.\"\n",
        "\n",
        "    def __init__(self, d_model, d_ff, dropout=0.1):\n",
        "        super(PositionwiseFeedForward, self).__init__()\n",
        "        self.w_1 = nn.Linear(d_model, d_ff)                                     # d_ff: d_model x 4,  eg. 768 x 4 = 3072\n",
        "        self.w_2 = nn.Linear(d_ff, d_model)\n",
        "        self.dropout = nn.Dropout(dropout)\n",
        "        self.activation = nn.GELU()\n",
        "\n",
        "    def forward(self, x):                                                       # x: (B, seq_len, d_model)\n",
        "        return self.w_2(self.dropout(self.activation(self.w_1(x))))             # (B, seq_len, d_model)"
      ],
      "execution_count": 18,
      "outputs": []
    },
    {
      "cell_type": "code",
      "metadata": {
        "id": "vl9YhzDZ3LXQ"
      },
      "source": [
        "class TransformerBlock(nn.Module):\n",
        "    \"\"\"\n",
        "    Bidirectional Encoder = Transformer (self-attention)\n",
        "    Transformer = MultiHead_Attention + Feed_Forward with sublayer connection\n",
        "    \"\"\"\n",
        "\n",
        "    def __init__(self, hidden, attn_heads, feed_forward_hidden, dropout):\n",
        "        \"\"\"\n",
        "        :param hidden: hidden size of transformer\n",
        "        :param attn_heads: head sizes of multi-head attention\n",
        "        :param feed_forward_hidden: feed_forward_hidden, usually 4*hidden_size\n",
        "        :param dropout: dropout rate\n",
        "        \"\"\"\n",
        "\n",
        "        super().__init__()\n",
        "        self.attention = MultiHeadedAttention(h=attn_heads, d_model=hidden)\n",
        "        self.feed_forward = PositionwiseFeedForward(d_model=hidden, d_ff=feed_forward_hidden, dropout=dropout)\n",
        "        self.input_sublayer = SublayerConnection(size=hidden, dropout=dropout)\n",
        "        self.output_sublayer = SublayerConnection(size=hidden, dropout=dropout)\n",
        "        self.dropout = nn.Dropout(p=dropout)\n",
        "\n",
        "    def forward(self, x, mask):           # x: (B, seq_len, hidden)   eg.(B, seq_len, 768)\n",
        "        x = self.input_sublayer(x, lambda _x: self.attention.forward(_x, _x, _x, mask=mask))    \n",
        "        x = self.output_sublayer(x, self.feed_forward)                                            \n",
        "        return self.dropout(x)            # (B, seq_len, hidden)      "
      ],
      "execution_count": 19,
      "outputs": []
    },
    {
      "cell_type": "code",
      "metadata": {
        "id": "nz8qtonX36o5"
      },
      "source": [
        "class TokenEmbedding(nn.Embedding):                                             # torch.nn.Embedding(vocab_size, embedding_dim, padding_idx)\n",
        "    def __init__(self, vocab_size, embed_size=512):                             # padding_idx=0 means 0th row in the embeding matrix is 0 vector.\n",
        "        super().__init__(vocab_size, embed_size, padding_idx=0)\n",
        "\n",
        "\n",
        "class PositionalEmbedding(nn.Module):\n",
        "\n",
        "    def __init__(self, d_model, max_len=512):\n",
        "        super().__init__()\n",
        "\n",
        "        # Compute the positional encodings once in log space.\n",
        "        pe = torch.zeros(max_len, d_model).float()                              # pe: (max_len, d_model)\n",
        "        pe.require_grad = False\n",
        "\n",
        "        position = torch.arange(0, max_len).float().unsqueeze(1)                                  # (max_len, 1)  eg. (512, 1)\n",
        "        div_term = (torch.arange(0, d_model, 2).float() * -(math.log(10000.0) / d_model)).exp()   # (d_model//2,) eg. (384,)\n",
        "        a = position * div_term                                                                   # (max_len, d_model//2)  eg. (512, 384)\n",
        "        pe[:, 0::2] = torch.sin(a)                            # seq = L[start:stop:step]    0::2 start 0, step_size = 2  \n",
        "        pe[:, 1::2] = torch.cos(a)                            \n",
        "\n",
        "        pe = pe.unsqueeze(0)                                                    # pe: (1, max_len, d_model)\n",
        "        self.register_buffer('pe', pe)                                          # Buffers won’t be returned in model.parameters(), so that the optimizer won’t have a change to update them.\n",
        "                                                                                # register_buffer(name, tensor)\n",
        "    def forward(self, x):                         # x: (B, seq_len)\n",
        "        return self.pe[:, :x.size(1)]             # (1, seq_len, d_model)\n",
        "\n",
        "\n",
        "class SegmentEmbedding(nn.Embedding):\n",
        "    def __init__(self, embed_size=512):\n",
        "        super().__init__(3, embed_size, padding_idx=0)                          \n",
        "        # 0(padding), 1(first sentence), 2(second sentence)\n",
        "        # therefore, 3\n",
        "\n",
        "\n",
        "class BERTEmbedding(nn.Module):\n",
        "    \"\"\"\n",
        "    BERT Embedding which is consisted with under features\n",
        "        1. TokenEmbedding : normal embedding matrix\n",
        "        2. PositionalEmbedding : adding positional information using sin, cos\n",
        "        2. SegmentEmbedding : adding sentence segment info, (sent_A:1, sent_B:2)\n",
        "        sum of all these features are output of BERTEmbedding\n",
        "    \"\"\"\n",
        "\n",
        "    def __init__(self, vocab_size, embed_size, dropout=0.1):                    # embed_size: eg. 768     \n",
        "        \"\"\"\n",
        "        :param vocab_size: total vocab size\n",
        "        :param embed_size: embedding size of token embedding\n",
        "        :param dropout: dropout rate\n",
        "        \"\"\"\n",
        "        super().__init__()\n",
        "        self.token = TokenEmbedding(vocab_size=vocab_size, embed_size=embed_size)\n",
        "        self.position = PositionalEmbedding(d_model=self.token.embedding_dim)\n",
        "        self.segment = SegmentEmbedding(embed_size=self.token.embedding_dim)\n",
        "        self.dropout = nn.Dropout(p=dropout)\n",
        "        self.embed_size = embed_size\n",
        "\n",
        "    def forward(self, sequence, segment_label):    # sequence: (B, seq_len), segment_label: (B, seq_len)\n",
        "        ### quiz\n",
        "        # make BERT Embedding using token embedding, \n",
        "        # position embedding, and segment embedding                                          \n",
        "        x = self.token(sequence) + self.position(sequence) + self.segment(segment_label)\n",
        "        # (B, seq_len, hidden), (1, seq_len, hidden), \n",
        "        # (B, seq_len, hidden), respectively. \n",
        "        # Broadcasting;  \n",
        "        return self.dropout(x)"
      ],
      "execution_count": 21,
      "outputs": []
    },
    {
      "cell_type": "code",
      "metadata": {
        "id": "g1VBXXsljhru"
      },
      "source": [
        ""
      ],
      "execution_count": null,
      "outputs": []
    },
    {
      "cell_type": "code",
      "metadata": {
        "id": "Y6euB6S9xufI"
      },
      "source": [
        "class BERT(nn.Module):\n",
        "    \"\"\"\n",
        "    BERT model : Bidirectional Encoder Representations from Transformers.\n",
        "    \"\"\"\n",
        "\n",
        "    def __init__(self, vocab_size, hidden=768, n_layers=12, attn_heads=12, dropout=0.1):\n",
        "        \"\"\"\n",
        "        :param vocab_size: vocab_size of total words\n",
        "        :param hidden: BERT model hidden size\n",
        "        :param n_layers: numbers of Transformer blocks(layers)\n",
        "        :param attn_heads: number of attention heads\n",
        "        :param dropout: dropout rate\n",
        "        \"\"\"\n",
        "\n",
        "        super().__init__()\n",
        "        self.hidden = hidden\n",
        "        self.n_layers = n_layers\n",
        "        self.attn_heads = attn_heads\n",
        "\n",
        "        # paper noted they used 4*hidden_size for ff_network_hidden_size\n",
        "        self.feed_forward_hidden = hidden * 4\n",
        "\n",
        "        # embedding for BERT, sum of positional, segment, token embeddings\n",
        "        self.embedding = BERTEmbedding(vocab_size=vocab_size, embed_size=hidden)\n",
        "\n",
        "        # multi-layers transformer blocks, deep network\n",
        "        self.transformer_blocks = nn.ModuleList(\n",
        "            [TransformerBlock(hidden, attn_heads, hidden * 4, dropout) for _ in range(n_layers)])\n",
        "\n",
        "    def forward(self, x, segment_info):                                         # x: (B, seq_len),      segment_info: (B, seq_len)\n",
        "        \n",
        "        # attention masking for padded token\n",
        "        # attention mask size: torch.ByteTensor([batch_size, 1, seq_len, seq_len])  Why? Because of 'scores' shape in Attention class: (B, h, seq_len, seq_len)\n",
        "        mask = (x > 0).unsqueeze(1).repeat(1, x.size(1), 1).unsqueeze(1)        # (B, seq_len) -> (B, 1, seq_len) -> (B, seq_len, seq_len) -> (B, 1, seq_len, seq_len)\n",
        "\n",
        "        # embedding the indexed sequence to sequence of vectors\n",
        "        x = self.embedding(x, segment_info)\n",
        "\n",
        "        # running over multiple transformer blocks\n",
        "        for transformer in self.transformer_blocks:\n",
        "            x = transformer.forward(x, mask)\n",
        "\n",
        "        return x"
      ],
      "execution_count": 22,
      "outputs": []
    },
    {
      "cell_type": "code",
      "metadata": {
        "colab": {
          "base_uri": "https://localhost:8080/"
        },
        "id": "M-ikJ5j64eSA",
        "outputId": "eaf97175-45b5-4651-a068-12ea840ca538"
      },
      "source": [
        "### For your understanding\n",
        "bert = BERT(len(vocab), hidden=768)\n",
        "x = torch.tensor([[3, 19, 4, 2, 7, 7, 2, 0, 0, 0],               # (2, 10) 2=Batch_size, 10=seq_len \n",
        "                  [3, 8, 7, 4, 2, 5, 6, 8, 2, 0]])\n",
        "segment_info = torch.tensor([[1, 1, 1, 1, 2, 2, 2, 0, 0, 0],     # (2, 10)          \n",
        "                             [1, 1, 1, 1, 1, 2, 2, 2, 2, 0]])\n",
        "\n",
        "\n",
        "### quiz\n",
        "# if size of input x is (2, 10), \n",
        "# what is the output y size?\n",
        "y = bert(x, segment_info)\n",
        "\n",
        "print(f\"shape of input x: {x.size()}\\n\")\n",
        "print(f\"shape of output y: {y.size()}\\n\")\n"
      ],
      "execution_count": 25,
      "outputs": [
        {
          "output_type": "stream",
          "text": [
            "shape of input x: torch.Size([2, 10])\n",
            "\n",
            "shape of output y: torch.Size([2, 10, 768])\n",
            "\n"
          ],
          "name": "stdout"
        }
      ]
    },
    {
      "cell_type": "code",
      "metadata": {
        "colab": {
          "base_uri": "https://localhost:8080/"
        },
        "id": "xZ8e7BSH3eOg",
        "outputId": "787b61a8-20c8-4145-d162-afb2139f7951"
      },
      "source": [
        "### quiz\n",
        "#Calculate the number of parameters of 'bert' above.\n",
        "\n",
        "total_parameters = sum([p.nelement() for p in bert.parameters()])\n",
        "print(\"Total Parameters:\", total_parameters)\n",
        "\n",
        "# because the vocab size is different "
      ],
      "execution_count": 29,
      "outputs": [
        {
          "output_type": "stream",
          "text": [
            "Total Parameters: 106457088\n"
          ],
          "name": "stdout"
        }
      ]
    },
    {
      "cell_type": "markdown",
      "metadata": {
        "id": "0LKdGhCS3eso"
      },
      "source": [
        "## Building the BERT Trainer class"
      ]
    },
    {
      "cell_type": "code",
      "metadata": {
        "id": "mSekOMFx_hyA"
      },
      "source": [
        "class BERTLM(nn.Module):\n",
        "    \"\"\"\n",
        "    BERT Language Model\n",
        "    Next Sentence Prediction Model + Masked Language Model\n",
        "    \"\"\"\n",
        "\n",
        "    def __init__(self, bert: BERT, vocab_size):\n",
        "        \"\"\"\n",
        "        :param bert: BERT model which should be trained\n",
        "        :param vocab_size: total vocab size for masked_lm\n",
        "        \"\"\"\n",
        "\n",
        "        super().__init__()\n",
        "        self.bert = bert\n",
        "        self.next_sentence = NextSentencePrediction(self.bert.hidden)      # bert.hidden = eg. 768\n",
        "        self.mask_lm = MaskedLanguageModel(self.bert.hidden, vocab_size)\n",
        "\n",
        "    def forward(self, x, segment_label):                   # x: (B, seq_len),      segment_label: (B, seq_len)\n",
        "        x = self.bert(x, segment_label)                    # x: (B, seq_len, hidden)\n",
        "        return self.next_sentence(x), self.mask_lm(x)      # self.next_sentence(x): (B, 2), self.mask_lm(x): (B, seq_len, vocab_size)\n",
        "\n",
        "\n",
        "### quiz\n",
        "# Fill in the blanks.\n",
        "class NextSentencePrediction(nn.Module):\n",
        "    \"\"\"\n",
        "    2-class classification model : is_next, is_not_next\n",
        "    \"\"\"\n",
        "\n",
        "    def __init__(self, hidden):\n",
        "        \"\"\"\n",
        "        :param hidden: BERT model output size\n",
        "        \"\"\"\n",
        "        super().__init__()\n",
        "        self.linear = nn.Linear(hidden, 2) # binary classification\n",
        "        self.softmax = nn.Softmax(dim=-1) # along with last dimension\n",
        "\n",
        "    def forward(self, x):\n",
        "        return self.softmax(self.linear(x[:, 0]))\n",
        "        # why zero? because\n",
        "        # we have to use the first token <CLS> for the NSP.\n",
        "                                                           \n",
        "\n",
        "class MaskedLanguageModel(nn.Module):\n",
        "    \"\"\"\n",
        "    predicting origin token from masked input sequence\n",
        "    n-class classification problem, n-class = vocab_size\n",
        "    \"\"\"\n",
        "\n",
        "    def __init__(self, hidden, vocab_size):\n",
        "        \"\"\"\n",
        "        :param hidden: output size of BERT model  eg.768\n",
        "        :param vocab_size: total vocab size\n",
        "        \"\"\"\n",
        "        super().__init__()\n",
        "        self.linear = nn.Linear(hidden, vocab_size)\n",
        "        self.softmax = nn.Softmax(dim=-1)\n",
        "\n",
        "    def forward(self, x):\n",
        "        return self.softmax(self.linear(x))             "
      ],
      "execution_count": 34,
      "outputs": []
    },
    {
      "cell_type": "code",
      "metadata": {
        "id": "DFjWTEw7A0w2"
      },
      "source": [
        "class BERTTrainer:\n",
        "    \"\"\"\n",
        "    BERTTrainer make the pretrained BERT model with two LM training method.\n",
        "        1. Masked Language Model : 3.3.1 Task #1: Masked LM\n",
        "        2. Next Sentence prediction : 3.3.2 Task #2: Next Sentence Prediction\n",
        "    \"\"\"\n",
        "\n",
        "    def __init__(self, bert: BERT, vocab_size: int,\n",
        "                 train_dataloader: DataLoader, test_dataloader: DataLoader = None,\n",
        "                 lr: float = 1e-4, betas=(0.9, 0.999), weight_decay: float = 0.01,\n",
        "                 with_cuda: bool = True, log_freq: int = 10, do_NSP=True):\n",
        "        \"\"\"\n",
        "        :param bert: BERT model which you want to train\n",
        "        :param vocab_size: total word vocab size\n",
        "        :param train_dataloader: train dataset data loader\n",
        "        :param test_dataloader: test dataset data loader [can be None]\n",
        "        :param lr: learning rate of optimizer\n",
        "        :param betas: Adam optimizer betas\n",
        "        :param weight_decay: Adam optimizer weight decay param\n",
        "        :param with_cuda: traning with cuda\n",
        "        :param log_freq: printing loss every n iter\n",
        "        \"\"\"\n",
        "\n",
        "        # Setup cuda device for BERT training, with_cuda should be true\n",
        "        cuda_condition = torch.cuda.is_available() and with_cuda\n",
        "        self.device = torch.device(\"cuda:0\" if cuda_condition else \"cpu\")\n",
        "\n",
        "        # This BERT model will be saved every epoch\n",
        "        self.bert = bert\n",
        "        # Initialize the BERT Language Model, with BERT model\n",
        "        self.model = BERTLM(bert, vocab_size).to(self.device)\n",
        "\n",
        "        # Setting the train and test data loader\n",
        "        self.train_data = train_dataloader\n",
        "        self.test_data = test_dataloader\n",
        "\n",
        "        # Setting the Adam optimizer with hyper-param\n",
        "        self.optim = Adam(self.model.parameters(), lr=lr, betas=betas, weight_decay=weight_decay)\n",
        "\n",
        "        # Using Negative Log Likelihood Loss function for predicting the masked_token\n",
        "        self.criterion_MLM = nn.NLLLoss(ignore_index=0)        # ignore_index=0 i.e., We don't need to predict the not-masked tokens\n",
        "                                                               # ignore_index: Specifies a target value that is ignored and does not contribute to the input gradient.\n",
        "        self.criterion_NSP = nn.NLLLoss()\n",
        "        \n",
        "        self.log_freq = log_freq\n",
        "        \n",
        "        self.do_NSP = do_NSP\n",
        "\n",
        "    def train(self, epoch):\n",
        "        self.iteration(epoch, self.train_data)\n",
        "\n",
        "    def test(self, epoch):\n",
        "        self.iteration(epoch, self.test_data, train=False)\n",
        "\n",
        "    def iteration(self, epoch, data_loader, train=True):\n",
        "        \"\"\"\n",
        "        loop over the data_loader for training or testing\n",
        "        if on train status, backward operation is activated\n",
        "        and also auto save the model every peoch\n",
        "        :param epoch: current epoch index\n",
        "        :param data_loader: torch.utils.data.DataLoader for iteration\n",
        "        :param train: boolean value of is train or test\n",
        "        :return: None\n",
        "        \"\"\"\n",
        "        str_code = \"train\" if train else \"test\"\n",
        "\n",
        "        for i, data in enumerate(data_loader):\n",
        "            # 0. batch_data will be sent into the device(GPU or cpu)\n",
        "            data = {k: v.to(self.device) for k, v in data.items()}\n",
        "\n",
        "            # 1. forward the next_sentence_prediction and masked_lm model\n",
        "            next_sent_output, mask_lm_output = self.model.forward(data[\"bert_input\"], data[\"segment_label\"])     # data[\"bert_input\"], data[\"segment_label\"]: (B, seq_len)\n",
        "                                                                                                                 # next_sent_output: (B, 2)  mask_lm_output: (B, seq_len, vocab_size)\n",
        "            # 2-1. NLL(negative log likelihood) loss of is_next classification result\n",
        "            next_loss = self.criterion_NSP(next_sent_output, data[\"is_next\"])                    # data[\"is_next\"]: (B,)\n",
        "\n",
        "            # 2-2. NLLLoss of predicting masked token word\n",
        "            mask_loss = self.criterion_MLM(mask_lm_output.transpose(1, 2), data[\"bert_label\"])   # mask_lm_output.transpose(1, 2): (B, vocab_size, seq_len)    data[\"bert_label\"]: (B, seq_len)   \n",
        "\n",
        "            # 2-3. Adding next_loss and mask_loss : 3.4 Pre-training Procedure\n",
        "            \n",
        "            if self.do_NSP:\n",
        "                loss = next_loss + mask_loss\n",
        "            else:\n",
        "                loss = mask_loss\n",
        "\n",
        "            # 3. backward and optimization only in train\n",
        "            if train:                                                           \n",
        "                self.optim.zero_grad()\n",
        "                loss.backward()\n",
        "                self.optim.step()\n",
        "\n",
        "            if i % self.log_freq == 0:\n",
        "                print(\"EP%d_%s[%d/%d]\"%(epoch, str_code, i, len(data_loader)), \"total_loss=\", loss.item(), \n",
        "                      \"MLM_Loss=\", mask_loss.item(), \"NSP_loss=\", next_loss.item())\n",
        "\n",
        "\n",
        "    def save(self, epoch, file_path=\"bert_trained.model\"):\n",
        "        \"\"\"\n",
        "        Saving the current BERT model on file_path\n",
        "        :param epoch: current epoch number\n",
        "        :param file_path: model output path which gonna be file_path+\"ep%d\" % epoch\n",
        "        :return: final_output_path\n",
        "        \"\"\"\n",
        "        output_path = file_path + \".ep%d\" % epoch\n",
        "        torch.save(self.bert.cpu(), output_path)\n",
        "        self.bert.to(self.device)\n",
        "        print(\"EP:%d Model Saved on:\" % epoch, output_path)"
      ],
      "execution_count": 35,
      "outputs": []
    },
    {
      "cell_type": "code",
      "metadata": {
        "id": "xG52B_Cqaog0"
      },
      "source": [
        ""
      ],
      "execution_count": 35,
      "outputs": []
    },
    {
      "cell_type": "markdown",
      "metadata": {
        "id": "QoSoLozZ3qZI"
      },
      "source": [
        "## Let's define train function"
      ]
    },
    {
      "cell_type": "code",
      "metadata": {
        "id": "st-cozerCbEM"
      },
      "source": [
        "def train(train_dataset, vocab_path, output_path, test_dataset=None,\n",
        "          hidden=768, layers=12, attn_heads=12, seq_len=128, \n",
        "          batch_size=32, epochs=5, num_workers=4,\n",
        "          with_cuda=True, log_freq=10, \n",
        "          lr=1e-4, adam_weight_decay=0.01, adam_beta1=0.9, adam_beta2=0.999,\n",
        "          do_NSP=True):\n",
        "    \"\"\"\n",
        "    Arguments:\n",
        "      train_dataset: train dataset for train bert, type=str \n",
        "      test_dataset: test set for evaluate train set, type=str\n",
        "      vocab_path: built vocab model path with bert-vocab, type=str\n",
        "      output_path: ex)output/bert.model, type=str\n",
        "\n",
        "      hidden: hidden size of transformer model\n",
        "      layers: number of layers\n",
        "      attn_heads: number of attention heads\n",
        "      seq_len: maximum sequence len\n",
        "\n",
        "      batch_size: number of batch_size\n",
        "      epochs: number of epochs\n",
        "      num_workers: dataloader worker size\n",
        "\n",
        "      with_cuda: training with CUDA: true, or false\n",
        "      log_freq: printing loss every n iter: setting n\n",
        "\n",
        "      lr: learning rate of adam\n",
        "      adam_weight_decay: weight_decay of adam\n",
        "      adam_beta1: adam first beta value\n",
        "      adam_beta2: adam first beta value\n",
        "    \"\"\"\n",
        "\n",
        "    print(\"Loading Vocab\", vocab_path)\n",
        "    vocab = WordVocab.load_vocab(vocab_path)\n",
        "    print(\"Vocab Size: \", len(vocab))\n",
        "\n",
        "    print(\"Loading Train Dataset\", train_dataset)\n",
        "    train_dataset = BERTDataset(train_dataset, vocab, seq_len=seq_len)\n",
        "\n",
        "    print(\"Loading Test Dataset\", test_dataset)\n",
        "    test_dataset = BERTDataset(test_dataset, vocab, seq_len=seq_len) \\\n",
        "        if test_dataset is not None else None\n",
        "\n",
        "    print(\"Creating Dataloader\")\n",
        "    train_data_loader = DataLoader(train_dataset, batch_size=batch_size, num_workers=num_workers, shuffle=True)\n",
        "    test_data_loader = DataLoader(test_dataset, batch_size=batch_size, num_workers=num_workers) \\\n",
        "        if test_dataset is not None else None\n",
        "\n",
        "    print(\"Building BERT model\")\n",
        "    bert = BERT(vocab_size=len(vocab), hidden=hidden, n_layers=layers, attn_heads=attn_heads, dropout=0.1)\n",
        "\n",
        "    print(\"Creating BERT Trainer\")\n",
        "    trainer = BERTTrainer(bert, vocab_size=len(vocab), train_dataloader=train_data_loader, test_dataloader=test_data_loader,\n",
        "                          lr=lr, betas=(adam_beta1, adam_beta2), weight_decay=adam_weight_decay,\n",
        "                          with_cuda=with_cuda, log_freq=log_freq, do_NSP=do_NSP)\n",
        "\n",
        "    print(\"Training Start\")\n",
        "    for epoch in range(epochs):\n",
        "        trainer.train(epoch)                \n",
        "        trainer.save(epoch, output_path)\n",
        "\n",
        "        if test_data_loader is not None:\n",
        "            trainer.test(epoch)"
      ],
      "execution_count": 36,
      "outputs": []
    },
    {
      "cell_type": "code",
      "metadata": {
        "id": "kLzzVfUNB78q"
      },
      "source": [
        ""
      ],
      "execution_count": 36,
      "outputs": []
    },
    {
      "cell_type": "markdown",
      "metadata": {
        "id": "-Hhl8AaTB8wJ"
      },
      "source": [
        "## Let's implement the code!"
      ]
    },
    {
      "cell_type": "code",
      "metadata": {
        "colab": {
          "base_uri": "https://localhost:8080/",
          "height": 631
        },
        "id": "aneHREmJB8U1",
        "outputId": "ba0572ef-3e98-4689-ee61-0890dff0e9a1"
      },
      "source": [
        "train(train_dataset='sample_tokenized.txt', vocab_path='sample_vocab.pkl', output_path='bert_trained.model',\n",
        "    test_dataset=None, hidden=512, layers=4, attn_heads=8, seq_len=128, \n",
        "    batch_size=32, epochs=1, num_workers=4,\n",
        "    with_cuda=True, log_freq=1000, \n",
        "    lr=1e-5, adam_weight_decay=0.01, adam_beta1=0.9, adam_beta2=0.999,\n",
        "    do_NSP = True)"
      ],
      "execution_count": 39,
      "outputs": [
        {
          "output_type": "stream",
          "text": [
            "Loading Dataset: 61963it [00:00, 619627.64it/s]"
          ],
          "name": "stderr"
        },
        {
          "output_type": "stream",
          "text": [
            "Loading Vocab sample_vocab.pkl\n",
            "Vocab Size:  27865\n",
            "Loading Train Dataset sample_tokenized.txt\n"
          ],
          "name": "stdout"
        },
        {
          "output_type": "stream",
          "text": [
            "Loading Dataset: 989944it [00:02, 381507.49it/s]\n"
          ],
          "name": "stderr"
        },
        {
          "output_type": "stream",
          "text": [
            "Loading Test Dataset None\n",
            "Creating Dataloader\n",
            "Building BERT model\n",
            "Creating BERT Trainer\n",
            "Training Start\n",
            "EP0_train[0/30936] total_loss= -0.4273359477519989 MLM_Loss= -3.0219616746762767e-05 NSP_loss= -0.4273057281970978\n"
          ],
          "name": "stdout"
        },
        {
          "output_type": "error",
          "ename": "KeyboardInterrupt",
          "evalue": "ignored",
          "traceback": [
            "\u001b[0;31m---------------------------------------------------------------------------\u001b[0m",
            "\u001b[0;31mKeyboardInterrupt\u001b[0m                         Traceback (most recent call last)",
            "\u001b[0;32m<ipython-input-39-b268a8a572ad>\u001b[0m in \u001b[0;36m<module>\u001b[0;34m()\u001b[0m\n\u001b[1;32m      4\u001b[0m     \u001b[0mwith_cuda\u001b[0m\u001b[0;34m=\u001b[0m\u001b[0;32mTrue\u001b[0m\u001b[0;34m,\u001b[0m \u001b[0mlog_freq\u001b[0m\u001b[0;34m=\u001b[0m\u001b[0;36m1000\u001b[0m\u001b[0;34m,\u001b[0m\u001b[0;34m\u001b[0m\u001b[0;34m\u001b[0m\u001b[0m\n\u001b[1;32m      5\u001b[0m     \u001b[0mlr\u001b[0m\u001b[0;34m=\u001b[0m\u001b[0;36m1e-5\u001b[0m\u001b[0;34m,\u001b[0m \u001b[0madam_weight_decay\u001b[0m\u001b[0;34m=\u001b[0m\u001b[0;36m0.01\u001b[0m\u001b[0;34m,\u001b[0m \u001b[0madam_beta1\u001b[0m\u001b[0;34m=\u001b[0m\u001b[0;36m0.9\u001b[0m\u001b[0;34m,\u001b[0m \u001b[0madam_beta2\u001b[0m\u001b[0;34m=\u001b[0m\u001b[0;36m0.999\u001b[0m\u001b[0;34m,\u001b[0m\u001b[0;34m\u001b[0m\u001b[0;34m\u001b[0m\u001b[0m\n\u001b[0;32m----> 6\u001b[0;31m     do_NSP = True)\n\u001b[0m",
            "\u001b[0;32m<ipython-input-36-794d46082cdb>\u001b[0m in \u001b[0;36mtrain\u001b[0;34m(train_dataset, vocab_path, output_path, test_dataset, hidden, layers, attn_heads, seq_len, batch_size, epochs, num_workers, with_cuda, log_freq, lr, adam_weight_decay, adam_beta1, adam_beta2, do_NSP)\u001b[0m\n\u001b[1;32m     54\u001b[0m     \u001b[0mprint\u001b[0m\u001b[0;34m(\u001b[0m\u001b[0;34m\"Training Start\"\u001b[0m\u001b[0;34m)\u001b[0m\u001b[0;34m\u001b[0m\u001b[0;34m\u001b[0m\u001b[0m\n\u001b[1;32m     55\u001b[0m     \u001b[0;32mfor\u001b[0m \u001b[0mepoch\u001b[0m \u001b[0;32min\u001b[0m \u001b[0mrange\u001b[0m\u001b[0;34m(\u001b[0m\u001b[0mepochs\u001b[0m\u001b[0;34m)\u001b[0m\u001b[0;34m:\u001b[0m\u001b[0;34m\u001b[0m\u001b[0;34m\u001b[0m\u001b[0m\n\u001b[0;32m---> 56\u001b[0;31m         \u001b[0mtrainer\u001b[0m\u001b[0;34m.\u001b[0m\u001b[0mtrain\u001b[0m\u001b[0;34m(\u001b[0m\u001b[0mepoch\u001b[0m\u001b[0;34m)\u001b[0m\u001b[0;34m\u001b[0m\u001b[0;34m\u001b[0m\u001b[0m\n\u001b[0m\u001b[1;32m     57\u001b[0m         \u001b[0mtrainer\u001b[0m\u001b[0;34m.\u001b[0m\u001b[0msave\u001b[0m\u001b[0;34m(\u001b[0m\u001b[0mepoch\u001b[0m\u001b[0;34m,\u001b[0m \u001b[0moutput_path\u001b[0m\u001b[0;34m)\u001b[0m\u001b[0;34m\u001b[0m\u001b[0;34m\u001b[0m\u001b[0m\n\u001b[1;32m     58\u001b[0m \u001b[0;34m\u001b[0m\u001b[0m\n",
            "\u001b[0;32m<ipython-input-35-bf3dbbcde7e6>\u001b[0m in \u001b[0;36mtrain\u001b[0;34m(self, epoch)\u001b[0m\n\u001b[1;32m     48\u001b[0m \u001b[0;34m\u001b[0m\u001b[0m\n\u001b[1;32m     49\u001b[0m     \u001b[0;32mdef\u001b[0m \u001b[0mtrain\u001b[0m\u001b[0;34m(\u001b[0m\u001b[0mself\u001b[0m\u001b[0;34m,\u001b[0m \u001b[0mepoch\u001b[0m\u001b[0;34m)\u001b[0m\u001b[0;34m:\u001b[0m\u001b[0;34m\u001b[0m\u001b[0;34m\u001b[0m\u001b[0m\n\u001b[0;32m---> 50\u001b[0;31m         \u001b[0mself\u001b[0m\u001b[0;34m.\u001b[0m\u001b[0miteration\u001b[0m\u001b[0;34m(\u001b[0m\u001b[0mepoch\u001b[0m\u001b[0;34m,\u001b[0m \u001b[0mself\u001b[0m\u001b[0;34m.\u001b[0m\u001b[0mtrain_data\u001b[0m\u001b[0;34m)\u001b[0m\u001b[0;34m\u001b[0m\u001b[0;34m\u001b[0m\u001b[0m\n\u001b[0m\u001b[1;32m     51\u001b[0m \u001b[0;34m\u001b[0m\u001b[0m\n\u001b[1;32m     52\u001b[0m     \u001b[0;32mdef\u001b[0m \u001b[0mtest\u001b[0m\u001b[0;34m(\u001b[0m\u001b[0mself\u001b[0m\u001b[0;34m,\u001b[0m \u001b[0mepoch\u001b[0m\u001b[0;34m)\u001b[0m\u001b[0;34m:\u001b[0m\u001b[0;34m\u001b[0m\u001b[0;34m\u001b[0m\u001b[0m\n",
            "\u001b[0;32m<ipython-input-35-bf3dbbcde7e6>\u001b[0m in \u001b[0;36miteration\u001b[0;34m(self, epoch, data_loader, train)\u001b[0m\n\u001b[1;32m     88\u001b[0m             \u001b[0;32mif\u001b[0m \u001b[0mtrain\u001b[0m\u001b[0;34m:\u001b[0m\u001b[0;34m\u001b[0m\u001b[0;34m\u001b[0m\u001b[0m\n\u001b[1;32m     89\u001b[0m                 \u001b[0mself\u001b[0m\u001b[0;34m.\u001b[0m\u001b[0moptim\u001b[0m\u001b[0;34m.\u001b[0m\u001b[0mzero_grad\u001b[0m\u001b[0;34m(\u001b[0m\u001b[0;34m)\u001b[0m\u001b[0;34m\u001b[0m\u001b[0;34m\u001b[0m\u001b[0m\n\u001b[0;32m---> 90\u001b[0;31m                 \u001b[0mloss\u001b[0m\u001b[0;34m.\u001b[0m\u001b[0mbackward\u001b[0m\u001b[0;34m(\u001b[0m\u001b[0;34m)\u001b[0m\u001b[0;34m\u001b[0m\u001b[0;34m\u001b[0m\u001b[0m\n\u001b[0m\u001b[1;32m     91\u001b[0m                 \u001b[0mself\u001b[0m\u001b[0;34m.\u001b[0m\u001b[0moptim\u001b[0m\u001b[0;34m.\u001b[0m\u001b[0mstep\u001b[0m\u001b[0;34m(\u001b[0m\u001b[0;34m)\u001b[0m\u001b[0;34m\u001b[0m\u001b[0;34m\u001b[0m\u001b[0m\n\u001b[1;32m     92\u001b[0m \u001b[0;34m\u001b[0m\u001b[0m\n",
            "\u001b[0;32m/usr/local/lib/python3.6/dist-packages/torch/tensor.py\u001b[0m in \u001b[0;36mbackward\u001b[0;34m(self, gradient, retain_graph, create_graph)\u001b[0m\n\u001b[1;32m    219\u001b[0m                 \u001b[0mretain_graph\u001b[0m\u001b[0;34m=\u001b[0m\u001b[0mretain_graph\u001b[0m\u001b[0;34m,\u001b[0m\u001b[0;34m\u001b[0m\u001b[0;34m\u001b[0m\u001b[0m\n\u001b[1;32m    220\u001b[0m                 create_graph=create_graph)\n\u001b[0;32m--> 221\u001b[0;31m         \u001b[0mtorch\u001b[0m\u001b[0;34m.\u001b[0m\u001b[0mautograd\u001b[0m\u001b[0;34m.\u001b[0m\u001b[0mbackward\u001b[0m\u001b[0;34m(\u001b[0m\u001b[0mself\u001b[0m\u001b[0;34m,\u001b[0m \u001b[0mgradient\u001b[0m\u001b[0;34m,\u001b[0m \u001b[0mretain_graph\u001b[0m\u001b[0;34m,\u001b[0m \u001b[0mcreate_graph\u001b[0m\u001b[0;34m)\u001b[0m\u001b[0;34m\u001b[0m\u001b[0;34m\u001b[0m\u001b[0m\n\u001b[0m\u001b[1;32m    222\u001b[0m \u001b[0;34m\u001b[0m\u001b[0m\n\u001b[1;32m    223\u001b[0m     \u001b[0;32mdef\u001b[0m \u001b[0mregister_hook\u001b[0m\u001b[0;34m(\u001b[0m\u001b[0mself\u001b[0m\u001b[0;34m,\u001b[0m \u001b[0mhook\u001b[0m\u001b[0;34m)\u001b[0m\u001b[0;34m:\u001b[0m\u001b[0;34m\u001b[0m\u001b[0;34m\u001b[0m\u001b[0m\n",
            "\u001b[0;32m/usr/local/lib/python3.6/dist-packages/torch/autograd/__init__.py\u001b[0m in \u001b[0;36mbackward\u001b[0;34m(tensors, grad_tensors, retain_graph, create_graph, grad_variables)\u001b[0m\n\u001b[1;32m    130\u001b[0m     Variable._execution_engine.run_backward(\n\u001b[1;32m    131\u001b[0m         \u001b[0mtensors\u001b[0m\u001b[0;34m,\u001b[0m \u001b[0mgrad_tensors_\u001b[0m\u001b[0;34m,\u001b[0m \u001b[0mretain_graph\u001b[0m\u001b[0;34m,\u001b[0m \u001b[0mcreate_graph\u001b[0m\u001b[0;34m,\u001b[0m\u001b[0;34m\u001b[0m\u001b[0;34m\u001b[0m\u001b[0m\n\u001b[0;32m--> 132\u001b[0;31m         allow_unreachable=True)  # allow_unreachable flag\n\u001b[0m\u001b[1;32m    133\u001b[0m \u001b[0;34m\u001b[0m\u001b[0m\n\u001b[1;32m    134\u001b[0m \u001b[0;34m\u001b[0m\u001b[0m\n",
            "\u001b[0;31mKeyboardInterrupt\u001b[0m: "
          ]
        }
      ]
    },
    {
      "cell_type": "markdown",
      "metadata": {
        "id": "qVd4g7HXg4VM"
      },
      "source": [
        "# 2. Sentiment Analysis with BERT\n",
        "\n",
        "> In this section, you'll learn how to fine-tune BERT for sentiment analysis. You'll do the required text preprocessing (special tokens, padding, and attention masks) and build a Sentiment Classifier using the Transformers library by Hugging Face!\n",
        "\n",
        "You'll learn how to:\n",
        "\n",
        "- Intuitively understand what BERT is\n",
        "- Preprocess text data for BERT and build PyTorch Dataset (tokenization, attention masks, and padding)\n",
        "- Use Transfer Learning to build Sentiment Classifier using the Transformers library by Hugging Face\n",
        "- Evaluate the model on test data\n",
        "- Predict sentiment on raw text"
      ]
    },
    {
      "cell_type": "markdown",
      "metadata": {
        "id": "oF3-z_HlhTwK"
      },
      "source": [
        "## Setup\n",
        "\n",
        "We'll need [the Transformers library](https://huggingface.co/transformers/) by Hugging Face:"
      ]
    },
    {
      "cell_type": "code",
      "metadata": {
        "colab": {
          "base_uri": "https://localhost:8080/"
        },
        "id": "M7Xf2KYBg-H5",
        "outputId": "e3bed7a2-bf55-489d-e5e0-186e3a4e3960"
      },
      "source": [
        "!pip install transformers"
      ],
      "execution_count": 40,
      "outputs": [
        {
          "output_type": "stream",
          "text": [
            "Collecting transformers\n",
            "\u001b[?25l  Downloading https://files.pythonhosted.org/packages/3a/83/e74092e7f24a08d751aa59b37a9fc572b2e4af3918cb66f7766c3affb1b4/transformers-3.5.1-py3-none-any.whl (1.3MB)\n",
            "\u001b[K     |████████████████████████████████| 1.3MB 9.2MB/s \n",
            "\u001b[?25hCollecting sentencepiece==0.1.91\n",
            "\u001b[?25l  Downloading https://files.pythonhosted.org/packages/d4/a4/d0a884c4300004a78cca907a6ff9a5e9fe4f090f5d95ab341c53d28cbc58/sentencepiece-0.1.91-cp36-cp36m-manylinux1_x86_64.whl (1.1MB)\n",
            "\u001b[K     |████████████████████████████████| 1.1MB 34.4MB/s \n",
            "\u001b[?25hRequirement already satisfied: protobuf in /usr/local/lib/python3.6/dist-packages (from transformers) (3.12.4)\n",
            "Requirement already satisfied: numpy in /usr/local/lib/python3.6/dist-packages (from transformers) (1.18.5)\n",
            "Requirement already satisfied: requests in /usr/local/lib/python3.6/dist-packages (from transformers) (2.23.0)\n",
            "Requirement already satisfied: regex!=2019.12.17 in /usr/local/lib/python3.6/dist-packages (from transformers) (2019.12.20)\n",
            "Collecting sacremoses\n",
            "\u001b[?25l  Downloading https://files.pythonhosted.org/packages/7d/34/09d19aff26edcc8eb2a01bed8e98f13a1537005d31e95233fd48216eed10/sacremoses-0.0.43.tar.gz (883kB)\n",
            "\u001b[K     |████████████████████████████████| 890kB 52.0MB/s \n",
            "\u001b[?25hRequirement already satisfied: dataclasses; python_version < \"3.7\" in /usr/local/lib/python3.6/dist-packages (from transformers) (0.8)\n",
            "Requirement already satisfied: filelock in /usr/local/lib/python3.6/dist-packages (from transformers) (3.0.12)\n",
            "Requirement already satisfied: packaging in /usr/local/lib/python3.6/dist-packages (from transformers) (20.4)\n",
            "Collecting tokenizers==0.9.3\n",
            "\u001b[?25l  Downloading https://files.pythonhosted.org/packages/4c/34/b39eb9994bc3c999270b69c9eea40ecc6f0e97991dba28282b9fd32d44ee/tokenizers-0.9.3-cp36-cp36m-manylinux1_x86_64.whl (2.9MB)\n",
            "\u001b[K     |████████████████████████████████| 2.9MB 33.7MB/s \n",
            "\u001b[?25hRequirement already satisfied: tqdm>=4.27 in /usr/local/lib/python3.6/dist-packages (from transformers) (4.41.1)\n",
            "Requirement already satisfied: setuptools in /usr/local/lib/python3.6/dist-packages (from protobuf->transformers) (50.3.2)\n",
            "Requirement already satisfied: six>=1.9 in /usr/local/lib/python3.6/dist-packages (from protobuf->transformers) (1.15.0)\n",
            "Requirement already satisfied: chardet<4,>=3.0.2 in /usr/local/lib/python3.6/dist-packages (from requests->transformers) (3.0.4)\n",
            "Requirement already satisfied: idna<3,>=2.5 in /usr/local/lib/python3.6/dist-packages (from requests->transformers) (2.10)\n",
            "Requirement already satisfied: urllib3!=1.25.0,!=1.25.1,<1.26,>=1.21.1 in /usr/local/lib/python3.6/dist-packages (from requests->transformers) (1.24.3)\n",
            "Requirement already satisfied: certifi>=2017.4.17 in /usr/local/lib/python3.6/dist-packages (from requests->transformers) (2020.11.8)\n",
            "Requirement already satisfied: click in /usr/local/lib/python3.6/dist-packages (from sacremoses->transformers) (7.1.2)\n",
            "Requirement already satisfied: joblib in /usr/local/lib/python3.6/dist-packages (from sacremoses->transformers) (0.17.0)\n",
            "Requirement already satisfied: pyparsing>=2.0.2 in /usr/local/lib/python3.6/dist-packages (from packaging->transformers) (2.4.7)\n",
            "Building wheels for collected packages: sacremoses\n",
            "  Building wheel for sacremoses (setup.py) ... \u001b[?25l\u001b[?25hdone\n",
            "  Created wheel for sacremoses: filename=sacremoses-0.0.43-cp36-none-any.whl size=893257 sha256=0a168e8d6fed53928845fb5dae40bceec82e33c34ea1d0a2341761c08cdd976e\n",
            "  Stored in directory: /root/.cache/pip/wheels/29/3c/fd/7ce5c3f0666dab31a50123635e6fb5e19ceb42ce38d4e58f45\n",
            "Successfully built sacremoses\n",
            "Installing collected packages: sentencepiece, sacremoses, tokenizers, transformers\n",
            "Successfully installed sacremoses-0.0.43 sentencepiece-0.1.91 tokenizers-0.9.3 transformers-3.5.1\n"
          ],
          "name": "stdout"
        }
      ]
    },
    {
      "cell_type": "code",
      "metadata": {
        "colab": {
          "base_uri": "https://localhost:8080/"
        },
        "id": "HbrSkIvnhWvE",
        "outputId": "ae381fad-b618-4836-cb35-bee8c6455684"
      },
      "source": [
        "#Setup & Config\n",
        "import transformers\n",
        "from transformers import BertModel, BertTokenizer, AdamW, get_linear_schedule_with_warmup\n",
        "import torch\n",
        "\n",
        "import numpy as np\n",
        "import pandas as pd\n",
        "import seaborn as sns\n",
        "from pylab import rcParams    \n",
        "import matplotlib.pyplot as plt\n",
        "from matplotlib import rc\n",
        "from sklearn.model_selection import train_test_split\n",
        "from sklearn.metrics import confusion_matrix, classification_report\n",
        "from collections import defaultdict\n",
        "from textwrap import wrap\n",
        "\n",
        "from torch import nn, optim\n",
        "from torch.utils.data import Dataset, DataLoader\n",
        "import torch.nn.functional as F\n",
        "\n",
        "import warnings\n",
        "warnings.filterwarnings(action='ignore')\n",
        "\n",
        "%matplotlib inline\n",
        "%config InlineBackend.figure_format='retina'\n",
        "\n",
        "sns.set(style='whitegrid', palette='muted', font_scale=1.2)\n",
        "\n",
        "HAPPY_COLORS_PALETTE = [\"#01BEFE\", \"#FFDD00\", \"#FF7D00\", \"#FF006D\", \"#ADFF02\", \"#8F00FF\"]\n",
        "\n",
        "sns.set_palette(sns.color_palette(HAPPY_COLORS_PALETTE))\n",
        "\n",
        "rcParams['figure.figsize'] = 12, 8\n",
        "\n",
        "RANDOM_SEED = 42\n",
        "np.random.seed(RANDOM_SEED)\n",
        "torch.manual_seed(RANDOM_SEED)\n",
        "\n",
        "device = torch.device(\"cuda:0\" if torch.cuda.is_available() else \"cpu\")\n",
        "device"
      ],
      "execution_count": 41,
      "outputs": [
        {
          "output_type": "execute_result",
          "data": {
            "text/plain": [
              "device(type='cuda', index=0)"
            ]
          },
          "metadata": {
            "tags": []
          },
          "execution_count": 41
        }
      ]
    },
    {
      "cell_type": "markdown",
      "metadata": {
        "id": "Wp9oQ8nOhe0H"
      },
      "source": [
        "## Data Exploration\n",
        "\n",
        "We'll load the Google Play app reviews dataset"
      ]
    },
    {
      "cell_type": "code",
      "metadata": {
        "colab": {
          "base_uri": "https://localhost:8080/",
          "height": 1000
        },
        "id": "sxQBszSfhbmx",
        "outputId": "40bc590b-e4f7-43d7-d8c4-3271fd86e2f5"
      },
      "source": [
        "!wget https://www.dropbox.com/s/or24fh5y6pogv9v/reviews.csv\n",
        "df = pd.read_csv(\"reviews.csv\")\n",
        "df.head()"
      ],
      "execution_count": 42,
      "outputs": [
        {
          "output_type": "stream",
          "text": [
            "--2020-11-26 02:28:47--  https://www.dropbox.com/s/or24fh5y6pogv9v/reviews.csv\n",
            "Resolving www.dropbox.com (www.dropbox.com)... 162.125.1.1, 2620:100:6016:1::a27d:101\n",
            "Connecting to www.dropbox.com (www.dropbox.com)|162.125.1.1|:443... connected.\n",
            "HTTP request sent, awaiting response... 301 Moved Permanently\n",
            "Location: /s/raw/or24fh5y6pogv9v/reviews.csv [following]\n",
            "--2020-11-26 02:28:47--  https://www.dropbox.com/s/raw/or24fh5y6pogv9v/reviews.csv\n",
            "Reusing existing connection to www.dropbox.com:443.\n",
            "HTTP request sent, awaiting response... 302 Found\n",
            "Location: https://uc65a66063c934a9cefdcd7114ab.dl.dropboxusercontent.com/cd/0/inline/BD7SnmwY3rdDjdw3ltXOB_EudNLnGFoZlx_PETIVckgpFVBcYNpMIcR8j9eHQwziGbkP_0G5OSAXgIQmyeDgrl501ej2Df984BV28NcDI9brLknJTU5_rs3HG9gDInC1vB4/file# [following]\n",
            "--2020-11-26 02:28:47--  https://uc65a66063c934a9cefdcd7114ab.dl.dropboxusercontent.com/cd/0/inline/BD7SnmwY3rdDjdw3ltXOB_EudNLnGFoZlx_PETIVckgpFVBcYNpMIcR8j9eHQwziGbkP_0G5OSAXgIQmyeDgrl501ej2Df984BV28NcDI9brLknJTU5_rs3HG9gDInC1vB4/file\n",
            "Resolving uc65a66063c934a9cefdcd7114ab.dl.dropboxusercontent.com (uc65a66063c934a9cefdcd7114ab.dl.dropboxusercontent.com)... 162.125.1.15, 2620:100:6016:15::a27d:10f\n",
            "Connecting to uc65a66063c934a9cefdcd7114ab.dl.dropboxusercontent.com (uc65a66063c934a9cefdcd7114ab.dl.dropboxusercontent.com)|162.125.1.15|:443... connected.\n",
            "HTTP request sent, awaiting response... 200 OK\n",
            "Length: 7170328 (6.8M) [text/plain]\n",
            "Saving to: ‘reviews.csv’\n",
            "\n",
            "reviews.csv         100%[===================>]   6.84M  39.9MB/s    in 0.2s    \n",
            "\n",
            "2020-11-26 02:28:48 (39.9 MB/s) - ‘reviews.csv’ saved [7170328/7170328]\n",
            "\n"
          ],
          "name": "stdout"
        },
        {
          "output_type": "execute_result",
          "data": {
            "text/html": [
              "<div>\n",
              "<style scoped>\n",
              "    .dataframe tbody tr th:only-of-type {\n",
              "        vertical-align: middle;\n",
              "    }\n",
              "\n",
              "    .dataframe tbody tr th {\n",
              "        vertical-align: top;\n",
              "    }\n",
              "\n",
              "    .dataframe thead th {\n",
              "        text-align: right;\n",
              "    }\n",
              "</style>\n",
              "<table border=\"1\" class=\"dataframe\">\n",
              "  <thead>\n",
              "    <tr style=\"text-align: right;\">\n",
              "      <th></th>\n",
              "      <th>userName</th>\n",
              "      <th>userImage</th>\n",
              "      <th>content</th>\n",
              "      <th>score</th>\n",
              "      <th>thumbsUpCount</th>\n",
              "      <th>reviewCreatedVersion</th>\n",
              "      <th>at</th>\n",
              "      <th>replyContent</th>\n",
              "      <th>repliedAt</th>\n",
              "      <th>sortOrder</th>\n",
              "      <th>appId</th>\n",
              "    </tr>\n",
              "  </thead>\n",
              "  <tbody>\n",
              "    <tr>\n",
              "      <th>0</th>\n",
              "      <td>Andrew Thomas</td>\n",
              "      <td>https://lh3.googleusercontent.com/a-/AOh14GiHd...</td>\n",
              "      <td>Update: After getting a response from the deve...</td>\n",
              "      <td>1</td>\n",
              "      <td>21</td>\n",
              "      <td>4.17.0.3</td>\n",
              "      <td>2020-04-05 22:25:57</td>\n",
              "      <td>According to our TOS, and the term you have ag...</td>\n",
              "      <td>2020-04-05 15:10:24</td>\n",
              "      <td>most_relevant</td>\n",
              "      <td>com.anydo</td>\n",
              "    </tr>\n",
              "    <tr>\n",
              "      <th>1</th>\n",
              "      <td>Craig Haines</td>\n",
              "      <td>https://lh3.googleusercontent.com/-hoe0kwSJgPQ...</td>\n",
              "      <td>Used it for a fair amount of time without any ...</td>\n",
              "      <td>1</td>\n",
              "      <td>11</td>\n",
              "      <td>4.17.0.3</td>\n",
              "      <td>2020-04-04 13:40:01</td>\n",
              "      <td>It sounds like you logged in with a different ...</td>\n",
              "      <td>2020-04-05 15:11:35</td>\n",
              "      <td>most_relevant</td>\n",
              "      <td>com.anydo</td>\n",
              "    </tr>\n",
              "    <tr>\n",
              "      <th>2</th>\n",
              "      <td>steven adkins</td>\n",
              "      <td>https://lh3.googleusercontent.com/a-/AOh14GiXw...</td>\n",
              "      <td>Your app sucks now!!!!! Used to be good but no...</td>\n",
              "      <td>1</td>\n",
              "      <td>17</td>\n",
              "      <td>4.17.0.3</td>\n",
              "      <td>2020-04-01 16:18:13</td>\n",
              "      <td>This sounds odd! We are not aware of any issue...</td>\n",
              "      <td>2020-04-02 16:05:56</td>\n",
              "      <td>most_relevant</td>\n",
              "      <td>com.anydo</td>\n",
              "    </tr>\n",
              "    <tr>\n",
              "      <th>3</th>\n",
              "      <td>Lars Panzerbjørn</td>\n",
              "      <td>https://lh3.googleusercontent.com/a-/AOh14Gg-h...</td>\n",
              "      <td>It seems OK, but very basic. Recurring tasks n...</td>\n",
              "      <td>1</td>\n",
              "      <td>192</td>\n",
              "      <td>4.17.0.2</td>\n",
              "      <td>2020-03-12 08:17:34</td>\n",
              "      <td>We do offer this option as part of the Advance...</td>\n",
              "      <td>2020-03-15 06:20:13</td>\n",
              "      <td>most_relevant</td>\n",
              "      <td>com.anydo</td>\n",
              "    </tr>\n",
              "    <tr>\n",
              "      <th>4</th>\n",
              "      <td>Scott Prewitt</td>\n",
              "      <td>https://lh3.googleusercontent.com/-K-X1-YsVd6U...</td>\n",
              "      <td>Absolutely worthless. This app runs a prohibit...</td>\n",
              "      <td>1</td>\n",
              "      <td>42</td>\n",
              "      <td>4.17.0.2</td>\n",
              "      <td>2020-03-14 17:41:01</td>\n",
              "      <td>We're sorry you feel this way! 90% of the app ...</td>\n",
              "      <td>2020-03-15 23:45:51</td>\n",
              "      <td>most_relevant</td>\n",
              "      <td>com.anydo</td>\n",
              "    </tr>\n",
              "  </tbody>\n",
              "</table>\n",
              "</div>"
            ],
            "text/plain": [
              "           userName  ...      appId\n",
              "0     Andrew Thomas  ...  com.anydo\n",
              "1      Craig Haines  ...  com.anydo\n",
              "2     steven adkins  ...  com.anydo\n",
              "3  Lars Panzerbjørn  ...  com.anydo\n",
              "4     Scott Prewitt  ...  com.anydo\n",
              "\n",
              "[5 rows x 11 columns]"
            ]
          },
          "metadata": {
            "tags": []
          },
          "execution_count": 42
        }
      ]
    },
    {
      "cell_type": "code",
      "metadata": {
        "colab": {
          "base_uri": "https://localhost:8080/"
        },
        "id": "s7q_W6PdhlsK",
        "outputId": "0d3f442b-1f3f-45ed-e6a1-68ef1d24a3b6"
      },
      "source": [
        "df.shape"
      ],
      "execution_count": 43,
      "outputs": [
        {
          "output_type": "execute_result",
          "data": {
            "text/plain": [
              "(15746, 11)"
            ]
          },
          "metadata": {
            "tags": []
          },
          "execution_count": 43
        }
      ]
    },
    {
      "cell_type": "code",
      "metadata": {
        "colab": {
          "base_uri": "https://localhost:8080/"
        },
        "id": "U2vj4Xi_hnaj",
        "outputId": "afc1eb33-543c-4712-91ba-e0f5855519bc"
      },
      "source": [
        "df.info()"
      ],
      "execution_count": 44,
      "outputs": [
        {
          "output_type": "stream",
          "text": [
            "<class 'pandas.core.frame.DataFrame'>\n",
            "RangeIndex: 15746 entries, 0 to 15745\n",
            "Data columns (total 11 columns):\n",
            " #   Column                Non-Null Count  Dtype \n",
            "---  ------                --------------  ----- \n",
            " 0   userName              15746 non-null  object\n",
            " 1   userImage             15746 non-null  object\n",
            " 2   content               15746 non-null  object\n",
            " 3   score                 15746 non-null  int64 \n",
            " 4   thumbsUpCount         15746 non-null  int64 \n",
            " 5   reviewCreatedVersion  13533 non-null  object\n",
            " 6   at                    15746 non-null  object\n",
            " 7   replyContent          7367 non-null   object\n",
            " 8   repliedAt             7367 non-null   object\n",
            " 9   sortOrder             15746 non-null  object\n",
            " 10  appId                 15746 non-null  object\n",
            "dtypes: int64(2), object(9)\n",
            "memory usage: 1.3+ MB\n"
          ],
          "name": "stdout"
        }
      ]
    },
    {
      "cell_type": "code",
      "metadata": {
        "colab": {
          "base_uri": "https://localhost:8080/",
          "height": 504
        },
        "id": "crCy5LyEhrPM",
        "outputId": "300bab7f-a958-4552-de14-6c960af60843"
      },
      "source": [
        "sns.countplot(df.score)\n",
        "plt.xlabel('review score');"
      ],
      "execution_count": 45,
      "outputs": [
        {
          "output_type": "display_data",
          "data": {
            "image/png": "[encoded data removed]",
            "text/plain": [
              "<Figure size 864x576 with 1 Axes>"
            ]
          },
          "metadata": {
            "tags": [],
            "image/png": {
              "width": 745,
              "height": 489
            }
          }
        }
      ]
    },
    {
      "cell_type": "markdown",
      "metadata": {
        "id": "C6g6kUq1hx2e"
      },
      "source": [
        "We're going to convert the dataset into negative, neutral and positive sentiment:"
      ]
    },
    {
      "cell_type": "code",
      "metadata": {
        "id": "afm3VmqKhtBl"
      },
      "source": [
        "def to_sentiment(rating):\n",
        "  rating = int(rating)\n",
        "  if rating <= 2:\n",
        "    return 0\n",
        "  elif rating == 3:\n",
        "    return 1\n",
        "  else: \n",
        "    return 2\n",
        "\n",
        "df['sentiment'] = df.score.apply(to_sentiment)"
      ],
      "execution_count": 46,
      "outputs": []
    },
    {
      "cell_type": "code",
      "metadata": {
        "id": "P2YntCanhzxB"
      },
      "source": [
        "class_names = ['negative', 'neutral', 'positive']"
      ],
      "execution_count": 47,
      "outputs": []
    },
    {
      "cell_type": "code",
      "metadata": {
        "colab": {
          "base_uri": "https://localhost:8080/",
          "height": 504
        },
        "id": "gg6LMjF6h1Yw",
        "outputId": "607ca4bd-2078-4fc2-8058-0491ed7fc231"
      },
      "source": [
        "ax = sns.countplot(df.sentiment)\n",
        "plt.xlabel('review sentiment')\n",
        "ax.set_xticklabels(class_names);"
      ],
      "execution_count": 48,
      "outputs": [
        {
          "output_type": "display_data",
          "data": {
            "image/png": "[encoded data removed]",
            "text/plain": [
              "<Figure size 864x576 with 1 Axes>"
            ]
          },
          "metadata": {
            "tags": [],
            "image/png": {
              "width": 745,
              "height": 489
            }
          }
        }
      ]
    },
    {
      "cell_type": "markdown",
      "metadata": {
        "id": "zaU0JWdBiBbH"
      },
      "source": [
        "The balance was (mostly) restored!"
      ]
    },
    {
      "cell_type": "markdown",
      "metadata": {
        "id": "G9dLojdoiFml"
      },
      "source": [
        "## Data Preprocessing\n",
        "\n",
        "You might already know that Machine Learning models don't work with raw text. You need to convert text to numbers (of some sort). BERT requires even more attention. Here are the requirements: \n",
        "\n",
        "- Add special tokens to separate sentences and do classification\n",
        "- Pass sequences of constant length (introduce padding)\n",
        "- Create array of 0s (pad token) and 1s (real token) called *attention mask*\n",
        "\n",
        "The Transformers library provides a wide variety of Transformer models (including BERT). "
      ]
    },
    {
      "cell_type": "code",
      "metadata": {
        "id": "DernLElph2mw"
      },
      "source": [
        "PRE_TRAINED_MODEL_NAME = 'bert-base-cased'"
      ],
      "execution_count": 49,
      "outputs": []
    },
    {
      "cell_type": "markdown",
      "metadata": {
        "id": "rDI-xCPjiOQ9"
      },
      "source": [
        "You can use a cased and uncased version of BERT and tokenizer. In this task, the cased version works better. Intuitively, that makes sense, since \"BAD\" might convey more sentiment than \"bad\".\n",
        "\n",
        "Let's load a pre-trained [BertTokenizer](https://huggingface.co/transformers/model_doc/bert.html#berttokenizer):"
      ]
    },
    {
      "cell_type": "code",
      "metadata": {
        "id": "fFv534ztiNti",
        "colab": {
          "base_uri": "https://localhost:8080/",
          "height": 76,
          "referenced_widgets": [
            "ff269e8a5bfd49bf9b77071d81c3abdc",
            "7ba086e359df48d8bcd318c5fa6c63c9",
            "5bb0b4852e0d4310ae5e64c266cb68c5",
            "5e12a4c85d544ff4945c16d57e4b599c",
            "e26ab44aa9d643c496f6290b7b868dd3",
            "1f4cfffe38e8485ca810b92e1ad6d146",
            "f3148f8de8eb4dacad14198d7db6e12f",
            "dd96ac32c9224dc6b6edf42eed9f50fb"
          ]
        },
        "outputId": "65d47749-24f9-4c73-81f3-5e0004555503"
      },
      "source": [
        "tokenizer = BertTokenizer.from_pretrained(PRE_TRAINED_MODEL_NAME)"
      ],
      "execution_count": 50,
      "outputs": [
        {
          "output_type": "display_data",
          "data": {
            "application/vnd.jupyter.widget-view+json": {
              "model_id": "ff269e8a5bfd49bf9b77071d81c3abdc",
              "version_minor": 0,
              "version_major": 2
            },
            "text/plain": [
              "HBox(children=(FloatProgress(value=0.0, description='Downloading', max=213450.0, style=ProgressStyle(descripti…"
            ]
          },
          "metadata": {
            "tags": []
          }
        },
        {
          "output_type": "stream",
          "text": [
            "\n"
          ],
          "name": "stdout"
        }
      ]
    },
    {
      "cell_type": "markdown",
      "metadata": {
        "id": "lfRVkrDKikxC"
      },
      "source": [
        "We'll use this text to understand the tokenization process:"
      ]
    },
    {
      "cell_type": "code",
      "metadata": {
        "id": "fllS9fkwieCy"
      },
      "source": [
        "sample_txt = 'Nice to meet you. How are you?'"
      ],
      "execution_count": 51,
      "outputs": []
    },
    {
      "cell_type": "markdown",
      "metadata": {
        "id": "S1XTwo6Niosw"
      },
      "source": [
        "Some basic operations can convert the text to tokens and tokens to unique integers (ids):"
      ]
    },
    {
      "cell_type": "code",
      "metadata": {
        "colab": {
          "base_uri": "https://localhost:8080/"
        },
        "id": "KXftdSNTimgF",
        "outputId": "79697f01-1d6f-4549-fe21-7fe9817f3e97"
      },
      "source": [
        "tokens = tokenizer.tokenize(sample_txt)\n",
        "token_ids = tokenizer.convert_tokens_to_ids(tokens)\n",
        "\n",
        "print(f' Sentence: {sample_txt}')\n",
        "print(f'   Tokens: {tokens}')\n",
        "print(f'Token IDs: {token_ids}')"
      ],
      "execution_count": 52,
      "outputs": [
        {
          "output_type": "stream",
          "text": [
            " Sentence: Nice to meet you. How are you?\n",
            "   Tokens: ['Nice', 'to', 'meet', 'you', '.', 'How', 'are', 'you', '?']\n",
            "Token IDs: [8835, 1106, 2283, 1128, 119, 1731, 1132, 1128, 136]\n"
          ],
          "name": "stdout"
        }
      ]
    },
    {
      "cell_type": "markdown",
      "metadata": {
        "id": "frHmA6QXivDP"
      },
      "source": [
        "### Special Tokens\n",
        "\n",
        "`[SEP]` - marker for ending of a sentence"
      ]
    },
    {
      "cell_type": "code",
      "metadata": {
        "colab": {
          "base_uri": "https://localhost:8080/"
        },
        "id": "p9DW8F8jir4P",
        "outputId": "5e32c8c0-e865-4892-a998-04f150fbab9b"
      },
      "source": [
        "tokenizer.sep_token, tokenizer.sep_token_id"
      ],
      "execution_count": 53,
      "outputs": [
        {
          "output_type": "execute_result",
          "data": {
            "text/plain": [
              "('[SEP]', 102)"
            ]
          },
          "metadata": {
            "tags": []
          },
          "execution_count": 53
        }
      ]
    },
    {
      "cell_type": "markdown",
      "metadata": {
        "id": "TBsZrAIai33j"
      },
      "source": [
        "[CLS] - we must add this token to the start of each sentence, so BERT knows we're doing classification"
      ]
    },
    {
      "cell_type": "code",
      "metadata": {
        "colab": {
          "base_uri": "https://localhost:8080/"
        },
        "id": "5hNO_YVIi2w7",
        "outputId": "6ab84882-78b8-4d04-a5d9-d38429ffdd48"
      },
      "source": [
        "tokenizer.cls_token, tokenizer.cls_token_id"
      ],
      "execution_count": 54,
      "outputs": [
        {
          "output_type": "execute_result",
          "data": {
            "text/plain": [
              "('[CLS]', 101)"
            ]
          },
          "metadata": {
            "tags": []
          },
          "execution_count": 54
        }
      ]
    },
    {
      "cell_type": "markdown",
      "metadata": {
        "id": "GJ0lUupGi_t-"
      },
      "source": [
        "There is also a special token for padding:"
      ]
    },
    {
      "cell_type": "code",
      "metadata": {
        "colab": {
          "base_uri": "https://localhost:8080/"
        },
        "id": "T2gU8Vnhi-jp",
        "outputId": "317b3802-dca8-4687-c6b1-94529a2f235a"
      },
      "source": [
        "tokenizer.pad_token, tokenizer.pad_token_id"
      ],
      "execution_count": 55,
      "outputs": [
        {
          "output_type": "execute_result",
          "data": {
            "text/plain": [
              "('[PAD]', 0)"
            ]
          },
          "metadata": {
            "tags": []
          },
          "execution_count": 55
        }
      ]
    },
    {
      "cell_type": "markdown",
      "metadata": {
        "id": "kdTLc9vjjIOK"
      },
      "source": [
        "BERT understands tokens that were in the training set. Everything else can be encoded using the `[UNK]` (unknown) token:"
      ]
    },
    {
      "cell_type": "code",
      "metadata": {
        "colab": {
          "base_uri": "https://localhost:8080/"
        },
        "id": "W908hRSli8TP",
        "outputId": "f49565e3-6cc4-4bdd-e11b-265258895d57"
      },
      "source": [
        "tokenizer.unk_token, tokenizer.unk_token_id"
      ],
      "execution_count": 56,
      "outputs": [
        {
          "output_type": "execute_result",
          "data": {
            "text/plain": [
              "('[UNK]', 100)"
            ]
          },
          "metadata": {
            "tags": []
          },
          "execution_count": 56
        }
      ]
    },
    {
      "cell_type": "markdown",
      "metadata": {
        "id": "Xpt4WJJXjSul"
      },
      "source": [
        "All of that work can be done using the [`encode_plus()`](https://huggingface.co/transformers/main_classes/tokenizer.html#transformers.PreTrainedTokenizer.encode_plus) method:"
      ]
    },
    {
      "cell_type": "code",
      "metadata": {
        "colab": {
          "base_uri": "https://localhost:8080/"
        },
        "id": "rnQ6d8StjKBd",
        "outputId": "634284ae-dd12-43e0-9b18-bedd12634184"
      },
      "source": [
        "encoding = tokenizer.encode_plus(\n",
        "  sample_txt,\n",
        "  truncation = True,\n",
        "  max_length=32,\n",
        "  add_special_tokens=True, # Add '[CLS]' and '[SEP]'\n",
        "  return_token_type_ids=False,\n",
        "  pad_to_max_length=True,\n",
        "  return_attention_mask=True,\n",
        "  return_tensors='pt',  # Return PyTorch tensors\n",
        ")\n",
        "\n",
        "encoding.keys()\n",
        "# trucation=True"
      ],
      "execution_count": 57,
      "outputs": [
        {
          "output_type": "execute_result",
          "data": {
            "text/plain": [
              "dict_keys(['input_ids', 'attention_mask'])"
            ]
          },
          "metadata": {
            "tags": []
          },
          "execution_count": 57
        }
      ]
    },
    {
      "cell_type": "markdown",
      "metadata": {
        "id": "6c6j3-ehkCjQ"
      },
      "source": [
        "The token ids are now stored in a Tensor and padded to a length of 32:"
      ]
    },
    {
      "cell_type": "code",
      "metadata": {
        "colab": {
          "base_uri": "https://localhost:8080/"
        },
        "id": "EE_23IxnjYeL",
        "outputId": "4c711b56-d919-462f-ec20-799260933a41"
      },
      "source": [
        "print(len(encoding['input_ids'][0]))\n",
        "encoding['input_ids'][0]"
      ],
      "execution_count": 58,
      "outputs": [
        {
          "output_type": "stream",
          "text": [
            "32\n"
          ],
          "name": "stdout"
        },
        {
          "output_type": "execute_result",
          "data": {
            "text/plain": [
              "tensor([ 101, 8835, 1106, 2283, 1128,  119, 1731, 1132, 1128,  136,  102,    0,\n",
              "           0,    0,    0,    0,    0,    0,    0,    0,    0,    0,    0,    0,\n",
              "           0,    0,    0,    0,    0,    0,    0,    0])"
            ]
          },
          "metadata": {
            "tags": []
          },
          "execution_count": 58
        }
      ]
    },
    {
      "cell_type": "markdown",
      "metadata": {
        "id": "Cod4OE9-l5Xt"
      },
      "source": [
        "The attention mask has the same length:"
      ]
    },
    {
      "cell_type": "code",
      "metadata": {
        "colab": {
          "base_uri": "https://localhost:8080/"
        },
        "id": "ZBnHUQGAkG7I",
        "outputId": "1c579f9d-a0ff-4152-b03d-4b8e54dee53a"
      },
      "source": [
        "print(len(encoding['attention_mask'][0]))\n",
        "encoding['attention_mask'][0]"
      ],
      "execution_count": 59,
      "outputs": [
        {
          "output_type": "stream",
          "text": [
            "32\n"
          ],
          "name": "stdout"
        },
        {
          "output_type": "execute_result",
          "data": {
            "text/plain": [
              "tensor([1, 1, 1, 1, 1, 1, 1, 1, 1, 1, 1, 0, 0, 0, 0, 0, 0, 0, 0, 0, 0, 0, 0, 0,\n",
              "        0, 0, 0, 0, 0, 0, 0, 0])"
            ]
          },
          "metadata": {
            "tags": []
          },
          "execution_count": 59
        }
      ]
    },
    {
      "cell_type": "markdown",
      "metadata": {
        "id": "KYfZNHQgl__8"
      },
      "source": [
        "We can inverse the tokenization to have a look at the special tokens:"
      ]
    },
    {
      "cell_type": "code",
      "metadata": {
        "colab": {
          "base_uri": "https://localhost:8080/"
        },
        "id": "D1R3-0p3lyam",
        "outputId": "80ed8957-ee4d-4f08-9fc1-864aa29d325a"
      },
      "source": [
        "tokenizer.convert_ids_to_tokens(encoding['input_ids'][0])"
      ],
      "execution_count": 60,
      "outputs": [
        {
          "output_type": "execute_result",
          "data": {
            "text/plain": [
              "['[CLS]',\n",
              " 'Nice',\n",
              " 'to',\n",
              " 'meet',\n",
              " 'you',\n",
              " '.',\n",
              " 'How',\n",
              " 'are',\n",
              " 'you',\n",
              " '?',\n",
              " '[SEP]',\n",
              " '[PAD]',\n",
              " '[PAD]',\n",
              " '[PAD]',\n",
              " '[PAD]',\n",
              " '[PAD]',\n",
              " '[PAD]',\n",
              " '[PAD]',\n",
              " '[PAD]',\n",
              " '[PAD]',\n",
              " '[PAD]',\n",
              " '[PAD]',\n",
              " '[PAD]',\n",
              " '[PAD]',\n",
              " '[PAD]',\n",
              " '[PAD]',\n",
              " '[PAD]',\n",
              " '[PAD]',\n",
              " '[PAD]',\n",
              " '[PAD]',\n",
              " '[PAD]',\n",
              " '[PAD]']"
            ]
          },
          "metadata": {
            "tags": []
          },
          "execution_count": 60
        }
      ]
    },
    {
      "cell_type": "markdown",
      "metadata": {
        "id": "znUzYZD7mHfe"
      },
      "source": [
        "### Choosing Sequence Length\n",
        "\n",
        "BERT works with fixed-length sequences. We'll use a simple strategy to choose the max length. Let's store the token length of each review:"
      ]
    },
    {
      "cell_type": "code",
      "metadata": {
        "id": "SFSbiUV8mCpV"
      },
      "source": [
        "token_lens = []\n",
        "\n",
        "for txt in df.content:\n",
        "  tokens = tokenizer.encode(txt, truncation = True, max_length=512)   \n",
        "  token_lens.append(len(tokens))"
      ],
      "execution_count": 61,
      "outputs": []
    },
    {
      "cell_type": "code",
      "metadata": {
        "id": "VqNV9DZimU0V"
      },
      "source": [
        "tokens;"
      ],
      "execution_count": 62,
      "outputs": []
    },
    {
      "cell_type": "markdown",
      "metadata": {
        "id": "6_mvQw6Hmgqj"
      },
      "source": [
        "and plot the distribution:"
      ]
    },
    {
      "cell_type": "code",
      "metadata": {
        "colab": {
          "base_uri": "https://localhost:8080/",
          "height": 504
        },
        "id": "57J7SM-lmdff",
        "outputId": "41f31fa2-c8f1-43d8-b903-a461a3552802"
      },
      "source": [
        "sns.distplot(token_lens)\n",
        "plt.xlim([0, 256]);\n",
        "plt.xlabel('Token count');"
      ],
      "execution_count": 63,
      "outputs": [
        {
          "output_type": "display_data",
          "data": {
            "image/png": "[encoded data removed]",
            "text/plain": [
              "<Figure size 864x576 with 1 Axes>"
            ]
          },
          "metadata": {
            "tags": [],
            "image/png": {
              "width": 757,
              "height": 489
            }
          }
        }
      ]
    },
    {
      "cell_type": "markdown",
      "metadata": {
        "id": "xvwybsc6mlD7"
      },
      "source": [
        "Most of the reviews seem to contain less than 128 tokens, but we'll be on the safe side and choose a maximum length of 160."
      ]
    },
    {
      "cell_type": "code",
      "metadata": {
        "id": "qzF19s6pmip6"
      },
      "source": [
        "MAX_LEN = 160"
      ],
      "execution_count": 64,
      "outputs": []
    },
    {
      "cell_type": "markdown",
      "metadata": {
        "id": "fK0wihwLmpI8"
      },
      "source": [
        "We have all building blocks required to create a PyTorch dataset. Let's do it:"
      ]
    },
    {
      "cell_type": "code",
      "metadata": {
        "id": "Jpod-O3HmmyU"
      },
      "source": [
        "class GPReviewDataset(Dataset):\n",
        "\n",
        "  def __init__(self, reviews, targets, tokenizer, max_len):\n",
        "    self.reviews = reviews\n",
        "    self.targets = targets\n",
        "    self.tokenizer = tokenizer\n",
        "    self.max_len = max_len\n",
        "  \n",
        "  def __len__(self):\n",
        "    return len(self.reviews)\n",
        "  \n",
        "  def __getitem__(self, item):\n",
        "    review = str(self.reviews[item])\n",
        "    target = self.targets[item]\n",
        "\n",
        "    encoding = self.tokenizer.encode_plus(\n",
        "      review,\n",
        "      add_special_tokens=True,\n",
        "      max_length=self.max_len,\n",
        "      return_token_type_ids=False,\n",
        "      pad_to_max_length=True,\n",
        "      return_attention_mask=True,\n",
        "      return_tensors='pt',\n",
        "    )\n",
        "\n",
        "    return {\n",
        "      'review_text': review,\n",
        "      'input_ids': encoding['input_ids'].flatten(),               # flatten(): [1, 160] -> [160]\n",
        "      'attention_mask': encoding['attention_mask'].flatten(),     \n",
        "      'targets': torch.tensor(target, dtype=torch.long)\n",
        "    }"
      ],
      "execution_count": 65,
      "outputs": []
    },
    {
      "cell_type": "code",
      "metadata": {
        "id": "rg85UT0Jmso-"
      },
      "source": [
        "### For your understanding\n",
        "ds = GPReviewDataset(\n",
        "reviews=df.content.to_numpy(),        # df.content.to_numpy().shape: (15746,)\n",
        "targets=df.sentiment.to_numpy(),      # df.sentiment.to_numpy().shape: (15746,)\n",
        "tokenizer=tokenizer,\n",
        "max_len=160\n",
        ")"
      ],
      "execution_count": 66,
      "outputs": []
    },
    {
      "cell_type": "code",
      "metadata": {
        "colab": {
          "base_uri": "https://localhost:8080/"
        },
        "id": "WLtVvL9nmujm",
        "outputId": "17394a25-37b6-410b-b12d-6b2f08af9118"
      },
      "source": [
        "ds.__len__()"
      ],
      "execution_count": 67,
      "outputs": [
        {
          "output_type": "execute_result",
          "data": {
            "text/plain": [
              "15746"
            ]
          },
          "metadata": {
            "tags": []
          },
          "execution_count": 67
        }
      ]
    },
    {
      "cell_type": "code",
      "metadata": {
        "colab": {
          "base_uri": "https://localhost:8080/",
          "height": 158
        },
        "id": "QfjQTPBJmxk_",
        "outputId": "2ba15b35-c7eb-41fc-9949-429006970c64"
      },
      "source": [
        "ds.__getitem__(0)['review_text']"
      ],
      "execution_count": 68,
      "outputs": [
        {
          "output_type": "stream",
          "text": [
            "Truncation was not explicitly activated but `max_length` is provided a specific value, please use `truncation=True` to explicitly truncate examples to max length. Defaulting to 'longest_first' truncation strategy. If you encode pairs of sequences (GLUE-style) with the tokenizer you can select this strategy more precisely by providing a specific strategy to `truncation`.\n"
          ],
          "name": "stderr"
        },
        {
          "output_type": "execute_result",
          "data": {
            "application/vnd.google.colaboratory.intrinsic+json": {
              "type": "string"
            },
            "text/plain": [
              "\"Update: After getting a response from the developer I would change my rating to 0 stars if possible. These guys hide behind confusing and opaque terms and refuse to budge at all. I'm so annoyed that my money has been lost to them! Really terrible customer experience. Original: Be very careful when signing up for a free trial of this app. If you happen to go over they automatically charge you for a full years subscription and refuse to refund. Terrible customer experience and the app is just OK.\""
            ]
          },
          "metadata": {
            "tags": []
          },
          "execution_count": 68
        }
      ]
    },
    {
      "cell_type": "code",
      "metadata": {
        "colab": {
          "base_uri": "https://localhost:8080/"
        },
        "id": "LrOTgSz1mzlg",
        "outputId": "571e39c7-7255-48f2-d1e0-47752c2dfdc3"
      },
      "source": [
        "ds.__getitem__(0)['input_ids']    # size(): [160]"
      ],
      "execution_count": 69,
      "outputs": [
        {
          "output_type": "execute_result",
          "data": {
            "text/plain": [
              "tensor([  101,  3725,  9216,   131,  1258,  2033,   170,  2593,  1121,  1103,\n",
              "         9991,   146,  1156,  1849,  1139,  5261,  1106,   121,  2940,  1191,\n",
              "         1936,   119,  1636,  3713,  4750,  1481, 18110,  1105, 11769, 23911,\n",
              "         2538,  1105, 10250,  1106,   171, 17717,  1120,  1155,   119,   146,\n",
              "          112,   182,  1177, 12049,  1115,  1139,  1948,  1144,  1151,  1575,\n",
              "         1106,  1172,   106,  8762,  6434,  8132,  2541,   119,  7267,   131,\n",
              "         4108,  1304,  5784,  1165,  6086,  1146,  1111,   170,  1714,  3443,\n",
              "         1104,  1142, 12647,   119,  1409,  1128,  3333,  1106,  1301,  1166,\n",
              "         1152,  7743,  2965,  1128,  1111,   170,  1554,  1201, 16759,  1105,\n",
              "        10250,  1106,  1231, 14703,  3276,   119, 12008, 27788,  8132,  2541,\n",
              "         1105,  1103, 12647,  1110,  1198, 10899,   119,   102,     0,     0,\n",
              "            0,     0,     0,     0,     0,     0,     0,     0,     0,     0,\n",
              "            0,     0,     0,     0,     0,     0,     0,     0,     0,     0,\n",
              "            0,     0,     0,     0,     0,     0,     0,     0,     0,     0,\n",
              "            0,     0,     0,     0,     0,     0,     0,     0,     0,     0,\n",
              "            0,     0,     0,     0,     0,     0,     0,     0,     0,     0])"
            ]
          },
          "metadata": {
            "tags": []
          },
          "execution_count": 69
        }
      ]
    },
    {
      "cell_type": "code",
      "metadata": {
        "colab": {
          "base_uri": "https://localhost:8080/"
        },
        "id": "lbpAY_MSm12p",
        "outputId": "46af6910-0254-4aa8-aa69-446111d2c729"
      },
      "source": [
        "ds.__getitem__(0)['attention_mask']    # size(): [160]"
      ],
      "execution_count": 70,
      "outputs": [
        {
          "output_type": "execute_result",
          "data": {
            "text/plain": [
              "tensor([1, 1, 1, 1, 1, 1, 1, 1, 1, 1, 1, 1, 1, 1, 1, 1, 1, 1, 1, 1, 1, 1, 1, 1,\n",
              "        1, 1, 1, 1, 1, 1, 1, 1, 1, 1, 1, 1, 1, 1, 1, 1, 1, 1, 1, 1, 1, 1, 1, 1,\n",
              "        1, 1, 1, 1, 1, 1, 1, 1, 1, 1, 1, 1, 1, 1, 1, 1, 1, 1, 1, 1, 1, 1, 1, 1,\n",
              "        1, 1, 1, 1, 1, 1, 1, 1, 1, 1, 1, 1, 1, 1, 1, 1, 1, 1, 1, 1, 1, 1, 1, 1,\n",
              "        1, 1, 1, 1, 1, 1, 1, 1, 1, 1, 1, 1, 0, 0, 0, 0, 0, 0, 0, 0, 0, 0, 0, 0,\n",
              "        0, 0, 0, 0, 0, 0, 0, 0, 0, 0, 0, 0, 0, 0, 0, 0, 0, 0, 0, 0, 0, 0, 0, 0,\n",
              "        0, 0, 0, 0, 0, 0, 0, 0, 0, 0, 0, 0, 0, 0, 0, 0])"
            ]
          },
          "metadata": {
            "tags": []
          },
          "execution_count": 70
        }
      ]
    },
    {
      "cell_type": "markdown",
      "metadata": {
        "id": "onMf-Z9mm-cK"
      },
      "source": [
        "Let's split the dataset:"
      ]
    },
    {
      "cell_type": "code",
      "metadata": {
        "id": "MxVtpYvwm4ST"
      },
      "source": [
        "df_train, df_test = train_test_split(df, test_size=0.1, random_state=RANDOM_SEED)\n",
        "df_val, df_test = train_test_split(df_test, test_size=0.5, random_state=RANDOM_SEED)"
      ],
      "execution_count": 71,
      "outputs": []
    },
    {
      "cell_type": "code",
      "metadata": {
        "colab": {
          "base_uri": "https://localhost:8080/"
        },
        "id": "338Ctmd3nAEc",
        "outputId": "6f534200-d6b6-4774-84a8-957a91f1b3a4"
      },
      "source": [
        "df_train.shape, df_val.shape, df_test.shape"
      ],
      "execution_count": 72,
      "outputs": [
        {
          "output_type": "execute_result",
          "data": {
            "text/plain": [
              "((14171, 12), (787, 12), (788, 12))"
            ]
          },
          "metadata": {
            "tags": []
          },
          "execution_count": 72
        }
      ]
    },
    {
      "cell_type": "markdown",
      "metadata": {
        "id": "jfOtkya5nED0"
      },
      "source": [
        "We also need to create a couple of data loaders. Here's a helper function to do it:"
      ]
    },
    {
      "cell_type": "code",
      "metadata": {
        "id": "HtkKlFuBnBHf"
      },
      "source": [
        "def create_data_loader(df, tokenizer, max_len, batch_size):\n",
        "  ds = GPReviewDataset(\n",
        "    reviews=df.content.to_numpy(),        # df.content.to_numpy().shape: (15746,)\n",
        "    targets=df.sentiment.to_numpy(),      # df.sentiment.to_numpy().shape: (15746,)\n",
        "    tokenizer=tokenizer,\n",
        "    max_len=max_len\n",
        "  )\n",
        "\n",
        "  return DataLoader(ds, batch_size=batch_size, num_workers=4)"
      ],
      "execution_count": 73,
      "outputs": []
    },
    {
      "cell_type": "code",
      "metadata": {
        "id": "iNpjefGlnGs5"
      },
      "source": [
        "BATCH_SIZE = 16\n",
        "\n",
        "train_data_loader = create_data_loader(df_train, tokenizer, MAX_LEN, BATCH_SIZE)\n",
        "val_data_loader = create_data_loader(df_val, tokenizer, MAX_LEN, BATCH_SIZE)\n",
        "test_data_loader = create_data_loader(df_test, tokenizer, MAX_LEN, BATCH_SIZE)"
      ],
      "execution_count": 74,
      "outputs": []
    },
    {
      "cell_type": "markdown",
      "metadata": {
        "id": "DQxcMYbUnOhG"
      },
      "source": [
        "Let's have a look at an example batch from our training data loader:"
      ]
    },
    {
      "cell_type": "code",
      "metadata": {
        "colab": {
          "base_uri": "https://localhost:8080/"
        },
        "id": "uLxpxtg7nLq0",
        "outputId": "541292ec-4eef-4031-d0a4-27b393386900"
      },
      "source": [
        "sample_batched = next(iter(train_data_loader))\n",
        "sample_batched.keys()"
      ],
      "execution_count": 75,
      "outputs": [
        {
          "output_type": "execute_result",
          "data": {
            "text/plain": [
              "dict_keys(['review_text', 'input_ids', 'attention_mask', 'targets'])"
            ]
          },
          "metadata": {
            "tags": []
          },
          "execution_count": 75
        }
      ]
    },
    {
      "cell_type": "code",
      "metadata": {
        "colab": {
          "base_uri": "https://localhost:8080/"
        },
        "id": "3H9BizDsnRBm",
        "outputId": "c7b84c0a-d5e2-4159-d954-af567a12cd35"
      },
      "source": [
        "print(sample_batched['input_ids'].shape)\n",
        "print(sample_batched['attention_mask'].shape)\n",
        "print(sample_batched['targets'].shape)"
      ],
      "execution_count": 76,
      "outputs": [
        {
          "output_type": "stream",
          "text": [
            "torch.Size([16, 160])\n",
            "torch.Size([16, 160])\n",
            "torch.Size([16])\n"
          ],
          "name": "stdout"
        }
      ]
    },
    {
      "cell_type": "markdown",
      "metadata": {
        "id": "HnelPJLMnX4p"
      },
      "source": [
        "## Sentiment Classification with BERT and Hugging Face"
      ]
    },
    {
      "cell_type": "markdown",
      "metadata": {
        "id": "pvrcX29yna8T"
      },
      "source": [
        "There are a lot of helpers that make using BERT easy with the Transformers library. Depending on the task you might want to use [BertForQuestionAnswering](https://huggingface.co/transformers/model_doc/bert.html#bertforquestionanswering) or something else. \n",
        "\n",
        "We'll use the basic [BertModel](https://huggingface.co/transformers/model_doc/bert.html#bertmodel) and build our sentiment classifier on top of it. Let's load the model:"
      ]
    },
    {
      "cell_type": "code",
      "metadata": {
        "colab": {
          "base_uri": "https://localhost:8080/",
          "height": 135,
          "referenced_widgets": [
            "e2ebe4d78b4d4b6c839f47f00c61aad5",
            "fbe6072cc069428888865978c5590930",
            "cbc3275727e046029d553e973ae42e74",
            "775b0607951a4777a28b61294d0dd6b6",
            "722b264a755e4d3299ada08334df7b40",
            "6227c4ce98fc43f3b85d6a8e8c0dfdb9",
            "6a2f876f7c564cd299bf3c645a43667f",
            "c2d81793d1654de5886b1bd705267ac1",
            "447882d423ec48708cd5fe8b32fe6aa7",
            "c5cff695774d420291b038be44e9def8",
            "3148bf76c48a48ee9bbac81f813d1939",
            "17923945bde048e8b960872abcf58324",
            "781ffaef7b794b439141d6e17fe1850a",
            "ecbfa1138fb547cf9ac3d1869a3dd7dc",
            "995f113c781546a6869a424114ae8524",
            "206f36a3840f4bf6af8f19dc4c55093f"
          ]
        },
        "id": "8GkUnWTsnSjW",
        "outputId": "c8bb2715-6b9f-4a35-9ad5-e1e5400b18b4"
      },
      "source": [
        "bert_model = BertModel.from_pretrained(PRE_TRAINED_MODEL_NAME)"
      ],
      "execution_count": 77,
      "outputs": [
        {
          "output_type": "display_data",
          "data": {
            "application/vnd.jupyter.widget-view+json": {
              "model_id": "e2ebe4d78b4d4b6c839f47f00c61aad5",
              "version_minor": 0,
              "version_major": 2
            },
            "text/plain": [
              "HBox(children=(FloatProgress(value=0.0, description='Downloading', max=433.0, style=ProgressStyle(description_…"
            ]
          },
          "metadata": {
            "tags": []
          }
        },
        {
          "output_type": "stream",
          "text": [
            "\n"
          ],
          "name": "stdout"
        },
        {
          "output_type": "display_data",
          "data": {
            "application/vnd.jupyter.widget-view+json": {
              "model_id": "447882d423ec48708cd5fe8b32fe6aa7",
              "version_minor": 0,
              "version_major": 2
            },
            "text/plain": [
              "HBox(children=(FloatProgress(value=0.0, description='Downloading', max=435779157.0, style=ProgressStyle(descri…"
            ]
          },
          "metadata": {
            "tags": []
          }
        },
        {
          "output_type": "stream",
          "text": [
            "\n"
          ],
          "name": "stdout"
        }
      ]
    },
    {
      "cell_type": "markdown",
      "metadata": {
        "id": "QxSzqNU_nnLm"
      },
      "source": [
        "And try to use it on the encoding of our sample text:"
      ]
    },
    {
      "cell_type": "code",
      "metadata": {
        "id": "nrGYOTO0niDm"
      },
      "source": [
        "last_hidden_state, pooled_output = bert_model(               # pooled_output: last_hidden_state's first token([CLS]) -> nn.Linear(config.hidden_size, config.hidden_size) -> nn.Tanh()\n",
        "  input_ids=encoding['input_ids'], \n",
        "  attention_mask=encoding['attention_mask']\n",
        ")"
      ],
      "execution_count": 78,
      "outputs": []
    },
    {
      "cell_type": "markdown",
      "metadata": {
        "id": "tuADHWZmoA0S"
      },
      "source": [
        "The `last_hidden_state` is a sequence of hidden states of the last layer of the model. Obtaining the `pooled_output` is done by applying the [BertPooler](https://github.com/huggingface/transformers/blob/edf0582c0be87b60f94f41c659ea779876efc7be/src/transformers/modeling_bert.py#L426) on `last_hidden_state`:"
      ]
    },
    {
      "cell_type": "code",
      "metadata": {
        "colab": {
          "base_uri": "https://localhost:8080/"
        },
        "id": "PO-7RXO0n_1A",
        "outputId": "9ee3b014-d6b2-4c0c-e139-6e180de3b477"
      },
      "source": [
        "last_hidden_state.size()"
      ],
      "execution_count": 79,
      "outputs": [
        {
          "output_type": "execute_result",
          "data": {
            "text/plain": [
              "torch.Size([1, 32, 768])"
            ]
          },
          "metadata": {
            "tags": []
          },
          "execution_count": 79
        }
      ]
    },
    {
      "cell_type": "code",
      "metadata": {
        "colab": {
          "base_uri": "https://localhost:8080/"
        },
        "id": "Glc0tmF2oFz0",
        "outputId": "c295b54f-d3a3-4ced-85f5-44bcc426d85e"
      },
      "source": [
        "pooled_output.size()"
      ],
      "execution_count": 80,
      "outputs": [
        {
          "output_type": "execute_result",
          "data": {
            "text/plain": [
              "torch.Size([1, 768])"
            ]
          },
          "metadata": {
            "tags": []
          },
          "execution_count": 80
        }
      ]
    },
    {
      "cell_type": "markdown",
      "metadata": {
        "id": "GCk3fzhmoPOM"
      },
      "source": [
        "We have the hidden state for each of our 32 tokens (the length of our example sequence). But why 768? This is the number of hidden units in the feedforward-networks. We can verify that by checking the config:"
      ]
    },
    {
      "cell_type": "code",
      "metadata": {
        "colab": {
          "base_uri": "https://localhost:8080/"
        },
        "id": "5FGYsCy5oG-d",
        "outputId": "b1f90025-d239-4daa-afcd-23634d6c748e"
      },
      "source": [
        "bert_model.config.hidden_size"
      ],
      "execution_count": 81,
      "outputs": [
        {
          "output_type": "execute_result",
          "data": {
            "text/plain": [
              "768"
            ]
          },
          "metadata": {
            "tags": []
          },
          "execution_count": 81
        }
      ]
    },
    {
      "cell_type": "markdown",
      "metadata": {
        "id": "3Gr8eqYhoUga"
      },
      "source": [
        "You can think of the `pooled_output` as a summary of the content, according to BERT. \n",
        "So, we'll use `pooled_output` for the sentiment analysis."
      ]
    },
    {
      "cell_type": "markdown",
      "metadata": {
        "id": "BFpOKSmFocL4"
      },
      "source": [
        "We can use all of this knowledge to create a classifier that uses the BERT model:"
      ]
    },
    {
      "cell_type": "code",
      "metadata": {
        "id": "1Uau9hZooRaJ"
      },
      "source": [
        "class SentimentClassifier(nn.Module):\n",
        "\n",
        "  def __init__(self, n_classes):\n",
        "    super(SentimentClassifier, self).__init__()                      \n",
        "    self.bert = BertModel.from_pretrained(PRE_TRAINED_MODEL_NAME)\n",
        "    self.drop = nn.Dropout(p=0.3)\n",
        "    self.out = nn.Linear(self.bert.config.hidden_size, n_classes)\n",
        "  \n",
        "  def forward(self, input_ids, attention_mask):\n",
        "    _, pooled_output = self.bert(\n",
        "      input_ids=input_ids,\n",
        "      attention_mask=attention_mask\n",
        "    )\n",
        "    output = self.drop(pooled_output)\n",
        "    return self.out(output)"
      ],
      "execution_count": 82,
      "outputs": []
    },
    {
      "cell_type": "markdown",
      "metadata": {
        "id": "e3aBjmVTohHQ"
      },
      "source": [
        "This should work like any other PyTorch model. Let's create an instance and move it to the GPU:"
      ]
    },
    {
      "cell_type": "code",
      "metadata": {
        "id": "O_F-rhHHofKg"
      },
      "source": [
        "model = SentimentClassifier(len(class_names))       # len(class_names): 3\n",
        "model = model.to(device)"
      ],
      "execution_count": 83,
      "outputs": []
    },
    {
      "cell_type": "markdown",
      "metadata": {
        "id": "EDyiYfFlop7k"
      },
      "source": [
        "We'll move the example batch of our training data to the GPU:"
      ]
    },
    {
      "cell_type": "code",
      "metadata": {
        "colab": {
          "base_uri": "https://localhost:8080/"
        },
        "id": "mi63xeY6ojUx",
        "outputId": "238ab3fc-c5b7-4acc-e019-2ef978d31c80"
      },
      "source": [
        "input_ids = sample_batched['input_ids'].to(device)\n",
        "attention_mask = sample_batched['attention_mask'].to(device)\n",
        "\n",
        "print(input_ids.size()) # (batch size, seq length)\n",
        "print(attention_mask.size()) # (batch size, seq length)"
      ],
      "execution_count": 84,
      "outputs": [
        {
          "output_type": "stream",
          "text": [
            "torch.Size([16, 160])\n",
            "torch.Size([16, 160])\n"
          ],
          "name": "stdout"
        }
      ]
    },
    {
      "cell_type": "markdown",
      "metadata": {
        "id": "BbLZ_mC9ox_e"
      },
      "source": [
        "To get the predicted probabilities from our trained model, we'll apply the softmax function to the outputs:"
      ]
    },
    {
      "cell_type": "code",
      "metadata": {
        "colab": {
          "base_uri": "https://localhost:8080/"
        },
        "id": "xsdvipNBotRV",
        "outputId": "ea5219f1-6813-4cd3-e16e-544061d1470e"
      },
      "source": [
        "F.softmax(model(input_ids, attention_mask), dim=1)"
      ],
      "execution_count": 85,
      "outputs": [
        {
          "output_type": "execute_result",
          "data": {
            "text/plain": [
              "tensor([[0.4167, 0.1629, 0.4204],\n",
              "        [0.5268, 0.1343, 0.3389],\n",
              "        [0.3120, 0.1510, 0.5370],\n",
              "        [0.5324, 0.1180, 0.3496],\n",
              "        [0.6053, 0.1680, 0.2267],\n",
              "        [0.3334, 0.1828, 0.4838],\n",
              "        [0.4221, 0.1138, 0.4641],\n",
              "        [0.3167, 0.2619, 0.4215],\n",
              "        [0.3325, 0.1465, 0.5211],\n",
              "        [0.2637, 0.1996, 0.5367],\n",
              "        [0.4092, 0.1467, 0.4441],\n",
              "        [0.3765, 0.2127, 0.4107],\n",
              "        [0.5731, 0.0732, 0.3537],\n",
              "        [0.4752, 0.1724, 0.3525],\n",
              "        [0.3837, 0.1831, 0.4332],\n",
              "        [0.3463, 0.2110, 0.4427]], device='cuda:0', grad_fn=<SoftmaxBackward>)"
            ]
          },
          "metadata": {
            "tags": []
          },
          "execution_count": 85
        }
      ]
    },
    {
      "cell_type": "markdown",
      "metadata": {
        "id": "Pi59tff6qu8J"
      },
      "source": [
        "################################# **Doing yourself from here **#################################"
      ]
    },
    {
      "cell_type": "markdown",
      "metadata": {
        "id": "82hSisAgpc_2"
      },
      "source": [
        "### Training\n",
        "\n",
        "To reproduce the training procedure from the BERT paper, we'll use the [AdamW](https://huggingface.co/transformers/main_classes/optimizer_schedules.html#adamw) optimizer provided by Hugging Face. It corrects weight decay, so it's similar to the original paper. We'll also use a linear scheduler with no warmup steps:"
      ]
    },
    {
      "cell_type": "code",
      "metadata": {
        "id": "K8zLZ-clo06Y"
      },
      "source": [
        "EPOCHS = 10\n",
        "\n",
        "optimizer = AdamW(model.parameters(), lr=2e-5, correct_bias=False)\n",
        "total_steps = len(train_data_loader) * EPOCHS\n",
        "\n",
        "scheduler = get_linear_schedule_with_warmup(\n",
        "  optimizer,\n",
        "  num_warmup_steps=0,\n",
        "  num_training_steps=total_steps\n",
        ")\n",
        "\n",
        "loss_fn = nn.CrossEntropyLoss().to(device)"
      ],
      "execution_count": 86,
      "outputs": []
    },
    {
      "cell_type": "markdown",
      "metadata": {
        "id": "3GVUaGocpt5E"
      },
      "source": [
        "How do we come up with all hyperparameters? The BERT authors have some recommendations for fine-tuning:\n",
        "\n",
        "- Learning rate (Adam): 5e-5, 3e-5, 2e-5\n",
        "- Number of epochs: 2, 3, 4\n",
        "\n",
        "We're going to ignore the number of epochs recommendation but stick with the rest.\n",
        "\n",
        "Let's continue with writing a helper function for training our model for one epoch:"
      ]
    },
    {
      "cell_type": "code",
      "metadata": {
        "id": "yiIlFrUzprL1"
      },
      "source": [
        "def train_epoch(model, data_loader, loss_fn, optimizer, device, scheduler, n_examples):\n",
        "    \n",
        "  model = model.train()\n",
        "\n",
        "  losses = []\n",
        "  correct_predictions = 0\n",
        "  \n",
        "  for d in data_loader:\n",
        "    input_ids = d[\"input_ids\"].to(device)\n",
        "    attention_mask = d[\"attention_mask\"].to(device)\n",
        "    targets = d[\"targets\"].to(device)\n",
        "\n",
        "    outputs = model(\n",
        "      input_ids=input_ids,\n",
        "      attention_mask=attention_mask\n",
        "    )\n",
        "\n",
        "    _, preds = torch.max(outputs, dim=1)      \n",
        "    loss = loss_fn(outputs, targets)          \n",
        "\n",
        "    correct_predictions += torch.sum(preds == targets)\n",
        "    losses.append(loss.item())\n",
        "\n",
        "    loss.backward()\n",
        "    nn.utils.clip_grad_norm_(model.parameters(), max_norm=1.0)\n",
        "    optimizer.step()\n",
        "    scheduler.step()\n",
        "    optimizer.zero_grad()\n",
        "\n",
        "  return correct_predictions.double() / n_examples, np.mean(losses)"
      ],
      "execution_count": 87,
      "outputs": []
    },
    {
      "cell_type": "markdown",
      "metadata": {
        "id": "5PZgWgtbp8jI"
      },
      "source": [
        "We're avoiding exploding gradients by clipping the gradients of the model using [clip_grad_norm_](https://pytorch.org/docs/stable/nn.html#clip-grad-norm).\n",
        "\n",
        "Let's write another one that helps us evaluate the model on a given data loader:"
      ]
    },
    {
      "cell_type": "code",
      "metadata": {
        "id": "FJzLBC06p58x"
      },
      "source": [
        "def eval_model(model, data_loader, loss_fn, device, n_examples):\n",
        "  model = model.eval()\n",
        "\n",
        "  losses = []\n",
        "  correct_predictions = 0\n",
        "\n",
        "  with torch.no_grad():\n",
        "    for d in data_loader:\n",
        "      input_ids = d[\"input_ids\"].to(device)\n",
        "      attention_mask = d[\"attention_mask\"].to(device)\n",
        "      targets = d[\"targets\"].to(device)\n",
        "\n",
        "      outputs = model(\n",
        "        input_ids=input_ids,\n",
        "        attention_mask=attention_mask\n",
        "      )\n",
        "      _, preds = torch.max(outputs, dim=1)\n",
        "\n",
        "      loss = loss_fn(outputs, targets)\n",
        "\n",
        "      correct_predictions += torch.sum(preds == targets)\n",
        "      losses.append(loss.item())\n",
        "\n",
        "  return correct_predictions.double() / n_examples, np.mean(losses)"
      ],
      "execution_count": 88,
      "outputs": []
    },
    {
      "cell_type": "markdown",
      "metadata": {
        "id": "5VjpHXBgqE-F"
      },
      "source": [
        "Using those two, we can write our training loop. We'll also store the training history:"
      ]
    },
    {
      "cell_type": "code",
      "metadata": {
        "colab": {
          "base_uri": "https://localhost:8080/"
        },
        "id": "qgWZPO6PqC5a",
        "outputId": "061bd0ef-0834-4f53-ae0b-bd63f4f255df"
      },
      "source": [
        "%%time\n",
        "\n",
        "history = defaultdict(list)  \n",
        "best_accuracy = 0\n",
        "\n",
        "for epoch in range(EPOCHS):\n",
        "\n",
        "  print(f'Epoch {epoch + 1}/{EPOCHS}')\n",
        "  print('-' * 10)\n",
        "\n",
        "  train_acc, train_loss = train_epoch(\n",
        "    model,\n",
        "    train_data_loader,    \n",
        "    loss_fn, \n",
        "    optimizer, \n",
        "    device, \n",
        "    scheduler, \n",
        "    len(df_train)\n",
        "  )\n",
        "\n",
        "  print(f'Train loss {train_loss} accuracy {train_acc}')\n",
        "\n",
        "  val_acc, val_loss = eval_model(\n",
        "    model,\n",
        "    val_data_loader,\n",
        "    loss_fn, \n",
        "    device, \n",
        "    len(df_val)\n",
        "  )\n",
        "\n",
        "  print(f'Val   loss {val_loss} accuracy {val_acc}')\n",
        "  print()\n",
        "\n",
        "  history['train_acc'].append(train_acc)\n",
        "  history['train_loss'].append(train_loss)\n",
        "  history['val_acc'].append(val_acc)\n",
        "  history['val_loss'].append(val_loss)\n",
        "\n",
        "  if val_acc > best_accuracy:\n",
        "    torch.save(model.state_dict(), 'best_model_state.bin')\n",
        "    best_accuracy = val_acc"
      ],
      "execution_count": 89,
      "outputs": [
        {
          "output_type": "stream",
          "text": [
            "Epoch 1/10\n",
            "----------\n",
            "Train loss 0.7259875598025106 accuracy 0.6713005433632065\n",
            "Val   loss 0.5771395933628082 accuracy 0.7573062261753495\n",
            "\n",
            "Epoch 2/10\n",
            "----------\n",
            "Train loss 0.4178250330977529 accuracy 0.8396725707430669\n",
            "Val   loss 0.578191863745451 accuracy 0.8170266836086404\n",
            "\n",
            "Epoch 3/10\n",
            "----------\n",
            "Train loss 0.24030054481248067 accuracy 0.923223484581187\n",
            "Val   loss 0.666209125816822 accuracy 0.8564167725540026\n",
            "\n",
            "Epoch 4/10\n",
            "----------\n",
            "Train loss 0.16261619593982027 accuracy 0.9525792110648508\n",
            "Val   loss 0.7828194849425927 accuracy 0.8640406607369759\n",
            "\n",
            "Epoch 5/10\n",
            "----------\n",
            "Train loss 0.11866006668966235 accuracy 0.9680333074588949\n",
            "Val   loss 0.7722520168079063 accuracy 0.8767471410419314\n",
            "\n",
            "Epoch 6/10\n",
            "----------\n",
            "Train loss 0.08412379680253837 accuracy 0.9767130054336322\n",
            "Val   loss 0.8669420330470894 accuracy 0.8767471410419314\n",
            "\n",
            "Epoch 7/10\n",
            "----------\n",
            "Train loss 0.0689529925316913 accuracy 0.9817938042481124\n",
            "Val   loss 0.8889056085282937 accuracy 0.8805590851334181\n",
            "\n",
            "Epoch 8/10\n",
            "----------\n",
            "Train loss 0.054009540931221955 accuracy 0.9844753369557547\n",
            "Val   loss 0.8730470825658995 accuracy 0.8754764930114358\n",
            "\n",
            "Epoch 9/10\n",
            "----------\n",
            "Train loss 0.04334226229370018 accuracy 0.9869451697127938\n",
            "Val   loss 0.9608811749552842 accuracy 0.8729351969504447\n",
            "\n",
            "Epoch 10/10\n",
            "----------\n",
            "Train loss 0.03742159083012912 accuracy 0.9875097029144027\n",
            "Val   loss 0.8895454638228694 accuracy 0.8856416772554003\n",
            "\n",
            "CPU times: user 42min 16s, sys: 26min 42s, total: 1h 8min 58s\n",
            "Wall time: 1h 9min 28s\n"
          ],
          "name": "stdout"
        }
      ]
    },
    {
      "cell_type": "markdown",
      "metadata": {
        "id": "LrpTznMgqQh-"
      },
      "source": [
        "Note that we're storing the state of the best model, indicated by the highest validation accuracy."
      ]
    },
    {
      "cell_type": "markdown",
      "metadata": {
        "id": "XTdVW0VMqTVx"
      },
      "source": [
        "We can look at the training vs validation accuracy:"
      ]
    },
    {
      "cell_type": "code",
      "metadata": {
        "id": "twV9M90FqKGd",
        "colab": {
          "base_uri": "https://localhost:8080/",
          "height": 522
        },
        "outputId": "988fcf43-1426-4e8a-d9d5-3e50d7af1af8"
      },
      "source": [
        "plt.plot(history['train_acc'], label='train accuracy')\n",
        "plt.plot(history['val_acc'], label='validation accuracy')\n",
        "\n",
        "plt.title('Training history')\n",
        "plt.ylabel('Accuracy')\n",
        "plt.xlabel('Epoch')\n",
        "plt.legend()\n",
        "plt.ylim([0, 1]);"
      ],
      "execution_count": 90,
      "outputs": [
        {
          "output_type": "display_data",
          "data": {
            "image/png": "[encoded data removed]",
            "text/plain": [
              "<Figure size 864x576 with 1 Axes>"
            ]
          },
          "metadata": {
            "tags": [],
            "image/png": {
              "width": 732,
              "height": 506
            }
          }
        }
      ]
    },
    {
      "cell_type": "markdown",
      "metadata": {
        "id": "ZWn_R_waqZpb"
      },
      "source": [
        "The training accuracy starts to approach 100% after 10 epochs or so. You might try to fine-tune the parameters a bit more, but this will be good enough for us.\n",
        "\n",
        "Don't want to wait? download my trained model:"
      ]
    },
    {
      "cell_type": "code",
      "metadata": {
        "colab": {
          "base_uri": "https://localhost:8080/"
        },
        "id": "wm-MdQ9IqdR0",
        "outputId": "2612410d-784c-492e-9014-36a6e79ff76c"
      },
      "source": [
        "!wget https://www.dropbox.com/s/s2b8r8fpu1aash8/best_model_state.bin\n",
        "\n",
        "model = SentimentClassifier(len(class_names))\n",
        "model.load_state_dict(torch.load('best_model_state.bin'))\n",
        "model = model.to(device)"
      ],
      "execution_count": 95,
      "outputs": [
        {
          "output_type": "stream",
          "text": [
            "--2020-11-26 03:45:47--  https://www.dropbox.com/s/g82n1d3gl0qfycn/best_model_state.bin\n",
            "Resolving www.dropbox.com (www.dropbox.com)... 162.125.1.1, 2620:100:6016:1::a27d:101\n",
            "Connecting to www.dropbox.com (www.dropbox.com)|162.125.1.1|:443... connected.\n",
            "HTTP request sent, awaiting response... 301 Moved Permanently\n",
            "Location: /s/raw/g82n1d3gl0qfycn/best_model_state.bin [following]\n",
            "--2020-11-26 03:45:47--  https://www.dropbox.com/s/raw/g82n1d3gl0qfycn/best_model_state.bin\n",
            "Reusing existing connection to www.dropbox.com:443.\n",
            "HTTP request sent, awaiting response... 302 Found\n",
            "Location: https://uc6dace15b1e144f921d317e4ea0.dl.dropboxusercontent.com/cd/0/inline/BD5inSRNLiuqZbFySD-QqJklDzuTPpHAxDgn9IYBRMsHxMprcW6yhO4GWqEvZZrSy8EF0xXi1cloxbbqwdhZRBRJFvQYAZMt_C9RlMoZWtZkBt4Uto2w_h4hVuwMZhwTJLM/file# [following]\n",
            "--2020-11-26 03:45:47--  https://uc6dace15b1e144f921d317e4ea0.dl.dropboxusercontent.com/cd/0/inline/BD5inSRNLiuqZbFySD-QqJklDzuTPpHAxDgn9IYBRMsHxMprcW6yhO4GWqEvZZrSy8EF0xXi1cloxbbqwdhZRBRJFvQYAZMt_C9RlMoZWtZkBt4Uto2w_h4hVuwMZhwTJLM/file\n",
            "Resolving uc6dace15b1e144f921d317e4ea0.dl.dropboxusercontent.com (uc6dace15b1e144f921d317e4ea0.dl.dropboxusercontent.com)... 162.125.1.15, 2620:100:6016:15::a27d:10f\n",
            "Connecting to uc6dace15b1e144f921d317e4ea0.dl.dropboxusercontent.com (uc6dace15b1e144f921d317e4ea0.dl.dropboxusercontent.com)|162.125.1.15|:443... connected.\n",
            "HTTP request sent, awaiting response... 302 Found\n",
            "Location: /cd/0/inline2/BD6LYlUXhvbXi1DFGhAY1gaV6iCMy8_N0wWxw6whZt9rsq90L31ILpuQh25DZacFogi4RdpepqfdCVJo7aecVmZfoqx_DKZcoMs1CTGy6hAqg-54QxNT5K9M55OVINyUyWXToaKBgNwydJiIfWbqLfpfw0B-9xUB_-Bp1v3KEYW-8pZ2bB5Ua_BWVnOdcs3r8xT7Nb2OJVX8R-T4m9hZojqZGfMWonsP_B75mcAni9yGtBc88_9gHHuMSL-4F52RJkdhFkXlOGI2-IQVSekyfbtmKMcQJAbh37ZdcwBRMCll8SpXAWAU8lc-eihZfDNTTtxLppQya1oxWBoLIsQ7PmP-GfFjbVpqgbexyBGGaONdYQ/file [following]\n",
            "--2020-11-26 03:45:48--  https://uc6dace15b1e144f921d317e4ea0.dl.dropboxusercontent.com/cd/0/inline2/BD6LYlUXhvbXi1DFGhAY1gaV6iCMy8_N0wWxw6whZt9rsq90L31ILpuQh25DZacFogi4RdpepqfdCVJo7aecVmZfoqx_DKZcoMs1CTGy6hAqg-54QxNT5K9M55OVINyUyWXToaKBgNwydJiIfWbqLfpfw0B-9xUB_-Bp1v3KEYW-8pZ2bB5Ua_BWVnOdcs3r8xT7Nb2OJVX8R-T4m9hZojqZGfMWonsP_B75mcAni9yGtBc88_9gHHuMSL-4F52RJkdhFkXlOGI2-IQVSekyfbtmKMcQJAbh37ZdcwBRMCll8SpXAWAU8lc-eihZfDNTTtxLppQya1oxWBoLIsQ7PmP-GfFjbVpqgbexyBGGaONdYQ/file\n",
            "Reusing existing connection to uc6dace15b1e144f921d317e4ea0.dl.dropboxusercontent.com:443.\n",
            "HTTP request sent, awaiting response... 200 OK\n",
            "Length: 433304857 (413M) [application/octet-stream]\n",
            "Saving to: ‘best_model_state.bin.1’\n",
            "\n",
            "best_model_state.bi 100%[===================>] 413.23M   115MB/s    in 3.6s    \n",
            "\n",
            "2020-11-26 03:45:52 (115 MB/s) - ‘best_model_state.bin.1’ saved [433304857/433304857]\n",
            "\n"
          ],
          "name": "stdout"
        }
      ]
    },
    {
      "cell_type": "markdown",
      "metadata": {
        "id": "H8yWOkeaqhcH"
      },
      "source": [
        "### Evaluation\n",
        "\n",
        "Let's start by calculating the accuracy on the test data:"
      ]
    },
    {
      "cell_type": "code",
      "metadata": {
        "colab": {
          "base_uri": "https://localhost:8080/"
        },
        "id": "WVUxnrlWqegW",
        "outputId": "a60e2c3f-94e1-465d-9c91-39f7c56c613f"
      },
      "source": [
        "test_acc, _ = eval_model(\n",
        "  model,\n",
        "  test_data_loader,\n",
        "  loss_fn,\n",
        "  device,\n",
        "  len(df_test)\n",
        ")\n",
        "\n",
        "test_acc.item()"
      ],
      "execution_count": 96,
      "outputs": [
        {
          "output_type": "execute_result",
          "data": {
            "text/plain": [
              "0.8921319796954315"
            ]
          },
          "metadata": {
            "tags": []
          },
          "execution_count": 96
        }
      ]
    },
    {
      "cell_type": "markdown",
      "metadata": {
        "id": "JHYp4wIwrLZU"
      },
      "source": [
        "Our model seems to generalize well.\n",
        "\n",
        "We'll define a helper function to get the predictions from our model:"
      ]
    },
    {
      "cell_type": "code",
      "metadata": {
        "id": "wMQqKrlmrIZ-"
      },
      "source": [
        "def get_predictions(model, data_loader):\n",
        "  model = model.eval()\n",
        "  \n",
        "  review_texts = []\n",
        "  predictions = []\n",
        "  prediction_probs = []\n",
        "  real_values = []\n",
        "\n",
        "  with torch.no_grad():\n",
        "    for d in data_loader:\n",
        "\n",
        "      texts = d[\"review_text\"]\n",
        "      input_ids = d[\"input_ids\"].to(device)\n",
        "      attention_mask = d[\"attention_mask\"].to(device)\n",
        "      targets = d[\"targets\"].to(device)\n",
        "\n",
        "      outputs = model(\n",
        "        input_ids=input_ids,\n",
        "        attention_mask=attention_mask\n",
        "      )\n",
        "      _, preds = torch.max(outputs, dim=1)           \n",
        "\n",
        "      probs = F.softmax(outputs, dim=1)\n",
        "\n",
        "      review_texts.extend(texts)                     \n",
        "      predictions.extend(preds)\n",
        "      prediction_probs.extend(probs)\n",
        "      real_values.extend(targets)\n",
        "\n",
        "  predictions = torch.stack(predictions).cpu()        \n",
        "  prediction_probs = torch.stack(prediction_probs).cpu()\n",
        "  real_values = torch.stack(real_values).cpu()\n",
        "  return review_texts, predictions, prediction_probs, real_values"
      ],
      "execution_count": 97,
      "outputs": []
    },
    {
      "cell_type": "markdown",
      "metadata": {
        "id": "zXTadBDyrQko"
      },
      "source": [
        "This is similar to the evaluation function, except that we're storing the text of the reviews and the predicted probabilities (by applying the softmax on the model outputs):"
      ]
    },
    {
      "cell_type": "code",
      "metadata": {
        "id": "_974zg36rOns"
      },
      "source": [
        "y_review_texts, y_pred, y_pred_probs, y_test = get_predictions(model, test_data_loader)"
      ],
      "execution_count": 98,
      "outputs": []
    },
    {
      "cell_type": "code",
      "metadata": {
        "colab": {
          "base_uri": "https://localhost:8080/"
        },
        "id": "abznLpeMrXj2",
        "outputId": "687c712b-dad0-4289-e727-2fd1e7d6dbb7"
      },
      "source": [
        "print(classification_report(y_test, y_pred, target_names=class_names))    "
      ],
      "execution_count": 99,
      "outputs": [
        {
          "output_type": "stream",
          "text": [
            "              precision    recall  f1-score   support\n",
            "\n",
            "    negative       0.92      0.84      0.88       245\n",
            "     neutral       0.84      0.89      0.86       254\n",
            "    positive       0.92      0.94      0.93       289\n",
            "\n",
            "    accuracy                           0.89       788\n",
            "   macro avg       0.89      0.89      0.89       788\n",
            "weighted avg       0.89      0.89      0.89       788\n",
            "\n"
          ],
          "name": "stdout"
        }
      ]
    },
    {
      "cell_type": "markdown",
      "metadata": {
        "id": "nOwhxtvWrfKP"
      },
      "source": [
        "Looks like it is hard to classify neutral (3 stars) reviews.\n",
        "We'll continue with the confusion matrix:"
      ]
    },
    {
      "cell_type": "code",
      "metadata": {
        "colab": {
          "base_uri": "https://localhost:8080/",
          "height": 531
        },
        "id": "8KZDDSbDrcs5",
        "outputId": "9a462cfa-8ccb-4d74-feea-5a53c20cb4ff"
      },
      "source": [
        "def show_confusion_matrix(confusion_matrix):\n",
        "  hmap = sns.heatmap(confusion_matrix, annot=True, fmt=\"d\", cmap=\"Blues\")\n",
        "  hmap.yaxis.set_ticklabels(hmap.yaxis.get_ticklabels(), rotation=0, ha='right')\n",
        "  hmap.xaxis.set_ticklabels(hmap.xaxis.get_ticklabels(), rotation=30, ha='right')\n",
        "  plt.ylabel('True sentiment')\n",
        "  plt.xlabel('Predicted sentiment');\n",
        "\n",
        "cm = confusion_matrix(y_test, y_pred)\n",
        "df_cm = pd.DataFrame(cm, index=class_names, columns=class_names)\n",
        "show_confusion_matrix(df_cm)"
      ],
      "execution_count": 100,
      "outputs": [
        {
          "output_type": "display_data",
          "data": {
            "image/png": "[encoded data removed]",
            "text/plain": [
              "<Figure size 864x576 with 2 Axes>"
            ]
          },
          "metadata": {
            "tags": [],
            "image/png": {
              "width": 725,
              "height": 516
            }
          }
        }
      ]
    },
    {
      "cell_type": "markdown",
      "metadata": {
        "id": "FDYaLL1Grmzu"
      },
      "source": [
        "This confirms that our model is having difficulty classifying neutral reviews. It mistakes those for negative and positive at a roughly equal frequency."
      ]
    },
    {
      "cell_type": "markdown",
      "metadata": {
        "id": "--WFrmCortE6"
      },
      "source": [
        "### Predicting on Raw Text\n",
        "\n",
        "Let's use our model to predict the sentiment of some raw text:"
      ]
    },
    {
      "cell_type": "code",
      "metadata": {
        "id": "x5I6Qe4_riWK"
      },
      "source": [
        "review_text = \"I don't know\""
      ],
      "execution_count": 107,
      "outputs": []
    },
    {
      "cell_type": "markdown",
      "metadata": {
        "id": "xBAnt6Kerw0i"
      },
      "source": [
        "We have to use the tokenizer to encode the text:"
      ]
    },
    {
      "cell_type": "code",
      "metadata": {
        "id": "1kgyJM7mru3y"
      },
      "source": [
        "encoded_review = tokenizer.encode_plus(\n",
        "  review_text,\n",
        "  max_length=MAX_LEN,\n",
        "  add_special_tokens=True,\n",
        "  return_token_type_ids=False,\n",
        "  pad_to_max_length=True,\n",
        "  return_attention_mask=True,\n",
        "  return_tensors='pt',\n",
        ")"
      ],
      "execution_count": 108,
      "outputs": []
    },
    {
      "cell_type": "markdown",
      "metadata": {
        "id": "7h5Cdw9Ur3VX"
      },
      "source": [
        "Let's get the predictions from our model:"
      ]
    },
    {
      "cell_type": "code",
      "metadata": {
        "colab": {
          "base_uri": "https://localhost:8080/"
        },
        "id": "2tr7OV_er0bc",
        "outputId": "449c00e1-b40f-4afa-a7e4-512a80290547"
      },
      "source": [
        "input_ids = encoded_review['input_ids'].to(device)\n",
        "attention_mask = encoded_review['attention_mask'].to(device)\n",
        "\n",
        "output = model(input_ids, attention_mask)\n",
        "_, prediction = torch.max(output, dim=1)\n",
        "\n",
        "print(f'Review text: {review_text}')\n",
        "print(f'Sentiment  : {class_names[prediction]}')"
      ],
      "execution_count": 109,
      "outputs": [
        {
          "output_type": "stream",
          "text": [
            "Review text: I don't know\n",
            "Sentiment  : neutral\n"
          ],
          "name": "stdout"
        }
      ]
    },
    {
      "cell_type": "markdown",
      "metadata": {
        "id": "rZ9oUDuYsEXq"
      },
      "source": [
        "# References\n",
        "- [Sentiment Analysis with BERT and Transformers by Hugging Face using PyTorch and Python](https://curiousily.com/posts/sentiment-analysis-with-bert-and-hugging-face-using-pytorch-and-python/)\n",
        "- [BERT: Pre-training of Deep Bidirectional Transformers for Language Understanding](https://arxiv.org/abs/1810.04805)\n",
        "- [L11 Language Models - Alec Radford (OpenAI)](https://www.youtube.com/watch?v=BnpB3GrpsfM)\n",
        "- [The Illustrated BERT, ELMo, and co.](https://jalammar.github.io/illustrated-bert/)\n",
        "- [BERT Fine-Tuning Tutorial with PyTorch](https://mccormickml.com/2019/07/22/BERT-fine-tuning/)\n",
        "- [How to Fine-Tune BERT for Text Classification?](https://arxiv.org/pdf/1905.05583.pdf)\n",
        "- [Huggingface Transformers](https://huggingface.co/transformers/)\n",
        "- [BERT Explained: State of the art language model for NLP](https://towardsdatascience.com/bert-explained-state-of-the-art-language-model-for-nlp-f8b21a9b6270)\n",
        "- [BERT implementation](https://github.com/codertimo/BERT-pytorch)"
      ]
    }
  ]
}