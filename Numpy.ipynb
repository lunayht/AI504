{
 "cells": [
  {
   "cell_type": "markdown",
   "metadata": {},
   "source": [
    "# Index\n",
    "* [The Basics](#thebasics)\n",
    "* [Shape Manipulation](#shapemanipulation)\n",
    "* [Copies and Views](#copiesnviews)\n",
    "* [Broadcasting Rules](#broadcastingrules)\n",
    "* [Advanced Indexing and Tricks](#advancedindexing)\n",
    "* [Linear Algebra](#linearalgebra)\n",
    "* [Tricks and Tips](#tricksntips)"
   ]
  },
  {
   "cell_type": "code",
   "execution_count": 1,
   "metadata": {},
   "outputs": [
    {
     "data": {
      "text/plain": [
       "'1.18.4'"
      ]
     },
     "execution_count": 1,
     "metadata": {},
     "output_type": "execute_result"
    }
   ],
   "source": [
    "import numpy as np\n",
    "\n",
    "np.__version__"
   ]
  },
  {
   "cell_type": "markdown",
   "metadata": {},
   "source": [
    "<a id=\"thebasics\"></a>\n",
    "## The Basics\n",
    "\n",
    "Numpy's array class is called ```ndarray```, also known by the alias ```array```. Note that ```np.array``` is not the same as Standard Python Library class ```array.array```.\n",
    "\n",
    "### Important Attributes\n",
    "- ```ndarray.ndim```\n",
    "- ```ndarray.shape```\n",
    "- ```ndarray.size```\n",
    "- ```ndarray.dtype```\n",
    "- ```ndarray.data```"
   ]
  },
  {
   "cell_type": "code",
   "execution_count": 66,
   "metadata": {},
   "outputs": [
    {
     "name": "stdout",
     "output_type": "stream",
     "text": [
      "a:\n",
      "[[[10]\n",
      "  [12]\n",
      "  [14]\n",
      "  [16]\n",
      "  [18]]\n",
      "\n",
      " [[20]\n",
      "  [22]\n",
      "  [24]\n",
      "  [26]\n",
      "  [28]]]\n",
      "\n",
      "type of a:\n",
      "<class 'numpy.ndarray'>\n",
      "\n",
      "ndim of a:\n",
      "3\n",
      "\n",
      "shape of a:\n",
      "(2, 5, 1)\n",
      "\n",
      "size of a:\n",
      "10\n",
      "\n",
      "dtype of a:\n",
      "int64\n",
      "\n",
      "b:\n",
      "[1.3 2.6 3.7]\n",
      "\n",
      "dtype of b:\n",
      "float64\n",
      "\n",
      "c:\n",
      "[[0.76495447 0.70306371]\n",
      " [0.62643073 0.94684424]\n",
      " [0.84711915 0.67685197]]\n",
      "\n"
     ]
    }
   ],
   "source": [
    "# ARRAY CREATION\n",
    "a = np.arange(10,30,2).reshape(2,5,1)\n",
    "\n",
    "print(f\"a:\\n{a}\\n\")\n",
    "print(f\"type of a:\\n{type(a)}\\n\")\n",
    "print(f\"ndim of a:\\n{a.ndim}\\n\")\n",
    "print(f\"shape of a:\\n{a.shape}\\n\")\n",
    "print(f\"size of a:\\n{a.size}\\n\")\n",
    "print(f\"dtype of a:\\n{a.dtype}\\n\")\n",
    "\n",
    "b = np.array([1.3, 2.6, 3.7])\n",
    "print(f\"b:\\n{b}\\n\")\n",
    "print(f\"dtype of b:\\n{b.dtype}\\n\")\n",
    "\n",
    "c = np.random.rand(3,2)\n",
    "print(f\"c:\\n{c}\\n\")"
   ]
  },
  {
   "cell_type": "code",
   "execution_count": 24,
   "metadata": {},
   "outputs": [
    {
     "name": "stdout",
     "output_type": "stream",
     "text": [
      "b:\n",
      "[[1 2]\n",
      " [3 4]]\n",
      "\n",
      "dim of b:\n",
      "2\n",
      "\n",
      "shape of b:\n",
      "(2, 2)\n",
      "\n",
      "c:\n",
      "[[[ 7.]\n",
      "  [ 8.]]\n",
      "\n",
      " [[ 9.]\n",
      "  [10.]]\n",
      "\n",
      " [[11.]\n",
      "  [12.]]]\n",
      "\n",
      "dim of c:\n",
      "3\n",
      "\n",
      "shape of c:\n",
      "(3, 2, 1)\n",
      "\n"
     ]
    }
   ],
   "source": [
    "# array transforms sequences of sequences into 2D arrays\n",
    "# sequences of sequences of sequences into 3D arrays\n",
    "b = np.array([(1, 2), (3, 4)]) \n",
    "print(f\"b:\\n{b}\\n\")\n",
    "print(f\"dim of b:\\n{b.ndim}\\n\")\n",
    "print(f\"shape of b:\\n{b.shape}\\n\")\n",
    "\n",
    "c = np.array([([7], [8]), ([9], [10]), ([11], [12])], dtype=float) \n",
    "print(f\"c:\\n{c}\\n\")\n",
    "print(f\"dim of c:\\n{c.ndim}\\n\")\n",
    "print(f\"shape of c:\\n{c.shape}\\n\")"
   ]
  },
  {
   "cell_type": "code",
   "execution_count": 34,
   "metadata": {},
   "outputs": [
    {
     "name": "stdout",
     "output_type": "stream",
     "text": [
      "[[0.+0.j 0.+0.j 0.+0.j 0.+0.j]\n",
      " [0.+0.j 0.+0.j 0.+0.j 0.+0.j]\n",
      " [0.+0.j 0.+0.j 0.+0.j 0.+0.j]]\n",
      "[[[1 1 1]\n",
      "  [1 1 1]]\n",
      "\n",
      " [[1 1 1]\n",
      "  [1 1 1]]\n",
      "\n",
      " [[1 1 1]\n",
      "  [1 1 1]]\n",
      "\n",
      " [[1 1 1]\n",
      "  [1 1 1]]\n",
      "\n",
      " [[1 1 1]\n",
      "  [1 1 1]]]\n",
      "[[[ 7.]\n",
      "  [ 8.]\n",
      "  [ 9.]]\n",
      "\n",
      " [[10.]\n",
      "  [11.]\n",
      "  [12.]]]\n"
     ]
    }
   ],
   "source": [
    "print(np.zeros((3,4), dtype=complex))\n",
    "print(np.ones((5,2,3), dtype=int))\n",
    "print(np.empty((2,3,1))) # default is float64"
   ]
  },
  {
   "cell_type": "code",
   "execution_count": 46,
   "metadata": {},
   "outputs": [
    {
     "data": {
      "text/plain": [
       "array([[0.        , 0.44879895, 0.8975979 , 1.34639685, 1.7951958 ],\n",
       "       [2.24399475, 2.6927937 , 3.14159265, 3.5903916 , 4.03919055],\n",
       "       [4.48798951, 4.93678846, 5.38558741, 5.83438636, 6.28318531]])"
      ]
     },
     "execution_count": 46,
     "metadata": {},
     "output_type": "execute_result"
    }
   ],
   "source": [
    "from numpy import pi\n",
    "\n",
    "# Linspace takes the min value, max value and no. of elements we want\n",
    "# divide the space equally for us\n",
    "np.linspace(0, 2*pi, 15).reshape(3, 5)"
   ]
  },
  {
   "cell_type": "markdown",
   "metadata": {},
   "source": [
    "### Basic Operations\n",
    "\n",
    "Arithmetic operators on arrays apply **elementwise**. A new array is created and filled with the result. \n",
    "\n",
    "For example: product operator ```*``` operates elementwise in NumPy arrays. Matrix product can be performed using ```@``` operator or the ```dot``` function."
   ]
  },
  {
   "cell_type": "code",
   "execution_count": 65,
   "metadata": {},
   "outputs": [
    {
     "name": "stdout",
     "output_type": "stream",
     "text": [
      "a:\n",
      "[[0 1]\n",
      " [2 3]]\n",
      "b:\n",
      "[[1. 1.]\n",
      " [1. 1.]]\n",
      "a - b:\n",
      "[[-1.  0.]\n",
      " [ 1.  2.]]\n",
      "\n",
      "a * b:\n",
      "[[0. 1.]\n",
      " [2. 3.]]\n",
      "\n",
      "a <= 5:\n",
      "[[ True  True]\n",
      " [ True  True]]\n",
      "\n",
      "Matrix product using @:\n",
      "[[1. 1.]\n",
      " [5. 5.]]\n",
      "\n",
      "using dot:\n",
      "[[1. 1.]\n",
      " [5. 5.]]\n",
      "\n"
     ]
    },
    {
     "data": {
      "text/plain": [
       "array([[1., 2.],\n",
       "       [3., 4.]])"
      ]
     },
     "execution_count": 65,
     "metadata": {},
     "output_type": "execute_result"
    }
   ],
   "source": [
    "a = np.arange(4).reshape(2,2)\n",
    "b = np.ones((2,2))\n",
    "\n",
    "print(f\"a:\\n{a}\\nb:\\n{b}\\na - b:\\n{a-b}\\n\")\n",
    "print(f\"a * b:\\n{a*b}\\n\")\n",
    "print(f\"a <= 5:\\n{a<=5}\\n\")\n",
    "\n",
    "print(f\"Matrix product using @:\\n{a@b}\\n\")\n",
    "print(f\"using dot:\\n{a.dot(b)}\\n\")\n",
    "\n",
    "b += a\n",
    "b"
   ]
  },
  {
   "cell_type": "code",
   "execution_count": 219,
   "metadata": {},
   "outputs": [
    {
     "name": "stdout",
     "output_type": "stream",
     "text": [
      "[[0 1 2]\n",
      " [3 4 5]]\n",
      "\n",
      "column sum: axis=0\n",
      "[3 5 7]\n",
      "\n",
      "row sum: axis=1\n",
      "[ 3 12]\n",
      "\n",
      "min of each row:\n",
      "[0 3]\n",
      "\n",
      "cumulative sum along each row:\n",
      "[[ 0  1  3]\n",
      " [ 3  7 12]]\n",
      "\n",
      "mean of each col:\n",
      "[1.5 2.5 3.5]\n",
      "\n"
     ]
    }
   ],
   "source": [
    "# Sum\n",
    "a = np.arange(6).reshape(2,3)\n",
    "print(a)\n",
    "\n",
    "col_sum = a.sum(axis=0) # sum of each column\n",
    "row_sum = a.sum(axis=1) # sum of each row\n",
    "print(f\"\\ncolumn sum: axis=0\\n{col_sum}\\n\")\n",
    "print(f\"row sum: axis=1\\n{row_sum}\\n\")\n",
    "\n",
    "min_of_row = a.min(axis=1) # min of each row\n",
    "print(f\"min of each row:\\n{min_of_row}\\n\")\n",
    "\n",
    "cum_sum = a.cumsum(axis=1) # cumulative sum along each row\n",
    "print(f\"cumulative sum along each row:\\n{cum_sum}\\n\")\n",
    "\n",
    "avg_col = a.mean(axis=0) # mean of each col\n",
    "print(f\"mean of each col:\\n{avg_col}\\n\")"
   ]
  },
  {
   "cell_type": "markdown",
   "metadata": {},
   "source": [
    "### Indexing, slicing and iterating"
   ]
  },
  {
   "cell_type": "code",
   "execution_count": 129,
   "metadata": {},
   "outputs": [
    {
     "name": "stdout",
     "output_type": "stream",
     "text": [
      "a:\n",
      "[[7 4 1 4]\n",
      " [4 5 5 1]\n",
      " [2 0 0 5]\n",
      " [2 4 3 6]\n",
      " [2 2 3 3]\n",
      " [8 2 5 5]]\n",
      "\n",
      "first row: a[0]\n",
      "[7 4 1 4]\n",
      "\n",
      "second till third row: a[1:3]\n",
      "[[4 5 5 1]\n",
      " [2 0 0 5]]\n",
      "\n",
      "third col: a[:,2]\n",
      "[1 5 0 3 3 5]\n",
      "\n",
      "first col till third col: a[:,:3]\n",
      "[[7 4 1]\n",
      " [4 5 5]\n",
      " [2 0 0]\n",
      " [2 4 3]\n",
      " [2 2 3]\n",
      " [8 2 5]]\n",
      "\n",
      "even num row: a[1:6:2]\n",
      "[[4 5 5 1]\n",
      " [2 4 3 6]\n",
      " [8 2 5 5]]\n",
      "\n",
      "a:\n",
      "[[7 4 1 4]\n",
      " [4 5 5 1]\n",
      " [2 0 0 5]\n",
      " [2 4 3 6]\n",
      " [2 2 3 3]\n",
      " [8 2 5 5]]\n",
      "\n",
      "odd num col: a[:,0:4:2]\n",
      "[[7 1]\n",
      " [4 5]\n",
      " [2 0]\n",
      " [2 3]\n",
      " [2 3]\n",
      " [8 5]]\n",
      "\n",
      "even num idx elements: a[1:6:2,1:4:2]\n",
      "[[5 1]\n",
      " [4 6]\n",
      " [2 5]]\n",
      "\n",
      "reverse a: a[::-1]\n",
      "[[8 2 5 5]\n",
      " [2 2 3 3]\n",
      " [2 4 3 6]\n",
      " [2 0 0 5]\n",
      " [4 5 5 1]\n",
      " [7 4 1 4]]\n",
      "\n",
      "last third to fifth row: a[-5:-2]\n",
      "[[4 5 5 1]\n",
      " [2 0 0 5]\n",
      " [2 4 3 6]]\n",
      "\n"
     ]
    }
   ],
   "source": [
    "a = np.random.randint(9, size=(6,4))\n",
    "\n",
    "print(f\"a:\\n{a}\\n\")\n",
    "print(f\"first row: a[0]\\n{a[0]}\\n\")\n",
    "print(f\"second till third row: a[1:3]\\n{a[1:3]}\\n\")\n",
    "print(f\"third col: a[:,2]\\n{a[:,2]}\\n\")\n",
    "print(f\"first col till third col: a[:,:3]\\n{a[:,:3]}\\n\")\n",
    "print(f\"even num row: a[1:6:2]\\n{a[1:6:2]}\\n\")\n",
    "\n",
    "print(f\"a:\\n{a}\\n\")\n",
    "print(f\"odd num col: a[:,0:4:2]\\n{a[:,0:4:2]}\\n\")\n",
    "print(f\"even num idx elements: a[1:6:2,1:4:2]\\n{a[1:6:2,1:4:2]}\\n\")\n",
    "print(f\"reverse a: a[::-1]\\n{a[::-1]}\\n\")\n",
    "print(f\"last third to fifth row: a[-5:-2]\\n{a[-5:-2]}\\n\")"
   ]
  },
  {
   "cell_type": "markdown",
   "metadata": {},
   "source": [
    "<a id=\"shapemanipulation\"></a>\n",
    "## Shape Manipulation\n",
    "\n",
    "### Changing the shape of array\n",
    "* ```reshape```\n",
    "* ```ravel```\n",
    "* ```transpose```\n",
    "* ```resize```\n",
    "* ```vstack```\n",
    "* ```hstack```\n",
    "* ```concatenate```\n",
    "* ```hsplit```\n",
    "* ```vsplit```\n",
    "\n",
    "The ```reshape``` function returns its argument with a modified shape, whereas the ```resize``` method modified the array itself."
   ]
  },
  {
   "cell_type": "code",
   "execution_count": 201,
   "metadata": {},
   "outputs": [
    {
     "name": "stdout",
     "output_type": "stream",
     "text": [
      "[[1. 1. 1.]\n",
      " [1. 1. 1.]\n",
      " [1. 1. 1.]\n",
      " [1. 1. 1.]\n",
      " [0. 0. 0.]\n",
      " [0. 0. 0.]]\n",
      "[[0.3062563  0.59499114]\n",
      " [0.01513637 0.11232361]]\n",
      "\n",
      "add extra dimension:\n",
      "[[[0.3062563  0.59499114]\n",
      "  [0.01513637 0.11232361]]](1, 2, 2)\n"
     ]
    }
   ],
   "source": [
    "b = np.ones((3,4))\n",
    "b.resize(6,3)\n",
    "print(b)\n",
    "\n",
    "a = np.random.rand(2,2)\n",
    "print(a)\n",
    "extra_dim = a[None,:]\n",
    "print(f\"\\nadd extra dimension:\\n{extra_dim}{extra_dim.shape}\")"
   ]
  },
  {
   "cell_type": "code",
   "execution_count": 186,
   "metadata": {},
   "outputs": [
    {
     "name": "stdout",
     "output_type": "stream",
     "text": [
      "a:\n",
      "[[4.64410575e-01 3.07544601e-01 5.18033352e-01 5.98523524e-01]\n",
      " [7.65630672e-01 7.95722557e-01 8.18135722e-01 2.60016175e-01]\n",
      " [5.11082587e-01 1.72819773e-01 1.47962561e-01 2.58445712e-04]]\n",
      "\n",
      "reshape to (6,2):\n",
      "[[4.64410575e-01 3.07544601e-01]\n",
      " [5.18033352e-01 5.98523524e-01]\n",
      " [7.65630672e-01 7.95722557e-01]\n",
      " [8.18135722e-01 2.60016175e-01]\n",
      " [5.11082587e-01 1.72819773e-01]\n",
      " [1.47962561e-01 2.58445712e-04]]\n",
      "\n",
      "using (4,-1):\n",
      "[[4.64410575e-01 3.07544601e-01 5.18033352e-01]\n",
      " [5.98523524e-01 7.65630672e-01 7.95722557e-01]\n",
      " [8.18135722e-01 2.60016175e-01 5.11082587e-01]\n",
      " [1.72819773e-01 1.47962561e-01 2.58445712e-04]]\n",
      "\n",
      "flatten:\n",
      "[4.64410575e-01 3.07544601e-01 5.18033352e-01 5.98523524e-01\n",
      " 7.65630672e-01 7.95722557e-01 8.18135722e-01 2.60016175e-01\n",
      " 5.11082587e-01 1.72819773e-01 1.47962561e-01 2.58445712e-04]\n",
      "\n",
      "transpose:\n",
      "[[4.64410575e-01 7.65630672e-01 5.11082587e-01]\n",
      " [3.07544601e-01 7.95722557e-01 1.72819773e-01]\n",
      " [5.18033352e-01 8.18135722e-01 1.47962561e-01]\n",
      " [5.98523524e-01 2.60016175e-01 2.58445712e-04]]\n",
      "\n",
      "resize a to (2,2):\n",
      "[[0.46441057 0.3075446 ]\n",
      " [0.51803335 0.59852352]]\n",
      "\n"
     ]
    }
   ],
   "source": [
    "a = np.random.rand(3,4)\n",
    "a_resize = np.resize(a, (2,2))\n",
    "\n",
    "print(f\"a:\\n{a}\\n\")\n",
    "print(f\"reshape to (6,2):\\n{a.reshape(6,2)}\\n\")\n",
    "print(f\"using (4,-1):\\n{a.reshape(4,-1)}\\n\")\n",
    "print(f\"flatten:\\n{a.ravel()}\\n\")\n",
    "print(f\"transpose:\\n{a.T}\\n\")\n",
    "print(f\"resize a to (2,2):\\n{a_resize}\\n\")"
   ]
  },
  {
   "cell_type": "code",
   "execution_count": 220,
   "metadata": {},
   "outputs": [
    {
     "name": "stdout",
     "output_type": "stream",
     "text": [
      "a:\n",
      "[[1. 1.]\n",
      " [1. 1.]]\n",
      "\n",
      "b:\n",
      "[[0. 0.]\n",
      " [0. 0.]]\n",
      "\n",
      "vstack a,b:\n",
      "[[1. 1.]\n",
      " [1. 1.]\n",
      " [0. 0.]\n",
      " [0. 0.]]\n",
      "\n",
      "hstack b,a:\n",
      "[[0. 0. 1. 1.]\n",
      " [0. 0. 1. 1.]]\n",
      "\n",
      "c:\n",
      "[[-10 -11]]\n",
      "\n",
      "d:\n",
      "[[0.97427294 0.83711985]\n",
      " [0.84042664 0.04809956]]\n",
      "\n",
      "concatenate c,d axis=0:\n",
      "[[-10.         -11.        ]\n",
      " [  0.97427294   0.83711985]\n",
      " [  0.84042664   0.04809956]]\n",
      "\n",
      "concatenate d,c axis=0:\n",
      "[[  0.97427294   0.83711985]\n",
      " [  0.84042664   0.04809956]\n",
      " [-10.         -11.        ]]\n",
      "\n",
      "concatenate d,cT axis=1:\n",
      "[[  0.97427294   0.83711985 -10.        ]\n",
      " [  0.84042664   0.04809956 -11.        ]]\n",
      "\n",
      "concatenate axis=None:\n",
      "[-10.         -11.           0.97427294   0.83711985   0.84042664\n",
      "   0.04809956]\n",
      "\n"
     ]
    }
   ],
   "source": [
    "# Stacking together different arrays\n",
    "a = np.ones((2,2))\n",
    "b = np.zeros((2,2))\n",
    "\n",
    "print(f\"a:\\n{a}\\n\")\n",
    "print(f\"b:\\n{b}\\n\")\n",
    "print(f\"vstack a,b:\\n{np.vstack((a,b))}\\n\")\n",
    "print(f\"hstack b,a:\\n{np.hstack((b,a))}\\n\")\n",
    "\n",
    "c = np.array([[-10, -11]])\n",
    "d = np.random.rand(2,2)\n",
    "print(f\"c:\\n{c}\\n\")\n",
    "print(f\"d:\\n{d}\\n\")\n",
    "print(f\"concatenate c,d axis=0:\\n{np.concatenate((c,d), axis=0)}\\n\")\n",
    "print(f\"concatenate d,c axis=0:\\n{np.concatenate((d,c), axis=0)}\\n\")\n",
    "print(f\"concatenate d,cT axis=1:\\n{np.concatenate((d,c.T), axis=1)}\\n\")\n",
    "print(f\"concatenate axis=None:\\n{np.concatenate((c,d), axis=None)}\\n\")"
   ]
  },
  {
   "cell_type": "code",
   "execution_count": 227,
   "metadata": {},
   "outputs": [
    {
     "name": "stdout",
     "output_type": "stream",
     "text": [
      "a:\n",
      "[[0.         0.14285714]\n",
      " [0.28571429 0.42857143]\n",
      " [0.57142857 0.71428571]\n",
      " [0.85714286 1.        ]]\n",
      "\n",
      "hsplit into 2:\n",
      "[array([[0.        ],\n",
      "       [0.28571429],\n",
      "       [0.57142857],\n",
      "       [0.85714286]]), array([[0.14285714],\n",
      "       [0.42857143],\n",
      "       [0.71428571],\n",
      "       [1.        ]])]\n",
      "\n",
      "vsplit into 4:\n",
      "[array([[0.        , 0.14285714]]), array([[0.28571429, 0.42857143]]), array([[0.57142857, 0.71428571]]), array([[0.85714286, 1.        ]])]\n",
      "\n"
     ]
    }
   ],
   "source": [
    "a = np.linspace(0,1,8).reshape(4,2)\n",
    "hsplit_a = np.hsplit(a,2)\n",
    "vsplit_a = np.vsplit(a,4)\n",
    "\n",
    "print(f\"a:\\n{a}\\n\")\n",
    "print(f\"hsplit into 2:\\n{hsplit_a}\\n\")\n",
    "print(f\"vsplit into 4:\\n{vsplit_a}\\n\")"
   ]
  },
  {
   "cell_type": "markdown",
   "metadata": {},
   "source": [
    "<a id=\"copiesnviews\"></a>\n",
    "## Copies and Views\n",
    "When operating and manipulating arrays, the data is sometimes copied into a new array and **sometimes not**. There are 3 cases:\n",
    "* No Copy at All\n",
    "* View or Shallow Copy\n",
    "* Deep Copy"
   ]
  },
  {
   "cell_type": "code",
   "execution_count": 233,
   "metadata": {},
   "outputs": [
    {
     "name": "stdout",
     "output_type": "stream",
     "text": [
      "True\n",
      "a:\n",
      "[[0.    0.125 0.25 ]\n",
      " [0.375 0.5   0.625]\n",
      " [0.75  0.875 1.   ]]\n",
      "\n",
      "after modified:\n",
      "[[-1.     0.125  0.25 ]\n",
      " [ 0.375  0.5    0.625]\n",
      " [ 0.75   0.875  1.   ]]\n",
      "\n",
      "b after modified: exact the same as a\n",
      "[[-1.     0.125  0.25 ]\n",
      " [ 0.375  0.5    0.625]\n",
      " [ 0.75   0.875  1.   ]]\n",
      "\n"
     ]
    }
   ],
   "source": [
    "# NO COPY AT ALL\n",
    "a = np.linspace(0, 1, 9).reshape(3,3)\n",
    "b = a # no new object is created\n",
    "print(b is a) # a and b are 2 names for the same ndarray object\n",
    "\n",
    "print(f\"a:\\n{a}\\n\")\n",
    "a[0,0] = -1\n",
    "print(f\"after modified:\\n{a}\\n\")\n",
    "print(f\"b after modified: exact the same as a\\n{b}\\n\")"
   ]
  },
  {
   "cell_type": "code",
   "execution_count": 250,
   "metadata": {},
   "outputs": [
    {
     "name": "stdout",
     "output_type": "stream",
     "text": [
      "[[1. 1.]\n",
      " [1. 1.]]\n",
      "False\n",
      "\n",
      "after modified:\n",
      "[[0. 1.]\n",
      " [1. 1.]]\n",
      "\n",
      "c after modified: exact the same as a\n",
      "[[0. 1.]\n",
      " [1. 1.]]\n",
      "\n",
      "a after c's reshape to 4,1: No change\n",
      "[[0. 1.]\n",
      " [1. 1.]]\n",
      "\n",
      "a after c's value change:\n",
      "[[-1.  1.]\n",
      " [ 1.  1.]]\n",
      "\n",
      "a after value of d changed:\n",
      "[[100.   1.]\n",
      " [100.   1.]]\n",
      "\n"
     ]
    }
   ],
   "source": [
    "# VIEW OR SHALLOW COPY\n",
    "a = np.ones((2,2))\n",
    "c = a.view()\n",
    "\n",
    "print(c)\n",
    "print(c is a) # c is a view of the data owned by a\n",
    "\n",
    "a[0][0] = 0\n",
    "print(f\"\\nafter modified:\\n{a}\\n\")\n",
    "print(f\"c after modified: exact the same as a\\n{c}\\n\")\n",
    "\n",
    "c = c.reshape((4,1))\n",
    "print(f\"a after c's reshape to 4,1: No change\\n{a}\\n\")\n",
    "\n",
    "c[0,0] = -1\n",
    "print(f\"a after c's value change:\\n{a}\\n\")\n",
    "\n",
    "d = a[:, 0]\n",
    "d[:] = 100 # d[:] is a view of d.\n",
    "print(f\"a after value of d changed:\\n{a}\\n\")"
   ]
  },
  {
   "cell_type": "code",
   "execution_count": 256,
   "metadata": {},
   "outputs": [
    {
     "name": "stdout",
     "output_type": "stream",
     "text": [
      "False\n",
      "False\n",
      "\n",
      "k:\n",
      "[[  0.   0.   0.   0.   0.]\n",
      " [  0.   0.   0.   0.   0.]\n",
      " [  0.   0.   0.   0.   0.]\n",
      " [100. 100. 100. 100. 100.]\n",
      " [  0.   0.   0.   0.   0.]]\n",
      "\n",
      "a after k[3] = 100:\n",
      "[[0. 0. 0. 0. 0.]\n",
      " [0. 0. 0. 0. 0.]\n",
      " [0. 0. 0. 0. 0.]\n",
      " [0. 0. 0. 0. 0.]\n",
      " [0. 0. 0. 0. 0.]]\n",
      "\n"
     ]
    }
   ],
   "source": [
    "# DEEP COPY\n",
    "a = np.zeros((5,5))\n",
    "k = a.copy()\n",
    "\n",
    "print(k is a) # a new array object k with new data is created\n",
    "print(k.base is a) # k doesn't share anything with a\n",
    "\n",
    "k[3] = 100\n",
    "print(f\"\\nk:\\n{k}\\n\")\n",
    "print(f\"a after k[3] = 100:\\n{a}\\n\")"
   ]
  },
  {
   "cell_type": "markdown",
   "metadata": {},
   "source": [
    "<a id=\"broadcastingrules\"></a>\n",
    "## Broadcasting Rules\n",
    "\n",
    "Broadcasting allows universal functions to deal in a meaningful way with inputs that do not have exactly the same shape.\n",
    "\n",
    "### First Rule\n",
    "> If all input arrays do not have the same number of dimensions, a \"1\" will be repeatedly prepended to the shapes of the smaller arrays until all the arrays have the same number of dimensions\n",
    "\n",
    "### Second Rule\n",
    "> Arrays with size of 1 along a particular dimension act as if they had the size of the array with the largest shape along that dimension. The value of the array element is assumed to be the same along that dimension for the \"boradcast\" array.\n",
    "\n",
    "After applying these two rules of broadcasting, the sizes of all arrays must match."
   ]
  },
  {
   "cell_type": "code",
   "execution_count": 266,
   "metadata": {},
   "outputs": [
    {
     "name": "stdout",
     "output_type": "stream",
     "text": [
      "a:\n",
      "[[[ 0  1]\n",
      "  [ 2  3]\n",
      "  [ 4  5]]\n",
      "\n",
      " [[ 6  7]\n",
      "  [ 8  9]\n",
      "  [10 11]]]\n",
      "\n",
      "b:\n",
      "[[0 1]\n",
      " [2 3]\n",
      " [4 5]]\n",
      "\n",
      "a+b:\n",
      "[[[ 0  2]\n",
      "  [ 4  6]\n",
      "  [ 8 10]]\n",
      "\n",
      " [[ 6  8]\n",
      "  [10 12]\n",
      "  [14 16]]]\n",
      "\n"
     ]
    }
   ],
   "source": [
    "a = np.arange(12).reshape((2,3,2))\n",
    "b = np.arange(6).reshape((3,2))\n",
    "\n",
    "print(f\"a:\\n{a}\\n\")\n",
    "print(f\"b:\\n{b}\\n\")\n",
    "print(f\"a+b:\\n{a+b}\\n\")"
   ]
  },
  {
   "cell_type": "markdown",
   "metadata": {},
   "source": [
    "<a id=\"advancedindexing\"></a>\n",
    "## Advanced Indexing and Tricks\n",
    "Arrays can be indexed by arrays of integers and arrays of booleans."
   ]
  },
  {
   "cell_type": "code",
   "execution_count": 270,
   "metadata": {},
   "outputs": [
    {
     "name": "stdout",
     "output_type": "stream",
     "text": [
      "a:\n",
      "[ 0  1  4  9 16 25]\n",
      "\n",
      "a with i idx: [1,3,5]\n",
      "[ 1  9 25]\n",
      "\n",
      "a bidimensional:[[1,2], [3,5]]:\n",
      "[[ 1  4]\n",
      " [ 9 25]]\n",
      "\n"
     ]
    }
   ],
   "source": [
    "a = np.arange(6)**2\n",
    "i = np.array([1, 3, 5])\n",
    "j = np.array([[1,2], [3,5]])\n",
    "\n",
    "print(f\"a:\\n{a}\\n\")\n",
    "print(f\"a with i idx: [1,3,5]\\n{a[i]}\\n\")\n",
    "print(f\"a bidimensional:[[1,2], [3,5]]:\\n{a[j]}\\n\")b"
   ]
  },
  {
   "cell_type": "code",
   "execution_count": 274,
   "metadata": {},
   "outputs": [
    {
     "name": "stdout",
     "output_type": "stream",
     "text": [
      "a:\n",
      "[[0.    0.125 0.25 ]\n",
      " [0.375 0.5   0.625]\n",
      " [0.75  0.875 1.   ]]\n",
      "\n",
      "b:\n",
      "[[ True  True  True]\n",
      " [ True  True False]\n",
      " [False False False]]\n",
      "\n",
      "a[b]:\n",
      "[0.    0.125 0.25  0.375 0.5  ]\n",
      "\n"
     ]
    }
   ],
   "source": [
    "# Indexing with Boolean Arrays\n",
    "a = np.linspace(0,1,9).reshape((3,3))\n",
    "b = a <= 0.5\n",
    "\n",
    "print(f\"a:\\n{a}\\n\")\n",
    "print(f\"b:\\n{b}\\n\")\n",
    "print(f\"a[b]:\\n{a[b]}\\n\")"
   ]
  },
  {
   "cell_type": "code",
   "execution_count": 283,
   "metadata": {},
   "outputs": [
    {
     "data": {
      "text/plain": [
       "<matplotlib.image.AxesImage at 0x7ff2d38cfa60>"
      ]
     },
     "execution_count": 283,
     "metadata": {},
     "output_type": "execute_result"
    },
    {
     "data": {
      "image/png": "[encoded data removed]",
      "text/plain": [
       "<Figure size 432x288 with 1 Axes>"
      ]
     },
     "metadata": {
      "needs_background": "light"
     },
     "output_type": "display_data"
    }
   ],
   "source": [
    "# Using boolean indexing to generate image of Mandelbrot set\n",
    "import numpy as np\n",
    "import matplotlib.pyplot as plt\n",
    "\n",
    "def mandelbrot(h, w, maxit=20):\n",
    "    \"\"\"Display image of mandelbrot\"\"\"\n",
    "    y, x = np.ogrid[-1.4:1.4:h*1j, -2:0.8:w*1j]\n",
    "    c = x + y * 1j\n",
    "    z = c\n",
    "    divtime = maxit + np.zeros(z.shape, dtype=int)\n",
    "    \n",
    "    for i in range(maxit):\n",
    "        z = z**2 + c\n",
    "        diverge = z*np.conj(z) > 2**2          # who is diverging\n",
    "        div_now = diverge & (divtime == maxit) # who is diverging now\n",
    "        divtime[div_now] = i                   # when diverge\n",
    "        z[diverge] = 3                         # avoid diverging too much\n",
    "    \n",
    "    return divtime\n",
    "\n",
    "plt.imshow(mandelbrot(500,500))"
   ]
  },
  {
   "cell_type": "markdown",
   "metadata": {},
   "source": [
    "<a id=\"linearalgebra\"></a>\n",
    "## Linear Algebra"
   ]
  },
  {
   "cell_type": "code",
   "execution_count": 293,
   "metadata": {},
   "outputs": [
    {
     "name": "stdout",
     "output_type": "stream",
     "text": [
      "a:\n",
      "[[0 1]\n",
      " [2 3]]\n",
      "\n",
      "a.T:\n",
      "[[0 2]\n",
      " [1 3]]\n",
      "\n",
      "a transpose:\n",
      "[[0 2]\n",
      " [1 3]]\n",
      "\n",
      "inverse of a: inv\n",
      "[[-1.5  0.5]\n",
      " [ 1.   0. ]]\n",
      "\n",
      "pseudo inverse: pinv\n",
      "[[-1.50000000e+00  5.00000000e-01]\n",
      " [ 1.00000000e+00  4.21097322e-17]]\n",
      "\n",
      "I:\n",
      "[[1. 0. 0.]\n",
      " [0. 1. 0.]\n",
      " [0. 0. 1.]]\n",
      "\n",
      "diagonal sum: np.trace\n",
      "3.0\n",
      "\n",
      "flip I:\n",
      "[[0. 0. 1.]\n",
      " [0. 1. 0.]\n",
      " [1. 0. 0.]]\n",
      "\n"
     ]
    }
   ],
   "source": [
    "# Simple Array Operations\n",
    "a = np.arange(4).reshape((2,2))\n",
    "\n",
    "print(f\"a:\\n{a}\\n\")\n",
    "print(f\"a.T:\\n{a.T}\\n\")\n",
    "print(f\"a transpose:\\n{a.transpose()}\\n\")\n",
    "print(f\"inverse of a: inv\\n{np.linalg.inv(a)}\\n\")\n",
    "print(f\"pseudo inverse: pinv\\n{np.linalg.pinv(a)}\\n\")\n",
    "\n",
    "I = np.eye(3) # identity matrix\n",
    "print(f\"I:\\n{I}\\n\")\n",
    "print(f\"diagonal sum: np.trace\\n{np.trace(I)}\\n\")\n",
    "I_flip = np.fliplr(I)\n",
    "print(f\"flip I:\\n{I_flip}\\n\")"
   ]
  },
  {
   "cell_type": "markdown",
   "metadata": {},
   "source": [
    "<a id=\"tricksntips\"></a>\n",
    "## Tricks and Tips"
   ]
  },
  {
   "cell_type": "code",
   "execution_count": 295,
   "metadata": {},
   "outputs": [
    {
     "name": "stdout",
     "output_type": "stream",
     "text": [
      "(5, 2, 5)\n",
      "[[[ 0  1  2  3  4]\n",
      "  [ 5  6  7  8  9]]\n",
      "\n",
      " [[10 11 12 13 14]\n",
      "  [15 16 17 18 19]]\n",
      "\n",
      " [[20 21 22 23 24]\n",
      "  [25 26 27 28 29]]\n",
      "\n",
      " [[30 31 32 33 34]\n",
      "  [35 36 37 38 39]]\n",
      "\n",
      " [[40 41 42 43 44]\n",
      "  [45 46 47 48 49]]]\n"
     ]
    }
   ],
   "source": [
    "# \"Automatic\" Reshaping\n",
    "a = np.arange(50)\n",
    "b = a.reshape((5,2,-1))\n",
    "print(b.shape)\n",
    "print(b)"
   ]
  },
  {
   "cell_type": "code",
   "execution_count": 299,
   "metadata": {},
   "outputs": [
    {
     "data": {
      "text/plain": [
       "[<matplotlib.lines.Line2D at 0x7ff2bc148ee0>]"
      ]
     },
     "execution_count": 299,
     "metadata": {},
     "output_type": "execute_result"
    },
    {
     "data": {
      "image/png": "[encoded data removed]",
      "text/plain": [
       "<Figure size 432x288 with 1 Axes>"
      ]
     },
     "metadata": {
      "needs_background": "light"
     },
     "output_type": "display_data"
    }
   ],
   "source": [
    "# Histograms\n",
    "import numpy as np\n",
    "import matplotlib.pyplot as plt\n",
    "\n",
    "# Build a vector of 10000 normal deviates with variance 0.5^2 and mu 5\n",
    "rg = np.random.default_rng(1)\n",
    "mu, sigma = 2, 0.5\n",
    "v = rg.normal(mu, sigma, 10000)\n",
    "\n",
    "plt.hist(v, bins=50, density=1)\n",
    "(n, bins) = np.histogram(v, bins=50, density=True)\n",
    "plt.plot(.5*(bins[1:]+bins[:-1]), n)"
   ]
  }
 ],
 "metadata": {
  "kernelspec": {
   "display_name": "Python 3",
   "language": "python",
   "name": "python3"
  },
  "language_info": {
   "codemirror_mode": {
    "name": "ipython",
    "version": 3
   },
   "file_extension": ".py",
   "mimetype": "text/x-python",
   "name": "python",
   "nbconvert_exporter": "python",
   "pygments_lexer": "ipython3",
   "version": "3.8.2"
  }
 },
 "nbformat": 4,
 "nbformat_minor": 4
}
