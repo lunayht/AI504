{
 "cells": [
  {
   "cell_type": "markdown",
   "metadata": {
    "colab_type": "text",
    "id": "qFoq-khqMAh7"
   },
   "source": [
    "# Autoencoder"
   ]
  },
  {
   "cell_type": "markdown",
   "metadata": {
    "colab_type": "text",
    "id": "XXpqf4nGMAh8"
   },
   "source": [
    "## 1. Settings"
   ]
  },
  {
   "cell_type": "markdown",
   "metadata": {
    "colab_type": "text",
    "id": "cuiAb_LX2QiB"
   },
   "source": [
    "### 1) Import required libraries"
   ]
  },
  {
   "cell_type": "code",
   "execution_count": 1,
   "metadata": {
    "colab": {},
    "colab_type": "code",
    "id": "gOFx3VQpMAh-"
   },
   "outputs": [],
   "source": [
    "import numpy as np\n",
    "import torch\n",
    "import torch.nn as nn\n",
    "import torch.optim as optim\n",
    "import torch.nn.init as init\n",
    "import torchvision.datasets as dset\n",
    "import torchvision.transforms as transforms\n",
    "from torch.utils.data import DataLoader\n",
    "import matplotlib.pyplot as plt\n",
    "import matplotlib as mpl"
   ]
  },
  {
   "cell_type": "markdown",
   "metadata": {
    "colab_type": "text",
    "id": "OBDG968zMAiC"
   },
   "source": [
    "### 2) Set hyperparameters"
   ]
  },
  {
   "cell_type": "code",
   "execution_count": 2,
   "metadata": {
    "colab": {},
    "colab_type": "code",
    "id": "oxPTgvcjMAiD"
   },
   "outputs": [],
   "source": [
    "batch_size = 256\n",
    "learning_rate = 0.0002\n",
    "num_epochs = 50"
   ]
  },
  {
   "cell_type": "markdown",
   "metadata": {
    "colab_type": "text",
    "id": "7uaV_HtJMAiG"
   },
   "source": [
    "## 2. Data"
   ]
  },
  {
   "cell_type": "markdown",
   "metadata": {
    "colab_type": "text",
    "id": "yeRww6jr2iZd"
   },
   "source": [
    "### 1) Download Data"
   ]
  },
  {
   "cell_type": "code",
   "execution_count": 3,
   "metadata": {
    "colab": {
     "base_uri": "https://localhost:8080/",
     "height": 386,
     "referenced_widgets": [
      "84ccbf2fdabf41779a21d5f828abb4d9",
      "0e5f9e8da5f84e329dda0a86ed5f99d1",
      "89cb2c234096474eb00c67b9e1ff1280",
      "5829cbf368794c76bf59fbbc001892a6",
      "845d0016d9364b91b7796fe2d580d89c",
      "7f142ce7b22f4bf59b768539e8f5ef0d",
      "24e2a92a91894cfca8a57076f2b57388",
      "53ce7ae1d36044a894d2c0d9878570c1",
      "25483d509e2a4a099899aa9dd7eb1c9f",
      "5a0e7d2b1c804f8ca273551f493bb8c3",
      "d51963b5b6c546acb14429a3f21f0776",
      "f4af4502e55c40f2bf655ebf16647620",
      "d6d69312c63f4d4280280e29ab4d57ed",
      "4881aaf70ec54f2a8f950ecd548f73a8",
      "c691c910818a4f24b5e2d4e3a683ea91",
      "4c8497e5f2d946d492770a985b6d8c70",
      "438a52eeb8f24eabb36625e7aeb44f5e",
      "1efaaa8032a046b28f6ad523791a999d",
      "e02e4f0da4fa4d00b10e912b31f75fbb",
      "ec31753211dd443aa4b8498b2f9927d9",
      "452a7a6e2d514ca3b6eae182e8b28006",
      "f25ba04408584d9493857cd744217bf7",
      "45124e2b77604dfbb33d4bed5103cd97",
      "ee05ce12e0244e7b9cc7fdac30885399",
      "788dc6bad89040b4a4027e4c97be8e35",
      "d57d7215df0040c78f59cb195a8c000f",
      "8723625afecc4fb1a95c56dba2707710",
      "5e662097643d48faba2e242ed43e6907",
      "0c0e15e01ec54445950f065fa4af1218",
      "07b3a11fa2a1443db390e3e49a97ef99",
      "9e16d113b12f4d1b875fc13ee145a67a",
      "03749c543ac94f92afa6326f8409a79b"
     ]
    },
    "colab_type": "code",
    "executionInfo": {
     "elapsed": 7320,
     "status": "ok",
     "timestamp": 1600624780367,
     "user": {
      "displayName": "Woncheol Shin",
      "photoUrl": "",
      "userId": "08310100070658885752"
     },
     "user_tz": -540
    },
    "id": "he-GrlguMAiG",
    "outputId": "70bfc578-6463-4b7e-e00d-62db0705893d"
   },
   "outputs": [],
   "source": [
    "mnist_train = dset.MNIST(\"./\", train=True, transform=transforms.ToTensor(), target_transform=None, download=True)\n",
    "mnist_test = dset.MNIST(\"./\", train=False, transform=transforms.ToTensor(), target_transform=None, download=True)\n",
    "mnist_train, mnist_val = torch.utils.data.random_split(mnist_train, [50000, 10000])"
   ]
  },
  {
   "cell_type": "code",
   "execution_count": 4,
   "metadata": {
    "colab": {
     "base_uri": "https://localhost:8080/",
     "height": 34
    },
    "colab_type": "code",
    "executionInfo": {
     "elapsed": 7311,
     "status": "ok",
     "timestamp": 1600624780368,
     "user": {
      "displayName": "Woncheol Shin",
      "photoUrl": "",
      "userId": "08310100070658885752"
     },
     "user_tz": -540
    },
    "id": "w2flOQIh3Mu_",
    "outputId": "9a570a95-b531-432e-d68e-9d6267d5854c"
   },
   "outputs": [
    {
     "data": {
      "text/plain": [
       "torch.Size([1, 28, 28])"
      ]
     },
     "execution_count": 4,
     "metadata": {},
     "output_type": "execute_result"
    }
   ],
   "source": [
    "mnist_train[0][0].size()    # (1, 28, 28)"
   ]
  },
  {
   "cell_type": "code",
   "execution_count": 5,
   "metadata": {
    "colab": {
     "base_uri": "https://localhost:8080/",
     "height": 34
    },
    "colab_type": "code",
    "executionInfo": {
     "elapsed": 7303,
     "status": "ok",
     "timestamp": 1600624780369,
     "user": {
      "displayName": "Woncheol Shin",
      "photoUrl": "",
      "userId": "08310100070658885752"
     },
     "user_tz": -540
    },
    "id": "VFezXtf51OH_",
    "outputId": "da1899da-83c8-4de6-cce8-9c21d3f35685"
   },
   "outputs": [
    {
     "data": {
      "text/plain": [
       "4"
      ]
     },
     "execution_count": 5,
     "metadata": {},
     "output_type": "execute_result"
    }
   ],
   "source": [
    "mnist_train[0][1]           # label"
   ]
  },
  {
   "cell_type": "markdown",
   "metadata": {
    "colab_type": "text",
    "id": "rKz97cYDMAiJ"
   },
   "source": [
    "### 2) Set DataLoader"
   ]
  },
  {
   "cell_type": "code",
   "execution_count": 6,
   "metadata": {
    "colab": {},
    "colab_type": "code",
    "id": "a2YVorheoJKR"
   },
   "outputs": [],
   "source": [
    "dataloaders = {}\n",
    "dataloaders['train'] = DataLoader(mnist_train, batch_size=batch_size, shuffle=True)\n",
    "dataloaders['val'] = DataLoader(mnist_val, batch_size=batch_size, shuffle=False)\n",
    "dataloaders['test'] = DataLoader(mnist_test, batch_size=batch_size, shuffle=False)"
   ]
  },
  {
   "cell_type": "code",
   "execution_count": 7,
   "metadata": {
    "colab": {
     "base_uri": "https://localhost:8080/",
     "height": 34
    },
    "colab_type": "code",
    "executionInfo": {
     "elapsed": 7291,
     "status": "ok",
     "timestamp": 1600624780371,
     "user": {
      "displayName": "Woncheol Shin",
      "photoUrl": "",
      "userId": "08310100070658885752"
     },
     "user_tz": -540
    },
    "id": "V83NRcPjaE1t",
    "outputId": "1582762c-3517-443e-8964-5f7587841772"
   },
   "outputs": [
    {
     "data": {
      "text/plain": [
       "196"
      ]
     },
     "execution_count": 7,
     "metadata": {},
     "output_type": "execute_result"
    }
   ],
   "source": [
    "len(dataloaders[\"train\"])"
   ]
  },
  {
   "cell_type": "markdown",
   "metadata": {
    "colab_type": "text",
    "id": "gWlU96lLMAiM"
   },
   "source": [
    "## 3. Model & Optimizer"
   ]
  },
  {
   "cell_type": "markdown",
   "metadata": {
    "colab_type": "text",
    "id": "vZjl2GHl5gj8"
   },
   "source": [
    "### 1) Model"
   ]
  },
  {
   "cell_type": "code",
   "execution_count": 8,
   "metadata": {
    "colab": {
     "base_uri": "https://localhost:8080/",
     "height": 34
    },
    "colab_type": "code",
    "executionInfo": {
     "elapsed": 7282,
     "status": "ok",
     "timestamp": 1600624780372,
     "user": {
      "displayName": "Woncheol Shin",
      "photoUrl": "",
      "userId": "08310100070658885752"
     },
     "user_tz": -540
    },
    "id": "mTd6rSIFMAiN",
    "outputId": "a1040c10-c266-45d2-cfb7-3e2211b0971a"
   },
   "outputs": [],
   "source": [
    "# build your own autoencoder\n",
    "# in my case: 784(28*28) -> 100 -> 30 -> 100 -> 784(28*28)\n",
    "\n",
    "class Autoencoder(nn.Module):\n",
    "    def __init__(self):\n",
    "        super(Autoencoder,self).__init__()\n",
    "        self.encoder = nn.Sequential(\n",
    "            nn.Linear(in_features=784, out_features=100),    \n",
    "            nn.ReLU(),                          # activation function\n",
    "            nn.Linear(in_features=100, out_features=30),\n",
    "            nn.ReLU()                           # activation function\n",
    "        )\n",
    "        \n",
    "        self.decoder = nn.Sequential(\n",
    "            nn.Linear(in_features=30, out_features=100),\n",
    "            nn.ReLU(),                          # activation function\n",
    "            nn.Linear(in_features=100, out_features=784),\n",
    "            nn.ReLU()                           # activation function\n",
    "        )\n",
    "\n",
    "                \n",
    "    def forward(self, x):                # x: (batch_size, 1, 28, 28)\n",
    "        batch_size = x.size(0)\n",
    "        x = x.view(-1, 28*28)                         # reshape to 784(28*28)-dimensional vector\n",
    "        encoded = self.encoder(x)                    # hidden vector\n",
    "        out = self.decoder(encoded).view(batch_size, 1, 28, 28)                        # final output. resize to input's size\n",
    "        return out, encoded\n"
   ]
  },
  {
   "cell_type": "markdown",
   "metadata": {
    "colab_type": "text",
    "id": "yLiqw-rpMAiP"
   },
   "source": [
    "### 2) Loss func & Optimizer"
   ]
  },
  {
   "cell_type": "code",
   "execution_count": 9,
   "metadata": {
    "colab": {
     "base_uri": "https://localhost:8080/",
     "height": 34
    },
    "colab_type": "code",
    "executionInfo": {
     "elapsed": 7273,
     "status": "ok",
     "timestamp": 1600624780372,
     "user": {
      "displayName": "Woncheol Shin",
      "photoUrl": "",
      "userId": "08310100070658885752"
     },
     "user_tz": -540
    },
    "id": "ZKc1UKNgMAiQ",
    "outputId": "fa03997f-7ad4-4f51-ba04-1c205251e05d"
   },
   "outputs": [
    {
     "name": "stdout",
     "output_type": "stream",
     "text": [
      "cuda:0\n"
     ]
    }
   ],
   "source": [
    "device = torch.device(\"cuda:0\" if torch.cuda.is_available() else \"cpu\")\n",
    "print(device)"
   ]
  },
  {
   "cell_type": "code",
   "execution_count": 10,
   "metadata": {
    "colab": {},
    "colab_type": "code",
    "id": "K9o1euqGI0jm"
   },
   "outputs": [],
   "source": [
    "model = Autoencoder().to(device)\n",
    "loss_func = nn.MSELoss()\n",
    "optimizer = torch.optim.Adam(model.parameters(), lr=learning_rate)"
   ]
  },
  {
   "cell_type": "markdown",
   "metadata": {
    "colab_type": "text",
    "id": "_W2UI2F_MAiT"
   },
   "source": [
    "## 4. Train "
   ]
  },
  {
   "cell_type": "code",
   "execution_count": 11,
   "metadata": {
    "colab": {},
    "colab_type": "code",
    "id": "HSa4Z2lMcGwL"
   },
   "outputs": [],
   "source": [
    "import time\n",
    "import copy\n",
    "\n",
    "def train_model(model, dataloaders, criterion, optimizer, num_epochs=10):\n",
    "    \"\"\"\n",
    "    model: model to train\n",
    "    dataloaders: train, val, test data's loader\n",
    "    criterion: loss function\n",
    "    optimizer: optimizer to update your model\n",
    "    \"\"\"\n",
    "    since = time.time()\n",
    "\n",
    "    train_loss_history = []\n",
    "    val_loss_history = []\n",
    "\n",
    "    best_model_wts = copy.deepcopy(model.state_dict())\n",
    "    best_val_loss = 100000000\n",
    "\n",
    "    for epoch in range(num_epochs):\n",
    "        print('Epoch {}/{}'.format(epoch, num_epochs - 1))\n",
    "        print('-' * 10)\n",
    "\n",
    "        # Each epoch has a training and validation phase\n",
    "        for phase in ['train', 'val']:\n",
    "            if phase == 'train':\n",
    "                model.train()            # Set model to training mode\n",
    "            else:\n",
    "                model.eval()            # Set model to evaluate mode\n",
    "\n",
    "            running_loss = 0.0\n",
    "\n",
    "            # Iterate over data.\n",
    "            for inputs, labels in dataloaders[phase]:\n",
    "                inputs = inputs.to(device)                                       # transfer inputs to GPU \n",
    "\n",
    "                # zero the parameter gradients\n",
    "                optimizer.zero_grad()\n",
    "\n",
    "                # forward\n",
    "                # track history if only in train\n",
    "                with torch.set_grad_enabled(phase == 'train'):\n",
    "\n",
    "                    outputs, encoded = model(inputs)\n",
    "                    loss = loss_func(outputs, inputs)                          # calculate a loss\n",
    "\n",
    "\n",
    "                    # backward + optimize only if in training phase\n",
    "                    if phase == 'train':\n",
    "                        loss.backward()                             # perform back-propagation from the loss\n",
    "                        optimizer.step()                             # perform gradient descent with given optimizer\n",
    "\n",
    "                # statistics\n",
    "                running_loss += loss.item() * inputs.size(0)                    \n",
    "\n",
    "            epoch_loss = running_loss / len(dataloaders[phase].dataset)\n",
    "\n",
    "            print('{} Loss: {:.4f}'.format(phase, epoch_loss))\n",
    "            \n",
    "            # deep copy the model\n",
    "            if phase == 'train':\n",
    "                train_loss_history.append(epoch_loss)\n",
    "            \n",
    "            if phase == 'val':\n",
    "                val_loss_history.append(epoch_loss)\n",
    "\n",
    "            if phase == 'val' and epoch_loss < best_val_loss:\n",
    "                best_val_loss = epoch_loss\n",
    "                best_model_wts = copy.deepcopy(model.state_dict())\n",
    "                \n",
    "            \n",
    "        print()\n",
    "\n",
    "    time_elapsed = time.time() - since\n",
    "    print('Training complete in {:.0f}m {:.0f}s'.format(time_elapsed // 60, time_elapsed % 60))\n",
    "    print('Best val Loss: {:4f}'.format(best_val_loss))\n",
    "\n",
    "    # load best model weights\n",
    "    model.load_state_dict(best_model_wts)\n",
    "    return model, train_loss_history, val_loss_history"
   ]
  },
  {
   "cell_type": "code",
   "execution_count": 12,
   "metadata": {
    "colab": {
     "base_uri": "https://localhost:8080/",
     "height": 901
    },
    "colab_type": "code",
    "executionInfo": {
     "elapsed": 57618,
     "status": "ok",
     "timestamp": 1600624830739,
     "user": {
      "displayName": "Woncheol Shin",
      "photoUrl": "",
      "userId": "08310100070658885752"
     },
     "user_tz": -540
    },
    "id": "XTgWxvbai42S",
    "outputId": "ec2e8ac3-44d7-494c-cbff-9f7dc873e92c",
    "scrolled": false
   },
   "outputs": [
    {
     "name": "stdout",
     "output_type": "stream",
     "text": [
      "Epoch 0/49\n",
      "----------\n",
      "train Loss: 0.0751\n",
      "val Loss: 0.0556\n",
      "\n",
      "Epoch 1/49\n",
      "----------\n",
      "train Loss: 0.0435\n",
      "val Loss: 0.0360\n",
      "\n",
      "Epoch 2/49\n",
      "----------\n",
      "train Loss: 0.0330\n",
      "val Loss: 0.0309\n",
      "\n",
      "Epoch 3/49\n",
      "----------\n",
      "train Loss: 0.0295\n",
      "val Loss: 0.0283\n",
      "\n",
      "Epoch 4/49\n",
      "----------\n",
      "train Loss: 0.0273\n",
      "val Loss: 0.0265\n",
      "\n",
      "Epoch 5/49\n",
      "----------\n",
      "train Loss: 0.0257\n",
      "val Loss: 0.0250\n",
      "\n",
      "Epoch 6/49\n",
      "----------\n",
      "train Loss: 0.0243\n",
      "val Loss: 0.0239\n",
      "\n",
      "Epoch 7/49\n",
      "----------\n",
      "train Loss: 0.0234\n",
      "val Loss: 0.0232\n",
      "\n",
      "Epoch 8/49\n",
      "----------\n",
      "train Loss: 0.0227\n",
      "val Loss: 0.0226\n",
      "\n",
      "Epoch 9/49\n",
      "----------\n",
      "train Loss: 0.0222\n",
      "val Loss: 0.0220\n",
      "\n",
      "Epoch 10/49\n",
      "----------\n",
      "train Loss: 0.0217\n",
      "val Loss: 0.0216\n",
      "\n",
      "Epoch 11/49\n",
      "----------\n",
      "train Loss: 0.0213\n",
      "val Loss: 0.0213\n",
      "\n",
      "Epoch 12/49\n",
      "----------\n",
      "train Loss: 0.0210\n",
      "val Loss: 0.0211\n",
      "\n",
      "Epoch 13/49\n",
      "----------\n",
      "train Loss: 0.0208\n",
      "val Loss: 0.0208\n",
      "\n",
      "Epoch 14/49\n",
      "----------\n",
      "train Loss: 0.0206\n",
      "val Loss: 0.0207\n",
      "\n",
      "Epoch 15/49\n",
      "----------\n",
      "train Loss: 0.0202\n",
      "val Loss: 0.0201\n",
      "\n",
      "Epoch 16/49\n",
      "----------\n",
      "train Loss: 0.0199\n",
      "val Loss: 0.0199\n",
      "\n",
      "Epoch 17/49\n",
      "----------\n",
      "train Loss: 0.0197\n",
      "val Loss: 0.0198\n",
      "\n",
      "Epoch 18/49\n",
      "----------\n",
      "train Loss: 0.0196\n",
      "val Loss: 0.0197\n",
      "\n",
      "Epoch 19/49\n",
      "----------\n",
      "train Loss: 0.0195\n",
      "val Loss: 0.0196\n",
      "\n",
      "Epoch 20/49\n",
      "----------\n",
      "train Loss: 0.0194\n",
      "val Loss: 0.0195\n",
      "\n",
      "Epoch 21/49\n",
      "----------\n",
      "train Loss: 0.0193\n",
      "val Loss: 0.0194\n",
      "\n",
      "Epoch 22/49\n",
      "----------\n",
      "train Loss: 0.0193\n",
      "val Loss: 0.0194\n",
      "\n",
      "Epoch 23/49\n",
      "----------\n",
      "train Loss: 0.0192\n",
      "val Loss: 0.0193\n",
      "\n",
      "Epoch 24/49\n",
      "----------\n",
      "train Loss: 0.0191\n",
      "val Loss: 0.0192\n",
      "\n",
      "Epoch 25/49\n",
      "----------\n",
      "train Loss: 0.0191\n",
      "val Loss: 0.0192\n",
      "\n",
      "Epoch 26/49\n",
      "----------\n",
      "train Loss: 0.0190\n",
      "val Loss: 0.0192\n",
      "\n",
      "Epoch 27/49\n",
      "----------\n",
      "train Loss: 0.0190\n",
      "val Loss: 0.0191\n",
      "\n",
      "Epoch 28/49\n",
      "----------\n",
      "train Loss: 0.0189\n",
      "val Loss: 0.0190\n",
      "\n",
      "Epoch 29/49\n",
      "----------\n",
      "train Loss: 0.0189\n",
      "val Loss: 0.0190\n",
      "\n",
      "Epoch 30/49\n",
      "----------\n",
      "train Loss: 0.0188\n",
      "val Loss: 0.0190\n",
      "\n",
      "Epoch 31/49\n",
      "----------\n",
      "train Loss: 0.0188\n",
      "val Loss: 0.0189\n",
      "\n",
      "Epoch 32/49\n",
      "----------\n",
      "train Loss: 0.0187\n",
      "val Loss: 0.0189\n",
      "\n",
      "Epoch 33/49\n",
      "----------\n",
      "train Loss: 0.0187\n",
      "val Loss: 0.0188\n",
      "\n",
      "Epoch 34/49\n",
      "----------\n",
      "train Loss: 0.0187\n",
      "val Loss: 0.0188\n",
      "\n",
      "Epoch 35/49\n",
      "----------\n",
      "train Loss: 0.0186\n",
      "val Loss: 0.0188\n",
      "\n",
      "Epoch 36/49\n",
      "----------\n",
      "train Loss: 0.0186\n",
      "val Loss: 0.0188\n",
      "\n",
      "Epoch 37/49\n",
      "----------\n",
      "train Loss: 0.0186\n",
      "val Loss: 0.0187\n",
      "\n",
      "Epoch 38/49\n",
      "----------\n",
      "train Loss: 0.0185\n",
      "val Loss: 0.0187\n",
      "\n",
      "Epoch 39/49\n",
      "----------\n",
      "train Loss: 0.0185\n",
      "val Loss: 0.0187\n",
      "\n",
      "Epoch 40/49\n",
      "----------\n",
      "train Loss: 0.0185\n",
      "val Loss: 0.0187\n",
      "\n",
      "Epoch 41/49\n",
      "----------\n",
      "train Loss: 0.0185\n",
      "val Loss: 0.0186\n",
      "\n",
      "Epoch 42/49\n",
      "----------\n",
      "train Loss: 0.0185\n",
      "val Loss: 0.0186\n",
      "\n",
      "Epoch 43/49\n",
      "----------\n",
      "train Loss: 0.0184\n",
      "val Loss: 0.0186\n",
      "\n",
      "Epoch 44/49\n",
      "----------\n",
      "train Loss: 0.0184\n",
      "val Loss: 0.0186\n",
      "\n",
      "Epoch 45/49\n",
      "----------\n",
      "train Loss: 0.0184\n",
      "val Loss: 0.0185\n",
      "\n",
      "Epoch 46/49\n",
      "----------\n",
      "train Loss: 0.0184\n",
      "val Loss: 0.0185\n",
      "\n",
      "Epoch 47/49\n",
      "----------\n",
      "train Loss: 0.0183\n",
      "val Loss: 0.0185\n",
      "\n",
      "Epoch 48/49\n",
      "----------\n",
      "train Loss: 0.0183\n",
      "val Loss: 0.0185\n",
      "\n",
      "Epoch 49/49\n",
      "----------\n",
      "train Loss: 0.0183\n",
      "val Loss: 0.0185\n",
      "\n",
      "Training complete in 4m 21s\n",
      "Best val Loss: 0.018461\n"
     ]
    }
   ],
   "source": [
    "best_model, train_loss_history, val_loss_history = train_model(model, dataloaders, loss_func, optimizer, num_epochs=num_epochs)"
   ]
  },
  {
   "cell_type": "code",
   "execution_count": 16,
   "metadata": {
    "colab": {
     "base_uri": "https://localhost:8080/",
     "height": 279
    },
    "colab_type": "code",
    "executionInfo": {
     "elapsed": 57611,
     "status": "ok",
     "timestamp": 1600624830740,
     "user": {
      "displayName": "Woncheol Shin",
      "photoUrl": "",
      "userId": "08310100070658885752"
     },
     "user_tz": -540
    },
    "id": "CSxdlpwLVjIG",
    "outputId": "7d07ea69-ac38-4aab-da33-58f06b39792a"
   },
   "outputs": [
    {
     "data": {
      "image/png": "[encoded data removed]",
      "text/plain": [
       "<Figure size 432x288 with 1 Axes>"
      ]
     },
     "metadata": {
      "needs_background": "light"
     },
     "output_type": "display_data"
    }
   ],
   "source": [
    "# Let's draw a learning curve like below.\n",
    "plt.plot(train_loss_history, label=\"train loss\")\n",
    "plt.plot(val_loss_history, label=\"val loss\")\n",
    "plt.xlabel(\"epoch\")\n",
    "plt.ylabel(\"loss\")\n",
    "plt.legend()\n",
    "plt.show()"
   ]
  },
  {
   "cell_type": "markdown",
   "metadata": {
    "colab_type": "text",
    "id": "qbYYgt8WTZzY"
   },
   "source": [
    "## 5. Check with Test Image"
   ]
  },
  {
   "cell_type": "code",
   "execution_count": 37,
   "metadata": {
    "colab": {
     "base_uri": "https://localhost:8080/",
     "height": 34
    },
    "colab_type": "code",
    "executionInfo": {
     "elapsed": 58104,
     "status": "ok",
     "timestamp": 1600624831242,
     "user": {
      "displayName": "Woncheol Shin",
      "photoUrl": "",
      "userId": "08310100070658885752"
     },
     "user_tz": -540
    },
    "id": "XCKx34u5MAic",
    "outputId": "cfa5674a-4728-44ab-cb10-e66df835f7cf"
   },
   "outputs": [
    {
     "name": "stdout",
     "output_type": "stream",
     "text": [
      "0.01962647212445736\n"
     ]
    }
   ],
   "source": [
    "with torch.no_grad():\n",
    "    running_loss = 0.0\n",
    "    for inputs, labels in dataloaders[\"test\"]:\n",
    "        inputs = inputs.to(device)\n",
    "\n",
    "        outputs, encoded = best_model(inputs)\n",
    "        test_loss = loss_func(outputs, inputs)\n",
    "        \n",
    "        running_loss += test_loss.item() * inputs.size(0)\n",
    "\n",
    "    test_loss = running_loss / len(dataloaders[\"test\"].dataset)\n",
    "    print(test_loss)        "
   ]
  },
  {
   "cell_type": "code",
   "execution_count": 38,
   "metadata": {
    "colab": {
     "base_uri": "https://localhost:8080/",
     "height": 954
    },
    "colab_type": "code",
    "executionInfo": {
     "elapsed": 59149,
     "status": "ok",
     "timestamp": 1600624832307,
     "user": {
      "displayName": "Woncheol Shin",
      "photoUrl": "",
      "userId": "08310100070658885752"
     },
     "user_tz": -540
    },
    "id": "rvww5H9GMAie",
    "outputId": "9e70b6fc-3dfe-498e-d721-fb3784e0278f",
    "scrolled": false
   },
   "outputs": [
    {
     "name": "stdout",
     "output_type": "stream",
     "text": [
      "torch.Size([16, 28, 28])\n"
     ]
    },
    {
     "data": {
      "image/png": "[encoded data removed]",
      "text/plain": [
       "<Figure size 432x288 with 2 Axes>"
      ]
     },
     "metadata": {
      "needs_background": "light"
     },
     "output_type": "display_data"
    },
    {
     "data": {
      "image/png": "[encoded data removed]",
      "text/plain": [
       "<Figure size 432x288 with 2 Axes>"
      ]
     },
     "metadata": {
      "needs_background": "light"
     },
     "output_type": "display_data"
    },
    {
     "data": {
      "image/png": "[encoded data removed]",
      "text/plain": [
       "<Figure size 432x288 with 2 Axes>"
      ]
     },
     "metadata": {
      "needs_background": "light"
     },
     "output_type": "display_data"
    },
    {
     "data": {
      "image/png": "[encoded data removed]",
      "text/plain": [
       "<Figure size 432x288 with 2 Axes>"
      ]
     },
     "metadata": {
      "needs_background": "light"
     },
     "output_type": "display_data"
    },
    {
     "data": {
      "image/png": "[encoded data removed]",
      "text/plain": [
       "<Figure size 432x288 with 2 Axes>"
      ]
     },
     "metadata": {
      "needs_background": "light"
     },
     "output_type": "display_data"
    }
   ],
   "source": [
    "out_img = torch.squeeze(outputs.cpu().data)\n",
    "print(out_img.size())\n",
    "\n",
    "for i in range(5):\n",
    "    plt.subplot(1,2,1)\n",
    "    plt.imshow(torch.squeeze(inputs[i]).cpu().numpy(),cmap='gray')\n",
    "    plt.subplot(1,2,2)\n",
    "    plt.imshow(out_img[i].numpy(),cmap='gray')\n",
    "    plt.show()"
   ]
  },
  {
   "cell_type": "markdown",
   "metadata": {
    "colab_type": "text",
    "id": "eA994jG-X53U"
   },
   "source": [
    "## 6. Visualizing MNIST"
   ]
  },
  {
   "cell_type": "code",
   "execution_count": 16,
   "metadata": {
    "colab": {},
    "colab_type": "code",
    "id": "T_W-7sy8WT54"
   },
   "outputs": [],
   "source": [
    "np.random.seed(42)\n",
    "\n",
    "from sklearn.manifold import TSNE"
   ]
  },
  {
   "cell_type": "code",
   "execution_count": 28,
   "metadata": {
    "colab": {},
    "colab_type": "code",
    "id": "IzOQPuxchAJq"
   },
   "outputs": [],
   "source": [
    "test_dataset_array = mnist_test.data.numpy() / 255\n",
    "test_dataset_array = np.float32(test_dataset_array)\n",
    "labels = mnist_test.targets.numpy()"
   ]
  },
  {
   "cell_type": "code",
   "execution_count": 29,
   "metadata": {
    "colab": {},
    "colab_type": "code",
    "id": "aPh9EtHZjCqH"
   },
   "outputs": [],
   "source": [
    "test_dataset_array = torch.tensor(test_dataset_array)\n",
    "inputs = test_dataset_array.to(device)\n",
    "outputs, encoded = best_model(inputs)"
   ]
  },
  {
   "cell_type": "code",
   "execution_count": 30,
   "metadata": {
    "colab": {},
    "colab_type": "code",
    "id": "7cWVqp0DWUg8"
   },
   "outputs": [],
   "source": [
    "encoded = encoded.cpu().detach().numpy()\n",
    "tsne = TSNE()   \n",
    "X_test_2D = tsne.fit_transform(encoded)\n",
    "X_test_2D = (X_test_2D - X_test_2D.min()) / (X_test_2D.max() - X_test_2D.min())"
   ]
  },
  {
   "cell_type": "markdown",
   "metadata": {
    "colab": {
     "base_uri": "https://localhost:8080/",
     "height": 248
    },
    "colab_type": "code",
    "executionInfo": {
     "elapsed": 148361,
     "status": "ok",
     "timestamp": 1600624921559,
     "user": {
      "displayName": "Woncheol Shin",
      "photoUrl": "",
      "userId": "08310100070658885752"
     },
     "user_tz": -540
    },
    "id": "XM23epMaXyua",
    "outputId": "84ccdcc0-f472-4247-d16b-92d7a50d9df5"
   },
   "source": [
    "plt.scatter(X_test_2D[:, 0], X_test_2D[:, 1], c=labels, s=10, cmap=\"tab10\")\n",
    "plt.axis(\"off\")\n",
    "plt.show()"
   ]
  },
  {
   "cell_type": "markdown",
   "metadata": {
    "colab_type": "text",
    "id": "plqT50pDYEqK"
   },
   "source": [
    "Let's make this diagram a bit prettier:"
   ]
  },
  {
   "cell_type": "code",
   "execution_count": 31,
   "metadata": {
    "colab": {
     "base_uri": "https://localhost:8080/",
     "height": 466
    },
    "colab_type": "code",
    "executionInfo": {
     "elapsed": 149290,
     "status": "ok",
     "timestamp": 1600624922500,
     "user": {
      "displayName": "Woncheol Shin",
      "photoUrl": "",
      "userId": "08310100070658885752"
     },
     "user_tz": -540
    },
    "id": "jbkgwf3zXzI2",
    "outputId": "44a2e579-6312-43e3-b05d-b6ce1720b7f6"
   },
   "outputs": [
    {
     "data": {
      "image/png": "[encoded data removed]",
      "text/plain": [
       "<Figure size 720x576 with 1 Axes>"
      ]
     },
     "metadata": {
      "needs_background": "light"
     },
     "output_type": "display_data"
    }
   ],
   "source": [
    "# adapted from https://scikit-learn.org/stable/auto_examples/manifold/plot_lle_digits.html\n",
    "plt.figure(figsize=(10, 8))\n",
    "cmap = plt.cm.tab10\n",
    "plt.scatter(X_test_2D[:, 0], X_test_2D[:, 1], c=labels, s=10, cmap=cmap)\n",
    "image_positions = np.array([[1., 1.]])\n",
    "for index, position in enumerate(X_test_2D):\n",
    "    dist = np.sum((position - image_positions) ** 2, axis=1)\n",
    "    if np.min(dist) > 0.02: # if far enough from other images\n",
    "        image_positions = np.r_[image_positions, [position]]\n",
    "        imagebox = mpl.offsetbox.AnnotationBbox(\n",
    "            mpl.offsetbox.OffsetImage(torch.squeeze(inputs).cpu().numpy()[index], cmap=\"binary\"),\n",
    "            position, bboxprops={\"edgecolor\": cmap(labels[index]), \"lw\": 2})\n",
    "        plt.gca().add_artist(imagebox)\n",
    "plt.axis(\"off\")\n",
    "plt.show()"
   ]
  },
  {
   "cell_type": "code",
   "execution_count": null,
   "metadata": {
    "colab": {},
    "colab_type": "code",
    "id": "utDLVRM7Ov2l"
   },
   "outputs": [],
   "source": []
  },
  {
   "cell_type": "code",
   "execution_count": null,
   "metadata": {
    "colab": {},
    "colab_type": "code",
    "id": "qR0tnNSDb_-4"
   },
   "outputs": [],
   "source": []
  },
  {
   "cell_type": "markdown",
   "metadata": {
    "colab_type": "text",
    "id": "fN02iieYcDG2"
   },
   "source": [
    "# Denoising Autoencoder"
   ]
  },
  {
   "cell_type": "code",
   "execution_count": 19,
   "metadata": {
    "colab": {},
    "colab_type": "code",
    "id": "2rpW3c1leLf1"
   },
   "outputs": [],
   "source": [
    "model_D = Autoencoder().to(device)\n",
    "loss_func = nn.MSELoss()\n",
    "optimizer = torch.optim.Adam(model_D.parameters(), lr=learning_rate)"
   ]
  },
  {
   "cell_type": "code",
   "execution_count": 22,
   "metadata": {
    "colab": {},
    "colab_type": "code",
    "id": "9sX5Ke5wg3LK"
   },
   "outputs": [],
   "source": [
    "# It's all the same except for one: adding noise to inputs\n",
    "# copy train_model() code and just add 'noise part'\n",
    "# Hint: You can make noise like this.\n",
    "# noise = torch.zeros(inputs.size(0), 1, 28, 28)\n",
    "# nn.init.normal_(noise, 0, 0.1)\n",
    "\n",
    "def train_model_D(model, dataloaders, criterion, optimizer, num_epochs=10):\n",
    "    \"\"\"\n",
    "    model: model to train\n",
    "    dataloaders: train, val, test data's loader\n",
    "    criterion: loss function\n",
    "    optimizer: optimizer to update your model\n",
    "    \"\"\"\n",
    "    since = time.time()\n",
    "\n",
    "    train_loss_history = []\n",
    "    val_loss_history = []\n",
    "\n",
    "    best_model_wts = copy.deepcopy(model.state_dict())\n",
    "    best_val_loss = 100000000\n",
    "\n",
    "    for epoch in range(num_epochs):\n",
    "        print('Epoch {}/{}'.format(epoch, num_epochs - 1))\n",
    "        print('-' * 10)\n",
    "\n",
    "        # Each epoch has a training and validation phase\n",
    "        for phase in ['train', 'val']:\n",
    "            if phase == 'train':\n",
    "                model.train()            # Set model to training mode\n",
    "            else:\n",
    "                model.eval()            # Set model to evaluate mode\n",
    "\n",
    "            running_loss = 0.0\n",
    "\n",
    "            # Iterate over data.\n",
    "            for inputs, labels in dataloaders[phase]:\n",
    "                noise = torch.zeros(inputs.size(0), 1, 28, 28)\n",
    "                nn.init.normal_(noise, 0, 0.1)\n",
    "                noise = noise.to(device)\n",
    "                inputs = inputs.to(device)\n",
    "                noise_inputs = noise + inputs # transfer inputs to GPU \n",
    "\n",
    "                # zero the parameter gradients\n",
    "                optimizer.zero_grad()\n",
    "\n",
    "                # forward\n",
    "                # track history if only in train\n",
    "                with torch.set_grad_enabled(phase == 'train'):\n",
    "\n",
    "                    outputs, encoded = model(noise_inputs)\n",
    "                    loss = loss_func(outputs, inputs)                          # calculate a loss\n",
    "\n",
    "\n",
    "                    # backward + optimize only if in training phase\n",
    "                    if phase == 'train':\n",
    "                        loss.backward()                             # perform back-propagation from the loss\n",
    "                        optimizer.step()                             # perform gradient descent with given optimizer\n",
    "\n",
    "                # statistics\n",
    "                running_loss += loss.item() * inputs.size(0)                    \n",
    "\n",
    "            epoch_loss = running_loss / len(dataloaders[phase].dataset)\n",
    "\n",
    "            print('{} Loss: {:.4f}'.format(phase, epoch_loss))\n",
    "            \n",
    "            # deep copy the model\n",
    "            if phase == 'train':\n",
    "                train_loss_history.append(epoch_loss)\n",
    "            \n",
    "            if phase == 'val':\n",
    "                val_loss_history.append(epoch_loss)\n",
    "\n",
    "            if phase == 'val' and epoch_loss < best_val_loss:\n",
    "                best_val_loss = epoch_loss\n",
    "                best_model_wts = copy.deepcopy(model.state_dict())\n",
    "                \n",
    "            \n",
    "        print()\n",
    "\n",
    "    time_elapsed = time.time() - since\n",
    "    print('Training complete in {:.0f}m {:.0f}s'.format(time_elapsed // 60, time_elapsed % 60))\n",
    "    print('Best val Loss: {:4f}'.format(best_val_loss))\n",
    "\n",
    "    # load best model weights\n",
    "    model.load_state_dict(best_model_wts)\n",
    "    return model, train_loss_history, val_loss_history"
   ]
  },
  {
   "cell_type": "code",
   "execution_count": 23,
   "metadata": {
    "colab": {
     "base_uri": "https://localhost:8080/",
     "height": 901
    },
    "colab_type": "code",
    "executionInfo": {
     "elapsed": 193803,
     "status": "ok",
     "timestamp": 1600624967058,
     "user": {
      "displayName": "Woncheol Shin",
      "photoUrl": "",
      "userId": "08310100070658885752"
     },
     "user_tz": -540
    },
    "id": "9vFT8feZiB1M",
    "outputId": "d32d842c-ac65-46c8-acd4-f72a1a2d1bad",
    "scrolled": false
   },
   "outputs": [
    {
     "name": "stdout",
     "output_type": "stream",
     "text": [
      "Epoch 0/40\n",
      "----------\n",
      "train Loss: 0.1124\n",
      "val Loss: 0.0695\n",
      "\n",
      "Epoch 1/40\n",
      "----------\n",
      "train Loss: 0.0642\n",
      "val Loss: 0.0578\n",
      "\n",
      "Epoch 2/40\n",
      "----------\n",
      "train Loss: 0.0536\n",
      "val Loss: 0.0479\n",
      "\n",
      "Epoch 3/40\n",
      "----------\n",
      "train Loss: 0.0438\n",
      "val Loss: 0.0405\n",
      "\n",
      "Epoch 4/40\n",
      "----------\n",
      "train Loss: 0.0386\n",
      "val Loss: 0.0365\n",
      "\n",
      "Epoch 5/40\n",
      "----------\n",
      "train Loss: 0.0348\n",
      "val Loss: 0.0331\n",
      "\n",
      "Epoch 6/40\n",
      "----------\n",
      "train Loss: 0.0317\n",
      "val Loss: 0.0302\n",
      "\n",
      "Epoch 7/40\n",
      "----------\n",
      "train Loss: 0.0289\n",
      "val Loss: 0.0277\n",
      "\n",
      "Epoch 8/40\n",
      "----------\n",
      "train Loss: 0.0267\n",
      "val Loss: 0.0258\n",
      "\n",
      "Epoch 9/40\n",
      "----------\n",
      "train Loss: 0.0252\n",
      "val Loss: 0.0245\n",
      "\n",
      "Epoch 10/40\n",
      "----------\n",
      "train Loss: 0.0240\n",
      "val Loss: 0.0235\n",
      "\n",
      "Epoch 11/40\n",
      "----------\n",
      "train Loss: 0.0230\n",
      "val Loss: 0.0226\n",
      "\n",
      "Epoch 12/40\n",
      "----------\n",
      "train Loss: 0.0222\n",
      "val Loss: 0.0218\n",
      "\n",
      "Epoch 13/40\n",
      "----------\n",
      "train Loss: 0.0214\n",
      "val Loss: 0.0211\n",
      "\n",
      "Epoch 14/40\n",
      "----------\n",
      "train Loss: 0.0207\n",
      "val Loss: 0.0204\n",
      "\n",
      "Epoch 15/40\n",
      "----------\n",
      "train Loss: 0.0201\n",
      "val Loss: 0.0198\n",
      "\n",
      "Epoch 16/40\n",
      "----------\n",
      "train Loss: 0.0195\n",
      "val Loss: 0.0193\n",
      "\n",
      "Epoch 17/40\n",
      "----------\n",
      "train Loss: 0.0190\n",
      "val Loss: 0.0187\n",
      "\n",
      "Epoch 18/40\n",
      "----------\n",
      "train Loss: 0.0184\n",
      "val Loss: 0.0182\n",
      "\n",
      "Epoch 19/40\n",
      "----------\n",
      "train Loss: 0.0179\n",
      "val Loss: 0.0177\n",
      "\n",
      "Epoch 20/40\n",
      "----------\n",
      "train Loss: 0.0175\n",
      "val Loss: 0.0172\n",
      "\n",
      "Epoch 21/40\n",
      "----------\n",
      "train Loss: 0.0170\n",
      "val Loss: 0.0169\n",
      "\n",
      "Epoch 22/40\n",
      "----------\n",
      "train Loss: 0.0166\n",
      "val Loss: 0.0164\n",
      "\n",
      "Epoch 23/40\n",
      "----------\n",
      "train Loss: 0.0162\n",
      "val Loss: 0.0161\n",
      "\n",
      "Epoch 24/40\n",
      "----------\n",
      "train Loss: 0.0159\n",
      "val Loss: 0.0158\n",
      "\n",
      "Epoch 25/40\n",
      "----------\n",
      "train Loss: 0.0156\n",
      "val Loss: 0.0155\n",
      "\n",
      "Epoch 26/40\n",
      "----------\n",
      "train Loss: 0.0153\n",
      "val Loss: 0.0152\n",
      "\n",
      "Epoch 27/40\n",
      "----------\n",
      "train Loss: 0.0150\n",
      "val Loss: 0.0149\n",
      "\n",
      "Epoch 28/40\n",
      "----------\n",
      "train Loss: 0.0147\n",
      "val Loss: 0.0147\n",
      "\n",
      "Epoch 29/40\n",
      "----------\n",
      "train Loss: 0.0145\n",
      "val Loss: 0.0144\n",
      "\n",
      "Epoch 30/40\n",
      "----------\n",
      "train Loss: 0.0143\n",
      "val Loss: 0.0142\n",
      "\n",
      "Epoch 31/40\n",
      "----------\n",
      "train Loss: 0.0140\n",
      "val Loss: 0.0141\n",
      "\n",
      "Epoch 32/40\n",
      "----------\n",
      "train Loss: 0.0139\n",
      "val Loss: 0.0138\n",
      "\n",
      "Epoch 33/40\n",
      "----------\n",
      "train Loss: 0.0137\n",
      "val Loss: 0.0137\n",
      "\n",
      "Epoch 34/40\n",
      "----------\n",
      "train Loss: 0.0135\n",
      "val Loss: 0.0135\n",
      "\n",
      "Epoch 35/40\n",
      "----------\n",
      "train Loss: 0.0133\n",
      "val Loss: 0.0134\n",
      "\n",
      "Epoch 36/40\n",
      "----------\n",
      "train Loss: 0.0132\n",
      "val Loss: 0.0132\n",
      "\n",
      "Epoch 37/40\n",
      "----------\n",
      "train Loss: 0.0131\n",
      "val Loss: 0.0131\n",
      "\n",
      "Epoch 38/40\n",
      "----------\n",
      "train Loss: 0.0129\n",
      "val Loss: 0.0129\n",
      "\n",
      "Epoch 39/40\n",
      "----------\n",
      "train Loss: 0.0128\n",
      "val Loss: 0.0128\n",
      "\n",
      "Epoch 40/40\n",
      "----------\n",
      "train Loss: 0.0127\n",
      "val Loss: 0.0127\n",
      "\n",
      "Training complete in 4m 12s\n",
      "Best val Loss: 0.012709\n"
     ]
    }
   ],
   "source": [
    "best_model_D, train_loss_history_D, val_loss_history_D = train_model_D(model_D, dataloaders, loss_func, optimizer, num_epochs=num_epochs)"
   ]
  },
  {
   "cell_type": "code",
   "execution_count": 24,
   "metadata": {
    "colab": {
     "base_uri": "https://localhost:8080/",
     "height": 280
    },
    "colab_type": "code",
    "executionInfo": {
     "elapsed": 193793,
     "status": "ok",
     "timestamp": 1600624967059,
     "user": {
      "displayName": "Woncheol Shin",
      "photoUrl": "",
      "userId": "08310100070658885752"
     },
     "user_tz": -540
    },
    "id": "c7ru3Gq-VQPX",
    "outputId": "1aae90cf-0aac-4c3b-b09d-e5d26fad1645"
   },
   "outputs": [
    {
     "data": {
      "image/png": "[encoded data removed]",
      "text/plain": [
       "<Figure size 432x288 with 1 Axes>"
      ]
     },
     "metadata": {
      "needs_background": "light"
     },
     "output_type": "display_data"
    }
   ],
   "source": [
    "plt.plot(train_loss_history_D, label=\"train\")\n",
    "plt.plot(val_loss_history_D, label=\"val\")\n",
    "plt.xlabel(\"epoch\")\n",
    "plt.ylabel(\"loss\")\n",
    "plt.legend()\n",
    "plt.show()"
   ]
  },
  {
   "cell_type": "code",
   "execution_count": 25,
   "metadata": {
    "colab": {
     "base_uri": "https://localhost:8080/",
     "height": 34
    },
    "colab_type": "code",
    "executionInfo": {
     "elapsed": 194260,
     "status": "ok",
     "timestamp": 1600624967537,
     "user": {
      "displayName": "Woncheol Shin",
      "photoUrl": "",
      "userId": "08310100070658885752"
     },
     "user_tz": -540
    },
    "id": "i4OOPlpveiFL",
    "outputId": "d79571ea-b273-436c-be0f-1f1ebfa85284"
   },
   "outputs": [
    {
     "name": "stdout",
     "output_type": "stream",
     "text": [
      "0.012249002242088318\n"
     ]
    }
   ],
   "source": [
    "with torch.no_grad():\n",
    "  running_loss = 0.0\n",
    "  for inputs, labels in dataloaders['test']:\n",
    "      noise = nn.init.normal_(torch.FloatTensor(inputs.size(0), 1, 28, 28), 0, 0.1)\n",
    "      noise = noise.to(device)\n",
    "      inputs = inputs.to(device)\n",
    "      noise_inputs = inputs + noise\n",
    "\n",
    "      outputs, encoded = best_model_D(noise_inputs)\n",
    "      test_loss = loss_func(outputs, inputs)\n",
    "      \n",
    "      running_loss += test_loss.item()* inputs.size(0)\n",
    "\n",
    "  test_loss = running_loss / len(dataloaders['test'].dataset)\n",
    "  print(test_loss) "
   ]
  },
  {
   "cell_type": "code",
   "execution_count": 26,
   "metadata": {
    "colab": {
     "base_uri": "https://localhost:8080/",
     "height": 954
    },
    "colab_type": "code",
    "executionInfo": {
     "elapsed": 195840,
     "status": "ok",
     "timestamp": 1600624969127,
     "user": {
      "displayName": "Woncheol Shin",
      "photoUrl": "",
      "userId": "08310100070658885752"
     },
     "user_tz": -540
    },
    "id": "e_VzzQ4Te1Gm",
    "outputId": "f52a2acd-94fb-4b8f-b1c5-a335a77a123b"
   },
   "outputs": [
    {
     "name": "stdout",
     "output_type": "stream",
     "text": [
      "torch.Size([16, 28, 28])\n"
     ]
    },
    {
     "data": {
      "image/png": "[encoded data removed]",
      "text/plain": [
       "<Figure size 432x288 with 2 Axes>"
      ]
     },
     "metadata": {
      "needs_background": "light"
     },
     "output_type": "display_data"
    },
    {
     "data": {
      "image/png": "[encoded data removed]",
      "text/plain": [
       "<Figure size 432x288 with 2 Axes>"
      ]
     },
     "metadata": {
      "needs_background": "light"
     },
     "output_type": "display_data"
    },
    {
     "data": {
      "image/png": "[encoded data removed]",
      "text/plain": [
       "<Figure size 432x288 with 2 Axes>"
      ]
     },
     "metadata": {
      "needs_background": "light"
     },
     "output_type": "display_data"
    },
    {
     "data": {
      "image/png": "[encoded data removed]",
      "text/plain": [
       "<Figure size 432x288 with 2 Axes>"
      ]
     },
     "metadata": {
      "needs_background": "light"
     },
     "output_type": "display_data"
    },
    {
     "data": {
      "image/png": "[encoded data removed]",
      "text/plain": [
       "<Figure size 432x288 with 2 Axes>"
      ]
     },
     "metadata": {
      "needs_background": "light"
     },
     "output_type": "display_data"
    }
   ],
   "source": [
    "out_img = torch.squeeze(outputs.cpu().data)\n",
    "print(out_img.size())\n",
    "\n",
    "for i in range(5):\n",
    "    plt.subplot(1,2,1)\n",
    "    plt.imshow(torch.squeeze(noise_inputs[i]).cpu().numpy(),cmap='gray')\n",
    "    plt.subplot(1,2,2)\n",
    "    plt.imshow(out_img[i].numpy(),cmap='gray')\n",
    "    plt.show()"
   ]
  },
  {
   "cell_type": "code",
   "execution_count": null,
   "metadata": {
    "colab": {},
    "colab_type": "code",
    "id": "clHU0awFiOe8"
   },
   "outputs": [],
   "source": []
  },
  {
   "cell_type": "code",
   "execution_count": null,
   "metadata": {
    "colab": {},
    "colab_type": "code",
    "id": "I5tAcWcqfQvi"
   },
   "outputs": [],
   "source": []
  }
 ],
 "metadata": {
  "accelerator": "GPU",
  "colab": {
   "collapsed_sections": [],
   "name": "ai504_04_autoencoder_qus.ipynb",
   "provenance": [],
   "toc_visible": true
  },
  "kernelspec": {
   "display_name": "Python 3",
   "language": "python",
   "name": "python3"
  },
  "language_info": {
   "codemirror_mode": {
    "name": "ipython",
    "version": 3
   },
   "file_extension": ".py",
   "mimetype": "text/x-python",
   "name": "python",
   "nbconvert_exporter": "python",
   "pygments_lexer": "ipython3",
   "version": "3.8.5"
  },
  "widgets": {
   "application/vnd.jupyter.widget-state+json": {
    "03749c543ac94f92afa6326f8409a79b": {
     "model_module": "@jupyter-widgets/base",
     "model_name": "LayoutModel",
     "state": {
      "_model_module": "@jupyter-widgets/base",
      "_model_module_version": "1.2.0",
      "_model_name": "LayoutModel",
      "_view_count": null,
      "_view_module": "@jupyter-widgets/base",
      "_view_module_version": "1.2.0",
      "_view_name": "LayoutView",
      "align_content": null,
      "align_items": null,
      "align_self": null,
      "border": null,
      "bottom": null,
      "display": null,
      "flex": null,
      "flex_flow": null,
      "grid_area": null,
      "grid_auto_columns": null,
      "grid_auto_flow": null,
      "grid_auto_rows": null,
      "grid_column": null,
      "grid_gap": null,
      "grid_row": null,
      "grid_template_areas": null,
      "grid_template_columns": null,
      "grid_template_rows": null,
      "height": null,
      "justify_content": null,
      "justify_items": null,
      "left": null,
      "margin": null,
      "max_height": null,
      "max_width": null,
      "min_height": null,
      "min_width": null,
      "object_fit": null,
      "object_position": null,
      "order": null,
      "overflow": null,
      "overflow_x": null,
      "overflow_y": null,
      "padding": null,
      "right": null,
      "top": null,
      "visibility": null,
      "width": null
     }
    },
    "07b3a11fa2a1443db390e3e49a97ef99": {
     "model_module": "@jupyter-widgets/base",
     "model_name": "LayoutModel",
     "state": {
      "_model_module": "@jupyter-widgets/base",
      "_model_module_version": "1.2.0",
      "_model_name": "LayoutModel",
      "_view_count": null,
      "_view_module": "@jupyter-widgets/base",
      "_view_module_version": "1.2.0",
      "_view_name": "LayoutView",
      "align_content": null,
      "align_items": null,
      "align_self": null,
      "border": null,
      "bottom": null,
      "display": null,
      "flex": null,
      "flex_flow": null,
      "grid_area": null,
      "grid_auto_columns": null,
      "grid_auto_flow": null,
      "grid_auto_rows": null,
      "grid_column": null,
      "grid_gap": null,
      "grid_row": null,
      "grid_template_areas": null,
      "grid_template_columns": null,
      "grid_template_rows": null,
      "height": null,
      "justify_content": null,
      "justify_items": null,
      "left": null,
      "margin": null,
      "max_height": null,
      "max_width": null,
      "min_height": null,
      "min_width": null,
      "object_fit": null,
      "object_position": null,
      "order": null,
      "overflow": null,
      "overflow_x": null,
      "overflow_y": null,
      "padding": null,
      "right": null,
      "top": null,
      "visibility": null,
      "width": null
     }
    },
    "0c0e15e01ec54445950f065fa4af1218": {
     "model_module": "@jupyter-widgets/controls",
     "model_name": "ProgressStyleModel",
     "state": {
      "_model_module": "@jupyter-widgets/controls",
      "_model_module_version": "1.5.0",
      "_model_name": "ProgressStyleModel",
      "_view_count": null,
      "_view_module": "@jupyter-widgets/base",
      "_view_module_version": "1.2.0",
      "_view_name": "StyleView",
      "bar_color": null,
      "description_width": "initial"
     }
    },
    "0e5f9e8da5f84e329dda0a86ed5f99d1": {
     "model_module": "@jupyter-widgets/base",
     "model_name": "LayoutModel",
     "state": {
      "_model_module": "@jupyter-widgets/base",
      "_model_module_version": "1.2.0",
      "_model_name": "LayoutModel",
      "_view_count": null,
      "_view_module": "@jupyter-widgets/base",
      "_view_module_version": "1.2.0",
      "_view_name": "LayoutView",
      "align_content": null,
      "align_items": null,
      "align_self": null,
      "border": null,
      "bottom": null,
      "display": null,
      "flex": null,
      "flex_flow": null,
      "grid_area": null,
      "grid_auto_columns": null,
      "grid_auto_flow": null,
      "grid_auto_rows": null,
      "grid_column": null,
      "grid_gap": null,
      "grid_row": null,
      "grid_template_areas": null,
      "grid_template_columns": null,
      "grid_template_rows": null,
      "height": null,
      "justify_content": null,
      "justify_items": null,
      "left": null,
      "margin": null,
      "max_height": null,
      "max_width": null,
      "min_height": null,
      "min_width": null,
      "object_fit": null,
      "object_position": null,
      "order": null,
      "overflow": null,
      "overflow_x": null,
      "overflow_y": null,
      "padding": null,
      "right": null,
      "top": null,
      "visibility": null,
      "width": null
     }
    },
    "1efaaa8032a046b28f6ad523791a999d": {
     "model_module": "@jupyter-widgets/base",
     "model_name": "LayoutModel",
     "state": {
      "_model_module": "@jupyter-widgets/base",
      "_model_module_version": "1.2.0",
      "_model_name": "LayoutModel",
      "_view_count": null,
      "_view_module": "@jupyter-widgets/base",
      "_view_module_version": "1.2.0",
      "_view_name": "LayoutView",
      "align_content": null,
      "align_items": null,
      "align_self": null,
      "border": null,
      "bottom": null,
      "display": null,
      "flex": null,
      "flex_flow": null,
      "grid_area": null,
      "grid_auto_columns": null,
      "grid_auto_flow": null,
      "grid_auto_rows": null,
      "grid_column": null,
      "grid_gap": null,
      "grid_row": null,
      "grid_template_areas": null,
      "grid_template_columns": null,
      "grid_template_rows": null,
      "height": null,
      "justify_content": null,
      "justify_items": null,
      "left": null,
      "margin": null,
      "max_height": null,
      "max_width": null,
      "min_height": null,
      "min_width": null,
      "object_fit": null,
      "object_position": null,
      "order": null,
      "overflow": null,
      "overflow_x": null,
      "overflow_y": null,
      "padding": null,
      "right": null,
      "top": null,
      "visibility": null,
      "width": null
     }
    },
    "24e2a92a91894cfca8a57076f2b57388": {
     "model_module": "@jupyter-widgets/controls",
     "model_name": "DescriptionStyleModel",
     "state": {
      "_model_module": "@jupyter-widgets/controls",
      "_model_module_version": "1.5.0",
      "_model_name": "DescriptionStyleModel",
      "_view_count": null,
      "_view_module": "@jupyter-widgets/base",
      "_view_module_version": "1.2.0",
      "_view_name": "StyleView",
      "description_width": ""
     }
    },
    "25483d509e2a4a099899aa9dd7eb1c9f": {
     "model_module": "@jupyter-widgets/controls",
     "model_name": "HBoxModel",
     "state": {
      "_dom_classes": [],
      "_model_module": "@jupyter-widgets/controls",
      "_model_module_version": "1.5.0",
      "_model_name": "HBoxModel",
      "_view_count": null,
      "_view_module": "@jupyter-widgets/controls",
      "_view_module_version": "1.5.0",
      "_view_name": "HBoxView",
      "box_style": "",
      "children": [
       "IPY_MODEL_d51963b5b6c546acb14429a3f21f0776",
       "IPY_MODEL_f4af4502e55c40f2bf655ebf16647620"
      ],
      "layout": "IPY_MODEL_5a0e7d2b1c804f8ca273551f493bb8c3"
     }
    },
    "438a52eeb8f24eabb36625e7aeb44f5e": {
     "model_module": "@jupyter-widgets/controls",
     "model_name": "HBoxModel",
     "state": {
      "_dom_classes": [],
      "_model_module": "@jupyter-widgets/controls",
      "_model_module_version": "1.5.0",
      "_model_name": "HBoxModel",
      "_view_count": null,
      "_view_module": "@jupyter-widgets/controls",
      "_view_module_version": "1.5.0",
      "_view_name": "HBoxView",
      "box_style": "",
      "children": [
       "IPY_MODEL_e02e4f0da4fa4d00b10e912b31f75fbb",
       "IPY_MODEL_ec31753211dd443aa4b8498b2f9927d9"
      ],
      "layout": "IPY_MODEL_1efaaa8032a046b28f6ad523791a999d"
     }
    },
    "45124e2b77604dfbb33d4bed5103cd97": {
     "model_module": "@jupyter-widgets/controls",
     "model_name": "DescriptionStyleModel",
     "state": {
      "_model_module": "@jupyter-widgets/controls",
      "_model_module_version": "1.5.0",
      "_model_name": "DescriptionStyleModel",
      "_view_count": null,
      "_view_module": "@jupyter-widgets/base",
      "_view_module_version": "1.2.0",
      "_view_name": "StyleView",
      "description_width": ""
     }
    },
    "452a7a6e2d514ca3b6eae182e8b28006": {
     "model_module": "@jupyter-widgets/controls",
     "model_name": "ProgressStyleModel",
     "state": {
      "_model_module": "@jupyter-widgets/controls",
      "_model_module_version": "1.5.0",
      "_model_name": "ProgressStyleModel",
      "_view_count": null,
      "_view_module": "@jupyter-widgets/base",
      "_view_module_version": "1.2.0",
      "_view_name": "StyleView",
      "bar_color": null,
      "description_width": "initial"
     }
    },
    "4881aaf70ec54f2a8f950ecd548f73a8": {
     "model_module": "@jupyter-widgets/base",
     "model_name": "LayoutModel",
     "state": {
      "_model_module": "@jupyter-widgets/base",
      "_model_module_version": "1.2.0",
      "_model_name": "LayoutModel",
      "_view_count": null,
      "_view_module": "@jupyter-widgets/base",
      "_view_module_version": "1.2.0",
      "_view_name": "LayoutView",
      "align_content": null,
      "align_items": null,
      "align_self": null,
      "border": null,
      "bottom": null,
      "display": null,
      "flex": null,
      "flex_flow": null,
      "grid_area": null,
      "grid_auto_columns": null,
      "grid_auto_flow": null,
      "grid_auto_rows": null,
      "grid_column": null,
      "grid_gap": null,
      "grid_row": null,
      "grid_template_areas": null,
      "grid_template_columns": null,
      "grid_template_rows": null,
      "height": null,
      "justify_content": null,
      "justify_items": null,
      "left": null,
      "margin": null,
      "max_height": null,
      "max_width": null,
      "min_height": null,
      "min_width": null,
      "object_fit": null,
      "object_position": null,
      "order": null,
      "overflow": null,
      "overflow_x": null,
      "overflow_y": null,
      "padding": null,
      "right": null,
      "top": null,
      "visibility": null,
      "width": null
     }
    },
    "4c8497e5f2d946d492770a985b6d8c70": {
     "model_module": "@jupyter-widgets/base",
     "model_name": "LayoutModel",
     "state": {
      "_model_module": "@jupyter-widgets/base",
      "_model_module_version": "1.2.0",
      "_model_name": "LayoutModel",
      "_view_count": null,
      "_view_module": "@jupyter-widgets/base",
      "_view_module_version": "1.2.0",
      "_view_name": "LayoutView",
      "align_content": null,
      "align_items": null,
      "align_self": null,
      "border": null,
      "bottom": null,
      "display": null,
      "flex": null,
      "flex_flow": null,
      "grid_area": null,
      "grid_auto_columns": null,
      "grid_auto_flow": null,
      "grid_auto_rows": null,
      "grid_column": null,
      "grid_gap": null,
      "grid_row": null,
      "grid_template_areas": null,
      "grid_template_columns": null,
      "grid_template_rows": null,
      "height": null,
      "justify_content": null,
      "justify_items": null,
      "left": null,
      "margin": null,
      "max_height": null,
      "max_width": null,
      "min_height": null,
      "min_width": null,
      "object_fit": null,
      "object_position": null,
      "order": null,
      "overflow": null,
      "overflow_x": null,
      "overflow_y": null,
      "padding": null,
      "right": null,
      "top": null,
      "visibility": null,
      "width": null
     }
    },
    "53ce7ae1d36044a894d2c0d9878570c1": {
     "model_module": "@jupyter-widgets/base",
     "model_name": "LayoutModel",
     "state": {
      "_model_module": "@jupyter-widgets/base",
      "_model_module_version": "1.2.0",
      "_model_name": "LayoutModel",
      "_view_count": null,
      "_view_module": "@jupyter-widgets/base",
      "_view_module_version": "1.2.0",
      "_view_name": "LayoutView",
      "align_content": null,
      "align_items": null,
      "align_self": null,
      "border": null,
      "bottom": null,
      "display": null,
      "flex": null,
      "flex_flow": null,
      "grid_area": null,
      "grid_auto_columns": null,
      "grid_auto_flow": null,
      "grid_auto_rows": null,
      "grid_column": null,
      "grid_gap": null,
      "grid_row": null,
      "grid_template_areas": null,
      "grid_template_columns": null,
      "grid_template_rows": null,
      "height": null,
      "justify_content": null,
      "justify_items": null,
      "left": null,
      "margin": null,
      "max_height": null,
      "max_width": null,
      "min_height": null,
      "min_width": null,
      "object_fit": null,
      "object_position": null,
      "order": null,
      "overflow": null,
      "overflow_x": null,
      "overflow_y": null,
      "padding": null,
      "right": null,
      "top": null,
      "visibility": null,
      "width": null
     }
    },
    "5829cbf368794c76bf59fbbc001892a6": {
     "model_module": "@jupyter-widgets/controls",
     "model_name": "HTMLModel",
     "state": {
      "_dom_classes": [],
      "_model_module": "@jupyter-widgets/controls",
      "_model_module_version": "1.5.0",
      "_model_name": "HTMLModel",
      "_view_count": null,
      "_view_module": "@jupyter-widgets/controls",
      "_view_module_version": "1.5.0",
      "_view_name": "HTMLView",
      "description": "",
      "description_tooltip": null,
      "layout": "IPY_MODEL_53ce7ae1d36044a894d2c0d9878570c1",
      "placeholder": "​",
      "style": "IPY_MODEL_24e2a92a91894cfca8a57076f2b57388",
      "value": " 9920512/? [00:20&lt;00:00, 1478973.90it/s]"
     }
    },
    "5a0e7d2b1c804f8ca273551f493bb8c3": {
     "model_module": "@jupyter-widgets/base",
     "model_name": "LayoutModel",
     "state": {
      "_model_module": "@jupyter-widgets/base",
      "_model_module_version": "1.2.0",
      "_model_name": "LayoutModel",
      "_view_count": null,
      "_view_module": "@jupyter-widgets/base",
      "_view_module_version": "1.2.0",
      "_view_name": "LayoutView",
      "align_content": null,
      "align_items": null,
      "align_self": null,
      "border": null,
      "bottom": null,
      "display": null,
      "flex": null,
      "flex_flow": null,
      "grid_area": null,
      "grid_auto_columns": null,
      "grid_auto_flow": null,
      "grid_auto_rows": null,
      "grid_column": null,
      "grid_gap": null,
      "grid_row": null,
      "grid_template_areas": null,
      "grid_template_columns": null,
      "grid_template_rows": null,
      "height": null,
      "justify_content": null,
      "justify_items": null,
      "left": null,
      "margin": null,
      "max_height": null,
      "max_width": null,
      "min_height": null,
      "min_width": null,
      "object_fit": null,
      "object_position": null,
      "order": null,
      "overflow": null,
      "overflow_x": null,
      "overflow_y": null,
      "padding": null,
      "right": null,
      "top": null,
      "visibility": null,
      "width": null
     }
    },
    "5e662097643d48faba2e242ed43e6907": {
     "model_module": "@jupyter-widgets/controls",
     "model_name": "HTMLModel",
     "state": {
      "_dom_classes": [],
      "_model_module": "@jupyter-widgets/controls",
      "_model_module_version": "1.5.0",
      "_model_name": "HTMLModel",
      "_view_count": null,
      "_view_module": "@jupyter-widgets/controls",
      "_view_module_version": "1.5.0",
      "_view_name": "HTMLView",
      "description": "",
      "description_tooltip": null,
      "layout": "IPY_MODEL_03749c543ac94f92afa6326f8409a79b",
      "placeholder": "​",
      "style": "IPY_MODEL_9e16d113b12f4d1b875fc13ee145a67a",
      "value": " 8192/? [00:00&lt;00:00, 16478.87it/s]"
     }
    },
    "788dc6bad89040b4a4027e4c97be8e35": {
     "model_module": "@jupyter-widgets/controls",
     "model_name": "HBoxModel",
     "state": {
      "_dom_classes": [],
      "_model_module": "@jupyter-widgets/controls",
      "_model_module_version": "1.5.0",
      "_model_name": "HBoxModel",
      "_view_count": null,
      "_view_module": "@jupyter-widgets/controls",
      "_view_module_version": "1.5.0",
      "_view_name": "HBoxView",
      "box_style": "",
      "children": [
       "IPY_MODEL_8723625afecc4fb1a95c56dba2707710",
       "IPY_MODEL_5e662097643d48faba2e242ed43e6907"
      ],
      "layout": "IPY_MODEL_d57d7215df0040c78f59cb195a8c000f"
     }
    },
    "7f142ce7b22f4bf59b768539e8f5ef0d": {
     "model_module": "@jupyter-widgets/base",
     "model_name": "LayoutModel",
     "state": {
      "_model_module": "@jupyter-widgets/base",
      "_model_module_version": "1.2.0",
      "_model_name": "LayoutModel",
      "_view_count": null,
      "_view_module": "@jupyter-widgets/base",
      "_view_module_version": "1.2.0",
      "_view_name": "LayoutView",
      "align_content": null,
      "align_items": null,
      "align_self": null,
      "border": null,
      "bottom": null,
      "display": null,
      "flex": null,
      "flex_flow": null,
      "grid_area": null,
      "grid_auto_columns": null,
      "grid_auto_flow": null,
      "grid_auto_rows": null,
      "grid_column": null,
      "grid_gap": null,
      "grid_row": null,
      "grid_template_areas": null,
      "grid_template_columns": null,
      "grid_template_rows": null,
      "height": null,
      "justify_content": null,
      "justify_items": null,
      "left": null,
      "margin": null,
      "max_height": null,
      "max_width": null,
      "min_height": null,
      "min_width": null,
      "object_fit": null,
      "object_position": null,
      "order": null,
      "overflow": null,
      "overflow_x": null,
      "overflow_y": null,
      "padding": null,
      "right": null,
      "top": null,
      "visibility": null,
      "width": null
     }
    },
    "845d0016d9364b91b7796fe2d580d89c": {
     "model_module": "@jupyter-widgets/controls",
     "model_name": "ProgressStyleModel",
     "state": {
      "_model_module": "@jupyter-widgets/controls",
      "_model_module_version": "1.5.0",
      "_model_name": "ProgressStyleModel",
      "_view_count": null,
      "_view_module": "@jupyter-widgets/base",
      "_view_module_version": "1.2.0",
      "_view_name": "StyleView",
      "bar_color": null,
      "description_width": "initial"
     }
    },
    "84ccbf2fdabf41779a21d5f828abb4d9": {
     "model_module": "@jupyter-widgets/controls",
     "model_name": "HBoxModel",
     "state": {
      "_dom_classes": [],
      "_model_module": "@jupyter-widgets/controls",
      "_model_module_version": "1.5.0",
      "_model_name": "HBoxModel",
      "_view_count": null,
      "_view_module": "@jupyter-widgets/controls",
      "_view_module_version": "1.5.0",
      "_view_name": "HBoxView",
      "box_style": "",
      "children": [
       "IPY_MODEL_89cb2c234096474eb00c67b9e1ff1280",
       "IPY_MODEL_5829cbf368794c76bf59fbbc001892a6"
      ],
      "layout": "IPY_MODEL_0e5f9e8da5f84e329dda0a86ed5f99d1"
     }
    },
    "8723625afecc4fb1a95c56dba2707710": {
     "model_module": "@jupyter-widgets/controls",
     "model_name": "FloatProgressModel",
     "state": {
      "_dom_classes": [],
      "_model_module": "@jupyter-widgets/controls",
      "_model_module_version": "1.5.0",
      "_model_name": "FloatProgressModel",
      "_view_count": null,
      "_view_module": "@jupyter-widgets/controls",
      "_view_module_version": "1.5.0",
      "_view_name": "ProgressView",
      "bar_style": "success",
      "description": "",
      "description_tooltip": null,
      "layout": "IPY_MODEL_07b3a11fa2a1443db390e3e49a97ef99",
      "max": 1,
      "min": 0,
      "orientation": "horizontal",
      "style": "IPY_MODEL_0c0e15e01ec54445950f065fa4af1218",
      "value": 1
     }
    },
    "89cb2c234096474eb00c67b9e1ff1280": {
     "model_module": "@jupyter-widgets/controls",
     "model_name": "FloatProgressModel",
     "state": {
      "_dom_classes": [],
      "_model_module": "@jupyter-widgets/controls",
      "_model_module_version": "1.5.0",
      "_model_name": "FloatProgressModel",
      "_view_count": null,
      "_view_module": "@jupyter-widgets/controls",
      "_view_module_version": "1.5.0",
      "_view_name": "ProgressView",
      "bar_style": "info",
      "description": "",
      "description_tooltip": null,
      "layout": "IPY_MODEL_7f142ce7b22f4bf59b768539e8f5ef0d",
      "max": 1,
      "min": 0,
      "orientation": "horizontal",
      "style": "IPY_MODEL_845d0016d9364b91b7796fe2d580d89c",
      "value": 1
     }
    },
    "9e16d113b12f4d1b875fc13ee145a67a": {
     "model_module": "@jupyter-widgets/controls",
     "model_name": "DescriptionStyleModel",
     "state": {
      "_model_module": "@jupyter-widgets/controls",
      "_model_module_version": "1.5.0",
      "_model_name": "DescriptionStyleModel",
      "_view_count": null,
      "_view_module": "@jupyter-widgets/base",
      "_view_module_version": "1.2.0",
      "_view_name": "StyleView",
      "description_width": ""
     }
    },
    "c691c910818a4f24b5e2d4e3a683ea91": {
     "model_module": "@jupyter-widgets/controls",
     "model_name": "DescriptionStyleModel",
     "state": {
      "_model_module": "@jupyter-widgets/controls",
      "_model_module_version": "1.5.0",
      "_model_name": "DescriptionStyleModel",
      "_view_count": null,
      "_view_module": "@jupyter-widgets/base",
      "_view_module_version": "1.2.0",
      "_view_name": "StyleView",
      "description_width": ""
     }
    },
    "d51963b5b6c546acb14429a3f21f0776": {
     "model_module": "@jupyter-widgets/controls",
     "model_name": "FloatProgressModel",
     "state": {
      "_dom_classes": [],
      "_model_module": "@jupyter-widgets/controls",
      "_model_module_version": "1.5.0",
      "_model_name": "FloatProgressModel",
      "_view_count": null,
      "_view_module": "@jupyter-widgets/controls",
      "_view_module_version": "1.5.0",
      "_view_name": "ProgressView",
      "bar_style": "success",
      "description": "",
      "description_tooltip": null,
      "layout": "IPY_MODEL_4881aaf70ec54f2a8f950ecd548f73a8",
      "max": 1,
      "min": 0,
      "orientation": "horizontal",
      "style": "IPY_MODEL_d6d69312c63f4d4280280e29ab4d57ed",
      "value": 1
     }
    },
    "d57d7215df0040c78f59cb195a8c000f": {
     "model_module": "@jupyter-widgets/base",
     "model_name": "LayoutModel",
     "state": {
      "_model_module": "@jupyter-widgets/base",
      "_model_module_version": "1.2.0",
      "_model_name": "LayoutModel",
      "_view_count": null,
      "_view_module": "@jupyter-widgets/base",
      "_view_module_version": "1.2.0",
      "_view_name": "LayoutView",
      "align_content": null,
      "align_items": null,
      "align_self": null,
      "border": null,
      "bottom": null,
      "display": null,
      "flex": null,
      "flex_flow": null,
      "grid_area": null,
      "grid_auto_columns": null,
      "grid_auto_flow": null,
      "grid_auto_rows": null,
      "grid_column": null,
      "grid_gap": null,
      "grid_row": null,
      "grid_template_areas": null,
      "grid_template_columns": null,
      "grid_template_rows": null,
      "height": null,
      "justify_content": null,
      "justify_items": null,
      "left": null,
      "margin": null,
      "max_height": null,
      "max_width": null,
      "min_height": null,
      "min_width": null,
      "object_fit": null,
      "object_position": null,
      "order": null,
      "overflow": null,
      "overflow_x": null,
      "overflow_y": null,
      "padding": null,
      "right": null,
      "top": null,
      "visibility": null,
      "width": null
     }
    },
    "d6d69312c63f4d4280280e29ab4d57ed": {
     "model_module": "@jupyter-widgets/controls",
     "model_name": "ProgressStyleModel",
     "state": {
      "_model_module": "@jupyter-widgets/controls",
      "_model_module_version": "1.5.0",
      "_model_name": "ProgressStyleModel",
      "_view_count": null,
      "_view_module": "@jupyter-widgets/base",
      "_view_module_version": "1.2.0",
      "_view_name": "StyleView",
      "bar_color": null,
      "description_width": "initial"
     }
    },
    "e02e4f0da4fa4d00b10e912b31f75fbb": {
     "model_module": "@jupyter-widgets/controls",
     "model_name": "FloatProgressModel",
     "state": {
      "_dom_classes": [],
      "_model_module": "@jupyter-widgets/controls",
      "_model_module_version": "1.5.0",
      "_model_name": "FloatProgressModel",
      "_view_count": null,
      "_view_module": "@jupyter-widgets/controls",
      "_view_module_version": "1.5.0",
      "_view_name": "ProgressView",
      "bar_style": "info",
      "description": "",
      "description_tooltip": null,
      "layout": "IPY_MODEL_f25ba04408584d9493857cd744217bf7",
      "max": 1,
      "min": 0,
      "orientation": "horizontal",
      "style": "IPY_MODEL_452a7a6e2d514ca3b6eae182e8b28006",
      "value": 1
     }
    },
    "ec31753211dd443aa4b8498b2f9927d9": {
     "model_module": "@jupyter-widgets/controls",
     "model_name": "HTMLModel",
     "state": {
      "_dom_classes": [],
      "_model_module": "@jupyter-widgets/controls",
      "_model_module_version": "1.5.0",
      "_model_name": "HTMLModel",
      "_view_count": null,
      "_view_module": "@jupyter-widgets/controls",
      "_view_module_version": "1.5.0",
      "_view_name": "HTMLView",
      "description": "",
      "description_tooltip": null,
      "layout": "IPY_MODEL_ee05ce12e0244e7b9cc7fdac30885399",
      "placeholder": "​",
      "style": "IPY_MODEL_45124e2b77604dfbb33d4bed5103cd97",
      "value": " 1654784/? [00:18&lt;00:00, 551513.83it/s]"
     }
    },
    "ee05ce12e0244e7b9cc7fdac30885399": {
     "model_module": "@jupyter-widgets/base",
     "model_name": "LayoutModel",
     "state": {
      "_model_module": "@jupyter-widgets/base",
      "_model_module_version": "1.2.0",
      "_model_name": "LayoutModel",
      "_view_count": null,
      "_view_module": "@jupyter-widgets/base",
      "_view_module_version": "1.2.0",
      "_view_name": "LayoutView",
      "align_content": null,
      "align_items": null,
      "align_self": null,
      "border": null,
      "bottom": null,
      "display": null,
      "flex": null,
      "flex_flow": null,
      "grid_area": null,
      "grid_auto_columns": null,
      "grid_auto_flow": null,
      "grid_auto_rows": null,
      "grid_column": null,
      "grid_gap": null,
      "grid_row": null,
      "grid_template_areas": null,
      "grid_template_columns": null,
      "grid_template_rows": null,
      "height": null,
      "justify_content": null,
      "justify_items": null,
      "left": null,
      "margin": null,
      "max_height": null,
      "max_width": null,
      "min_height": null,
      "min_width": null,
      "object_fit": null,
      "object_position": null,
      "order": null,
      "overflow": null,
      "overflow_x": null,
      "overflow_y": null,
      "padding": null,
      "right": null,
      "top": null,
      "visibility": null,
      "width": null
     }
    },
    "f25ba04408584d9493857cd744217bf7": {
     "model_module": "@jupyter-widgets/base",
     "model_name": "LayoutModel",
     "state": {
      "_model_module": "@jupyter-widgets/base",
      "_model_module_version": "1.2.0",
      "_model_name": "LayoutModel",
      "_view_count": null,
      "_view_module": "@jupyter-widgets/base",
      "_view_module_version": "1.2.0",
      "_view_name": "LayoutView",
      "align_content": null,
      "align_items": null,
      "align_self": null,
      "border": null,
      "bottom": null,
      "display": null,
      "flex": null,
      "flex_flow": null,
      "grid_area": null,
      "grid_auto_columns": null,
      "grid_auto_flow": null,
      "grid_auto_rows": null,
      "grid_column": null,
      "grid_gap": null,
      "grid_row": null,
      "grid_template_areas": null,
      "grid_template_columns": null,
      "grid_template_rows": null,
      "height": null,
      "justify_content": null,
      "justify_items": null,
      "left": null,
      "margin": null,
      "max_height": null,
      "max_width": null,
      "min_height": null,
      "min_width": null,
      "object_fit": null,
      "object_position": null,
      "order": null,
      "overflow": null,
      "overflow_x": null,
      "overflow_y": null,
      "padding": null,
      "right": null,
      "top": null,
      "visibility": null,
      "width": null
     }
    },
    "f4af4502e55c40f2bf655ebf16647620": {
     "model_module": "@jupyter-widgets/controls",
     "model_name": "HTMLModel",
     "state": {
      "_dom_classes": [],
      "_model_module": "@jupyter-widgets/controls",
      "_model_module_version": "1.5.0",
      "_model_name": "HTMLModel",
      "_view_count": null,
      "_view_module": "@jupyter-widgets/controls",
      "_view_module_version": "1.5.0",
      "_view_name": "HTMLView",
      "description": "",
      "description_tooltip": null,
      "layout": "IPY_MODEL_4c8497e5f2d946d492770a985b6d8c70",
      "placeholder": "​",
      "style": "IPY_MODEL_c691c910818a4f24b5e2d4e3a683ea91",
      "value": " 32768/? [00:00&lt;00:00, 120417.15it/s]"
     }
    }
   }
  }
 },
 "nbformat": 4,
 "nbformat_minor": 1
}
